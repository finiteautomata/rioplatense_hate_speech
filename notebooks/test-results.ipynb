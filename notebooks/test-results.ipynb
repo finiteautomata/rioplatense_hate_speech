{
 "cells": [
  {
   "cell_type": "code",
   "execution_count": 24,
   "metadata": {},
   "outputs": [
    {
     "name": "stdout",
     "output_type": "stream",
     "text": [
      "The autoreload extension is already loaded. To reload it, use:\n",
      "  %reload_ext autoreload\n"
     ]
    }
   ],
   "source": [
    "\n",
    "%load_ext autoreload\n",
    "%autoreload 2\n",
    "from rioplatense_hs.openai import get_completion\n"
   ]
  },
  {
   "cell_type": "code",
   "execution_count": 25,
   "metadata": {},
   "outputs": [],
   "source": [
    "import pandas as pd\n",
    "\n",
    "pd.options.display.max_colwidth = 1000\n",
    "#df_train.loc[df_train[\"LGBTI\"] > 0, [\"title\", \"text\", \"text_label\"]].sample(20)"
   ]
  },
  {
   "cell_type": "code",
   "execution_count": 26,
   "metadata": {},
   "outputs": [
    {
     "data": {
      "text/plain": [
       "(5670, 25)"
      ]
     },
     "execution_count": 26,
     "metadata": {},
     "output_type": "execute_result"
    }
   ],
   "source": [
    "import pandas as pd\n",
    "from glob import glob\n",
    "\n",
    "files = glob(\"../data/test*pred.csv\")\n",
    "\n",
    "dfs = [pd.read_csv(f) for f in files]\n",
    "\n",
    "\n",
    "df_test = pd.concat(dfs)\n",
    "\n",
    "df_test.shape\n"
   ]
  },
  {
   "cell_type": "markdown",
   "metadata": {},
   "source": [
    "## Error analysis"
   ]
  },
  {
   "cell_type": "code",
   "execution_count": 27,
   "metadata": {},
   "outputs": [
    {
     "name": "stdout",
     "output_type": "stream",
     "text": [
      "              precision    recall  f1-score   support\n",
      "\n",
      "       WOMEN       0.28      0.37      0.32       131\n",
      "       LGBTI       0.49      0.58      0.53        88\n",
      "      RACISM       0.55      0.69      0.61       230\n",
      "       CLASS       0.28      0.45      0.34        76\n",
      "    POLITICS       0.19      0.42      0.26       144\n",
      "    DISABLED       0.34      0.32      0.33        66\n",
      "  APPEARANCE       0.50      0.54      0.52       189\n",
      "    CRIMINAL       0.35      0.48      0.41       185\n",
      "\n",
      "   micro avg       0.37      0.51      0.43      1109\n",
      "   macro avg       0.37      0.48      0.41      1109\n",
      "weighted avg       0.39      0.51      0.44      1109\n",
      " samples avg       0.08      0.08      0.08      1109\n",
      "\n"
     ]
    },
    {
     "name": "stderr",
     "output_type": "stream",
     "text": [
      "/home/jmperez/projects/rioplatense_hate_speech/.venv/lib/python3.10/site-packages/sklearn/metrics/_classification.py:1471: UndefinedMetricWarning: Precision and F-score are ill-defined and being set to 0.0 in samples with no predicted labels. Use `zero_division` parameter to control this behavior.\n",
      "  _warn_prf(average, modifier, msg_start, len(result))\n",
      "/home/jmperez/projects/rioplatense_hate_speech/.venv/lib/python3.10/site-packages/sklearn/metrics/_classification.py:1471: UndefinedMetricWarning: Recall and F-score are ill-defined and being set to 0.0 in samples with no true labels. Use `zero_division` parameter to control this behavior.\n",
      "  _warn_prf(average, modifier, msg_start, len(result))\n"
     ]
    }
   ],
   "source": [
    "from rioplatense_hs.preprocessing import text_to_label, labels\n",
    "from sklearn.metrics import classification_report\n",
    "\n",
    "pred_labels = [f\"PRED_{label}\" for label in labels]\n",
    "gold_labels = df_test[labels]\n",
    "preds = df_test[pred_labels].astype(int)\n",
    "\n",
    "\n",
    "print(classification_report(gold_labels, preds, target_names=labels))"
   ]
  },
  {
   "cell_type": "code",
   "execution_count": 28,
   "metadata": {},
   "outputs": [
    {
     "name": "stdout",
     "output_type": "stream",
     "text": [
      "              precision    recall  f1-score   support\n",
      "\n",
      "       False       0.93      0.85      0.89      4794\n",
      "        True       0.44      0.63      0.51       876\n",
      "\n",
      "    accuracy                           0.82      5670\n",
      "   macro avg       0.68      0.74      0.70      5670\n",
      "weighted avg       0.85      0.82      0.83      5670\n",
      "\n"
     ]
    }
   ],
   "source": [
    "pred_labels = [l for l in df_test.columns if l.startswith(\"PRED\")]\n",
    "\n",
    "label_hate = df_test[labels].sum(axis=1) > 0\n",
    "pred_hate = df_test[pred_labels].sum(axis=1) > 0\n",
    "\n",
    "print(classification_report(label_hate, pred_hate))"
   ]
  },
  {
   "cell_type": "code",
   "execution_count": 31,
   "metadata": {},
   "outputs": [
    {
     "name": "stdout",
     "output_type": "stream",
     "text": [
      "              precision    recall  f1-score   support\n",
      "\n",
      "       False       0.97      0.94      0.95      5242\n",
      "        True       0.46      0.61      0.53       428\n",
      "\n",
      "    accuracy                           0.92      5670\n",
      "   macro avg       0.72      0.78      0.74      5670\n",
      "weighted avg       0.93      0.92      0.92      5670\n",
      "\n"
     ]
    }
   ],
   "source": [
    "# Just keep the most important characteristics\n",
    "core_labels = [\"WOMEN\", \"LGBTI\", \"RACISM\"]\n",
    "pred_core_labels = [f\"PRED_{label}\" for label in core_labels]\n",
    "\n",
    "label_core_hate = df_test[core_labels].sum(axis=1) > 0\n",
    "pred_core_hate = df_test[pred_core_labels].sum(axis=1) > 0\n",
    "\n",
    "print(classification_report(label_core_hate, pred_core_hate))\n"
   ]
  },
  {
   "cell_type": "code",
   "execution_count": 41,
   "metadata": {},
   "outputs": [
    {
     "data": {
      "text/html": [
       "<div>\n",
       "<style scoped>\n",
       "    .dataframe tbody tr th:only-of-type {\n",
       "        vertical-align: middle;\n",
       "    }\n",
       "\n",
       "    .dataframe tbody tr th {\n",
       "        vertical-align: top;\n",
       "    }\n",
       "\n",
       "    .dataframe thead th {\n",
       "        text-align: right;\n",
       "    }\n",
       "</style>\n",
       "<table border=\"1\" class=\"dataframe\">\n",
       "  <thead>\n",
       "    <tr style=\"text-align: right;\">\n",
       "      <th></th>\n",
       "      <th>context_tweet</th>\n",
       "      <th>text</th>\n",
       "      <th>pred_cot</th>\n",
       "    </tr>\n",
       "  </thead>\n",
       "  <tbody>\n",
       "    <tr>\n",
       "      <th>1091</th>\n",
       "      <td>China: Vuelven a vender murciélagos y carne de animales domésticos a pesar del Coronavirus #OtrasVezComenMurciélagos #YComenAnimalesDomésticos #AsíNo #QuéHorror #Coronavirus #China https://t.co/DTaFQaWzFH</td>\n",
       "      <td>@usuario @usuario 💣💣💣</td>\n",
       "      <td>El texto consiste en emojis de bombas, no contiene ninguna declaración de rechazo o enemistad hacia ningún individuo o grupo. La respuesta final es 'nada'.</td>\n",
       "    </tr>\n",
       "    <tr>\n",
       "      <th>409</th>\n",
       "      <td>Bono Anses: analizan cuál será el monto del refuerzo del IFE en junio | Por Matías Barbería https://t.co/35GZHYEIYF</td>\n",
       "      <td>@usuario Mejor que anlicen dejar de pagarselo a paraguayos que ni siquiera viven acá.</td>\n",
       "      <td>El comentario hace referencia a no pagar el bono a paraguayos que no viven en el país, lo cual alude a la nacionalidad y lugar de residencia. La respuesta final es \"racismo\".</td>\n",
       "    </tr>\n",
       "    <tr>\n",
       "      <th>549</th>\n",
       "      <td>Cómo es la cerveza \"peronista\" que el Chacho Coudet le regaló a Alberto Fernández https://t.co/8U1hk0FuGS</td>\n",
       "      <td>@usuario Negra,  seguro,  y amarga.</td>\n",
       "      <td>El comentario se refiere al color de la cerveza y la califica como amarga. No hace ninguna mención a características protegidas. La respuesta final es 'nada'.</td>\n",
       "    </tr>\n",
       "    <tr>\n",
       "      <th>476</th>\n",
       "      <td>Graciana Peñafort: “La marcha me dio mucha pena y tuvo un nivel de convocatoria menor al esperado” https://t.co/sPiBqGmFIg</td>\n",
       "      <td>@usuario a quien le importa lo que piensa esta mujer ? \\nes tan importante para ponerla en primera plana ?</td>\n",
       "      <td>El comentario menosprecia la opinión de Graciana Peñafort por ser mujer. La respuesta final es \"mujer\"</td>\n",
       "    </tr>\n",
       "    <tr>\n",
       "      <th>655</th>\n",
       "      <td>Así quedó la iglesia de El Bolsón vandalizada por mapuches https://t.co/HX65fLHMmO</td>\n",
       "      <td>@usuario @usuario Pasa lo mismo porque no nos acostumbramos a decirles delincuentes y violentos a los que hacían lo mismo en los 60 y 70.</td>\n",
       "      <td>El texto menciona a los mapuches como \"delincuentes y violentos\". La respuesta final es \"racismo, criminal\"</td>\n",
       "    </tr>\n",
       "    <tr>\n",
       "      <th>730</th>\n",
       "      <td>Su novia es mexicana y Migraciones le exige casi 50 mil pesos para dejarla ingresar a la Argentina | Por Cinthia Ruth https://t.co/dnNHPbdo7m</td>\n",
       "      <td>@usuario Q cruce x bolivia q no hay drama</td>\n",
       "      <td>El comentario menciona a Bolivia y sugiere que la persona debería ingresar a Argentina a través de ese país, haciéndole un comentario despectivo. La respuesta final es \"racismo\".</td>\n",
       "    </tr>\n",
       "    <tr>\n",
       "      <th>1097</th>\n",
       "      <td>China alertó sobre brote de peste bubónica pero la OMS no lo considera de \"alto riesgo\"\\nhttps://t.co/T2bps0Cm1l</td>\n",
       "      <td>@usuario Bombardeen ese pais de mierda de una buena vez</td>\n",
       "      <td>El texto incita a la violencia y al bombardeo de un país (China). La respuesta final es \"nada\".</td>\n",
       "    </tr>\n",
       "    <tr>\n",
       "      <th>506</th>\n",
       "      <td>China: Vuelven a vender murciélagos y carne de animales domésticos a pesar del Coronavirus #OtrasVezComenMurciélagos #YComenAnimalesDomésticos #AsíNo #QuéHorror #Coronavirus #China https://t.co/DTaFQaWzFH</td>\n",
       "      <td>@usuario No aprendieron nada espero que no saquen otra cepa peor al Coronavirus y el Estado no los sanciona?</td>\n",
       "      <td>El mensaje no contiene discurso de odio. El comentario expresa una crítica hacia la venta de murciélagos y carne de animales domésticos en China, pero no menciona ninguna característica protegida ni utiliza un lenguaje hostil o irracional. La respuesta final es 'nada'.</td>\n",
       "    </tr>\n",
       "    <tr>\n",
       "      <th>730</th>\n",
       "      <td>Axel Kicillof evalúa endurecer los controles a los porteños que se desplacen hacia la provincia de Buenos Aires | Por Martín Dinatale https://t.co/9DJmYHn6vh</td>\n",
       "      <td>@usuario Que lindo !\\nAlguien tenia q tirar la primera piedra .\\n.\\nAhora solo falta llamar a Trump para q nos construya el muro.\\n\\nPero bueno, vamos a terminar con la grieta</td>\n",
       "      <td>El texto se refiere a los porteños de manera despectiva y hace mención a la construcción de un muro, lo cual remite al discurso de odio contra inmigrantes y xenofobia. También menciona la grieta política. La respuesta final es \"racismo, política\".</td>\n",
       "    </tr>\n",
       "    <tr>\n",
       "      <th>1104</th>\n",
       "      <td>Andrea del Boca, Thelma Fardin y Leonor Benedetto se ponen el la piel de las \"mujeres inmortales\" de la Argentina https://t.co/rPgVEa79ym https://t.co/vTItMuKyLh</td>\n",
       "      <td>@usuario Volvió el saqueo disfrazado de “artistas” peronistas kk!! Unas reverendas desgraciadas caraduras!!! #NoSeBancaMas 😡😡😡</td>\n",
       "      <td>El texto critica a las \"mujeres inmortales\" y las califica de \"artistas peronistas kk\" y \"desgraciadas caraduras\". La respuesta final es \"mujer, política\"</td>\n",
       "    </tr>\n",
       "  </tbody>\n",
       "</table>\n",
       "</div>"
      ],
      "text/plain": [
       "                                                                                                                                                                                                     context_tweet  \\\n",
       "1091  China: Vuelven a vender murciélagos y carne de animales domésticos a pesar del Coronavirus #OtrasVezComenMurciélagos #YComenAnimalesDomésticos #AsíNo #QuéHorror #Coronavirus #China https://t.co/DTaFQaWzFH   \n",
       "409                                                                                            Bono Anses: analizan cuál será el monto del refuerzo del IFE en junio | Por Matías Barbería https://t.co/35GZHYEIYF   \n",
       "549                                                                                                      Cómo es la cerveza \"peronista\" que el Chacho Coudet le regaló a Alberto Fernández https://t.co/8U1hk0FuGS   \n",
       "476                                                                                     Graciana Peñafort: “La marcha me dio mucha pena y tuvo un nivel de convocatoria menor al esperado” https://t.co/sPiBqGmFIg   \n",
       "655                                                                                                                             Así quedó la iglesia de El Bolsón vandalizada por mapuches https://t.co/HX65fLHMmO   \n",
       "730                                                                  Su novia es mexicana y Migraciones le exige casi 50 mil pesos para dejarla ingresar a la Argentina | Por Cinthia Ruth https://t.co/dnNHPbdo7m   \n",
       "1097                                                                                              China alertó sobre brote de peste bubónica pero la OMS no lo considera de \"alto riesgo\"\\nhttps://t.co/T2bps0Cm1l   \n",
       "506   China: Vuelven a vender murciélagos y carne de animales domésticos a pesar del Coronavirus #OtrasVezComenMurciélagos #YComenAnimalesDomésticos #AsíNo #QuéHorror #Coronavirus #China https://t.co/DTaFQaWzFH   \n",
       "730                                                  Axel Kicillof evalúa endurecer los controles a los porteños que se desplacen hacia la provincia de Buenos Aires | Por Martín Dinatale https://t.co/9DJmYHn6vh   \n",
       "1104                                             Andrea del Boca, Thelma Fardin y Leonor Benedetto se ponen el la piel de las \"mujeres inmortales\" de la Argentina https://t.co/rPgVEa79ym https://t.co/vTItMuKyLh   \n",
       "\n",
       "                                                                                                                                                                                 text  \\\n",
       "1091                                                                                                                                                            @usuario @usuario 💣💣💣   \n",
       "409                                                                                             @usuario Mejor que anlicen dejar de pagarselo a paraguayos que ni siquiera viven acá.   \n",
       "549                                                                                                                                               @usuario Negra,  seguro,  y amarga.   \n",
       "476                                                                        @usuario a quien le importa lo que piensa esta mujer ? \\nes tan importante para ponerla en primera plana ?   \n",
       "655                                         @usuario @usuario Pasa lo mismo porque no nos acostumbramos a decirles delincuentes y violentos a los que hacían lo mismo en los 60 y 70.   \n",
       "730                                                                                                                                         @usuario Q cruce x bolivia q no hay drama   \n",
       "1097                                                                                                                          @usuario Bombardeen ese pais de mierda de una buena vez   \n",
       "506                                                                      @usuario No aprendieron nada espero que no saquen otra cepa peor al Coronavirus y el Estado no los sanciona?   \n",
       "730   @usuario Que lindo !\\nAlguien tenia q tirar la primera piedra .\\n.\\nAhora solo falta llamar a Trump para q nos construya el muro.\\n\\nPero bueno, vamos a terminar con la grieta   \n",
       "1104                                                   @usuario Volvió el saqueo disfrazado de “artistas” peronistas kk!! Unas reverendas desgraciadas caraduras!!! #NoSeBancaMas 😡😡😡   \n",
       "\n",
       "                                                                                                                                                                                                                                                                           pred_cot  \n",
       "1091                                                                                                                    El texto consiste en emojis de bombas, no contiene ninguna declaración de rechazo o enemistad hacia ningún individuo o grupo. La respuesta final es 'nada'.  \n",
       "409                                                                                                  El comentario hace referencia a no pagar el bono a paraguayos que no viven en el país, lo cual alude a la nacionalidad y lugar de residencia. La respuesta final es \"racismo\".  \n",
       "549                                                                                                                  El comentario se refiere al color de la cerveza y la califica como amarga. No hace ninguna mención a características protegidas. La respuesta final es 'nada'.  \n",
       "476                                                                                                                                                                          El comentario menosprecia la opinión de Graciana Peñafort por ser mujer. La respuesta final es \"mujer\"  \n",
       "655                                                                                                                                                                     El texto menciona a los mapuches como \"delincuentes y violentos\". La respuesta final es \"racismo, criminal\"  \n",
       "730                                                                                              El comentario menciona a Bolivia y sugiere que la persona debería ingresar a Argentina a través de ese país, haciéndole un comentario despectivo. La respuesta final es \"racismo\".  \n",
       "1097                                                                                                                                                                                El texto incita a la violencia y al bombardeo de un país (China). La respuesta final es \"nada\".  \n",
       "506   El mensaje no contiene discurso de odio. El comentario expresa una crítica hacia la venta de murciélagos y carne de animales domésticos en China, pero no menciona ninguna característica protegida ni utiliza un lenguaje hostil o irracional. La respuesta final es 'nada'.  \n",
       "730                         El texto se refiere a los porteños de manera despectiva y hace mención a la construcción de un muro, lo cual remite al discurso de odio contra inmigrantes y xenofobia. También menciona la grieta política. La respuesta final es \"racismo, política\".  \n",
       "1104                                                                                                                     El texto critica a las \"mujeres inmortales\" y las califica de \"artistas peronistas kk\" y \"desgraciadas caraduras\". La respuesta final es \"mujer, política\"  "
      ]
     },
     "execution_count": 41,
     "metadata": {},
     "output_type": "execute_result"
    }
   ],
   "source": [
    "pd.options.display.max_colwidth = 1000\n",
    "\n",
    "df_test[pred_core_hate != label_core_hate][[\"context_tweet\", \"text\", \"pred_cot\", ]].sample(10)"
   ]
  },
  {
   "cell_type": "code",
   "execution_count": 10,
   "metadata": {},
   "outputs": [
    {
     "ename": "NameError",
     "evalue": "name 'df_train' is not defined",
     "output_type": "error",
     "traceback": [
      "\u001b[0;31m---------------------------------------------------------------------------\u001b[0m",
      "\u001b[0;31mNameError\u001b[0m                                 Traceback (most recent call last)",
      "Cell \u001b[0;32mIn[10], line 1\u001b[0m\n\u001b[0;32m----> 1\u001b[0m \u001b[43mdf_train\u001b[49m[df_train[\u001b[38;5;124m\"\u001b[39m\u001b[38;5;124mnum_hatred\u001b[39m\u001b[38;5;124m\"\u001b[39m] \u001b[38;5;241m==\u001b[39m \u001b[38;5;241m0\u001b[39m][[\u001b[38;5;124m\"\u001b[39m\u001b[38;5;124mcontext_tweet\u001b[39m\u001b[38;5;124m\"\u001b[39m, \u001b[38;5;124m\"\u001b[39m\u001b[38;5;124mtext\u001b[39m\u001b[38;5;124m\"\u001b[39m, \u001b[38;5;124m\"\u001b[39m\u001b[38;5;124mtext_label\u001b[39m\u001b[38;5;124m\"\u001b[39m]]\u001b[38;5;241m.\u001b[39msample(\u001b[38;5;241m10\u001b[39m)\n",
      "\u001b[0;31mNameError\u001b[0m: name 'df_train' is not defined"
     ]
    }
   ],
   "source": [
    "df_train[df_train[\"num_hatred\"] == 0][[\"context_tweet\", \"text\", \"text_label\"]].sample(10)"
   ]
  },
  {
   "cell_type": "code",
   "execution_count": 21,
   "metadata": {},
   "outputs": [
    {
     "data": {
      "text/html": [
       "<div>\n",
       "<style scoped>\n",
       "    .dataframe tbody tr th:only-of-type {\n",
       "        vertical-align: middle;\n",
       "    }\n",
       "\n",
       "    .dataframe tbody tr th {\n",
       "        vertical-align: top;\n",
       "    }\n",
       "\n",
       "    .dataframe thead th {\n",
       "        text-align: right;\n",
       "    }\n",
       "</style>\n",
       "<table border=\"1\" class=\"dataframe\">\n",
       "  <thead>\n",
       "    <tr style=\"text-align: right;\">\n",
       "      <th></th>\n",
       "      <th>context_tweet</th>\n",
       "      <th>text</th>\n",
       "      <th>pred_cot</th>\n",
       "    </tr>\n",
       "  </thead>\n",
       "  <tbody>\n",
       "    <tr>\n",
       "      <th>709</th>\n",
       "      <td>Ofelia Fernández apoyó al Gobierno en la polémica por los presos y apuntó a la Justicia que \"odia a las mujeres\" https://t.co/BD3jgGCOWI</td>\n",
       "      <td>@usuario Se ve que la justicia tiene un odio selectivo hacia las mujeres por que no metieron presa a la jefa de la banda...\\nAunque con esa cara que tiene es difícil saber de que genero o raza es</td>\n",
       "      <td>El texto alude a la apariencia física de la jefa de la banda y cuestiona su género y raza, lo cual implica aspecto y posiblemente mujer y racismo. La respuesta final es \"mujer, aspecto, racismo\".</td>\n",
       "    </tr>\n",
       "    <tr>\n",
       "      <th>931</th>\n",
       "      <td>Perfil: quién es Brenda Madrid, la jueza suplente que sobreseyó a Pablo Moyano https://t.co/npQBNktuix https://t.co/BLaMzSO17U</td>\n",
       "      <td>@usuario Eso es una jueza???</td>\n",
       "      <td>El texto cuestiona la capacidad de la jueza por su condición de mujer. La respuesta final es \"mujer\".</td>\n",
       "    </tr>\n",
       "    <tr>\n",
       "      <th>340</th>\n",
       "      <td>Pidieron la detención de la mujer que violó la cuarentena y les arrojó gas pimienta a los policías https://t.co/AZbjg9ug46</td>\n",
       "      <td>@usuario excedida en lípidos tenia que ser para andar resentida social por el mundo</td>\n",
       "      <td>El texto alude al aspecto de la mujer (excedida en lípidos) y la acusa de estar resentida socialmente. La respuesta final es \"aspecto, discapacidad\"</td>\n",
       "    </tr>\n",
       "    <tr>\n",
       "      <th>954</th>\n",
       "      <td>Los fans de Florencia Kirchner le piden casamiento por Instagram https://t.co/t0zMcHf8g8 https://t.co/D7wG8EDOBi</td>\n",
       "      <td>@usuario Lo que faltaba! La urraca desplumada tiene fans!😂😂😂😂😂😂que país generoso! 😂😂</td>\n",
       "      <td>El comentario se refiere de manera despectiva al aspecto de Florencia Kirchner. La respuesta final es \"aspecto\"</td>\n",
       "    </tr>\n",
       "    <tr>\n",
       "      <th>841</th>\n",
       "      <td>La otra batalla mundial, el otro enemigo invisible: “La violencia contra las mujeres es pandemia hace siglos” | Por Thelma Fardin https://t.co/mHSJ3PFKEh</td>\n",
       "      <td>@usuario No entiendo como Infobae le da lugar a esta desforestada mental.</td>\n",
       "      <td>El texto hace referencia despectivamente al aspecto físico de la persona mencionada. La respuesta final es \"aspecto\".</td>\n",
       "    </tr>\n",
       "  </tbody>\n",
       "</table>\n",
       "</div>"
      ],
      "text/plain": [
       "                                                                                                                                                 context_tweet  \\\n",
       "709                   Ofelia Fernández apoyó al Gobierno en la polémica por los presos y apuntó a la Justicia que \"odia a las mujeres\" https://t.co/BD3jgGCOWI   \n",
       "931                             Perfil: quién es Brenda Madrid, la jueza suplente que sobreseyó a Pablo Moyano https://t.co/npQBNktuix https://t.co/BLaMzSO17U   \n",
       "340                                 Pidieron la detención de la mujer que violó la cuarentena y les arrojó gas pimienta a los policías https://t.co/AZbjg9ug46   \n",
       "954                                           Los fans de Florencia Kirchner le piden casamiento por Instagram https://t.co/t0zMcHf8g8 https://t.co/D7wG8EDOBi   \n",
       "841  La otra batalla mundial, el otro enemigo invisible: “La violencia contra las mujeres es pandemia hace siglos” | Por Thelma Fardin https://t.co/mHSJ3PFKEh   \n",
       "\n",
       "                                                                                                                                                                                                    text  \\\n",
       "709  @usuario Se ve que la justicia tiene un odio selectivo hacia las mujeres por que no metieron presa a la jefa de la banda...\\nAunque con esa cara que tiene es difícil saber de que genero o raza es   \n",
       "931                                                                                                                                                                         @usuario Eso es una jueza???   \n",
       "340                                                                                                                  @usuario excedida en lípidos tenia que ser para andar resentida social por el mundo   \n",
       "954                                                                                                                 @usuario Lo que faltaba! La urraca desplumada tiene fans!😂😂😂😂😂😂que país generoso! 😂😂   \n",
       "841                                                                                                                            @usuario No entiendo como Infobae le da lugar a esta desforestada mental.   \n",
       "\n",
       "                                                                                                                                                                                                pred_cot  \n",
       "709  El texto alude a la apariencia física de la jefa de la banda y cuestiona su género y raza, lo cual implica aspecto y posiblemente mujer y racismo. La respuesta final es \"mujer, aspecto, racismo\".  \n",
       "931                                                                                                El texto cuestiona la capacidad de la jueza por su condición de mujer. La respuesta final es \"mujer\".  \n",
       "340                                                 El texto alude al aspecto de la mujer (excedida en lípidos) y la acusa de estar resentida socialmente. La respuesta final es \"aspecto, discapacidad\"  \n",
       "954                                                                                      El comentario se refiere de manera despectiva al aspecto de Florencia Kirchner. La respuesta final es \"aspecto\"  \n",
       "841                                                                                El texto hace referencia despectivamente al aspecto físico de la persona mencionada. La respuesta final es \"aspecto\".  "
      ]
     },
     "execution_count": 21,
     "metadata": {},
     "output_type": "execute_result"
    }
   ],
   "source": [
    "# LGBTI errors\n",
    "\n",
    "label = \"WOMEN\"\n",
    "df_test.loc[df_test[label] != df_test[f\"PRED_{label}\"]][[\"context_tweet\", \"text\", \"pred_cot\"]].sample(5)"
   ]
  },
  {
   "cell_type": "code",
   "execution_count": 80,
   "metadata": {},
   "outputs": [
    {
     "data": {
      "text/html": [
       "<div>\n",
       "<style scoped>\n",
       "    .dataframe tbody tr th:only-of-type {\n",
       "        vertical-align: middle;\n",
       "    }\n",
       "\n",
       "    .dataframe tbody tr th {\n",
       "        vertical-align: top;\n",
       "    }\n",
       "\n",
       "    .dataframe thead th {\n",
       "        text-align: right;\n",
       "    }\n",
       "</style>\n",
       "<table border=\"1\" class=\"dataframe\">\n",
       "  <thead>\n",
       "    <tr style=\"text-align: right;\">\n",
       "      <th></th>\n",
       "      <th>context_tweet</th>\n",
       "      <th>text</th>\n",
       "      <th>text_label</th>\n",
       "    </tr>\n",
       "  </thead>\n",
       "  <tbody>\n",
       "    <tr>\n",
       "      <th>31940</th>\n",
       "      <td>Grabois defendió la toma de tierras: \"El que dice que ocupar es delito, miente \" https://t.co/qXZsHYnmZ3 https://t.co/R2BLqqV23a</td>\n",
       "      <td>@usuario Yo le pongo una dinamita a estos vagos</td>\n",
       "      <td>clase, política</td>\n",
       "    </tr>\n",
       "    <tr>\n",
       "      <th>16559</th>\n",
       "      <td>Le sacó el arma al ladrón que lo asaltó, lo corrió y lo mató de un disparo: quedó detenido https://t.co/fU6UWLDqQe</td>\n",
       "      <td>@usuario Cagones hoy marchen para que suelten a este hombre, no por el hijo de puta de Macri que nos fundió y ayudó a que vuelvan estos negros hijos de puta kirchnerista</td>\n",
       "      <td>racismo, política, criminal</td>\n",
       "    </tr>\n",
       "    <tr>\n",
       "      <th>7604</th>\n",
       "      <td>Santa Fe: rompen más silobolsas y crece la preocupación en el campo https://t.co/Pb1gaBqyXU https://t.co/cPlGjy3V6T</td>\n",
       "      <td>@usuario Donde quedaron los escopetazos Argentina mia?...</td>\n",
       "      <td>política, criminal</td>\n",
       "    </tr>\n",
       "    <tr>\n",
       "      <th>34614</th>\n",
       "      <td>Juan Grabois: \"Hay una oleada de toma de tierras y se va a profundizar \" https://t.co/2B1JL2BkHh https://t.co/jJXbT0X564</td>\n",
       "      <td>@usuario Si es una amenaza!!!!??!!...a Vos hdrmPtas, seras otro de los tantos que vamos a LINCHAR en la Plaza de Mayo!!!!</td>\n",
       "      <td>clase, política</td>\n",
       "    </tr>\n",
       "    <tr>\n",
       "      <th>21056</th>\n",
       "      <td>“Tenemos explotados los teléfonos con denuncias por gente que no cumple la cuarentena”, aseguró la titular de Migraciones | Por Hugo Martin https://t.co/IJgFwW4Gbk</td>\n",
       "      <td>@usuario Se supone q es gente escolarizada, con educación, después dicen peronchos! Hdp</td>\n",
       "      <td>racismo, política</td>\n",
       "    </tr>\n",
       "  </tbody>\n",
       "</table>\n",
       "</div>"
      ],
      "text/plain": [
       "                                                                                                                                                             context_tweet  \\\n",
       "31940                                     Grabois defendió la toma de tierras: \"El que dice que ocupar es delito, miente \" https://t.co/qXZsHYnmZ3 https://t.co/R2BLqqV23a   \n",
       "16559                                                   Le sacó el arma al ladrón que lo asaltó, lo corrió y lo mató de un disparo: quedó detenido https://t.co/fU6UWLDqQe   \n",
       "7604                                                   Santa Fe: rompen más silobolsas y crece la preocupación en el campo https://t.co/Pb1gaBqyXU https://t.co/cPlGjy3V6T   \n",
       "34614                                             Juan Grabois: \"Hay una oleada de toma de tierras y se va a profundizar \" https://t.co/2B1JL2BkHh https://t.co/jJXbT0X564   \n",
       "21056  “Tenemos explotados los teléfonos con denuncias por gente que no cumple la cuarentena”, aseguró la titular de Migraciones | Por Hugo Martin https://t.co/IJgFwW4Gbk   \n",
       "\n",
       "                                                                                                                                                                            text  \\\n",
       "31940                                                                                                                            @usuario Yo le pongo una dinamita a estos vagos   \n",
       "16559  @usuario Cagones hoy marchen para que suelten a este hombre, no por el hijo de puta de Macri que nos fundió y ayudó a que vuelvan estos negros hijos de puta kirchnerista   \n",
       "7604                                                                                                                   @usuario Donde quedaron los escopetazos Argentina mia?...   \n",
       "34614                                                  @usuario Si es una amenaza!!!!??!!...a Vos hdrmPtas, seras otro de los tantos que vamos a LINCHAR en la Plaza de Mayo!!!!   \n",
       "21056                                                                                    @usuario Se supone q es gente escolarizada, con educación, después dicen peronchos! Hdp   \n",
       "\n",
       "                        text_label  \n",
       "31940              clase, política  \n",
       "16559  racismo, política, criminal  \n",
       "7604            política, criminal  \n",
       "34614              clase, política  \n",
       "21056            racismo, política  "
      ]
     },
     "execution_count": 80,
     "metadata": {},
     "output_type": "execute_result"
    }
   ],
   "source": [
    "df_train[(df_train[\"POLITICS\"] > 0) & (df_train[\"num_hatred\"] > 1)][[\"context_tweet\", \"text\", \"text_label\"]].sample(5)"
   ]
  },
  {
   "cell_type": "code",
   "execution_count": 82,
   "metadata": {},
   "outputs": [],
   "source": []
  },
  {
   "cell_type": "code",
   "execution_count": 91,
   "metadata": {},
   "outputs": [],
   "source": [
    "sample_df[\"PRED_HATEFUL\"] = pred_hate.astype(int)"
   ]
  },
  {
   "cell_type": "code",
   "execution_count": 92,
   "metadata": {},
   "outputs": [],
   "source": [
    "sample_df.to_csv(\"../data/sample_dev_df.csv\", index=False)"
   ]
  },
  {
   "cell_type": "code",
   "execution_count": null,
   "metadata": {},
   "outputs": [],
   "source": []
  }
 ],
 "metadata": {
  "kernelspec": {
   "display_name": ".venv",
   "language": "python",
   "name": "python3"
  },
  "language_info": {
   "codemirror_mode": {
    "name": "ipython",
    "version": 3
   },
   "file_extension": ".py",
   "mimetype": "text/x-python",
   "name": "python",
   "nbconvert_exporter": "python",
   "pygments_lexer": "ipython3",
   "version": "3.10.7"
  }
 },
 "nbformat": 4,
 "nbformat_minor": 2
}
