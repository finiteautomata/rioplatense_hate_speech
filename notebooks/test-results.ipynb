{
 "cells": [
  {
   "cell_type": "code",
   "execution_count": 2,
   "metadata": {},
   "outputs": [],
   "source": [
    "\n",
    "%load_ext autoreload\n",
    "%autoreload 2\n",
    "from rioplatense_hs.openai import get_completion\n",
    "import pandas as pd\n",
    "from glob import glob\n",
    "pd.options.display.max_colwidth = 1000\n",
    "#df_train.loc[df_train[\"LGBTI\"] > 0, [\"title\", \"text\", \"text_label\"]].sample(20)\n",
    "\n",
    "few_shot_files = sorted(glob(\"../data/test*pred.csv\"))\n",
    "one_shot_files = sorted(glob(\"../data/test*pred*1shot.csv\"))\n",
    "beto_files = sorted(glob(\"../data/test*beto.csv\"))\n",
    "\n",
    "assert len(few_shot_files) == len(one_shot_files) == len(beto_files)\n",
    "\n",
    "dfs = {\n",
    "    \"one-shot\": pd.concat([pd.read_csv(f, index_col=0) for f in one_shot_files]),\n",
    "    \"few-shot\": pd.concat([pd.read_csv(f, index_col=0) for f in few_shot_files]),\n",
    "    \"beto\": pd.concat([pd.read_csv(f, index_col=0) for f in beto_files]),\n",
    "}\n"
   ]
  },
  {
   "cell_type": "code",
   "execution_count": 3,
   "metadata": {},
   "outputs": [],
   "source": [
    "assert all(dfs[\"few-shot\"].index == dfs[\"one-shot\"].index)\n",
    "assert all(dfs[\"few-shot\"].index == dfs[\"beto\"].index)"
   ]
  },
  {
   "cell_type": "markdown",
   "metadata": {},
   "source": [
    "## Error analysis"
   ]
  },
  {
   "cell_type": "code",
   "execution_count": 4,
   "metadata": {},
   "outputs": [],
   "source": [
    "from rioplatense_hs.preprocessing import text_to_label, labels\n",
    "from sklearn.metrics import classification_report\n",
    "\n",
    "pred_labels = [f\"PRED_{label}\" for label in labels]\n",
    "\n",
    "dfs[\"beto\"][pred_labels] = (dfs[\"beto\"][pred_labels] > 0.5).astype(int)"
   ]
  },
  {
   "cell_type": "code",
   "execution_count": 5,
   "metadata": {},
   "outputs": [],
   "source": [
    "labels = [\"WOMEN\", \"LGBTI\", \"RACISM\", \"CLASS\"]\n",
    "pred_labels = [f\"PRED_{label}\" for label in labels]"
   ]
  },
  {
   "cell_type": "code",
   "execution_count": 6,
   "metadata": {},
   "outputs": [
    {
     "name": "stdout",
     "output_type": "stream",
     "text": [
      "one-shot\n"
     ]
    },
    {
     "data": {
      "application/vnd.jupyter.widget-view+json": {
       "model_id": "2d2435438e8940ae871bdb33d10a8aa0",
       "version_major": 2,
       "version_minor": 0
      },
      "text/plain": [
       "  0%|          | 0/4 [00:00<?, ?it/s]"
      ]
     },
     "metadata": {},
     "output_type": "display_data"
    },
    {
     "name": "stdout",
     "output_type": "stream",
     "text": [
      "few-shot\n"
     ]
    },
    {
     "data": {
      "application/vnd.jupyter.widget-view+json": {
       "model_id": "0c1def16279242bf8323d61f0ea8e937",
       "version_major": 2,
       "version_minor": 0
      },
      "text/plain": [
       "  0%|          | 0/4 [00:00<?, ?it/s]"
      ]
     },
     "metadata": {},
     "output_type": "display_data"
    },
    {
     "name": "stdout",
     "output_type": "stream",
     "text": [
      "beto\n"
     ]
    },
    {
     "data": {
      "application/vnd.jupyter.widget-view+json": {
       "model_id": "0a7e57227ae648a1a6cd38c1fced2c8d",
       "version_major": 2,
       "version_minor": 0
      },
      "text/plain": [
       "  0%|          | 0/4 [00:00<?, ?it/s]"
      ]
     },
     "metadata": {},
     "output_type": "display_data"
    }
   ],
   "source": [
    "from tqdm.auto import tqdm\n",
    "from confidence_intervals import Bootstrap\n",
    "from sklearn.metrics import precision_score, recall_score, f1_score\n",
    "\n",
    "metrics = []\n",
    "\n",
    "for name, df in dfs.items():\n",
    "    print(name)\n",
    "    for label in tqdm(labels):\n",
    "\n",
    "        for metric in {\"precision\", \"recall\", \"f1\"}:\n",
    "            if metric == \"precision\":\n",
    "                score = precision_score\n",
    "            elif metric == \"recall\":\n",
    "                score = recall_score\n",
    "            elif metric == \"f1\":\n",
    "                score = f1_score\n",
    "\n",
    "\n",
    "            gold_labels = df[label].values\n",
    "            preds = df[f\"PRED_{label}\"].values\n",
    "\n",
    "            bst = Bootstrap(metric=score)\n",
    "\n",
    "            bst_scores = bst.run(preds, gold_labels)\n",
    "\n",
    "            for score in bst_scores:\n",
    "                metrics.append(\n",
    "                    {\n",
    "                        \"model\": name,\n",
    "                        \"label\": label,\n",
    "                        \"metric\": metric,\n",
    "                        \"score\": score,\n",
    "                    }\n",
    "                )\n"
   ]
  },
  {
   "cell_type": "code",
   "execution_count": 7,
   "metadata": {},
   "outputs": [
    {
     "data": {
      "text/html": [
       "<div>\n",
       "<style scoped>\n",
       "    .dataframe tbody tr th:only-of-type {\n",
       "        vertical-align: middle;\n",
       "    }\n",
       "\n",
       "    .dataframe tbody tr th {\n",
       "        vertical-align: top;\n",
       "    }\n",
       "\n",
       "    .dataframe thead th {\n",
       "        text-align: right;\n",
       "    }\n",
       "</style>\n",
       "<table border=\"1\" class=\"dataframe\">\n",
       "  <thead>\n",
       "    <tr style=\"text-align: right;\">\n",
       "      <th></th>\n",
       "      <th>model</th>\n",
       "      <th>label</th>\n",
       "      <th>metric</th>\n",
       "      <th>score</th>\n",
       "    </tr>\n",
       "  </thead>\n",
       "  <tbody>\n",
       "    <tr>\n",
       "      <th>0</th>\n",
       "      <td>one-shot</td>\n",
       "      <td>WOMEN</td>\n",
       "      <td>recall</td>\n",
       "      <td>0.283871</td>\n",
       "    </tr>\n",
       "    <tr>\n",
       "      <th>1</th>\n",
       "      <td>one-shot</td>\n",
       "      <td>WOMEN</td>\n",
       "      <td>recall</td>\n",
       "      <td>0.301471</td>\n",
       "    </tr>\n",
       "    <tr>\n",
       "      <th>2</th>\n",
       "      <td>one-shot</td>\n",
       "      <td>WOMEN</td>\n",
       "      <td>recall</td>\n",
       "      <td>0.278689</td>\n",
       "    </tr>\n",
       "    <tr>\n",
       "      <th>3</th>\n",
       "      <td>one-shot</td>\n",
       "      <td>WOMEN</td>\n",
       "      <td>recall</td>\n",
       "      <td>0.301587</td>\n",
       "    </tr>\n",
       "    <tr>\n",
       "      <th>4</th>\n",
       "      <td>one-shot</td>\n",
       "      <td>WOMEN</td>\n",
       "      <td>recall</td>\n",
       "      <td>0.309859</td>\n",
       "    </tr>\n",
       "    <tr>\n",
       "      <th>...</th>\n",
       "      <td>...</td>\n",
       "      <td>...</td>\n",
       "      <td>...</td>\n",
       "      <td>...</td>\n",
       "    </tr>\n",
       "    <tr>\n",
       "      <th>35995</th>\n",
       "      <td>beto</td>\n",
       "      <td>CLASS</td>\n",
       "      <td>f1</td>\n",
       "      <td>0.573529</td>\n",
       "    </tr>\n",
       "    <tr>\n",
       "      <th>35996</th>\n",
       "      <td>beto</td>\n",
       "      <td>CLASS</td>\n",
       "      <td>f1</td>\n",
       "      <td>0.614035</td>\n",
       "    </tr>\n",
       "    <tr>\n",
       "      <th>35997</th>\n",
       "      <td>beto</td>\n",
       "      <td>CLASS</td>\n",
       "      <td>f1</td>\n",
       "      <td>0.627737</td>\n",
       "    </tr>\n",
       "    <tr>\n",
       "      <th>35998</th>\n",
       "      <td>beto</td>\n",
       "      <td>CLASS</td>\n",
       "      <td>f1</td>\n",
       "      <td>0.611940</td>\n",
       "    </tr>\n",
       "    <tr>\n",
       "      <th>35999</th>\n",
       "      <td>beto</td>\n",
       "      <td>CLASS</td>\n",
       "      <td>f1</td>\n",
       "      <td>0.605505</td>\n",
       "    </tr>\n",
       "  </tbody>\n",
       "</table>\n",
       "<p>36000 rows × 4 columns</p>\n",
       "</div>"
      ],
      "text/plain": [
       "          model  label  metric     score\n",
       "0      one-shot  WOMEN  recall  0.283871\n",
       "1      one-shot  WOMEN  recall  0.301471\n",
       "2      one-shot  WOMEN  recall  0.278689\n",
       "3      one-shot  WOMEN  recall  0.301587\n",
       "4      one-shot  WOMEN  recall  0.309859\n",
       "...         ...    ...     ...       ...\n",
       "35995      beto  CLASS      f1  0.573529\n",
       "35996      beto  CLASS      f1  0.614035\n",
       "35997      beto  CLASS      f1  0.627737\n",
       "35998      beto  CLASS      f1  0.611940\n",
       "35999      beto  CLASS      f1  0.605505\n",
       "\n",
       "[36000 rows x 4 columns]"
      ]
     },
     "execution_count": 7,
     "metadata": {},
     "output_type": "execute_result"
    }
   ],
   "source": [
    "df_metrics = pd.DataFrame(metrics)\n",
    "\n",
    "df_metrics"
   ]
  },
  {
   "cell_type": "code",
   "execution_count": 28,
   "metadata": {},
   "outputs": [
    {
     "data": {
      "image/png": "[encoded data removed]",
      "text/plain": [
       "<Figure size 1000x200 with 1 Axes>"
      ]
     },
     "metadata": {},
     "output_type": "display_data"
    }
   ],
   "source": [
    "import seaborn as sns\n",
    "import matplotlib.pyplot as plt\n",
    "\n",
    "\n",
    "# Create the barplot\n",
    "\n",
    "metric = \"precision\"\n",
    "\n",
    "plt.figure(figsize=(10, 2))\n",
    "sns.barplot(x='label', y='score', hue='model', data=df_metrics[df_metrics[\"metric\"] == metric], hue_order=[\"one-shot\", \"few-shot\", \"beto\"])\n",
    "\n",
    "\n",
    "# Set the plot title and labels\n",
    "plt.xlabel('')\n",
    "plt.ylabel(metric.capitalize())\n",
    "\n",
    "# Show the plot\n",
    "\n",
    "# Remove xticks\n",
    "\n",
    "plt.xticks(ticks=[])\n",
    "# Make legend smaller\n",
    "plt.legend(loc='upper right', bbox_to_anchor=(0.16, 1.00))\n",
    "\n",
    "plt.savefig(f\"img/{metric}.png\", bbox_inches='tight', dpi=300)"
   ]
  },
  {
   "cell_type": "code",
   "execution_count": 17,
   "metadata": {},
   "outputs": [
    {
     "data": {
      "image/png": "[encoded data removed]",
      "text/plain": [
       "<Figure size 1000x200 with 1 Axes>"
      ]
     },
     "metadata": {},
     "output_type": "display_data"
    }
   ],
   "source": [
    "import seaborn as sns\n",
    "import matplotlib.pyplot as plt\n",
    "\n",
    "\n",
    "# Create the barplot\n",
    "\n",
    "metric = \"recall\"\n",
    "\n",
    "plt.figure(figsize=(10, 2))\n",
    "sns.barplot(x='label', y='score', hue='model', data=df_metrics[df_metrics[\"metric\"] == metric], hue_order=[\"one-shot\", \"few-shot\", \"beto\"], legend=False)\n",
    "# Remove the legend\n",
    "#plt.legend(loc='upper right', bbox_to_anchor=(1.3, 1))\n",
    "\n",
    "# Set the plot title and labels\n",
    "plt.xlabel('')\n",
    "plt.ylabel(metric.capitalize())\n",
    "\n",
    "# Show the plot\n",
    "\n",
    "plt.xticks(rotation=90)\n",
    "#plt.show()\n",
    "plt.savefig(f\"img/{metric}.png\", bbox_inches='tight', dpi=300)"
   ]
  },
  {
   "cell_type": "code",
   "execution_count": 32,
   "metadata": {},
   "outputs": [
    {
     "data": {
      "text/html": [
       "<div>\n",
       "<style scoped>\n",
       "    .dataframe tbody tr th:only-of-type {\n",
       "        vertical-align: middle;\n",
       "    }\n",
       "\n",
       "    .dataframe tbody tr th {\n",
       "        vertical-align: top;\n",
       "    }\n",
       "\n",
       "    .dataframe thead th {\n",
       "        text-align: right;\n",
       "    }\n",
       "</style>\n",
       "<table border=\"1\" class=\"dataframe\">\n",
       "  <thead>\n",
       "    <tr style=\"text-align: right;\">\n",
       "      <th></th>\n",
       "      <th>model</th>\n",
       "      <th>metric</th>\n",
       "      <th>score</th>\n",
       "    </tr>\n",
       "  </thead>\n",
       "  <tbody>\n",
       "    <tr>\n",
       "      <th>0</th>\n",
       "      <td>one-shot</td>\n",
       "      <td>recall</td>\n",
       "      <td>0.540881</td>\n",
       "    </tr>\n",
       "    <tr>\n",
       "      <th>1</th>\n",
       "      <td>one-shot</td>\n",
       "      <td>recall</td>\n",
       "      <td>0.522267</td>\n",
       "    </tr>\n",
       "    <tr>\n",
       "      <th>2</th>\n",
       "      <td>one-shot</td>\n",
       "      <td>recall</td>\n",
       "      <td>0.484407</td>\n",
       "    </tr>\n",
       "    <tr>\n",
       "      <th>3</th>\n",
       "      <td>one-shot</td>\n",
       "      <td>recall</td>\n",
       "      <td>0.516556</td>\n",
       "    </tr>\n",
       "    <tr>\n",
       "      <th>4</th>\n",
       "      <td>one-shot</td>\n",
       "      <td>recall</td>\n",
       "      <td>0.513238</td>\n",
       "    </tr>\n",
       "    <tr>\n",
       "      <th>...</th>\n",
       "      <td>...</td>\n",
       "      <td>...</td>\n",
       "      <td>...</td>\n",
       "    </tr>\n",
       "    <tr>\n",
       "      <th>8995</th>\n",
       "      <td>beto</td>\n",
       "      <td>f1</td>\n",
       "      <td>0.618705</td>\n",
       "    </tr>\n",
       "    <tr>\n",
       "      <th>8996</th>\n",
       "      <td>beto</td>\n",
       "      <td>f1</td>\n",
       "      <td>0.634921</td>\n",
       "    </tr>\n",
       "    <tr>\n",
       "      <th>8997</th>\n",
       "      <td>beto</td>\n",
       "      <td>f1</td>\n",
       "      <td>0.638398</td>\n",
       "    </tr>\n",
       "    <tr>\n",
       "      <th>8998</th>\n",
       "      <td>beto</td>\n",
       "      <td>f1</td>\n",
       "      <td>0.638498</td>\n",
       "    </tr>\n",
       "    <tr>\n",
       "      <th>8999</th>\n",
       "      <td>beto</td>\n",
       "      <td>f1</td>\n",
       "      <td>0.615578</td>\n",
       "    </tr>\n",
       "  </tbody>\n",
       "</table>\n",
       "<p>9000 rows × 3 columns</p>\n",
       "</div>"
      ],
      "text/plain": [
       "         model  metric     score\n",
       "0     one-shot  recall  0.540881\n",
       "1     one-shot  recall  0.522267\n",
       "2     one-shot  recall  0.484407\n",
       "3     one-shot  recall  0.516556\n",
       "4     one-shot  recall  0.513238\n",
       "...        ...     ...       ...\n",
       "8995      beto      f1  0.618705\n",
       "8996      beto      f1  0.634921\n",
       "8997      beto      f1  0.638398\n",
       "8998      beto      f1  0.638498\n",
       "8999      beto      f1  0.615578\n",
       "\n",
       "[9000 rows x 3 columns]"
      ]
     },
     "execution_count": 32,
     "metadata": {},
     "output_type": "execute_result"
    }
   ],
   "source": [
    "# Just keep the most important characteristics\n",
    "\n",
    "hate_metrics = []\n",
    "\n",
    "\n",
    "for name, df in dfs.items():\n",
    "    label_hate = df[labels].sum(axis=1) > 0\n",
    "    pred_hate = df[pred_labels].sum(axis=1) > 0\n",
    "\n",
    "    for metric in {\"precision\", \"recall\", \"f1\"}:\n",
    "        if metric == \"precision\":\n",
    "            score = precision_score\n",
    "        elif metric == \"recall\":\n",
    "            score = recall_score\n",
    "        elif metric == \"f1\":\n",
    "            score = f1_score\n",
    "\n",
    "\n",
    "        gold_labels = label_hate.values\n",
    "        preds = pred_hate.values\n",
    "\n",
    "        bst = Bootstrap(metric=score)\n",
    "\n",
    "        bst_scores = bst.run(preds, gold_labels)\n",
    "\n",
    "        for score in bst_scores:\n",
    "            hate_metrics.append(\n",
    "                {\n",
    "                    \"model\": name,\n",
    "                    \"metric\": metric,\n",
    "                    \"score\": score,\n",
    "                }\n",
    "            )\n",
    "\n",
    "hate_metrics = pd.DataFrame(hate_metrics)\n",
    "\n",
    "hate_metrics"
   ]
  },
  {
   "cell_type": "code",
   "execution_count": 33,
   "metadata": {},
   "outputs": [
    {
     "data": {
      "text/plain": [
       "([0, 1, 2], [Text(0, 0, 'recall'), Text(1, 0, 'precision'), Text(2, 0, 'f1')])"
      ]
     },
     "execution_count": 33,
     "metadata": {},
     "output_type": "execute_result"
    },
    {
     "data": {
      "image/png": "[encoded data removed]",
      "text/plain": [
       "<Figure size 1000x500 with 1 Axes>"
      ]
     },
     "metadata": {},
     "output_type": "display_data"
    }
   ],
   "source": [
    "import seaborn as sns\n",
    "import matplotlib.pyplot as plt\n",
    "\n",
    "\n",
    "# Create the barplot\n",
    "\n",
    "plt.figure(figsize=(10, 5))\n",
    "sns.barplot(x='metric', y='score', hue='model', data=hate_metrics, hue_order=[\"one-shot\", \"few-shot\", \"beto\"])\n",
    "\n",
    "\n",
    "# Set the plot title and labels\n",
    "plt.title(metric.capitalize())\n",
    "plt.ylabel('Value')\n",
    "\n",
    "# Show the plot\n",
    "\n",
    "plt.xticks(rotation=90)\n",
    "#plt.show()"
   ]
  },
  {
   "cell_type": "code",
   "execution_count": 41,
   "metadata": {},
   "outputs": [
    {
     "name": "stdout",
     "output_type": "stream",
     "text": [
      "\\begin{tabular}{lll}\n",
      "\\toprule\n",
      " &  & score \\\\\n",
      "model & metric &  \\\\\n",
      "\\midrule\n",
      "\\multirow[t]{3}{*}{beto} & f1 & 0.635 \\pm 0.019 \\\\\n",
      " & precision & 0.729 \\pm 0.023 \\\\\n",
      " & recall & 0.562 \\pm 0.021 \\\\\n",
      "\\cline{1-3}\n",
      "\\multirow[t]{3}{*}{few-shot} & f1 & 0.508 \\pm 0.018 \\\\\n",
      " & precision & 0.435 \\pm 0.019 \\\\\n",
      " & recall & 0.61 \\pm 0.022 \\\\\n",
      "\\cline{1-3}\n",
      "\\multirow[t]{3}{*}{one-shot} & f1 & 0.478 \\pm 0.019 \\\\\n",
      " & precision & 0.455 \\pm 0.021 \\\\\n",
      " & recall & 0.504 \\pm 0.022 \\\\\n",
      "\\cline{1-3}\n",
      "\\bottomrule\n",
      "\\end{tabular}\n",
      "\n"
     ]
    }
   ],
   "source": [
    "\n",
    "# Show as mean +/- std\n",
    "res = hate_metrics.groupby([\"model\", \"metric\"]).mean().round(3).astype(str) + \" \\pm \" + hate_metrics.groupby([\"model\", \"metric\"]).std().round(3).astype(str)\n",
    "\n",
    "print(res.to_latex())"
   ]
  },
  {
   "cell_type": "code",
   "execution_count": null,
   "metadata": {},
   "outputs": [],
   "source": []
  }
 ],
 "metadata": {
  "kernelspec": {
   "display_name": ".venv",
   "language": "python",
   "name": "python3"
  },
  "language_info": {
   "codemirror_mode": {
    "name": "ipython",
    "version": 3
   },
   "file_extension": ".py",
   "mimetype": "text/x-python",
   "name": "python",
   "nbconvert_exporter": "python",
   "pygments_lexer": "ipython3",
   "version": "3.10.7"
  }
 },
 "nbformat": 4,
 "nbformat_minor": 2
}
