{
 "cells": [
  {
   "cell_type": "markdown",
   "metadata": {},
   "source": [
    "# Resultados\n",
    "\n",
    "En esta notebook analizamos resultados pero centrando en aquellos marcados como \"regionales\"."
   ]
  },
  {
   "cell_type": "code",
   "execution_count": 54,
   "metadata": {},
   "outputs": [
    {
     "name": "stdout",
     "output_type": "stream",
     "text": [
      "The autoreload extension is already loaded. To reload it, use:\n",
      "  %reload_ext autoreload\n"
     ]
    }
   ],
   "source": [
    "%load_ext autoreload\n",
    "%autoreload 2\n",
    "import pandas as pd\n",
    "\n",
    "df_regionalism = pd.read_csv(\"../data/regionalisms/check_regionalisms_annotated.csv\", index_col=0)\n",
    "\n",
    "df_regionalism = df_regionalism.rename(columns={\"CHECK\": \"is_regional\"})"
   ]
  },
  {
   "cell_type": "markdown",
   "metadata": {},
   "source": [
    "Nos quedamos con los índices de los tweets que tengan slang.\n",
    "\n"
   ]
  },
  {
   "cell_type": "code",
   "execution_count": 55,
   "metadata": {},
   "outputs": [
    {
     "data": {
      "text/plain": [
       "1547"
      ]
     },
     "execution_count": 55,
     "metadata": {},
     "output_type": "execute_result"
    }
   ],
   "source": [
    "indices = df_regionalism[df_regionalism[\"is_regional\"] > 0].index\n",
    "\n",
    "len(indices)"
   ]
  },
  {
   "cell_type": "code",
   "execution_count": 72,
   "metadata": {},
   "outputs": [
    {
     "name": "stdout",
     "output_type": "stream",
     "text": [
      "The autoreload extension is already loaded. To reload it, use:\n",
      "  %reload_ext autoreload\n",
      "ALL\n",
      "{'gpt-3.5': 5670, 'beto': 5670, 'aya': 5670, 'mixtral': 5670}\n",
      "REGIONAL\n",
      "{'gpt-3.5': 1547, 'beto': 1547, 'aya': 1547, 'mixtral': 1547}\n"
     ]
    }
   ],
   "source": [
    "\n",
    "%load_ext autoreload\n",
    "%autoreload 2\n",
    "from rioplatense_hs.openai import get_completion\n",
    "import pandas as pd\n",
    "from glob import glob\n",
    "from rioplatense_hs.preprocessing import labels\n",
    "\n",
    "pd.options.display.max_colwidth = 1000\n",
    "#df_train.loc[df_train[\"LGBTI\"] > 0, [\"title\", \"text\", \"text_label\"]].sample(20)\n",
    "\n",
    "files = {\n",
    "    #\"one-shot\": sorted(glob(\"../data/test*pred*1shot.csv\")),\n",
    "    \"gpt-3.5\": sorted(glob(\"../data/test*pred*12shot.csv\")),\n",
    "    \"beto\": sorted(glob(\"../data/test*beto.csv\")),\n",
    "    \"aya\": sorted(glob(\"../data/test*aya_.csv\")),\n",
    "    \"mixtral\": sorted(glob(\"../data/test*mixtral.csv\")),\n",
    "}\n",
    "\n",
    "assert len({len(value) for value in files.values()}) == 1\n",
    "\n",
    "dfs = {k: pd.concat([pd.read_csv(f, index_col=0) for f in v]) for k, v in files.items()}\n",
    "\n",
    "\n",
    "\n",
    "pred_labels = [f\"PRED_{label}\" for label in labels]\n",
    "score_labels = [f\"SCORE_{label}\" for label in labels]\n",
    "\n",
    "dfs[\"beto\"][score_labels] = dfs[\"beto\"][pred_labels]\n",
    "dfs[\"beto\"][pred_labels] = (dfs[\"beto\"][pred_labels] > 0.5).astype(int)\n",
    "\n",
    "# Me quedo sólo con los que tienen regionalismos\n",
    "\n",
    "dfs_regional = {k: v[v.index.isin(indices)].copy() for k, v in dfs.items()}\n",
    "print(\"ALL\")\n",
    "print({k: len(v) for k, v in dfs.items()})\n",
    "print(\"REGIONAL\")\n",
    "print({k: len(v) for k, v in dfs_regional.items()})\n"
   ]
  },
  {
   "cell_type": "code",
   "execution_count": 73,
   "metadata": {},
   "outputs": [],
   "source": [
    "from rioplatense_hs.preprocessing import labels as all_labels\n",
    "labels = [\"WOMEN\", \"LGBTI\", \"RACISM\", \"CLASS\"]\n",
    "\n",
    "\n",
    "pred_labels = [f\"PRED_{label}\" for label in labels]\n",
    "\n",
    "all_pred_labels = [f\"PRED_{label}\" for label in all_labels]"
   ]
  },
  {
   "cell_type": "markdown",
   "metadata": {},
   "source": [
    "Chequear que tengan todas la misma long"
   ]
  },
  {
   "cell_type": "code",
   "execution_count": 74,
   "metadata": {},
   "outputs": [
    {
     "name": "stdout",
     "output_type": "stream",
     "text": [
      "gpt-3.5\n"
     ]
    },
    {
     "data": {
      "application/vnd.jupyter.widget-view+json": {
       "model_id": "a966cbcb7e6f4ba7ac36983f8ec79d2a",
       "version_major": 2,
       "version_minor": 0
      },
      "text/plain": [
       "  0%|          | 0/8 [00:00<?, ?it/s]"
      ]
     },
     "metadata": {},
     "output_type": "display_data"
    },
    {
     "name": "stdout",
     "output_type": "stream",
     "text": [
      "beto\n"
     ]
    },
    {
     "data": {
      "application/vnd.jupyter.widget-view+json": {
       "model_id": "07200f7fb6d34376b4fa43c6d794374c",
       "version_major": 2,
       "version_minor": 0
      },
      "text/plain": [
       "  0%|          | 0/8 [00:00<?, ?it/s]"
      ]
     },
     "metadata": {},
     "output_type": "display_data"
    },
    {
     "name": "stdout",
     "output_type": "stream",
     "text": [
      "aya\n"
     ]
    },
    {
     "data": {
      "application/vnd.jupyter.widget-view+json": {
       "model_id": "3336c1db6c2e4aab917682b145a9e7c6",
       "version_major": 2,
       "version_minor": 0
      },
      "text/plain": [
       "  0%|          | 0/8 [00:00<?, ?it/s]"
      ]
     },
     "metadata": {},
     "output_type": "display_data"
    },
    {
     "name": "stdout",
     "output_type": "stream",
     "text": [
      "mixtral\n"
     ]
    },
    {
     "data": {
      "application/vnd.jupyter.widget-view+json": {
       "model_id": "71f005940052415989dec0282a9b3f27",
       "version_major": 2,
       "version_minor": 0
      },
      "text/plain": [
       "  0%|          | 0/8 [00:00<?, ?it/s]"
      ]
     },
     "metadata": {},
     "output_type": "display_data"
    },
    {
     "name": "stdout",
     "output_type": "stream",
     "text": [
      "gpt-3.5\n"
     ]
    },
    {
     "data": {
      "application/vnd.jupyter.widget-view+json": {
       "model_id": "ec90da6076b146aa829696b985565e76",
       "version_major": 2,
       "version_minor": 0
      },
      "text/plain": [
       "  0%|          | 0/8 [00:00<?, ?it/s]"
      ]
     },
     "metadata": {},
     "output_type": "display_data"
    },
    {
     "name": "stdout",
     "output_type": "stream",
     "text": [
      "beto\n"
     ]
    },
    {
     "data": {
      "application/vnd.jupyter.widget-view+json": {
       "model_id": "da3d513c28a44a07845e99604eb94f1d",
       "version_major": 2,
       "version_minor": 0
      },
      "text/plain": [
       "  0%|          | 0/8 [00:00<?, ?it/s]"
      ]
     },
     "metadata": {},
     "output_type": "display_data"
    },
    {
     "name": "stdout",
     "output_type": "stream",
     "text": [
      "aya\n"
     ]
    },
    {
     "data": {
      "application/vnd.jupyter.widget-view+json": {
       "model_id": "8824f438933a40f6a5f53f43434b9198",
       "version_major": 2,
       "version_minor": 0
      },
      "text/plain": [
       "  0%|          | 0/8 [00:00<?, ?it/s]"
      ]
     },
     "metadata": {},
     "output_type": "display_data"
    },
    {
     "name": "stdout",
     "output_type": "stream",
     "text": [
      "mixtral\n"
     ]
    },
    {
     "data": {
      "application/vnd.jupyter.widget-view+json": {
       "model_id": "ddef736c35464eaa9cf95f95f343c9b6",
       "version_major": 2,
       "version_minor": 0
      },
      "text/plain": [
       "  0%|          | 0/8 [00:00<?, ?it/s]"
      ]
     },
     "metadata": {},
     "output_type": "display_data"
    }
   ],
   "source": [
    "from tqdm.auto import tqdm\n",
    "from confidence_intervals import Bootstrap\n",
    "from sklearn.metrics import precision_score, recall_score, f1_score\n",
    "\n",
    "\n",
    "def get_metrics(dfs):\n",
    "    metrics = []\n",
    "    for name, df in dfs.items():\n",
    "        print(name)\n",
    "        for label in tqdm(all_labels):\n",
    "\n",
    "            for metric in {\"precision\", \"recall\", \"f1\"}:\n",
    "                if metric == \"precision\":\n",
    "                    score = precision_score\n",
    "                elif metric == \"recall\":\n",
    "                    score = recall_score\n",
    "                elif metric == \"f1\":\n",
    "                    score = f1_score\n",
    "\n",
    "\n",
    "                gold_labels = df[label].values\n",
    "                preds = df[f\"PRED_{label}\"].values\n",
    "\n",
    "                bst = Bootstrap(metric=score, num_bootstraps=150)\n",
    "\n",
    "                bst_scores = bst.run(preds, gold_labels)\n",
    "\n",
    "                for score in bst_scores:\n",
    "                    metrics.append(\n",
    "                        {\n",
    "                            \"model\": name,\n",
    "                            \"label\": label,\n",
    "                            \"metric\": metric,\n",
    "                            \"score\": score,\n",
    "                        }\n",
    "                    )\n",
    "\n",
    "    return pd.DataFrame(metrics)\n",
    "\n",
    "all_metrics = get_metrics(dfs)\n",
    "regional_metrics = get_metrics(dfs_regional)"
   ]
  },
  {
   "cell_type": "code",
   "execution_count": 77,
   "metadata": {},
   "outputs": [],
   "source": [
    "\n",
    "\n",
    "\n",
    "diff = regional_metrics.groupby([\"model\", \"label\", \"metric\"]).agg(\"mean\") - all_metrics.groupby([\"model\", \"label\", \"metric\"]).agg(\"mean\")\n",
    "\n",
    "diff = diff.reset_index()"
   ]
  },
  {
   "cell_type": "code",
   "execution_count": 98,
   "metadata": {},
   "outputs": [
    {
     "data": {
      "text/html": [
       "<div>\n",
       "<style scoped>\n",
       "    .dataframe tbody tr th:only-of-type {\n",
       "        vertical-align: middle;\n",
       "    }\n",
       "\n",
       "    .dataframe tbody tr th {\n",
       "        vertical-align: top;\n",
       "    }\n",
       "\n",
       "    .dataframe thead tr th {\n",
       "        text-align: left;\n",
       "    }\n",
       "\n",
       "    .dataframe thead tr:last-of-type th {\n",
       "        text-align: right;\n",
       "    }\n",
       "</style>\n",
       "<table border=\"1\" class=\"dataframe\">\n",
       "  <thead>\n",
       "    <tr>\n",
       "      <th>model</th>\n",
       "      <th colspan=\"2\" halign=\"left\">aya</th>\n",
       "      <th colspan=\"2\" halign=\"left\">beto</th>\n",
       "      <th colspan=\"2\" halign=\"left\">gpt-3.5</th>\n",
       "      <th colspan=\"2\" halign=\"left\">mixtral</th>\n",
       "    </tr>\n",
       "    <tr>\n",
       "      <th>type</th>\n",
       "      <th>all</th>\n",
       "      <th>regional</th>\n",
       "      <th>all</th>\n",
       "      <th>regional</th>\n",
       "      <th>all</th>\n",
       "      <th>regional</th>\n",
       "      <th>all</th>\n",
       "      <th>regional</th>\n",
       "    </tr>\n",
       "    <tr>\n",
       "      <th>label</th>\n",
       "      <th></th>\n",
       "      <th></th>\n",
       "      <th></th>\n",
       "      <th></th>\n",
       "      <th></th>\n",
       "      <th></th>\n",
       "      <th></th>\n",
       "      <th></th>\n",
       "    </tr>\n",
       "  </thead>\n",
       "  <tbody>\n",
       "    <tr>\n",
       "      <th>APPEARANCE</th>\n",
       "      <td>0.3210</td>\n",
       "      <td>0.3391</td>\n",
       "      <td>0.7581</td>\n",
       "      <td>0.7945</td>\n",
       "      <td>0.5172</td>\n",
       "      <td>0.5325</td>\n",
       "      <td>0.6190</td>\n",
       "      <td>0.6716</td>\n",
       "    </tr>\n",
       "    <tr>\n",
       "      <th>CLASS</th>\n",
       "      <td>0.1171</td>\n",
       "      <td>0.2003</td>\n",
       "      <td>0.5775</td>\n",
       "      <td>0.6732</td>\n",
       "      <td>0.3448</td>\n",
       "      <td>0.4739</td>\n",
       "      <td>0.2376</td>\n",
       "      <td>0.3602</td>\n",
       "    </tr>\n",
       "    <tr>\n",
       "      <th>CRIMINAL</th>\n",
       "      <td>0.2898</td>\n",
       "      <td>0.3910</td>\n",
       "      <td>0.7064</td>\n",
       "      <td>0.7628</td>\n",
       "      <td>0.4050</td>\n",
       "      <td>0.5073</td>\n",
       "      <td>0.4380</td>\n",
       "      <td>0.4914</td>\n",
       "    </tr>\n",
       "    <tr>\n",
       "      <th>DISABLED</th>\n",
       "      <td>0.1058</td>\n",
       "      <td>0.1182</td>\n",
       "      <td>0.5977</td>\n",
       "      <td>0.6510</td>\n",
       "      <td>0.3319</td>\n",
       "      <td>0.3513</td>\n",
       "      <td>0.3235</td>\n",
       "      <td>0.3697</td>\n",
       "    </tr>\n",
       "    <tr>\n",
       "      <th>LGBTI</th>\n",
       "      <td>0.2283</td>\n",
       "      <td>0.2533</td>\n",
       "      <td>0.4575</td>\n",
       "      <td>0.4722</td>\n",
       "      <td>0.5365</td>\n",
       "      <td>0.4887</td>\n",
       "      <td>0.5357</td>\n",
       "      <td>0.4930</td>\n",
       "    </tr>\n",
       "    <tr>\n",
       "      <th>POLITICS</th>\n",
       "      <td>0.0873</td>\n",
       "      <td>0.1878</td>\n",
       "      <td>0.5945</td>\n",
       "      <td>0.6882</td>\n",
       "      <td>0.2539</td>\n",
       "      <td>0.3520</td>\n",
       "      <td>0.1433</td>\n",
       "      <td>0.2486</td>\n",
       "    </tr>\n",
       "    <tr>\n",
       "      <th>RACISM</th>\n",
       "      <td>0.4883</td>\n",
       "      <td>0.4593</td>\n",
       "      <td>0.7471</td>\n",
       "      <td>0.7012</td>\n",
       "      <td>0.6099</td>\n",
       "      <td>0.6400</td>\n",
       "      <td>0.5801</td>\n",
       "      <td>0.6091</td>\n",
       "    </tr>\n",
       "    <tr>\n",
       "      <th>WOMEN</th>\n",
       "      <td>0.1808</td>\n",
       "      <td>0.2579</td>\n",
       "      <td>0.4299</td>\n",
       "      <td>0.5108</td>\n",
       "      <td>0.3169</td>\n",
       "      <td>0.4086</td>\n",
       "      <td>0.2508</td>\n",
       "      <td>0.3682</td>\n",
       "    </tr>\n",
       "    <tr>\n",
       "      <th>macro</th>\n",
       "      <td>0.2273</td>\n",
       "      <td>0.2759</td>\n",
       "      <td>0.6086</td>\n",
       "      <td>0.6567</td>\n",
       "      <td>0.4145</td>\n",
       "      <td>0.4693</td>\n",
       "      <td>0.3910</td>\n",
       "      <td>0.4515</td>\n",
       "    </tr>\n",
       "  </tbody>\n",
       "</table>\n",
       "</div>"
      ],
      "text/plain": [
       "model         aya            beto          gpt-3.5          mixtral         \n",
       "type          all regional    all regional     all regional     all regional\n",
       "label                                                                       \n",
       "APPEARANCE 0.3210   0.3391 0.7581   0.7945  0.5172   0.5325  0.6190   0.6716\n",
       "CLASS      0.1171   0.2003 0.5775   0.6732  0.3448   0.4739  0.2376   0.3602\n",
       "CRIMINAL   0.2898   0.3910 0.7064   0.7628  0.4050   0.5073  0.4380   0.4914\n",
       "DISABLED   0.1058   0.1182 0.5977   0.6510  0.3319   0.3513  0.3235   0.3697\n",
       "LGBTI      0.2283   0.2533 0.4575   0.4722  0.5365   0.4887  0.5357   0.4930\n",
       "POLITICS   0.0873   0.1878 0.5945   0.6882  0.2539   0.3520  0.1433   0.2486\n",
       "RACISM     0.4883   0.4593 0.7471   0.7012  0.6099   0.6400  0.5801   0.6091\n",
       "WOMEN      0.1808   0.2579 0.4299   0.5108  0.3169   0.4086  0.2508   0.3682\n",
       "macro      0.2273   0.2759 0.6086   0.6567  0.4145   0.4693  0.3910   0.4515"
      ]
     },
     "execution_count": 98,
     "metadata": {},
     "output_type": "execute_result"
    }
   ],
   "source": [
    "agg_regional = regional_metrics.groupby([\"model\", \"label\", \"metric\"]).agg(\"mean\")\n",
    "agg_all = all_metrics.groupby([\"model\", \"label\", \"metric\"]).agg(\"mean\")\n",
    "\n",
    "# Build a single dataframe\n",
    "\n",
    "agg_regional[\"type\"] = \"regional\"\n",
    "agg_all[\"type\"] = \"all\"\n",
    "\n",
    "agg = pd.concat([agg_regional, agg_all])\n",
    "\n",
    "agg = agg.reset_index()\n",
    "\n",
    "# Keep only f1\n",
    "\n",
    "agg = agg[agg[\"metric\"] == \"f1\"]\n",
    "\n",
    "del agg[\"metric\"]\n",
    "\n",
    "# Build a df whose rows are the labels, and for each model / type we have a column\n",
    "\n",
    "agg = agg.pivot_table(index=\"label\", columns=[\"model\", \"type\"], values=\"score\")\n",
    "\n",
    "# Add macro average as a row\n",
    "\n",
    "agg.loc[\"macro\"] = agg.mean()\n",
    "\n",
    "agg"
   ]
  },
  {
   "cell_type": "code",
   "execution_count": null,
   "metadata": {},
   "outputs": [],
   "source": [
    "from rioplatense_hs.preprocessing import text_to_label, labels\n",
    "from sklearn.metrics import classification_report\n",
    "\n",
    "pred_labels = [f\"PRED_{label}\" for label in labels]\n",
    "score_labels = [f\"SCORE_{label}\" for label in labels]\n",
    "\n",
    "dfs[\"beto\"][score_labels] = dfs[\"beto\"][pred_labels]\n",
    "dfs[\"beto\"][pred_labels] = (dfs[\"beto\"][pred_labels] > 0.5).astype(int)"
   ]
  },
  {
   "cell_type": "code",
   "execution_count": null,
   "metadata": {},
   "outputs": [],
   "source": [
    "from rioplatense_hs.preprocessing import labels as all_labels\n",
    "labels = [\"WOMEN\", \"LGBTI\", \"RACISM\", \"CLASS\"]\n",
    "\n",
    "model_order = [\"aya\", \"gpt-3.5\", \"mixtral\", \"beto\"]\n",
    "pred_labels = [f\"PRED_{label}\" for label in labels]\n",
    "\n",
    "all_pred_labels = [f\"PRED_{label}\" for label in all_labels]"
   ]
  },
  {
   "cell_type": "code",
   "execution_count": null,
   "metadata": {},
   "outputs": [
    {
     "name": "stdout",
     "output_type": "stream",
     "text": [
      "gpt-3.5\n"
     ]
    },
    {
     "data": {
      "application/vnd.jupyter.widget-view+json": {
       "model_id": "c82848cc5f894f6787ed3f3b42967934",
       "version_major": 2,
       "version_minor": 0
      },
      "text/plain": [
       "  0%|          | 0/4 [00:00<?, ?it/s]"
      ]
     },
     "metadata": {},
     "output_type": "display_data"
    },
    {
     "name": "stdout",
     "output_type": "stream",
     "text": [
      "beto\n"
     ]
    },
    {
     "data": {
      "application/vnd.jupyter.widget-view+json": {
       "model_id": "601e444055a94daca996b42bf65507cc",
       "version_major": 2,
       "version_minor": 0
      },
      "text/plain": [
       "  0%|          | 0/4 [00:00<?, ?it/s]"
      ]
     },
     "metadata": {},
     "output_type": "display_data"
    },
    {
     "name": "stdout",
     "output_type": "stream",
     "text": [
      "aya\n"
     ]
    },
    {
     "data": {
      "application/vnd.jupyter.widget-view+json": {
       "model_id": "091da49185b84430b9021f7134578754",
       "version_major": 2,
       "version_minor": 0
      },
      "text/plain": [
       "  0%|          | 0/4 [00:00<?, ?it/s]"
      ]
     },
     "metadata": {},
     "output_type": "display_data"
    },
    {
     "name": "stdout",
     "output_type": "stream",
     "text": [
      "mixtral\n"
     ]
    },
    {
     "data": {
      "application/vnd.jupyter.widget-view+json": {
       "model_id": "df1ade841726497cb054707c278a067a",
       "version_major": 2,
       "version_minor": 0
      },
      "text/plain": [
       "  0%|          | 0/4 [00:00<?, ?it/s]"
      ]
     },
     "metadata": {},
     "output_type": "display_data"
    }
   ],
   "source": [
    "from tqdm.auto import tqdm\n",
    "from confidence_intervals import Bootstrap\n",
    "from sklearn.metrics import precision_score, recall_score, f1_score\n",
    "\n",
    "metrics = []\n",
    "\n",
    "for name, df in dfs.items():\n",
    "    print(name)\n",
    "    for label in tqdm(labels):\n",
    "\n",
    "        for metric in {\"precision\", \"recall\", \"f1\"}:\n",
    "            if metric == \"precision\":\n",
    "                score = precision_score\n",
    "            elif metric == \"recall\":\n",
    "                score = recall_score\n",
    "            elif metric == \"f1\":\n",
    "                score = f1_score\n",
    "\n",
    "\n",
    "            gold_labels = df[label].values\n",
    "            preds = df[f\"PRED_{label}\"].values\n",
    "\n",
    "            bst = Bootstrap(metric=score, num_bootstraps=150)\n",
    "\n",
    "            bst_scores = bst.run(preds, gold_labels)\n",
    "\n",
    "            for score in bst_scores:\n",
    "                metrics.append(\n",
    "                    {\n",
    "                        \"model\": name,\n",
    "                        \"label\": label,\n",
    "                        \"metric\": metric,\n",
    "                        \"score\": score,\n",
    "                    }\n",
    "                )\n"
   ]
  },
  {
   "cell_type": "code",
   "execution_count": null,
   "metadata": {},
   "outputs": [
    {
     "data": {
      "text/html": [
       "<div>\n",
       "<style scoped>\n",
       "    .dataframe tbody tr th:only-of-type {\n",
       "        vertical-align: middle;\n",
       "    }\n",
       "\n",
       "    .dataframe tbody tr th {\n",
       "        vertical-align: top;\n",
       "    }\n",
       "\n",
       "    .dataframe thead th {\n",
       "        text-align: right;\n",
       "    }\n",
       "</style>\n",
       "<table border=\"1\" class=\"dataframe\">\n",
       "  <thead>\n",
       "    <tr style=\"text-align: right;\">\n",
       "      <th></th>\n",
       "      <th>model</th>\n",
       "      <th>label</th>\n",
       "      <th>metric</th>\n",
       "      <th>score</th>\n",
       "    </tr>\n",
       "  </thead>\n",
       "  <tbody>\n",
       "    <tr>\n",
       "      <th>0</th>\n",
       "      <td>gpt-3.5</td>\n",
       "      <td>WOMEN</td>\n",
       "      <td>precision</td>\n",
       "      <td>0.3286</td>\n",
       "    </tr>\n",
       "    <tr>\n",
       "      <th>1</th>\n",
       "      <td>gpt-3.5</td>\n",
       "      <td>WOMEN</td>\n",
       "      <td>precision</td>\n",
       "      <td>0.3293</td>\n",
       "    </tr>\n",
       "    <tr>\n",
       "      <th>2</th>\n",
       "      <td>gpt-3.5</td>\n",
       "      <td>WOMEN</td>\n",
       "      <td>precision</td>\n",
       "      <td>0.3006</td>\n",
       "    </tr>\n",
       "    <tr>\n",
       "      <th>3</th>\n",
       "      <td>gpt-3.5</td>\n",
       "      <td>WOMEN</td>\n",
       "      <td>precision</td>\n",
       "      <td>0.3409</td>\n",
       "    </tr>\n",
       "    <tr>\n",
       "      <th>4</th>\n",
       "      <td>gpt-3.5</td>\n",
       "      <td>WOMEN</td>\n",
       "      <td>precision</td>\n",
       "      <td>0.3006</td>\n",
       "    </tr>\n",
       "    <tr>\n",
       "      <th>...</th>\n",
       "      <td>...</td>\n",
       "      <td>...</td>\n",
       "      <td>...</td>\n",
       "      <td>...</td>\n",
       "    </tr>\n",
       "    <tr>\n",
       "      <th>7195</th>\n",
       "      <td>mixtral</td>\n",
       "      <td>CLASS</td>\n",
       "      <td>f1</td>\n",
       "      <td>0.2649</td>\n",
       "    </tr>\n",
       "    <tr>\n",
       "      <th>7196</th>\n",
       "      <td>mixtral</td>\n",
       "      <td>CLASS</td>\n",
       "      <td>f1</td>\n",
       "      <td>0.1970</td>\n",
       "    </tr>\n",
       "    <tr>\n",
       "      <th>7197</th>\n",
       "      <td>mixtral</td>\n",
       "      <td>CLASS</td>\n",
       "      <td>f1</td>\n",
       "      <td>0.2755</td>\n",
       "    </tr>\n",
       "    <tr>\n",
       "      <th>7198</th>\n",
       "      <td>mixtral</td>\n",
       "      <td>CLASS</td>\n",
       "      <td>f1</td>\n",
       "      <td>0.1721</td>\n",
       "    </tr>\n",
       "    <tr>\n",
       "      <th>7199</th>\n",
       "      <td>mixtral</td>\n",
       "      <td>CLASS</td>\n",
       "      <td>f1</td>\n",
       "      <td>0.2487</td>\n",
       "    </tr>\n",
       "  </tbody>\n",
       "</table>\n",
       "<p>7200 rows × 4 columns</p>\n",
       "</div>"
      ],
      "text/plain": [
       "        model  label     metric  score\n",
       "0     gpt-3.5  WOMEN  precision 0.3286\n",
       "1     gpt-3.5  WOMEN  precision 0.3293\n",
       "2     gpt-3.5  WOMEN  precision 0.3006\n",
       "3     gpt-3.5  WOMEN  precision 0.3409\n",
       "4     gpt-3.5  WOMEN  precision 0.3006\n",
       "...       ...    ...        ...    ...\n",
       "7195  mixtral  CLASS         f1 0.2649\n",
       "7196  mixtral  CLASS         f1 0.1970\n",
       "7197  mixtral  CLASS         f1 0.2755\n",
       "7198  mixtral  CLASS         f1 0.1721\n",
       "7199  mixtral  CLASS         f1 0.2487\n",
       "\n",
       "[7200 rows x 4 columns]"
      ]
     },
     "metadata": {},
     "output_type": "display_data"
    }
   ],
   "source": [
    "df_metrics = pd.DataFrame(metrics)\n",
    "\n",
    "df_metrics"
   ]
  },
  {
   "cell_type": "code",
   "execution_count": null,
   "metadata": {},
   "outputs": [
    {
     "data": {
      "image/png": "[encoded data removed]",
      "text/plain": [
       "<Figure size 900x300 with 1 Axes>"
      ]
     },
     "metadata": {},
     "output_type": "display_data"
    }
   ],
   "source": [
    "import seaborn as sns\n",
    "import matplotlib.pyplot as plt\n",
    "\n",
    "\n",
    "# Create the barplot\n",
    "\n",
    "def plot_metric(metric, labels, legend=True):\n",
    "    plt.figure(figsize=(9, 3))\n",
    "\n",
    "    sub_df = df_metrics[(df_metrics[\"metric\"] == metric) & (df_metrics[\"label\"].isin(labels))]\n",
    "\n",
    "    sns.barplot(x='label', y='score', hue='model', data=sub_df, hue_order=model_order)\n",
    "\n",
    "\n",
    "    # Set the plot title and labels\n",
    "    plt.xlabel('')\n",
    "    plt.ylabel(metric.capitalize())\n",
    "\n",
    "    # Show the plot\n",
    "\n",
    "    # Remove xticks\n",
    "\n",
    "    #plt.xticks(ticks=[])\n",
    "    plt.xticks(rotation=90)\n",
    "    # Make legend smaller\n",
    "    if legend:\n",
    "        plt.legend(loc='upper right')#, bbox_to_anchor=(0.35, 1.03))\n",
    "\n",
    "\n",
    "metric = \"precision\"\n",
    "plot_metric(metric, all_labels)\n",
    "plt.savefig(f\"img/{metric}.png\", bbox_inches='tight', dpi=300)"
   ]
  },
  {
   "cell_type": "code",
   "execution_count": 80,
   "metadata": {},
   "outputs": [
    {
     "data": {
      "image/png": "[encoded data removed]",
      "text/plain": [
       "<Figure size 900x300 with 1 Axes>"
      ]
     },
     "metadata": {},
     "output_type": "display_data"
    }
   ],
   "source": [
    "import seaborn as sns\n",
    "import matplotlib.pyplot as plt\n",
    "\n",
    "\n",
    "# Create the barplot\n",
    "\n",
    "model_order = [\"aya\", \"mixtral\", \"gpt-3.5\",  \"beto\"]\n",
    "\n",
    "def plot_metric(df, metric, labels, legend=True):\n",
    "    plt.figure(figsize=(9, 3))\n",
    "\n",
    "    sub_df = df[(df[\"metric\"] == metric) & (df[\"label\"].isin(labels))]\n",
    "\n",
    "    sns.barplot(x='label', y='score', hue='model', data=sub_df, hue_order=model_order)\n",
    "\n",
    "\n",
    "    # Set the plot title and labels\n",
    "    plt.xlabel('')\n",
    "    plt.ylabel(metric.capitalize())\n",
    "\n",
    "    # Show the plot\n",
    "\n",
    "    # Remove xticks\n",
    "\n",
    "    #plt.xticks(ticks=[])\n",
    "    plt.xticks(rotation=90)\n",
    "    # Make legend smaller\n",
    "    if legend:\n",
    "        plt.legend(loc='upper right')#, bbox_to_anchor=(0.35, 1.03))\n",
    "\n",
    "\n",
    "plot_metric(diff, \"f1\", all_labels)\n",
    "#lt.savefig(f\"img/{metric}.png\", bbox_inches='tight', dpi=300)"
   ]
  },
  {
   "cell_type": "code",
   "execution_count": 81,
   "metadata": {},
   "outputs": [
    {
     "data": {
      "image/png": "[encoded data removed]",
      "text/plain": [
       "<Figure size 900x300 with 1 Axes>"
      ]
     },
     "metadata": {},
     "output_type": "display_data"
    }
   ],
   "source": [
    "plot_metric(diff, \"precision\", all_labels)"
   ]
  },
  {
   "cell_type": "code",
   "execution_count": 82,
   "metadata": {},
   "outputs": [
    {
     "data": {
      "image/png": "[encoded data removed]",
      "text/plain": [
       "<Figure size 900x300 with 1 Axes>"
      ]
     },
     "metadata": {},
     "output_type": "display_data"
    }
   ],
   "source": [
    "plot_metric(diff, \"recall\", all_labels)"
   ]
  },
  {
   "cell_type": "markdown",
   "metadata": {},
   "source": [
    "¿Qué pasa que mejora tanto todo en CLASE?"
   ]
  },
  {
   "cell_type": "code",
   "execution_count": 8,
   "metadata": {},
   "outputs": [
    {
     "data": {
      "text/plain": [
       "0.1544973544973545"
      ]
     },
     "execution_count": 8,
     "metadata": {},
     "output_type": "execute_result"
    }
   ],
   "source": [
    "df_beto = dfs[\"beto\"]\n",
    "\n",
    "df_beto[\"HATEFUL\"].mean()"
   ]
  },
  {
   "cell_type": "code",
   "execution_count": 9,
   "metadata": {},
   "outputs": [
    {
     "data": {
      "text/plain": [
       "WOMEN         131\n",
       "LGBTI          88\n",
       "RACISM        230\n",
       "CLASS          76\n",
       "POLITICS      144\n",
       "DISABLED       66\n",
       "APPEARANCE    189\n",
       "CRIMINAL      185\n",
       "dtype: int64"
      ]
     },
     "execution_count": 9,
     "metadata": {},
     "output_type": "execute_result"
    }
   ],
   "source": [
    "df_beto[all_labels].sum()"
   ]
  },
  {
   "cell_type": "markdown",
   "metadata": {},
   "source": [
    "Ok! Hay muchos más odio en este conjunto de datos (cerca de 1 sobre 4) vs 1 sobre 7 en el conjunto en general"
   ]
  },
  {
   "cell_type": "markdown",
   "metadata": {},
   "source": [
    "Ok, acá vemos lo siguiente:\n",
    "\n",
    "- En CLASE, los "
   ]
  },
  {
   "cell_type": "code",
   "execution_count": 39,
   "metadata": {},
   "outputs": [
    {
     "data": {
      "image/png": "[encoded data removed]",
      "text/plain": [
       "<Figure size 900x300 with 1 Axes>"
      ]
     },
     "metadata": {},
     "output_type": "display_data"
    }
   ],
   "source": [
    "import seaborn as sns\n",
    "import matplotlib.pyplot as plt\n",
    "\n",
    "\n",
    "# Create the barplot\n",
    "\n",
    "def plot_metric(metric, labels, legend=True):\n",
    "    plt.figure(figsize=(9, 3))\n",
    "\n",
    "    sub_df = df_metrics[(df_metrics[\"metric\"] == metric) & (df_metrics[\"label\"].isin(labels))]\n",
    "\n",
    "    sns.barplot(x='label', y='score', hue='model', data=sub_df, hue_order=model_order)\n",
    "\n",
    "\n",
    "    # Set the plot title and labels\n",
    "    plt.xlabel('')\n",
    "    plt.ylabel(metric.capitalize())\n",
    "\n",
    "    # Show the plot\n",
    "\n",
    "    # Remove xticks\n",
    "\n",
    "    #plt.xticks(ticks=[])\n",
    "    plt.xticks(rotation=90)\n",
    "    # Make legend smaller\n",
    "    if legend:\n",
    "        plt.legend(loc='upper right')#, bbox_to_anchor=(0.35, 1.03))\n",
    "\n",
    "\n",
    "metric = \"precision\"\n",
    "plot_metric(metric, all_labels)\n",
    "#lt.savefig(f\"img/{metric}.png\", bbox_inches='tight', dpi=300)"
   ]
  },
  {
   "cell_type": "code",
   "execution_count": 40,
   "metadata": {},
   "outputs": [
    {
     "data": {
      "image/png": "[encoded data removed]",
      "text/plain": [
       "<Figure size 900x300 with 1 Axes>"
      ]
     },
     "metadata": {},
     "output_type": "display_data"
    }
   ],
   "source": [
    "plot_metric(\"recall\", all_labels)\n",
    "#plt.savefig(f\"img/recall.png\", bbox_inches='tight', dpi=300)"
   ]
  },
  {
   "cell_type": "code",
   "execution_count": 42,
   "metadata": {},
   "outputs": [
    {
     "data": {
      "image/png": "[encoded data removed]",
      "text/plain": [
       "<Figure size 900x300 with 1 Axes>"
      ]
     },
     "metadata": {},
     "output_type": "display_data"
    }
   ],
   "source": [
    "plot_metric(\"f1\", all_labels)\n",
    "#plt.savefig(f\"img/f1.png\", bbox_inches='tight', dpi=300)"
   ]
  },
  {
   "cell_type": "code",
   "execution_count": 45,
   "metadata": {},
   "outputs": [
    {
     "data": {
      "text/html": [
       "<div>\n",
       "<style scoped>\n",
       "    .dataframe tbody tr th:only-of-type {\n",
       "        vertical-align: middle;\n",
       "    }\n",
       "\n",
       "    .dataframe tbody tr th {\n",
       "        vertical-align: top;\n",
       "    }\n",
       "\n",
       "    .dataframe thead th {\n",
       "        text-align: right;\n",
       "    }\n",
       "</style>\n",
       "<table border=\"1\" class=\"dataframe\">\n",
       "  <thead>\n",
       "    <tr style=\"text-align: right;\">\n",
       "      <th></th>\n",
       "      <th>model</th>\n",
       "      <th>metric</th>\n",
       "      <th>score</th>\n",
       "    </tr>\n",
       "  </thead>\n",
       "  <tbody>\n",
       "    <tr>\n",
       "      <th>0</th>\n",
       "      <td>gpt-3.5</td>\n",
       "      <td>f1</td>\n",
       "      <td>0.5618</td>\n",
       "    </tr>\n",
       "    <tr>\n",
       "      <th>1</th>\n",
       "      <td>gpt-3.5</td>\n",
       "      <td>f1</td>\n",
       "      <td>0.5519</td>\n",
       "    </tr>\n",
       "    <tr>\n",
       "      <th>2</th>\n",
       "      <td>gpt-3.5</td>\n",
       "      <td>f1</td>\n",
       "      <td>0.5451</td>\n",
       "    </tr>\n",
       "    <tr>\n",
       "      <th>3</th>\n",
       "      <td>gpt-3.5</td>\n",
       "      <td>f1</td>\n",
       "      <td>0.5702</td>\n",
       "    </tr>\n",
       "    <tr>\n",
       "      <th>4</th>\n",
       "      <td>gpt-3.5</td>\n",
       "      <td>f1</td>\n",
       "      <td>0.5621</td>\n",
       "    </tr>\n",
       "    <tr>\n",
       "      <th>...</th>\n",
       "      <td>...</td>\n",
       "      <td>...</td>\n",
       "      <td>...</td>\n",
       "    </tr>\n",
       "    <tr>\n",
       "      <th>1795</th>\n",
       "      <td>mixtral</td>\n",
       "      <td>precision</td>\n",
       "      <td>0.3636</td>\n",
       "    </tr>\n",
       "    <tr>\n",
       "      <th>1796</th>\n",
       "      <td>mixtral</td>\n",
       "      <td>precision</td>\n",
       "      <td>0.3753</td>\n",
       "    </tr>\n",
       "    <tr>\n",
       "      <th>1797</th>\n",
       "      <td>mixtral</td>\n",
       "      <td>precision</td>\n",
       "      <td>0.3702</td>\n",
       "    </tr>\n",
       "    <tr>\n",
       "      <th>1798</th>\n",
       "      <td>mixtral</td>\n",
       "      <td>precision</td>\n",
       "      <td>0.3315</td>\n",
       "    </tr>\n",
       "    <tr>\n",
       "      <th>1799</th>\n",
       "      <td>mixtral</td>\n",
       "      <td>precision</td>\n",
       "      <td>0.3609</td>\n",
       "    </tr>\n",
       "  </tbody>\n",
       "</table>\n",
       "<p>1800 rows × 3 columns</p>\n",
       "</div>"
      ],
      "text/plain": [
       "        model     metric  score\n",
       "0     gpt-3.5         f1 0.5618\n",
       "1     gpt-3.5         f1 0.5519\n",
       "2     gpt-3.5         f1 0.5451\n",
       "3     gpt-3.5         f1 0.5702\n",
       "4     gpt-3.5         f1 0.5621\n",
       "...       ...        ...    ...\n",
       "1795  mixtral  precision 0.3636\n",
       "1796  mixtral  precision 0.3753\n",
       "1797  mixtral  precision 0.3702\n",
       "1798  mixtral  precision 0.3315\n",
       "1799  mixtral  precision 0.3609\n",
       "\n",
       "[1800 rows x 3 columns]"
      ]
     },
     "execution_count": 45,
     "metadata": {},
     "output_type": "execute_result"
    }
   ],
   "source": [
    "# Just keep the most important characteristics\n",
    "\n",
    "hate_metrics = []\n",
    "\n",
    "# If set to True, uses all labels. If not, only WOMEN, LGBTI, RACISM, CLASS\n",
    "evaluate_all = False\n",
    "\n",
    "\n",
    "for name, df in dfs.items():\n",
    "    if not evaluate_all:\n",
    "        label_hate = df[labels].sum(axis=1) > 0\n",
    "        pred_hate = df[pred_labels].sum(axis=1) > 0\n",
    "    else:\n",
    "        label_hate = df[all_labels].sum(axis=1) > 0\n",
    "        pred_hate = df[all_pred_labels].sum(axis=1) > 0\n",
    "    for metric in {\"precision\", \"recall\", \"f1\"}:\n",
    "        if metric == \"precision\":\n",
    "            score = precision_score\n",
    "        elif metric == \"recall\":\n",
    "            score = recall_score\n",
    "        elif metric == \"f1\":\n",
    "            score = f1_score\n",
    "\n",
    "\n",
    "        gold_labels = label_hate.values\n",
    "        preds = pred_hate.values\n",
    "\n",
    "        bst = Bootstrap(metric=score, num_bootstraps=150)\n",
    "\n",
    "        bst_scores = bst.run(preds, gold_labels)\n",
    "\n",
    "        for score in bst_scores:\n",
    "            hate_metrics.append(\n",
    "                {\n",
    "                    \"model\": name,\n",
    "                    \"metric\": metric,\n",
    "                    \"score\": score,\n",
    "                }\n",
    "            )\n",
    "\n",
    "hate_metrics = pd.DataFrame(hate_metrics)\n",
    "\n",
    "hate_metrics"
   ]
  },
  {
   "cell_type": "code",
   "execution_count": 48,
   "metadata": {},
   "outputs": [
    {
     "data": {
      "text/plain": [
       "([0, 1, 2], [Text(0, 0, 'f1'), Text(1, 0, 'recall'), Text(2, 0, 'precision')])"
      ]
     },
     "execution_count": 48,
     "metadata": {},
     "output_type": "execute_result"
    },
    {
     "data": {
      "image/png": "[encoded data removed]",
      "text/plain": [
       "<Figure size 1000x500 with 1 Axes>"
      ]
     },
     "metadata": {},
     "output_type": "display_data"
    }
   ],
   "source": [
    "import seaborn as sns\n",
    "import matplotlib.pyplot as plt\n",
    "\n",
    "\n",
    "# Create the barplot\n",
    "\n",
    "plt.figure(figsize=(10, 5))\n",
    "sns.barplot(x='metric', y='score', hue='model', data=hate_metrics, hue_order=model_order)\n",
    "\n",
    "\n",
    "plt.ylabel('Value')\n",
    "\n",
    "# Show the plot\n",
    "\n",
    "plt.xticks(rotation=90)\n",
    "#plt.show()"
   ]
  },
  {
   "cell_type": "code",
   "execution_count": null,
   "metadata": {},
   "outputs": [],
   "source": []
  }
 ],
 "metadata": {
  "kernelspec": {
   "display_name": ".venv",
   "language": "python",
   "name": "python3"
  },
  "language_info": {
   "codemirror_mode": {
    "name": "ipython",
    "version": 3
   },
   "file_extension": ".py",
   "mimetype": "text/x-python",
   "name": "python",
   "nbconvert_exporter": "python",
   "pygments_lexer": "ipython3",
   "version": "3.10.7"
  }
 },
 "nbformat": 4,
 "nbformat_minor": 2
}
