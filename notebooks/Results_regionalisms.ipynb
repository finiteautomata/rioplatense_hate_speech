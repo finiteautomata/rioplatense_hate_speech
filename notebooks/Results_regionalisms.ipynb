{
 "cells": [
  {
   "cell_type": "markdown",
   "metadata": {},
   "source": [
    "## Análisis de regionalismos\n",
    "\n",
    "En esta notebook haremos un análisis de regionalismos. Para ello, utilizaremos [Diccionario Argentino](https://www.diccionarioargentino.com/terms/p) para obtener una lista de expresiones y palabras regionales."
   ]
  },
  {
   "cell_type": "markdown",
   "metadata": {},
   "source": [
    "Preproceso un poco el slang"
   ]
  },
  {
   "cell_type": "code",
   "execution_count": 10,
   "metadata": {},
   "outputs": [
    {
     "data": {
      "text/html": [
       "<div>\n",
       "<style scoped>\n",
       "    .dataframe tbody tr th:only-of-type {\n",
       "        vertical-align: middle;\n",
       "    }\n",
       "\n",
       "    .dataframe tbody tr th {\n",
       "        vertical-align: top;\n",
       "    }\n",
       "\n",
       "    .dataframe thead th {\n",
       "        text-align: right;\n",
       "    }\n",
       "</style>\n",
       "<table border=\"1\" class=\"dataframe\">\n",
       "  <thead>\n",
       "    <tr style=\"text-align: right;\">\n",
       "      <th></th>\n",
       "      <th>title</th>\n",
       "      <th>text</th>\n",
       "      <th>context_tweet</th>\n",
       "      <th>prompt</th>\n",
       "      <th>pred_cot</th>\n",
       "    </tr>\n",
       "    <tr>\n",
       "      <th>id</th>\n",
       "      <th></th>\n",
       "      <th></th>\n",
       "      <th></th>\n",
       "      <th></th>\n",
       "      <th></th>\n",
       "    </tr>\n",
       "  </thead>\n",
       "  <tbody>\n",
       "    <tr>\n",
       "      <th>349719</th>\n",
       "      <td>Graciana Peñafort: \"La marcha me dio mucha pena y tuvo un nivel de convocatoria menor al esperado\"</td>\n",
       "      <td>@usuario 🤣🤣🤣</td>\n",
       "      <td>Graciana Peñafort: “La marcha me dio mucha pena y tuvo un nivel de convocatoria menor al esperado” https://t.co/sPiBqGmFIg</td>\n",
       "      <td>Explicar si existe un término o expresión regional del español de Argentina en el texto a continuación. Un regionalismo es una expresión de carácter usualmente coloquial usada en alguna variedad dialectal del español. No consideramos nombres propios (personas, lugares, etc) como tales. La expresión regional puede estar en el contexto (titular de noticia) o en el comentario. Razonar paso a paso antes de dar la respuesta.\\n###\\ncontexto: ¿More Rial cuestionó las habilidades de su ex en la cama?Luego de su separación con Facundo Ambrosioni, la mediática hizo una fuerte referencia a su vida sexual\\nrespuesta: La expresión \"acumulando mas leche\" es de carácter regional, y se refiere a la acumulación de deseos sexuales. La respuesta final es sí.\\n###\\ncontexto: Enrique Pinti no descarta una nueva postulación de Macri: “En este país siempre hay una chance para cualquiera que nos vuelva a cagar”\\nrespuesta: La expresión \"trolo\" es un término regional en Argentina usado para referirse a una...</td>\n",
       "      <td>La expresión \"🤣🤣🤣\" es un emoji que no constituye un término regional del español de Argentina. La respuesta final es no.</td>\n",
       "    </tr>\n",
       "    <tr>\n",
       "      <th>336555</th>\n",
       "      <td>Detuvieron a otro delincuente recientemente liberado por la excusa del coronavirus: volvió a golpear a su familia</td>\n",
       "      <td>@usuario ¿Ya echaron al juez con juicio político?</td>\n",
       "      <td>Detuvieron a un delincuente recientemente liberado por la excusa del coronavirus: volvió a golpear a su familia https://t.co/kRHjqDIljH</td>\n",
       "      <td>Explicar si existe un término o expresión regional del español de Argentina en el texto a continuación. Un regionalismo es una expresión de carácter usualmente coloquial usada en alguna variedad dialectal del español. No consideramos nombres propios (personas, lugares, etc) como tales. La expresión regional puede estar en el contexto (titular de noticia) o en el comentario. Razonar paso a paso antes de dar la respuesta.\\n###\\ncontexto: ¿More Rial cuestionó las habilidades de su ex en la cama?Luego de su separación con Facundo Ambrosioni, la mediática hizo una fuerte referencia a su vida sexual\\nrespuesta: La expresión \"acumulando mas leche\" es de carácter regional, y se refiere a la acumulación de deseos sexuales. La respuesta final es sí.\\n###\\ncontexto: Enrique Pinti no descarta una nueva postulación de Macri: “En este país siempre hay una chance para cualquiera que nos vuelva a cagar”\\nrespuesta: La expresión \"trolo\" es un término regional en Argentina usado para referirse a una...</td>\n",
       "      <td>La expresión \"Ya echaron al juez con juicio político\" no contiene expresiones regionales. La respuesta final es no.</td>\n",
       "    </tr>\n",
       "    <tr>\n",
       "      <th>342464</th>\n",
       "      <td>Coronavirus: Ginés Gonzalez García se comparó con China y Europa y aseguró que \"hoy se habla del modelo argentino\"</td>\n",
       "      <td>@usuario @usuario por favor los compañeros taxistas se están muriendo de hambre.Te ruego AYUDA.Están la gran mayoría en categoría C, D y E. No trabajan no entra plata no hay para comprar comida ni para darle de comer a los hijos.Estamos todos desesperados. Y son los q mas aportan al País</td>\n",
       "      <td>Coronavirus: Ginés Gonzalez García se comparó con China y Europa y aseguró que \"hoy se habla del modelo argentino\" https://t.co/jQUyxLSN5X</td>\n",
       "      <td>Explicar si existe un término o expresión regional del español de Argentina en el texto a continuación. Un regionalismo es una expresión de carácter usualmente coloquial usada en alguna variedad dialectal del español. No consideramos nombres propios (personas, lugares, etc) como tales. La expresión regional puede estar en el contexto (titular de noticia) o en el comentario. Razonar paso a paso antes de dar la respuesta.\\n###\\ncontexto: ¿More Rial cuestionó las habilidades de su ex en la cama?Luego de su separación con Facundo Ambrosioni, la mediática hizo una fuerte referencia a su vida sexual\\nrespuesta: La expresión \"acumulando mas leche\" es de carácter regional, y se refiere a la acumulación de deseos sexuales. La respuesta final es sí.\\n###\\ncontexto: Enrique Pinti no descarta una nueva postulación de Macri: “En este país siempre hay una chance para cualquiera que nos vuelva a cagar”\\nrespuesta: La expresión \"trolo\" es un término regional en Argentina usado para referirse a una...</td>\n",
       "      <td>respuesta: La expresión \"los compañeros taxistas\" no es un regionalismo, ya que se refiere simplemente a los trabajadores del sector de taxis. La respuesta final es no.</td>\n",
       "    </tr>\n",
       "    <tr>\n",
       "      <th>399807</th>\n",
       "      <td>El sorprendente juramento de una egresada universitaria: tachó \"Patria\" y puso \"Matria\"</td>\n",
       "      <td>@usuario No es válido su juramento ! Vuelva el año que viene ! Así le contesto yo</td>\n",
       "      <td>La sorprendente jura de una egresada universitaria: tachó Patria y puso Matria https://t.co/NjgZVVQJ2y https://t.co/txZNslH8N1</td>\n",
       "      <td>Explicar si existe un término o expresión regional del español de Argentina en el texto a continuación. Un regionalismo es una expresión de carácter usualmente coloquial usada en alguna variedad dialectal del español. No consideramos nombres propios (personas, lugares, etc) como tales. La expresión regional puede estar en el contexto (titular de noticia) o en el comentario. Razonar paso a paso antes de dar la respuesta.\\n###\\ncontexto: ¿More Rial cuestionó las habilidades de su ex en la cama?Luego de su separación con Facundo Ambrosioni, la mediática hizo una fuerte referencia a su vida sexual\\nrespuesta: La expresión \"acumulando mas leche\" es de carácter regional, y se refiere a la acumulación de deseos sexuales. La respuesta final es sí.\\n###\\ncontexto: Enrique Pinti no descarta una nueva postulación de Macri: “En este país siempre hay una chance para cualquiera que nos vuelva a cagar”\\nrespuesta: La expresión \"trolo\" es un término regional en Argentina usado para referirse a una...</td>\n",
       "      <td>La expresión \"vuelva el año que viene\" no es un término regional del español de Argentina. La respuesta final es no.</td>\n",
       "    </tr>\n",
       "    <tr>\n",
       "      <th>343670</th>\n",
       "      <td>Coronavirus en la Argentina. Andrés Larroque criticó el banderazo por Vicentin: \"Se generó una bomba sanitaria\"</td>\n",
       "      <td>@usuario Esto es solo el comienzo👁</td>\n",
       "      <td>Coronavirus en la Argentina. Andrés Larroque criticó el banderazo por Vicentin: \"Se generó una bomba sanitaria\" https://t.co/msvsjyiM5j https://t.co/67gONlqvbY</td>\n",
       "      <td>Explicar si existe un término o expresión regional del español de Argentina en el texto a continuación. Un regionalismo es una expresión de carácter usualmente coloquial usada en alguna variedad dialectal del español. No consideramos nombres propios (personas, lugares, etc) como tales. La expresión regional puede estar en el contexto (titular de noticia) o en el comentario. Razonar paso a paso antes de dar la respuesta.\\n###\\ncontexto: ¿More Rial cuestionó las habilidades de su ex en la cama?Luego de su separación con Facundo Ambrosioni, la mediática hizo una fuerte referencia a su vida sexual\\nrespuesta: La expresión \"acumulando mas leche\" es de carácter regional, y se refiere a la acumulación de deseos sexuales. La respuesta final es sí.\\n###\\ncontexto: Enrique Pinti no descarta una nueva postulación de Macri: “En este país siempre hay una chance para cualquiera que nos vuelva a cagar”\\nrespuesta: La expresión \"trolo\" es un término regional en Argentina usado para referirse a una...</td>\n",
       "      <td>respuesta: El emoji 👁 no es una expresión regional del español de Argentina, sino un símbolo visual. La respuesta final es no.</td>\n",
       "    </tr>\n",
       "    <tr>\n",
       "      <th>389700</th>\n",
       "      <td>Pablo Moyano amenazó con un paro en la Ciudad de Buenos Aires si hay recortes en la recolección de basura</td>\n",
       "      <td>@usuario Grone de mi</td>\n",
       "      <td>Pablo Moyano amenazó con un paro en la Ciudad de Buenos Aires si hay recortes en la recolección de basura https://t.co/GnCtWaTCVn</td>\n",
       "      <td>Explicar si existe un término o expresión regional del español de Argentina en el texto a continuación. Un regionalismo es una expresión de carácter usualmente coloquial usada en alguna variedad dialectal del español. No consideramos nombres propios (personas, lugares, etc) como tales. La expresión regional puede estar en el contexto (titular de noticia) o en el comentario. Razonar paso a paso antes de dar la respuesta.\\n###\\ncontexto: ¿More Rial cuestionó las habilidades de su ex en la cama?Luego de su separación con Facundo Ambrosioni, la mediática hizo una fuerte referencia a su vida sexual\\nrespuesta: La expresión \"acumulando mas leche\" es de carácter regional, y se refiere a la acumulación de deseos sexuales. La respuesta final es sí.\\n###\\ncontexto: Enrique Pinti no descarta una nueva postulación de Macri: “En este país siempre hay una chance para cualquiera que nos vuelva a cagar”\\nrespuesta: La expresión \"trolo\" es un término regional en Argentina usado para referirse a una...</td>\n",
       "      <td>respuesta: No se identifica ninguna expresión regional en el comentario. La respuesta final es no.</td>\n",
       "    </tr>\n",
       "    <tr>\n",
       "      <th>354758</th>\n",
       "      <td>China alertó sobre brote de peste bubónica pero la OMS no lo considera de \"alto riesgo\"</td>\n",
       "      <td>@usuario Basuras del mundo</td>\n",
       "      <td>China alertó sobre brote de peste bubónica pero la OMS no lo considera de \"alto riesgo\"\\nhttps://t.co/T2bps0Cm1l</td>\n",
       "      <td>Explicar si existe un término o expresión regional del español de Argentina en el texto a continuación. Un regionalismo es una expresión de carácter usualmente coloquial usada en alguna variedad dialectal del español. No consideramos nombres propios (personas, lugares, etc) como tales. La expresión regional puede estar en el contexto (titular de noticia) o en el comentario. Razonar paso a paso antes de dar la respuesta.\\n###\\ncontexto: ¿More Rial cuestionó las habilidades de su ex en la cama?Luego de su separación con Facundo Ambrosioni, la mediática hizo una fuerte referencia a su vida sexual\\nrespuesta: La expresión \"acumulando mas leche\" es de carácter regional, y se refiere a la acumulación de deseos sexuales. La respuesta final es sí.\\n###\\ncontexto: Enrique Pinti no descarta una nueva postulación de Macri: “En este país siempre hay una chance para cualquiera que nos vuelva a cagar”\\nrespuesta: La expresión \"trolo\" es un término regional en Argentina usado para referirse a una...</td>\n",
       "      <td>La expresión \"Basuras del mundo\" no es un regionalismo del español de Argentina. La respuesta final es no.</td>\n",
       "    </tr>\n",
       "    <tr>\n",
       "      <th>347461</th>\n",
       "      <td>Macabro hallazgo en China: 4.000 perros, gatos y otros animales muertos dentro de cajas en un depósito</td>\n",
       "      <td>@usuario Y nosotros vamos a traer su criadero de cerdos!🤬</td>\n",
       "      <td>Macabro hallazgo en China: 4.000 perros, gatos y otros animales muertos dentro de cajas en un depósito https://t.co/rUeDlGGdhj</td>\n",
       "      <td>Explicar si existe un término o expresión regional del español de Argentina en el texto a continuación. Un regionalismo es una expresión de carácter usualmente coloquial usada en alguna variedad dialectal del español. No consideramos nombres propios (personas, lugares, etc) como tales. La expresión regional puede estar en el contexto (titular de noticia) o en el comentario. Razonar paso a paso antes de dar la respuesta.\\n###\\ncontexto: ¿More Rial cuestionó las habilidades de su ex en la cama?Luego de su separación con Facundo Ambrosioni, la mediática hizo una fuerte referencia a su vida sexual\\nrespuesta: La expresión \"acumulando mas leche\" es de carácter regional, y se refiere a la acumulación de deseos sexuales. La respuesta final es sí.\\n###\\ncontexto: Enrique Pinti no descarta una nueva postulación de Macri: “En este país siempre hay una chance para cualquiera que nos vuelva a cagar”\\nrespuesta: La expresión \"trolo\" es un término regional en Argentina usado para referirse a una...</td>\n",
       "      <td>La expresión \"criadero de cerdos\" no es un término regional del español de Argentina, sino más bien una expresión común en el lenguaje general. Por lo tanto, la respuesta final es no.</td>\n",
       "    </tr>\n",
       "    <tr>\n",
       "      <th>392004</th>\n",
       "      <td>Coronavirus: Ginés González García reveló cuál fue la palabra que detonó el acuerdo con Pfizer</td>\n",
       "      <td>@usuario \"tarasca\"?</td>\n",
       "      <td>Coronavirus: Ginés reveló cuál fue la palabra que detonó el acuerdo con Pfizer https://t.co/lIi4Z3eWlE https://t.co/zgd8MCCrui</td>\n",
       "      <td>Explicar si existe un término o expresión regional del español de Argentina en el texto a continuación. Un regionalismo es una expresión de carácter usualmente coloquial usada en alguna variedad dialectal del español. No consideramos nombres propios (personas, lugares, etc) como tales. La expresión regional puede estar en el contexto (titular de noticia) o en el comentario. Razonar paso a paso antes de dar la respuesta.\\n###\\ncontexto: ¿More Rial cuestionó las habilidades de su ex en la cama?Luego de su separación con Facundo Ambrosioni, la mediática hizo una fuerte referencia a su vida sexual\\nrespuesta: La expresión \"acumulando mas leche\" es de carácter regional, y se refiere a la acumulación de deseos sexuales. La respuesta final es sí.\\n###\\ncontexto: Enrique Pinti no descarta una nueva postulación de Macri: “En este país siempre hay una chance para cualquiera que nos vuelva a cagar”\\nrespuesta: La expresión \"trolo\" es un término regional en Argentina usado para referirse a una...</td>\n",
       "      <td>La expresión \"tarasca\" no es un término regional del español de Argentina. La respuesta final es no.</td>\n",
       "    </tr>\n",
       "    <tr>\n",
       "      <th>353781</th>\n",
       "      <td>Un hombre se incrustó con su auto en la puerta de la Embajada de China y aseguró que tenía explosivos</td>\n",
       "      <td>@usuario Están sacados los macristas</td>\n",
       "      <td>URGENTE: Un hombre se incrustó con su auto en la puerta de la Embajada de China y aseguró que tenía explosivos https://t.co/fJ0f30qwAq</td>\n",
       "      <td>Explicar si existe un término o expresión regional del español de Argentina en el texto a continuación. Un regionalismo es una expresión de carácter usualmente coloquial usada en alguna variedad dialectal del español. No consideramos nombres propios (personas, lugares, etc) como tales. La expresión regional puede estar en el contexto (titular de noticia) o en el comentario. Razonar paso a paso antes de dar la respuesta.\\n###\\ncontexto: ¿More Rial cuestionó las habilidades de su ex en la cama?Luego de su separación con Facundo Ambrosioni, la mediática hizo una fuerte referencia a su vida sexual\\nrespuesta: La expresión \"acumulando mas leche\" es de carácter regional, y se refiere a la acumulación de deseos sexuales. La respuesta final es sí.\\n###\\ncontexto: Enrique Pinti no descarta una nueva postulación de Macri: “En este país siempre hay una chance para cualquiera que nos vuelva a cagar”\\nrespuesta: La expresión \"trolo\" es un término regional en Argentina usado para referirse a una...</td>\n",
       "      <td>La expresión \"están sacados\" es un término regional en Argentina que se refiere a que los seguidores del expresidente Macri están enojados o alterados. La respuesta final es sí.</td>\n",
       "    </tr>\n",
       "  </tbody>\n",
       "</table>\n",
       "</div>"
      ],
      "text/plain": [
       "                                                                                                                     title  \\\n",
       "id                                                                                                                           \n",
       "349719                  Graciana Peñafort: \"La marcha me dio mucha pena y tuvo un nivel de convocatoria menor al esperado\"   \n",
       "336555   Detuvieron a otro delincuente recientemente liberado por la excusa del coronavirus: volvió a golpear a su familia   \n",
       "342464  Coronavirus: Ginés Gonzalez García se comparó con China y Europa y aseguró que \"hoy se habla del modelo argentino\"   \n",
       "399807                             El sorprendente juramento de una egresada universitaria: tachó \"Patria\" y puso \"Matria\"   \n",
       "343670     Coronavirus en la Argentina. Andrés Larroque criticó el banderazo por Vicentin: \"Se generó una bomba sanitaria\"   \n",
       "389700           Pablo Moyano amenazó con un paro en la Ciudad de Buenos Aires si hay recortes en la recolección de basura   \n",
       "354758                             China alertó sobre brote de peste bubónica pero la OMS no lo considera de \"alto riesgo\"   \n",
       "347461              Macabro hallazgo en China: 4.000 perros, gatos y otros animales muertos dentro de cajas en un depósito   \n",
       "392004                      Coronavirus: Ginés González García reveló cuál fue la palabra que detonó el acuerdo con Pfizer   \n",
       "353781               Un hombre se incrustó con su auto en la puerta de la Embajada de China y aseguró que tenía explosivos   \n",
       "\n",
       "                                                                                                                                                                                                                                                                                                    text  \\\n",
       "id                                                                                                                                                                                                                                                                                                         \n",
       "349719                                                                                                                                                                                                                                                                                      @usuario 🤣🤣🤣   \n",
       "336555                                                                                                                                                                                                                                                 @usuario ¿Ya echaron al juez con juicio político?   \n",
       "342464  @usuario @usuario por favor los compañeros taxistas se están muriendo de hambre.Te ruego AYUDA.Están la gran mayoría en categoría C, D y E. No trabajan no entra plata no hay para comprar comida ni para darle de comer a los hijos.Estamos todos desesperados. Y son los q mas aportan al País   \n",
       "399807                                                                                                                                                                                                                 @usuario No es válido su juramento ! Vuelva el año que viene ! Así le contesto yo   \n",
       "343670                                                                                                                                                                                                                                                                @usuario Esto es solo el comienzo👁   \n",
       "389700                                                                                                                                                                                                                                                                              @usuario Grone de mi   \n",
       "354758                                                                                                                                                                                                                                                                        @usuario Basuras del mundo   \n",
       "347461                                                                                                                                                                                                                                         @usuario Y nosotros vamos a traer su criadero de cerdos!🤬   \n",
       "392004                                                                                                                                                                                                                                                                               @usuario \"tarasca\"?   \n",
       "353781                                                                                                                                                                                                                                                              @usuario Están sacados los macristas   \n",
       "\n",
       "                                                                                                                                                          context_tweet  \\\n",
       "id                                                                                                                                                                        \n",
       "349719                                       Graciana Peñafort: “La marcha me dio mucha pena y tuvo un nivel de convocatoria menor al esperado” https://t.co/sPiBqGmFIg   \n",
       "336555                          Detuvieron a un delincuente recientemente liberado por la excusa del coronavirus: volvió a golpear a su familia https://t.co/kRHjqDIljH   \n",
       "342464                       Coronavirus: Ginés Gonzalez García se comparó con China y Europa y aseguró que \"hoy se habla del modelo argentino\" https://t.co/jQUyxLSN5X   \n",
       "399807                                   La sorprendente jura de una egresada universitaria: tachó Patria y puso Matria https://t.co/NjgZVVQJ2y https://t.co/txZNslH8N1   \n",
       "343670  Coronavirus en la Argentina. Andrés Larroque criticó el banderazo por Vicentin: \"Se generó una bomba sanitaria\" https://t.co/msvsjyiM5j https://t.co/67gONlqvbY   \n",
       "389700                                Pablo Moyano amenazó con un paro en la Ciudad de Buenos Aires si hay recortes en la recolección de basura https://t.co/GnCtWaTCVn   \n",
       "354758                                                 China alertó sobre brote de peste bubónica pero la OMS no lo considera de \"alto riesgo\"\\nhttps://t.co/T2bps0Cm1l   \n",
       "347461                                   Macabro hallazgo en China: 4.000 perros, gatos y otros animales muertos dentro de cajas en un depósito https://t.co/rUeDlGGdhj   \n",
       "392004                                   Coronavirus: Ginés reveló cuál fue la palabra que detonó el acuerdo con Pfizer https://t.co/lIi4Z3eWlE https://t.co/zgd8MCCrui   \n",
       "353781                           URGENTE: Un hombre se incrustó con su auto en la puerta de la Embajada de China y aseguró que tenía explosivos https://t.co/fJ0f30qwAq   \n",
       "\n",
       "                                                                                                                                                                                                                                                                                                                                                                                                                                                                                                                                                                                                                                                                                                                                                                                                                                                                                                                                                                                                                                         prompt  \\\n",
       "id                                                                                                                                                                                                                                                                                                                                                                                                                                                                                                                                                                                                                                                                                                                                                                                                                                                                                                                                                                                                                                                \n",
       "349719  Explicar si existe un término o expresión regional del español de Argentina en el texto a continuación. Un regionalismo es una expresión de carácter usualmente coloquial usada en alguna variedad dialectal del español. No consideramos nombres propios (personas, lugares, etc) como tales. La expresión regional puede estar en el contexto (titular de noticia) o en el comentario. Razonar paso a paso antes de dar la respuesta.\\n###\\ncontexto: ¿More Rial cuestionó las habilidades de su ex en la cama?Luego de su separación con Facundo Ambrosioni, la mediática hizo una fuerte referencia a su vida sexual\\nrespuesta: La expresión \"acumulando mas leche\" es de carácter regional, y se refiere a la acumulación de deseos sexuales. La respuesta final es sí.\\n###\\ncontexto: Enrique Pinti no descarta una nueva postulación de Macri: “En este país siempre hay una chance para cualquiera que nos vuelva a cagar”\\nrespuesta: La expresión \"trolo\" es un término regional en Argentina usado para referirse a una...   \n",
       "336555  Explicar si existe un término o expresión regional del español de Argentina en el texto a continuación. Un regionalismo es una expresión de carácter usualmente coloquial usada en alguna variedad dialectal del español. No consideramos nombres propios (personas, lugares, etc) como tales. La expresión regional puede estar en el contexto (titular de noticia) o en el comentario. Razonar paso a paso antes de dar la respuesta.\\n###\\ncontexto: ¿More Rial cuestionó las habilidades de su ex en la cama?Luego de su separación con Facundo Ambrosioni, la mediática hizo una fuerte referencia a su vida sexual\\nrespuesta: La expresión \"acumulando mas leche\" es de carácter regional, y se refiere a la acumulación de deseos sexuales. La respuesta final es sí.\\n###\\ncontexto: Enrique Pinti no descarta una nueva postulación de Macri: “En este país siempre hay una chance para cualquiera que nos vuelva a cagar”\\nrespuesta: La expresión \"trolo\" es un término regional en Argentina usado para referirse a una...   \n",
       "342464  Explicar si existe un término o expresión regional del español de Argentina en el texto a continuación. Un regionalismo es una expresión de carácter usualmente coloquial usada en alguna variedad dialectal del español. No consideramos nombres propios (personas, lugares, etc) como tales. La expresión regional puede estar en el contexto (titular de noticia) o en el comentario. Razonar paso a paso antes de dar la respuesta.\\n###\\ncontexto: ¿More Rial cuestionó las habilidades de su ex en la cama?Luego de su separación con Facundo Ambrosioni, la mediática hizo una fuerte referencia a su vida sexual\\nrespuesta: La expresión \"acumulando mas leche\" es de carácter regional, y se refiere a la acumulación de deseos sexuales. La respuesta final es sí.\\n###\\ncontexto: Enrique Pinti no descarta una nueva postulación de Macri: “En este país siempre hay una chance para cualquiera que nos vuelva a cagar”\\nrespuesta: La expresión \"trolo\" es un término regional en Argentina usado para referirse a una...   \n",
       "399807  Explicar si existe un término o expresión regional del español de Argentina en el texto a continuación. Un regionalismo es una expresión de carácter usualmente coloquial usada en alguna variedad dialectal del español. No consideramos nombres propios (personas, lugares, etc) como tales. La expresión regional puede estar en el contexto (titular de noticia) o en el comentario. Razonar paso a paso antes de dar la respuesta.\\n###\\ncontexto: ¿More Rial cuestionó las habilidades de su ex en la cama?Luego de su separación con Facundo Ambrosioni, la mediática hizo una fuerte referencia a su vida sexual\\nrespuesta: La expresión \"acumulando mas leche\" es de carácter regional, y se refiere a la acumulación de deseos sexuales. La respuesta final es sí.\\n###\\ncontexto: Enrique Pinti no descarta una nueva postulación de Macri: “En este país siempre hay una chance para cualquiera que nos vuelva a cagar”\\nrespuesta: La expresión \"trolo\" es un término regional en Argentina usado para referirse a una...   \n",
       "343670  Explicar si existe un término o expresión regional del español de Argentina en el texto a continuación. Un regionalismo es una expresión de carácter usualmente coloquial usada en alguna variedad dialectal del español. No consideramos nombres propios (personas, lugares, etc) como tales. La expresión regional puede estar en el contexto (titular de noticia) o en el comentario. Razonar paso a paso antes de dar la respuesta.\\n###\\ncontexto: ¿More Rial cuestionó las habilidades de su ex en la cama?Luego de su separación con Facundo Ambrosioni, la mediática hizo una fuerte referencia a su vida sexual\\nrespuesta: La expresión \"acumulando mas leche\" es de carácter regional, y se refiere a la acumulación de deseos sexuales. La respuesta final es sí.\\n###\\ncontexto: Enrique Pinti no descarta una nueva postulación de Macri: “En este país siempre hay una chance para cualquiera que nos vuelva a cagar”\\nrespuesta: La expresión \"trolo\" es un término regional en Argentina usado para referirse a una...   \n",
       "389700  Explicar si existe un término o expresión regional del español de Argentina en el texto a continuación. Un regionalismo es una expresión de carácter usualmente coloquial usada en alguna variedad dialectal del español. No consideramos nombres propios (personas, lugares, etc) como tales. La expresión regional puede estar en el contexto (titular de noticia) o en el comentario. Razonar paso a paso antes de dar la respuesta.\\n###\\ncontexto: ¿More Rial cuestionó las habilidades de su ex en la cama?Luego de su separación con Facundo Ambrosioni, la mediática hizo una fuerte referencia a su vida sexual\\nrespuesta: La expresión \"acumulando mas leche\" es de carácter regional, y se refiere a la acumulación de deseos sexuales. La respuesta final es sí.\\n###\\ncontexto: Enrique Pinti no descarta una nueva postulación de Macri: “En este país siempre hay una chance para cualquiera que nos vuelva a cagar”\\nrespuesta: La expresión \"trolo\" es un término regional en Argentina usado para referirse a una...   \n",
       "354758  Explicar si existe un término o expresión regional del español de Argentina en el texto a continuación. Un regionalismo es una expresión de carácter usualmente coloquial usada en alguna variedad dialectal del español. No consideramos nombres propios (personas, lugares, etc) como tales. La expresión regional puede estar en el contexto (titular de noticia) o en el comentario. Razonar paso a paso antes de dar la respuesta.\\n###\\ncontexto: ¿More Rial cuestionó las habilidades de su ex en la cama?Luego de su separación con Facundo Ambrosioni, la mediática hizo una fuerte referencia a su vida sexual\\nrespuesta: La expresión \"acumulando mas leche\" es de carácter regional, y se refiere a la acumulación de deseos sexuales. La respuesta final es sí.\\n###\\ncontexto: Enrique Pinti no descarta una nueva postulación de Macri: “En este país siempre hay una chance para cualquiera que nos vuelva a cagar”\\nrespuesta: La expresión \"trolo\" es un término regional en Argentina usado para referirse a una...   \n",
       "347461  Explicar si existe un término o expresión regional del español de Argentina en el texto a continuación. Un regionalismo es una expresión de carácter usualmente coloquial usada en alguna variedad dialectal del español. No consideramos nombres propios (personas, lugares, etc) como tales. La expresión regional puede estar en el contexto (titular de noticia) o en el comentario. Razonar paso a paso antes de dar la respuesta.\\n###\\ncontexto: ¿More Rial cuestionó las habilidades de su ex en la cama?Luego de su separación con Facundo Ambrosioni, la mediática hizo una fuerte referencia a su vida sexual\\nrespuesta: La expresión \"acumulando mas leche\" es de carácter regional, y se refiere a la acumulación de deseos sexuales. La respuesta final es sí.\\n###\\ncontexto: Enrique Pinti no descarta una nueva postulación de Macri: “En este país siempre hay una chance para cualquiera que nos vuelva a cagar”\\nrespuesta: La expresión \"trolo\" es un término regional en Argentina usado para referirse a una...   \n",
       "392004  Explicar si existe un término o expresión regional del español de Argentina en el texto a continuación. Un regionalismo es una expresión de carácter usualmente coloquial usada en alguna variedad dialectal del español. No consideramos nombres propios (personas, lugares, etc) como tales. La expresión regional puede estar en el contexto (titular de noticia) o en el comentario. Razonar paso a paso antes de dar la respuesta.\\n###\\ncontexto: ¿More Rial cuestionó las habilidades de su ex en la cama?Luego de su separación con Facundo Ambrosioni, la mediática hizo una fuerte referencia a su vida sexual\\nrespuesta: La expresión \"acumulando mas leche\" es de carácter regional, y se refiere a la acumulación de deseos sexuales. La respuesta final es sí.\\n###\\ncontexto: Enrique Pinti no descarta una nueva postulación de Macri: “En este país siempre hay una chance para cualquiera que nos vuelva a cagar”\\nrespuesta: La expresión \"trolo\" es un término regional en Argentina usado para referirse a una...   \n",
       "353781  Explicar si existe un término o expresión regional del español de Argentina en el texto a continuación. Un regionalismo es una expresión de carácter usualmente coloquial usada en alguna variedad dialectal del español. No consideramos nombres propios (personas, lugares, etc) como tales. La expresión regional puede estar en el contexto (titular de noticia) o en el comentario. Razonar paso a paso antes de dar la respuesta.\\n###\\ncontexto: ¿More Rial cuestionó las habilidades de su ex en la cama?Luego de su separación con Facundo Ambrosioni, la mediática hizo una fuerte referencia a su vida sexual\\nrespuesta: La expresión \"acumulando mas leche\" es de carácter regional, y se refiere a la acumulación de deseos sexuales. La respuesta final es sí.\\n###\\ncontexto: Enrique Pinti no descarta una nueva postulación de Macri: “En este país siempre hay una chance para cualquiera que nos vuelva a cagar”\\nrespuesta: La expresión \"trolo\" es un término regional en Argentina usado para referirse a una...   \n",
       "\n",
       "                                                                                                                                                                                       pred_cot  \n",
       "id                                                                                                                                                                                               \n",
       "349719                                                                 La expresión \"🤣🤣🤣\" es un emoji que no constituye un término regional del español de Argentina. La respuesta final es no.  \n",
       "336555                                                                      La expresión \"Ya echaron al juez con juicio político\" no contiene expresiones regionales. La respuesta final es no.  \n",
       "342464                 respuesta: La expresión \"los compañeros taxistas\" no es un regionalismo, ya que se refiere simplemente a los trabajadores del sector de taxis. La respuesta final es no.  \n",
       "399807                                                                     La expresión \"vuelva el año que viene\" no es un término regional del español de Argentina. La respuesta final es no.  \n",
       "343670                                                           respuesta: El emoji 👁 no es una expresión regional del español de Argentina, sino un símbolo visual. La respuesta final es no.  \n",
       "389700                                                                                       respuesta: No se identifica ninguna expresión regional en el comentario. La respuesta final es no.  \n",
       "354758                                                                               La expresión \"Basuras del mundo\" no es un regionalismo del español de Argentina. La respuesta final es no.  \n",
       "347461  La expresión \"criadero de cerdos\" no es un término regional del español de Argentina, sino más bien una expresión común en el lenguaje general. Por lo tanto, la respuesta final es no.  \n",
       "392004                                                                                     La expresión \"tarasca\" no es un término regional del español de Argentina. La respuesta final es no.  \n",
       "353781        La expresión \"están sacados\" es un término regional en Argentina que se refiere a que los seguidores del expresidente Macri están enojados o alterados. La respuesta final es sí.  "
      ]
     },
     "execution_count": 10,
     "metadata": {},
     "output_type": "execute_result"
    }
   ],
   "source": [
    "%load_ext autoreload\n",
    "%autoreload 2\n",
    "from glob import glob\n",
    "import pandas as pd\n",
    "\n",
    "regionalism_csv = []\n",
    "for csv_path in glob(\"../data/regionalisms/test_*.csv\"):\n",
    "    regionalism_csv.append(pd.read_csv(csv_path, index_col=0))\n",
    "\n",
    "df_regionalism = pd.concat(regionalism_csv)\n",
    "\n",
    "# Drop columns except title, text, context_tweet, prompt, pred_cot\n",
    "df_regionalism = df_regionalism[[\"title\", \"text\", \"context_tweet\", \"prompt\", \"pred_cot\"]].copy()\n",
    "\n",
    "df_regionalism.sample(10)"
   ]
  },
  {
   "cell_type": "code",
   "execution_count": 19,
   "metadata": {},
   "outputs": [
    {
     "name": "stderr",
     "output_type": "stream",
     "text": [
      "100%|██████████| 5670/5670 [15:16<00:00,  6.18it/s]\n"
     ]
    }
   ],
   "source": [
    "from rioplatense_hs.preprocessing import remove_accents\n",
    "from rioplatense_hs.regionalisms import find_slangs\n",
    "import re\n",
    "from tqdm import tqdm\n",
    "\n",
    "# Regex para buscar todas las palabras entre comillas\n",
    "\n",
    "def find_between_quotes(text):\n",
    "    return re.findall(r'\"([^\"]*)\"', text)\n",
    "\n",
    "\n",
    "def get_regionalisms(row):\n",
    "    text = remove_accents(row[\"pred_cot\"].lower())\n",
    "\n",
    "    # Si dice \"la respuesta final es si\", buscar todas las ocurrencias entre comillas\n",
    "    if \"respuesta final es si\" in text:\n",
    "        return find_between_quotes(text)\n",
    "    else:\n",
    "        return []\n",
    "\n",
    "tqdm.pandas()\n",
    "\n",
    "df_regionalism[\"gpt_regionalisms\"] = df_regionalism.apply(get_regionalisms, axis=1)\n",
    "df_regionalism[\"dict_regionalisms\"] = df_regionalism.progress_apply(lambda x: find_slangs(x[\"text\"]), axis=1)"
   ]
  },
  {
   "cell_type": "code",
   "execution_count": 23,
   "metadata": {},
   "outputs": [],
   "source": [
    "del df_regionalism[\"prompt\"]"
   ]
  },
  {
   "cell_type": "code",
   "execution_count": 24,
   "metadata": {},
   "outputs": [],
   "source": [
    "df_regionalism.to_csv(\"../data/regionalisms/df_regionalism.csv\")"
   ]
  },
  {
   "cell_type": "markdown",
   "metadata": {},
   "source": [
    "¿Cuántos marcó diccionario y cuantos gpt?"
   ]
  },
  {
   "cell_type": "code",
   "execution_count": 28,
   "metadata": {},
   "outputs": [
    {
     "data": {
      "text/plain": [
       "gpt_regionalisms\n",
       "False    3058\n",
       "True     2612\n",
       "Name: count, dtype: int64"
      ]
     },
     "execution_count": 28,
     "metadata": {},
     "output_type": "execute_result"
    }
   ],
   "source": [
    "(df_regionalism[\"gpt_regionalisms\"].apply(len) > 0).value_counts()"
   ]
  },
  {
   "cell_type": "code",
   "execution_count": 29,
   "metadata": {},
   "outputs": [
    {
     "data": {
      "text/plain": [
       "dict_regionalisms\n",
       "False    3375\n",
       "True     2295\n",
       "Name: count, dtype: int64"
      ]
     },
     "execution_count": 29,
     "metadata": {},
     "output_type": "execute_result"
    }
   ],
   "source": [
    "(df_regionalism[\"dict_regionalisms\"].apply(len) > 0).value_counts()"
   ]
  },
  {
   "cell_type": "code",
   "execution_count": 30,
   "metadata": {},
   "outputs": [
    {
     "data": {
      "text/plain": [
       "has_regionalisms\n",
       "True     3412\n",
       "False    2258\n",
       "Name: count, dtype: int64"
      ]
     },
     "execution_count": 30,
     "metadata": {},
     "output_type": "execute_result"
    }
   ],
   "source": [
    "df_regionalism[\"has_regionalisms\"] = (df_regionalism[\"gpt_regionalisms\"].apply(len) > 0) | (df_regionalism[\"dict_regionalisms\"].apply(len) > 0)\n",
    "\n",
    "df_regionalism[\"has_regionalisms\"].value_counts()\n"
   ]
  },
  {
   "cell_type": "code",
   "execution_count": 31,
   "metadata": {},
   "outputs": [],
   "source": [
    "df_regionalism[df_regionalism[\"has_regionalisms\"]].to_csv(\"../data/regionalisms/check_regionalisms.csv\")"
   ]
  },
  {
   "cell_type": "markdown",
   "metadata": {},
   "source": [
    "### Resultados ya anotados"
   ]
  },
  {
   "cell_type": "code",
   "execution_count": 84,
   "metadata": {},
   "outputs": [
    {
     "name": "stdout",
     "output_type": "stream",
     "text": [
      "The autoreload extension is already loaded. To reload it, use:\n",
      "  %reload_ext autoreload\n"
     ]
    }
   ],
   "source": [
    "%load_ext autoreload\n",
    "%autoreload 2\n",
    "import pandas as pd\n",
    "\n",
    "df_regionalism = pd.read_csv(\"../data/regionalisms/check_regionalisms_annotated.csv\", index_col=0)\n",
    "\n",
    "df_regionalism = df_regionalism.rename(columns={\"CHECK\": \"is_regional\"})"
   ]
  },
  {
   "cell_type": "markdown",
   "metadata": {},
   "source": [
    "Nos quedamos con los índices de los tweets que tengan slang.\n",
    "\n"
   ]
  },
  {
   "cell_type": "code",
   "execution_count": 85,
   "metadata": {},
   "outputs": [
    {
     "data": {
      "text/plain": [
       "1547"
      ]
     },
     "execution_count": 85,
     "metadata": {},
     "output_type": "execute_result"
    }
   ],
   "source": [
    "indices = df_regionalism[df_regionalism[\"is_regional\"] > 0].index\n",
    "\n",
    "len(indices)"
   ]
  },
  {
   "cell_type": "code",
   "execution_count": 87,
   "metadata": {},
   "outputs": [
    {
     "name": "stdout",
     "output_type": "stream",
     "text": [
      "The autoreload extension is already loaded. To reload it, use:\n",
      "  %reload_ext autoreload\n"
     ]
    }
   ],
   "source": [
    "\n",
    "%load_ext autoreload\n",
    "%autoreload 2\n",
    "from rioplatense_hs.openai import get_completion\n",
    "import pandas as pd\n",
    "from glob import glob\n",
    "pd.options.display.max_colwidth = 1000\n",
    "#df_train.loc[df_train[\"LGBTI\"] > 0, [\"title\", \"text\", \"text_label\"]].sample(20)\n",
    "\n",
    "files = {\n",
    "    #\"one-shot\": sorted(glob(\"../data/test*pred*1shot.csv\")),\n",
    "    \"gpt-3.5\": sorted(glob(\"../data/test*pred*12shot.csv\")),\n",
    "    \"beto\": sorted(glob(\"../data/test*beto.csv\")),\n",
    "    \"aya\": sorted(glob(\"../data/test*aya_.csv\")),\n",
    "    \"mixtral\": sorted(glob(\"../data/test*mixtral.csv\")),\n",
    "}\n",
    "\n",
    "assert len({len(value) for value in files.values()}) == 1\n",
    "\n",
    "dfs = {k: pd.concat([pd.read_csv(f, index_col=0) for f in v]) for k, v in files.items()}\n",
    "\n",
    "# Me quedo sólo con los que tienen regionalismos\n",
    "\n",
    "dfs_regional = {k: v[v.index.isin(indices)] for k, v in dfs.items()}\n"
   ]
  },
  {
   "cell_type": "code",
   "execution_count": 92,
   "metadata": {},
   "outputs": [
    {
     "data": {
      "text/plain": [
       "WOMEN        0.0231\n",
       "LGBTI        0.0155\n",
       "RACISM       0.0406\n",
       "CLASS        0.0134\n",
       "POLITICS     0.0254\n",
       "DISABLED     0.0116\n",
       "APPEARANCE   0.0333\n",
       "CRIMINAL     0.0326\n",
       "dtype: float64"
      ]
     },
     "execution_count": 92,
     "metadata": {},
     "output_type": "execute_result"
    }
   ],
   "source": [
    "dfs[\"beto\"][all_labels].mean()"
   ]
  },
  {
   "cell_type": "code",
   "execution_count": 93,
   "metadata": {},
   "outputs": [
    {
     "data": {
      "text/plain": [
       "WOMEN        0.0524\n",
       "LGBTI        0.0220\n",
       "RACISM       0.0491\n",
       "CLASS        0.0349\n",
       "POLITICS     0.0666\n",
       "DISABLED     0.0226\n",
       "APPEARANCE   0.0595\n",
       "CRIMINAL     0.0323\n",
       "dtype: float64"
      ]
     },
     "execution_count": 93,
     "metadata": {},
     "output_type": "execute_result"
    }
   ],
   "source": [
    "dfs_regional[\"beto\"][all_labels].mean()"
   ]
  },
  {
   "cell_type": "markdown",
   "metadata": {},
   "source": [
    "Chequear que tengan todas la misma long"
   ]
  },
  {
   "cell_type": "code",
   "execution_count": 25,
   "metadata": {},
   "outputs": [
    {
     "data": {
      "text/plain": [
       "{'gpt-3.5': 1547, 'beto': 1547, 'aya': 1547, 'mixtral': 1547}"
      ]
     },
     "execution_count": 25,
     "metadata": {},
     "output_type": "execute_result"
    }
   ],
   "source": [
    "{key: len(value) for key, value in dfs.items()}"
   ]
  },
  {
   "cell_type": "code",
   "execution_count": 27,
   "metadata": {},
   "outputs": [],
   "source": [
    "from rioplatense_hs.preprocessing import text_to_label, labels\n",
    "from sklearn.metrics import classification_report\n",
    "\n",
    "pred_labels = [f\"PRED_{label}\" for label in labels]\n",
    "score_labels = [f\"SCORE_{label}\" for label in labels]\n",
    "\n",
    "dfs[\"beto\"][score_labels] = dfs[\"beto\"][pred_labels]\n",
    "dfs[\"beto\"][pred_labels] = (dfs[\"beto\"][pred_labels] > 0.5).astype(int)"
   ]
  },
  {
   "cell_type": "code",
   "execution_count": 28,
   "metadata": {},
   "outputs": [],
   "source": [
    "from rioplatense_hs.preprocessing import labels as all_labels\n",
    "labels = [\"WOMEN\", \"LGBTI\", \"RACISM\", \"CLASS\"]\n",
    "\n",
    "model_order = [\"aya\", \"gpt-3.5\", \"mixtral\", \"beto\"]\n",
    "pred_labels = [f\"PRED_{label}\" for label in labels]\n",
    "\n",
    "all_pred_labels = [f\"PRED_{label}\" for label in all_labels]"
   ]
  },
  {
   "cell_type": "code",
   "execution_count": 36,
   "metadata": {},
   "outputs": [
    {
     "name": "stdout",
     "output_type": "stream",
     "text": [
      "gpt-3.5\n"
     ]
    },
    {
     "data": {
      "application/vnd.jupyter.widget-view+json": {
       "model_id": "7b72e46c9ef241ce8be1dbfb1570741f",
       "version_major": 2,
       "version_minor": 0
      },
      "text/plain": [
       "  0%|          | 0/4 [00:00<?, ?it/s]"
      ]
     },
     "metadata": {},
     "output_type": "display_data"
    },
    {
     "name": "stdout",
     "output_type": "stream",
     "text": [
      "beto\n"
     ]
    },
    {
     "data": {
      "application/vnd.jupyter.widget-view+json": {
       "model_id": "6b269c9ae7964200954ad2a4838f3dfe",
       "version_major": 2,
       "version_minor": 0
      },
      "text/plain": [
       "  0%|          | 0/4 [00:00<?, ?it/s]"
      ]
     },
     "metadata": {},
     "output_type": "display_data"
    },
    {
     "name": "stdout",
     "output_type": "stream",
     "text": [
      "aya\n"
     ]
    },
    {
     "data": {
      "application/vnd.jupyter.widget-view+json": {
       "model_id": "af028bc5acf44054958dc748dd84b1f9",
       "version_major": 2,
       "version_minor": 0
      },
      "text/plain": [
       "  0%|          | 0/4 [00:00<?, ?it/s]"
      ]
     },
     "metadata": {},
     "output_type": "display_data"
    },
    {
     "name": "stdout",
     "output_type": "stream",
     "text": [
      "mixtral\n"
     ]
    },
    {
     "data": {
      "application/vnd.jupyter.widget-view+json": {
       "model_id": "3c7f354c1ce54eb3a9d12ef9cdc27486",
       "version_major": 2,
       "version_minor": 0
      },
      "text/plain": [
       "  0%|          | 0/4 [00:00<?, ?it/s]"
      ]
     },
     "metadata": {},
     "output_type": "display_data"
    }
   ],
   "source": [
    "from tqdm.auto import tqdm\n",
    "from confidence_intervals import Bootstrap\n",
    "from sklearn.metrics import precision_score, recall_score, f1_score\n",
    "\n",
    "metrics = []\n",
    "\n",
    "for name, df in dfs.items():\n",
    "    print(name)\n",
    "    for label in tqdm(labels):\n",
    "\n",
    "        for metric in {\"precision\", \"recall\", \"f1\"}:\n",
    "            if metric == \"precision\":\n",
    "                score = precision_score\n",
    "            elif metric == \"recall\":\n",
    "                score = recall_score\n",
    "            elif metric == \"f1\":\n",
    "                score = f1_score\n",
    "\n",
    "\n",
    "            gold_labels = df[label].values\n",
    "            preds = df[f\"PRED_{label}\"].values\n",
    "\n",
    "            bst = Bootstrap(metric=score, num_bootstraps=150)\n",
    "\n",
    "            bst_scores = bst.run(preds, gold_labels)\n",
    "\n",
    "            for score in bst_scores:\n",
    "                metrics.append(\n",
    "                    {\n",
    "                        \"model\": name,\n",
    "                        \"label\": label,\n",
    "                        \"metric\": metric,\n",
    "                        \"score\": score,\n",
    "                    }\n",
    "                )\n"
   ]
  },
  {
   "cell_type": "code",
   "execution_count": 37,
   "metadata": {},
   "outputs": [
    {
     "data": {
      "text/html": [
       "<div>\n",
       "<style scoped>\n",
       "    .dataframe tbody tr th:only-of-type {\n",
       "        vertical-align: middle;\n",
       "    }\n",
       "\n",
       "    .dataframe tbody tr th {\n",
       "        vertical-align: top;\n",
       "    }\n",
       "\n",
       "    .dataframe thead th {\n",
       "        text-align: right;\n",
       "    }\n",
       "</style>\n",
       "<table border=\"1\" class=\"dataframe\">\n",
       "  <thead>\n",
       "    <tr style=\"text-align: right;\">\n",
       "      <th></th>\n",
       "      <th>model</th>\n",
       "      <th>label</th>\n",
       "      <th>metric</th>\n",
       "      <th>score</th>\n",
       "    </tr>\n",
       "  </thead>\n",
       "  <tbody>\n",
       "    <tr>\n",
       "      <th>0</th>\n",
       "      <td>gpt-3.5</td>\n",
       "      <td>WOMEN</td>\n",
       "      <td>f1</td>\n",
       "      <td>0.3768</td>\n",
       "    </tr>\n",
       "    <tr>\n",
       "      <th>1</th>\n",
       "      <td>gpt-3.5</td>\n",
       "      <td>WOMEN</td>\n",
       "      <td>f1</td>\n",
       "      <td>0.4568</td>\n",
       "    </tr>\n",
       "    <tr>\n",
       "      <th>2</th>\n",
       "      <td>gpt-3.5</td>\n",
       "      <td>WOMEN</td>\n",
       "      <td>f1</td>\n",
       "      <td>0.3671</td>\n",
       "    </tr>\n",
       "    <tr>\n",
       "      <th>3</th>\n",
       "      <td>gpt-3.5</td>\n",
       "      <td>WOMEN</td>\n",
       "      <td>f1</td>\n",
       "      <td>0.4342</td>\n",
       "    </tr>\n",
       "    <tr>\n",
       "      <th>4</th>\n",
       "      <td>gpt-3.5</td>\n",
       "      <td>WOMEN</td>\n",
       "      <td>f1</td>\n",
       "      <td>0.4258</td>\n",
       "    </tr>\n",
       "    <tr>\n",
       "      <th>...</th>\n",
       "      <td>...</td>\n",
       "      <td>...</td>\n",
       "      <td>...</td>\n",
       "      <td>...</td>\n",
       "    </tr>\n",
       "    <tr>\n",
       "      <th>7195</th>\n",
       "      <td>mixtral</td>\n",
       "      <td>CLASS</td>\n",
       "      <td>precision</td>\n",
       "      <td>0.2906</td>\n",
       "    </tr>\n",
       "    <tr>\n",
       "      <th>7196</th>\n",
       "      <td>mixtral</td>\n",
       "      <td>CLASS</td>\n",
       "      <td>precision</td>\n",
       "      <td>0.2791</td>\n",
       "    </tr>\n",
       "    <tr>\n",
       "      <th>7197</th>\n",
       "      <td>mixtral</td>\n",
       "      <td>CLASS</td>\n",
       "      <td>precision</td>\n",
       "      <td>0.2764</td>\n",
       "    </tr>\n",
       "    <tr>\n",
       "      <th>7198</th>\n",
       "      <td>mixtral</td>\n",
       "      <td>CLASS</td>\n",
       "      <td>precision</td>\n",
       "      <td>0.2130</td>\n",
       "    </tr>\n",
       "    <tr>\n",
       "      <th>7199</th>\n",
       "      <td>mixtral</td>\n",
       "      <td>CLASS</td>\n",
       "      <td>precision</td>\n",
       "      <td>0.2273</td>\n",
       "    </tr>\n",
       "  </tbody>\n",
       "</table>\n",
       "<p>7200 rows × 4 columns</p>\n",
       "</div>"
      ],
      "text/plain": [
       "        model  label     metric  score\n",
       "0     gpt-3.5  WOMEN         f1 0.3768\n",
       "1     gpt-3.5  WOMEN         f1 0.4568\n",
       "2     gpt-3.5  WOMEN         f1 0.3671\n",
       "3     gpt-3.5  WOMEN         f1 0.4342\n",
       "4     gpt-3.5  WOMEN         f1 0.4258\n",
       "...       ...    ...        ...    ...\n",
       "7195  mixtral  CLASS  precision 0.2906\n",
       "7196  mixtral  CLASS  precision 0.2791\n",
       "7197  mixtral  CLASS  precision 0.2764\n",
       "7198  mixtral  CLASS  precision 0.2130\n",
       "7199  mixtral  CLASS  precision 0.2273\n",
       "\n",
       "[7200 rows x 4 columns]"
      ]
     },
     "execution_count": 37,
     "metadata": {},
     "output_type": "execute_result"
    }
   ],
   "source": [
    "df_metrics = pd.DataFrame(metrics)\n",
    "\n",
    "df_metrics"
   ]
  },
  {
   "cell_type": "code",
   "execution_count": 38,
   "metadata": {},
   "outputs": [
    {
     "data": {
      "text/html": [
       "<div>\n",
       "<style scoped>\n",
       "    .dataframe tbody tr th:only-of-type {\n",
       "        vertical-align: middle;\n",
       "    }\n",
       "\n",
       "    .dataframe tbody tr th {\n",
       "        vertical-align: top;\n",
       "    }\n",
       "\n",
       "    .dataframe thead tr th {\n",
       "        text-align: left;\n",
       "    }\n",
       "\n",
       "    .dataframe thead tr:last-of-type th {\n",
       "        text-align: right;\n",
       "    }\n",
       "</style>\n",
       "<table border=\"1\" class=\"dataframe\">\n",
       "  <thead>\n",
       "    <tr>\n",
       "      <th></th>\n",
       "      <th></th>\n",
       "      <th></th>\n",
       "      <th colspan=\"2\" halign=\"left\">score</th>\n",
       "    </tr>\n",
       "    <tr>\n",
       "      <th></th>\n",
       "      <th></th>\n",
       "      <th></th>\n",
       "      <th>mean</th>\n",
       "      <th>std</th>\n",
       "    </tr>\n",
       "    <tr>\n",
       "      <th>model</th>\n",
       "      <th>label</th>\n",
       "      <th>metric</th>\n",
       "      <th></th>\n",
       "      <th></th>\n",
       "    </tr>\n",
       "  </thead>\n",
       "  <tbody>\n",
       "    <tr>\n",
       "      <th rowspan=\"4\" valign=\"top\">aya</th>\n",
       "      <th>CLASS</th>\n",
       "      <th>f1</th>\n",
       "      <td>0.2003</td>\n",
       "      <td>0.0310</td>\n",
       "    </tr>\n",
       "    <tr>\n",
       "      <th>LGBTI</th>\n",
       "      <th>f1</th>\n",
       "      <td>0.2533</td>\n",
       "      <td>0.0528</td>\n",
       "    </tr>\n",
       "    <tr>\n",
       "      <th>RACISM</th>\n",
       "      <th>f1</th>\n",
       "      <td>0.4593</td>\n",
       "      <td>0.0408</td>\n",
       "    </tr>\n",
       "    <tr>\n",
       "      <th>WOMEN</th>\n",
       "      <th>f1</th>\n",
       "      <td>0.2579</td>\n",
       "      <td>0.0338</td>\n",
       "    </tr>\n",
       "    <tr>\n",
       "      <th rowspan=\"4\" valign=\"top\">beto</th>\n",
       "      <th>CLASS</th>\n",
       "      <th>f1</th>\n",
       "      <td>0.6732</td>\n",
       "      <td>0.0619</td>\n",
       "    </tr>\n",
       "    <tr>\n",
       "      <th>LGBTI</th>\n",
       "      <th>f1</th>\n",
       "      <td>0.4722</td>\n",
       "      <td>0.0801</td>\n",
       "    </tr>\n",
       "    <tr>\n",
       "      <th>RACISM</th>\n",
       "      <th>f1</th>\n",
       "      <td>0.7012</td>\n",
       "      <td>0.0479</td>\n",
       "    </tr>\n",
       "    <tr>\n",
       "      <th>WOMEN</th>\n",
       "      <th>f1</th>\n",
       "      <td>0.5108</td>\n",
       "      <td>0.0552</td>\n",
       "    </tr>\n",
       "    <tr>\n",
       "      <th rowspan=\"4\" valign=\"top\">gpt-3.5</th>\n",
       "      <th>CLASS</th>\n",
       "      <th>f1</th>\n",
       "      <td>0.4739</td>\n",
       "      <td>0.0583</td>\n",
       "    </tr>\n",
       "    <tr>\n",
       "      <th>LGBTI</th>\n",
       "      <th>f1</th>\n",
       "      <td>0.4887</td>\n",
       "      <td>0.0755</td>\n",
       "    </tr>\n",
       "    <tr>\n",
       "      <th>RACISM</th>\n",
       "      <th>f1</th>\n",
       "      <td>0.6400</td>\n",
       "      <td>0.0428</td>\n",
       "    </tr>\n",
       "    <tr>\n",
       "      <th>WOMEN</th>\n",
       "      <th>f1</th>\n",
       "      <td>0.4086</td>\n",
       "      <td>0.0532</td>\n",
       "    </tr>\n",
       "    <tr>\n",
       "      <th rowspan=\"4\" valign=\"top\">mixtral</th>\n",
       "      <th>CLASS</th>\n",
       "      <th>f1</th>\n",
       "      <td>0.3602</td>\n",
       "      <td>0.0460</td>\n",
       "    </tr>\n",
       "    <tr>\n",
       "      <th>LGBTI</th>\n",
       "      <th>f1</th>\n",
       "      <td>0.4930</td>\n",
       "      <td>0.0619</td>\n",
       "    </tr>\n",
       "    <tr>\n",
       "      <th>RACISM</th>\n",
       "      <th>f1</th>\n",
       "      <td>0.6091</td>\n",
       "      <td>0.0400</td>\n",
       "    </tr>\n",
       "    <tr>\n",
       "      <th>WOMEN</th>\n",
       "      <th>f1</th>\n",
       "      <td>0.3682</td>\n",
       "      <td>0.0460</td>\n",
       "    </tr>\n",
       "  </tbody>\n",
       "</table>\n",
       "</div>"
      ],
      "text/plain": [
       "                       score       \n",
       "                        mean    std\n",
       "model   label  metric              \n",
       "aya     CLASS  f1     0.2003 0.0310\n",
       "        LGBTI  f1     0.2533 0.0528\n",
       "        RACISM f1     0.4593 0.0408\n",
       "        WOMEN  f1     0.2579 0.0338\n",
       "beto    CLASS  f1     0.6732 0.0619\n",
       "        LGBTI  f1     0.4722 0.0801\n",
       "        RACISM f1     0.7012 0.0479\n",
       "        WOMEN  f1     0.5108 0.0552\n",
       "gpt-3.5 CLASS  f1     0.4739 0.0583\n",
       "        LGBTI  f1     0.4887 0.0755\n",
       "        RACISM f1     0.6400 0.0428\n",
       "        WOMEN  f1     0.4086 0.0532\n",
       "mixtral CLASS  f1     0.3602 0.0460\n",
       "        LGBTI  f1     0.4930 0.0619\n",
       "        RACISM f1     0.6091 0.0400\n",
       "        WOMEN  f1     0.3682 0.0460"
      ]
     },
     "execution_count": 38,
     "metadata": {},
     "output_type": "execute_result"
    }
   ],
   "source": [
    "pd.options.display.float_format = \"{:.4f}\".format\n",
    "\n",
    "pd.options.display.max_rows = 100\n",
    "\n",
    "\n",
    "f1s = df_metrics[df_metrics[\"metric\"] == \"f1\"]\n",
    "\n",
    "\n",
    "f1s.groupby([\"model\", \"label\", \"metric\"]).agg([\"mean\", \"std\"])"
   ]
  },
  {
   "cell_type": "code",
   "execution_count": 62,
   "metadata": {},
   "outputs": [],
   "source": [
    "full_results = pd.read_csv(\"../results/full_results.csv\", index_col=0)\n",
    "\n",
    "\n",
    "diff = df_metrics.groupby([\"model\", \"label\", \"metric\"]).agg(\"mean\") - full_results.groupby([\"model\", \"label\", \"metric\"]).agg(\"mean\")\n",
    "\n",
    "diff = diff.reset_index()"
   ]
  },
  {
   "cell_type": "code",
   "execution_count": 63,
   "metadata": {},
   "outputs": [
    {
     "data": {
      "image/png": "[encoded data removed]",
      "text/plain": [
       "<Figure size 900x300 with 1 Axes>"
      ]
     },
     "metadata": {},
     "output_type": "display_data"
    }
   ],
   "source": [
    "import seaborn as sns\n",
    "import matplotlib.pyplot as plt\n",
    "\n",
    "\n",
    "# Create the barplot\n",
    "\n",
    "def plot_metric(df, metric, labels, legend=True):\n",
    "    plt.figure(figsize=(9, 3))\n",
    "\n",
    "    sub_df = df[(df[\"metric\"] == metric) & (df[\"label\"].isin(labels))]\n",
    "\n",
    "    sns.barplot(x='label', y='score', hue='model', data=sub_df, hue_order=model_order)\n",
    "\n",
    "\n",
    "    # Set the plot title and labels\n",
    "    plt.xlabel('')\n",
    "    plt.ylabel(metric.capitalize())\n",
    "\n",
    "    # Show the plot\n",
    "\n",
    "    # Remove xticks\n",
    "\n",
    "    #plt.xticks(ticks=[])\n",
    "    plt.xticks(rotation=90)\n",
    "    # Make legend smaller\n",
    "    if legend:\n",
    "        plt.legend(loc='upper right')#, bbox_to_anchor=(0.35, 1.03))\n",
    "\n",
    "\n",
    "metric = \"f1\"\n",
    "plot_metric(diff, metric, all_labels)\n",
    "#lt.savefig(f\"img/{metric}.png\", bbox_inches='tight', dpi=300)"
   ]
  },
  {
   "cell_type": "code",
   "execution_count": 64,
   "metadata": {},
   "outputs": [
    {
     "data": {
      "image/png": "[encoded data removed]",
      "text/plain": [
       "<Figure size 900x300 with 1 Axes>"
      ]
     },
     "metadata": {},
     "output_type": "display_data"
    }
   ],
   "source": [
    "plot_metric(diff, \"precision\", all_labels)"
   ]
  },
  {
   "cell_type": "code",
   "execution_count": 66,
   "metadata": {},
   "outputs": [
    {
     "data": {
      "image/png": "[encoded data removed]",
      "text/plain": [
       "<Figure size 900x300 with 1 Axes>"
      ]
     },
     "metadata": {},
     "output_type": "display_data"
    }
   ],
   "source": [
    "plot_metric(diff, \"recall\", all_labels)"
   ]
  },
  {
   "cell_type": "markdown",
   "metadata": {},
   "source": [
    "¿Qué pasa que mejora tanto todo en CLASE?"
   ]
  },
  {
   "cell_type": "code",
   "execution_count": 80,
   "metadata": {},
   "outputs": [
    {
     "data": {
      "text/plain": [
       "0.24628312863606983"
      ]
     },
     "execution_count": 80,
     "metadata": {},
     "output_type": "execute_result"
    }
   ],
   "source": [
    "df_beto = dfs[\"beto\"]\n",
    "\n",
    "df_beto[\"HATEFUL\"].mean()"
   ]
  },
  {
   "cell_type": "code",
   "execution_count": 83,
   "metadata": {},
   "outputs": [
    {
     "data": {
      "text/plain": [
       "WOMEN          81\n",
       "LGBTI          34\n",
       "RACISM         76\n",
       "CLASS          54\n",
       "POLITICS      103\n",
       "DISABLED       35\n",
       "APPEARANCE     92\n",
       "CRIMINAL       50\n",
       "dtype: int64"
      ]
     },
     "execution_count": 83,
     "metadata": {},
     "output_type": "execute_result"
    }
   ],
   "source": [
    "df_beto[all_labels].sum()"
   ]
  },
  {
   "cell_type": "markdown",
   "metadata": {},
   "source": [
    "Ok! Hay muchos más odio en este conjunto de datos (cerca de 1 sobre 4) vs 1 sobre 7 en el conjunto en general"
   ]
  },
  {
   "cell_type": "markdown",
   "metadata": {},
   "source": [
    "Ok, acá vemos lo siguiente:\n",
    "\n",
    "- En CLASE, los "
   ]
  },
  {
   "cell_type": "code",
   "execution_count": 39,
   "metadata": {},
   "outputs": [
    {
     "data": {
      "image/png": "[encoded data removed]",
      "text/plain": [
       "<Figure size 900x300 with 1 Axes>"
      ]
     },
     "metadata": {},
     "output_type": "display_data"
    }
   ],
   "source": [
    "import seaborn as sns\n",
    "import matplotlib.pyplot as plt\n",
    "\n",
    "\n",
    "# Create the barplot\n",
    "\n",
    "def plot_metric(metric, labels, legend=True):\n",
    "    plt.figure(figsize=(9, 3))\n",
    "\n",
    "    sub_df = df_metrics[(df_metrics[\"metric\"] == metric) & (df_metrics[\"label\"].isin(labels))]\n",
    "\n",
    "    sns.barplot(x='label', y='score', hue='model', data=sub_df, hue_order=model_order)\n",
    "\n",
    "\n",
    "    # Set the plot title and labels\n",
    "    plt.xlabel('')\n",
    "    plt.ylabel(metric.capitalize())\n",
    "\n",
    "    # Show the plot\n",
    "\n",
    "    # Remove xticks\n",
    "\n",
    "    #plt.xticks(ticks=[])\n",
    "    plt.xticks(rotation=90)\n",
    "    # Make legend smaller\n",
    "    if legend:\n",
    "        plt.legend(loc='upper right')#, bbox_to_anchor=(0.35, 1.03))\n",
    "\n",
    "\n",
    "metric = \"precision\"\n",
    "plot_metric(metric, all_labels)\n",
    "#lt.savefig(f\"img/{metric}.png\", bbox_inches='tight', dpi=300)"
   ]
  },
  {
   "cell_type": "code",
   "execution_count": 40,
   "metadata": {},
   "outputs": [
    {
     "data": {
      "image/png": "[encoded data removed]",
      "text/plain": [
       "<Figure size 900x300 with 1 Axes>"
      ]
     },
     "metadata": {},
     "output_type": "display_data"
    }
   ],
   "source": [
    "plot_metric(\"recall\", all_labels)\n",
    "#plt.savefig(f\"img/recall.png\", bbox_inches='tight', dpi=300)"
   ]
  },
  {
   "cell_type": "code",
   "execution_count": 42,
   "metadata": {},
   "outputs": [
    {
     "data": {
      "image/png": "[encoded data removed]",
      "text/plain": [
       "<Figure size 900x300 with 1 Axes>"
      ]
     },
     "metadata": {},
     "output_type": "display_data"
    }
   ],
   "source": [
    "plot_metric(\"f1\", all_labels)\n",
    "#plt.savefig(f\"img/f1.png\", bbox_inches='tight', dpi=300)"
   ]
  },
  {
   "cell_type": "code",
   "execution_count": 45,
   "metadata": {},
   "outputs": [
    {
     "data": {
      "text/html": [
       "<div>\n",
       "<style scoped>\n",
       "    .dataframe tbody tr th:only-of-type {\n",
       "        vertical-align: middle;\n",
       "    }\n",
       "\n",
       "    .dataframe tbody tr th {\n",
       "        vertical-align: top;\n",
       "    }\n",
       "\n",
       "    .dataframe thead th {\n",
       "        text-align: right;\n",
       "    }\n",
       "</style>\n",
       "<table border=\"1\" class=\"dataframe\">\n",
       "  <thead>\n",
       "    <tr style=\"text-align: right;\">\n",
       "      <th></th>\n",
       "      <th>model</th>\n",
       "      <th>metric</th>\n",
       "      <th>score</th>\n",
       "    </tr>\n",
       "  </thead>\n",
       "  <tbody>\n",
       "    <tr>\n",
       "      <th>0</th>\n",
       "      <td>gpt-3.5</td>\n",
       "      <td>f1</td>\n",
       "      <td>0.5618</td>\n",
       "    </tr>\n",
       "    <tr>\n",
       "      <th>1</th>\n",
       "      <td>gpt-3.5</td>\n",
       "      <td>f1</td>\n",
       "      <td>0.5519</td>\n",
       "    </tr>\n",
       "    <tr>\n",
       "      <th>2</th>\n",
       "      <td>gpt-3.5</td>\n",
       "      <td>f1</td>\n",
       "      <td>0.5451</td>\n",
       "    </tr>\n",
       "    <tr>\n",
       "      <th>3</th>\n",
       "      <td>gpt-3.5</td>\n",
       "      <td>f1</td>\n",
       "      <td>0.5702</td>\n",
       "    </tr>\n",
       "    <tr>\n",
       "      <th>4</th>\n",
       "      <td>gpt-3.5</td>\n",
       "      <td>f1</td>\n",
       "      <td>0.5621</td>\n",
       "    </tr>\n",
       "    <tr>\n",
       "      <th>...</th>\n",
       "      <td>...</td>\n",
       "      <td>...</td>\n",
       "      <td>...</td>\n",
       "    </tr>\n",
       "    <tr>\n",
       "      <th>1795</th>\n",
       "      <td>mixtral</td>\n",
       "      <td>precision</td>\n",
       "      <td>0.3636</td>\n",
       "    </tr>\n",
       "    <tr>\n",
       "      <th>1796</th>\n",
       "      <td>mixtral</td>\n",
       "      <td>precision</td>\n",
       "      <td>0.3753</td>\n",
       "    </tr>\n",
       "    <tr>\n",
       "      <th>1797</th>\n",
       "      <td>mixtral</td>\n",
       "      <td>precision</td>\n",
       "      <td>0.3702</td>\n",
       "    </tr>\n",
       "    <tr>\n",
       "      <th>1798</th>\n",
       "      <td>mixtral</td>\n",
       "      <td>precision</td>\n",
       "      <td>0.3315</td>\n",
       "    </tr>\n",
       "    <tr>\n",
       "      <th>1799</th>\n",
       "      <td>mixtral</td>\n",
       "      <td>precision</td>\n",
       "      <td>0.3609</td>\n",
       "    </tr>\n",
       "  </tbody>\n",
       "</table>\n",
       "<p>1800 rows × 3 columns</p>\n",
       "</div>"
      ],
      "text/plain": [
       "        model     metric  score\n",
       "0     gpt-3.5         f1 0.5618\n",
       "1     gpt-3.5         f1 0.5519\n",
       "2     gpt-3.5         f1 0.5451\n",
       "3     gpt-3.5         f1 0.5702\n",
       "4     gpt-3.5         f1 0.5621\n",
       "...       ...        ...    ...\n",
       "1795  mixtral  precision 0.3636\n",
       "1796  mixtral  precision 0.3753\n",
       "1797  mixtral  precision 0.3702\n",
       "1798  mixtral  precision 0.3315\n",
       "1799  mixtral  precision 0.3609\n",
       "\n",
       "[1800 rows x 3 columns]"
      ]
     },
     "execution_count": 45,
     "metadata": {},
     "output_type": "execute_result"
    }
   ],
   "source": [
    "# Just keep the most important characteristics\n",
    "\n",
    "hate_metrics = []\n",
    "\n",
    "# If set to True, uses all labels. If not, only WOMEN, LGBTI, RACISM, CLASS\n",
    "evaluate_all = False\n",
    "\n",
    "\n",
    "for name, df in dfs.items():\n",
    "    if not evaluate_all:\n",
    "        label_hate = df[labels].sum(axis=1) > 0\n",
    "        pred_hate = df[pred_labels].sum(axis=1) > 0\n",
    "    else:\n",
    "        label_hate = df[all_labels].sum(axis=1) > 0\n",
    "        pred_hate = df[all_pred_labels].sum(axis=1) > 0\n",
    "    for metric in {\"precision\", \"recall\", \"f1\"}:\n",
    "        if metric == \"precision\":\n",
    "            score = precision_score\n",
    "        elif metric == \"recall\":\n",
    "            score = recall_score\n",
    "        elif metric == \"f1\":\n",
    "            score = f1_score\n",
    "\n",
    "\n",
    "        gold_labels = label_hate.values\n",
    "        preds = pred_hate.values\n",
    "\n",
    "        bst = Bootstrap(metric=score, num_bootstraps=150)\n",
    "\n",
    "        bst_scores = bst.run(preds, gold_labels)\n",
    "\n",
    "        for score in bst_scores:\n",
    "            hate_metrics.append(\n",
    "                {\n",
    "                    \"model\": name,\n",
    "                    \"metric\": metric,\n",
    "                    \"score\": score,\n",
    "                }\n",
    "            )\n",
    "\n",
    "hate_metrics = pd.DataFrame(hate_metrics)\n",
    "\n",
    "hate_metrics"
   ]
  },
  {
   "cell_type": "code",
   "execution_count": 48,
   "metadata": {},
   "outputs": [
    {
     "data": {
      "text/plain": [
       "([0, 1, 2], [Text(0, 0, 'f1'), Text(1, 0, 'recall'), Text(2, 0, 'precision')])"
      ]
     },
     "execution_count": 48,
     "metadata": {},
     "output_type": "execute_result"
    },
    {
     "data": {
      "image/png": "[encoded data removed]",
      "text/plain": [
       "<Figure size 1000x500 with 1 Axes>"
      ]
     },
     "metadata": {},
     "output_type": "display_data"
    }
   ],
   "source": [
    "import seaborn as sns\n",
    "import matplotlib.pyplot as plt\n",
    "\n",
    "\n",
    "# Create the barplot\n",
    "\n",
    "plt.figure(figsize=(10, 5))\n",
    "sns.barplot(x='metric', y='score', hue='model', data=hate_metrics, hue_order=model_order)\n",
    "\n",
    "\n",
    "plt.ylabel('Value')\n",
    "\n",
    "# Show the plot\n",
    "\n",
    "plt.xticks(rotation=90)\n",
    "#plt.show()"
   ]
  },
  {
   "cell_type": "code",
   "execution_count": null,
   "metadata": {},
   "outputs": [],
   "source": []
  }
 ],
 "metadata": {
  "kernelspec": {
   "display_name": ".venv",
   "language": "python",
   "name": "python3"
  },
  "language_info": {
   "codemirror_mode": {
    "name": "ipython",
    "version": 3
   },
   "file_extension": ".py",
   "mimetype": "text/x-python",
   "name": "python",
   "nbconvert_exporter": "python",
   "pygments_lexer": "ipython3",
   "version": "3.10.7"
  }
 },
 "nbformat": 4,
 "nbformat_minor": 2
}
