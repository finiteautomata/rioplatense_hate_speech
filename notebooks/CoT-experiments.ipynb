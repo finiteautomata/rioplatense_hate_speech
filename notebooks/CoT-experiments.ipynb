{
 "cells": [
  {
   "cell_type": "code",
   "execution_count": 1,
   "metadata": {},
   "outputs": [],
   "source": [
    "\n",
    "%load_ext autoreload\n",
    "%autoreload 2\n",
    "from rioplatense_hs.openai import get_completion\n",
    "from datasets import load_dataset\n",
    "\n",
    "dataset = load_dataset(\"piuba-bigdata/contextualized_hate_speech\")\n"
   ]
  },
  {
   "cell_type": "code",
   "execution_count": 2,
   "metadata": {},
   "outputs": [
    {
     "data": {
      "text/plain": [
       "list"
      ]
     },
     "execution_count": 2,
     "metadata": {},
     "output_type": "execute_result"
    }
   ],
   "source": [
    "import json\n",
    "\n",
    "raw_dataset = json.load(open(\"../data/dataset.raw.json\"))\n",
    "\n",
    "type(raw_dataset)"
   ]
  },
  {
   "cell_type": "code",
   "execution_count": 3,
   "metadata": {},
   "outputs": [
    {
     "data": {
      "text/plain": [
       "Dataset({\n",
       "    features: ['id', 'title', 'text', 'context_tweet', 'HATEFUL', 'body', 'CALLS', 'WOMEN', 'LGBTI', 'RACISM', 'CLASS', 'POLITICS', 'DISABLED', 'APPEARANCE', 'CRIMINAL'],\n",
       "    num_rows: 9106\n",
       "})"
      ]
     },
     "execution_count": 3,
     "metadata": {},
     "output_type": "execute_result"
    }
   ],
   "source": [
    "dataset[\"dev\"]"
   ]
  },
  {
   "cell_type": "code",
   "execution_count": 4,
   "metadata": {},
   "outputs": [],
   "source": [
    "from rioplatense_hs.preprocessing import labels, label_to_text\n",
    "\n",
    "df_train = dataset[\"train\"].to_pandas()\n",
    "df_test = dataset[\"test\"].to_pandas()\n",
    "df_dev = dataset[\"dev\"].to_pandas()\n",
    "df_train[\"num_hatred\"] = df_train[labels].sum(axis=1)\n",
    "df_dev[\"num_hatred\"] = df_dev[labels].sum(axis=1)\n",
    "df_test[\"num_hatred\"] = df_test[labels].sum(axis=1)\n",
    "\n",
    "df_train[\"text_label\"] = df_train.apply(lambda x: label_to_text(x), axis=1)\n",
    "df_dev[\"text_label\"] = df_dev.apply(lambda x: label_to_text(x), axis=1)\n",
    "df_test[\"text_label\"] = df_test.apply(lambda x: label_to_text(x), axis=1)\n"
   ]
  },
  {
   "cell_type": "code",
   "execution_count": 5,
   "metadata": {},
   "outputs": [
    {
     "data": {
      "text/plain": [
       "['WOMEN',\n",
       " 'LGBTI',\n",
       " 'RACISM',\n",
       " 'CLASS',\n",
       " 'POLITICS',\n",
       " 'DISABLED',\n",
       " 'APPEARANCE',\n",
       " 'CRIMINAL']"
      ]
     },
     "execution_count": 5,
     "metadata": {},
     "output_type": "execute_result"
    }
   ],
   "source": [
    "labels"
   ]
  },
  {
   "cell_type": "code",
   "execution_count": 6,
   "metadata": {},
   "outputs": [
    {
     "data": {
      "text/html": [
       "<div>\n",
       "<style scoped>\n",
       "    .dataframe tbody tr th:only-of-type {\n",
       "        vertical-align: middle;\n",
       "    }\n",
       "\n",
       "    .dataframe tbody tr th {\n",
       "        vertical-align: top;\n",
       "    }\n",
       "\n",
       "    .dataframe thead th {\n",
       "        text-align: right;\n",
       "    }\n",
       "</style>\n",
       "<table border=\"1\" class=\"dataframe\">\n",
       "  <thead>\n",
       "    <tr style=\"text-align: right;\">\n",
       "      <th></th>\n",
       "      <th>context_tweet</th>\n",
       "      <th>text</th>\n",
       "    </tr>\n",
       "  </thead>\n",
       "  <tbody>\n",
       "    <tr>\n",
       "      <th>26852</th>\n",
       "      <td>Tres extranjeros incumplían la cuarentena tota...</td>\n",
       "      <td>@usuario Fuera de aca</td>\n",
       "    </tr>\n",
       "    <tr>\n",
       "      <th>10525</th>\n",
       "      <td>Video: el momento en que un policía mata a bal...</td>\n",
       "      <td>@usuario Que lindo ver como mueren estas ratas...</td>\n",
       "    </tr>\n",
       "  </tbody>\n",
       "</table>\n",
       "</div>"
      ],
      "text/plain": [
       "                                           context_tweet  \\\n",
       "26852  Tres extranjeros incumplían la cuarentena tota...   \n",
       "10525  Video: el momento en que un policía mata a bal...   \n",
       "\n",
       "                                                    text  \n",
       "26852                              @usuario Fuera de aca  \n",
       "10525  @usuario Que lindo ver como mueren estas ratas...  "
      ]
     },
     "execution_count": 6,
     "metadata": {},
     "output_type": "execute_result"
    }
   ],
   "source": [
    "df_train[df_train[\"CRIMINAL\"] > 0].sample(2)[[\"context_tweet\", \"text\"]]"
   ]
  },
  {
   "cell_type": "code",
   "execution_count": 7,
   "metadata": {},
   "outputs": [],
   "source": [
    "import pandas as pd\n",
    "\n",
    "pd.options.display.max_colwidth = 1000\n",
    "#df_train.loc[df_train[\"LGBTI\"] > 0, [\"title\", \"text\", \"text_label\"]].sample(20)"
   ]
  },
  {
   "cell_type": "code",
   "execution_count": 47,
   "metadata": {},
   "outputs": [
    {
     "name": "stdout",
     "output_type": "stream",
     "text": [
      "12\n",
      "Determinar si el siguiente mensaje contiene discurso discriminatorio o no. Entendemos que hay discurso discriminatorio en el tweet si tiene declaraciones de carácter intenso e irracional de rechazo, enemistad y aborrecimiento contra un individuo o contra un grupo, siendo estos objetivos de estas expresiones por poseer una característica protegida. Las características protegidas que contemplamos son:\n",
      "\n",
      "- mujer: Mujeres o movimiento feminista\n",
      "- lgbti: Género, identidad sexual\n",
      "- racismo: Inmigrantes, extranjeros, religión, pueblos aborígenes u otras nacionalidades\n",
      "- clase: Clase, situación socioeconómica o barrio de residencia\n",
      "- discapacidad: Discapacidades, problemas de salud mental o de adicción al alcohol u otras drogas\n",
      "- política: Opinión o ideología política.\n",
      "- aspecto: Aspecto, gordofobia o edad\n",
      "- criminal: Antecedentes penales o estar privado de la libertad\n",
      "\n",
      "Responder una o varias de las características separadas por coma, o bien \"nada\" si no hay discurso discriminatorio. Pensá paso a paso la respuesta antes de responder.\n",
      "###\n",
      "contexto: Al borde del llanto, Nati Jota pidió disculpas por sus repudiables tuits pero los justificó: 'Quería sumar seguidores'\n",
      "texto: Show o nada mi amorrr!! La imbesilidad al palo!\n",
      "salida: Es un insulto y no menciona nada relacionado a las características protegidas. La respuesta final es 'nada' \n",
      "###\n",
      "contexto: Violento motín en la cárcel de Devoto: tomaron e incendiaron pabellones\n",
      "texto: Hermanito lo que son esos grones. Ahí adentro le robaron la billetera al coronavirus\n",
      "salida: La palabra \"grones\" significa negros, lo cual alude a su color de piel y aspecto. Además, se refiere a su condición de presos. La respuesta final es \"criminal, racismo, aspecto\" \n",
      "###\n",
      "contexto: Mayra Mendoza criticó el banderazo contra el Gobierno: \"No tiene sentido y es antidemocrático\"\n",
      "texto: Que negrita villera....ni con la plata q roba puede arreglarse\n",
      "salida: El texto alude a su color de piel, a su condición social (villera), y a su aspecto. La respuesta final es \"racismo, aspecto, clase\" \n",
      "###\n",
      "contexto: Les darán DNI provisorio a personas en situación vulnerable, para que puedan empezar a cobrar planes sociales\n",
      "texto: Seguimos alimentando vagos\n",
      "salida: El comentario se refiere a quienes cobran planes sociales como vagos. La respuesta final es \"clase\" \n",
      "###\n",
      "contexto: Viola Davis, Halle Berry y Angela Bassett, actrices negras que superaron la discriminación en Hollywood\n",
      "texto: el titulo de por si da pena, la nación cree que el racismo es una enfermedad que los que la sufren tienen que superar, es un título discriminatorio\n",
      "salida: El comentario critica el título del artículo por insinuar que el racismo es una enfermedad. No critica en ningún momento a las actrices. La respuesta final es \"nada\" \n",
      "###\n",
      "contexto: No da tregua: sin ropa y desafiante Flor Peña volvió a mostrar su lado más hot\n",
      "texto: K lado hot tiene más varices k mi abuela. Tiene mas puesta de espalda k karagian trola\n",
      "salida: El texto alude a su aspecto (las varices) y la desprecia por \"trola\". La respuesta final es \"mujer, aspecto\" \n",
      "###\n",
      "contexto: Ginés González García: \"Le tengo mucho miedo al verano, el riesgo va a seguir\"\n",
      "texto: A este viejo le quedan 2 neuronas 1 para comer 2 para cagar\n",
      "salida: El texto alude a su edad, aduciendo que no tiene capacidades mentales acordes. La respuesta final es \"aspecto\" \n",
      "###\n",
      "contexto: Otro ataque de furia contra un colectivero: una mujer trans le pateó la unidad y le tiró un ladrillazo\n",
      "texto: Un tipo operado. Con la fuerza de un hombre y no la de una mujer\n",
      "salida: El texto alude a que la mujer trans es un hombre. La respuesta final es \"lgbti\" \n",
      "###\n",
      "contexto: Elisa Carrió denunció que el Gobierno usa la pandemia para \"establecer un estado de sitio\"\n",
      "texto: Gorda psiquiátrica\n",
      "salida: El texto alude a su aspecto (gorda) y la acusa de tener problemas psiquiátricos. La respuesta final es \"aspecto, discapacidad\" \n",
      "###\n",
      "contexto: 'País de maricas': ¿Por qué Jair Bolsonaro vuelve a atacar a los homosexuales en Brasil?\n",
      "texto: El discurso de bolsonaro donde dice \"maricas\" es brillante, sólo eso basta para meresca ser el presidente de Sudamérica. Clarín es una cueva de zurdos y progresistas que se pintan los labios punto. Clarín suavecito, te pasas de marica!\n",
      "salida: El texto alude a la homosexualidad como algo negativo, a la vez que acusa de ser \"zurdos y progresistas\" a quienes no están de acuerdo con el discurso de Bolsonaro. La respuesta final es \"lgbti, política\" \n",
      "###\n",
      "contexto: Los dos presos heridos de bala en el motín de Devoto tienen Covid-19 y uno quedó hemipléjico\n",
      "texto: justicia divina!\n",
      "salida: El texto alude a que los presos merecen ser baleados. La respuesta final es 'criminal' \n",
      "###\n",
      "contexto: Wuhan celebra el fin de la cuarentena por el coronavirus con un mensaje para el resto del mundo: \"Aprendan de nuestros errores\"\n",
      "texto: Chinos culiados de mierda ojalá se mueran todos\n",
      "salida: Desea que se mueran los chinos por ser los supuestos culpables del COVID-19. La respuesta final es \"racismo\" \n",
      "###\n",
      "contexto: Estados Unidos restringe los vuelos debido al COVID-19\n",
      "texto: Todo esto es una locura\n",
      "salida: \n"
     ]
    }
   ],
   "source": [
    "from pprint import pprint as pp\n",
    "from rioplatense_hs.prompting import build_prompt, examples\n",
    "\n",
    "print(len(examples))\n",
    "print(build_prompt(contexto=\"Estados Unidos restringe los vuelos debido al COVID-19\", texto=\"Todo esto es una locura\"))"
   ]
  },
  {
   "cell_type": "code",
   "execution_count": 38,
   "metadata": {},
   "outputs": [],
   "source": [
    "# sample_df = df_test.sample(100)\n",
    "\n",
    "# sample_df = df_dev.sample(700, random_state=2022)\n",
    "\n",
    "sample_df = pd.read_csv(\"../data/sample_dev_df.csv\")"
   ]
  },
  {
   "cell_type": "code",
   "execution_count": 39,
   "metadata": {},
   "outputs": [
    {
     "data": {
      "text/plain": [
       "0.16857142857142857"
      ]
     },
     "execution_count": 39,
     "metadata": {},
     "output_type": "execute_result"
    }
   ],
   "source": [
    "(sample_df[\"num_hatred\"] > 0).mean()"
   ]
  },
  {
   "cell_type": "code",
   "execution_count": 40,
   "metadata": {},
   "outputs": [
    {
     "data": {
      "text/plain": [
       "0      Determinar si el siguiente mensaje contiene discurso discriminatorio o no. Entendemos que hay discurso discriminatorio en el tweet si tiene declaraciones de carácter intenso e irracional de rechazo, enemistad y aborrecimiento contra un individuo o contra un grupo, siendo estos objetivos de estas expresiones por poseer una característica protegida. Las características protegidas que contemplamos son:\\n\\n- mujer: Mujeres o movimiento feminista\\n- lgbti: Género, identidad sexual\\n- racismo: Inmigrantes, extranjeros, religión, pueblos aborígenes u otras nacionalidades\\n- clase: Clase, situación socioeconómica o barrio de residencia\\n- discapacidad: Discapacidades, problemas de salud mental o de adicción al alcohol u otras drogas\\n- política: Opinión o ideología política.\\n- aspecto: Aspecto, gordofobia o edad\\n- criminal: Antecedentes penales o estar privado de la libertad\\n\\nResponder una o varias de las características separadas por coma, o bien \"nada\" si no hay discurso discriminato...\n",
       "1      Determinar si el siguiente mensaje contiene discurso discriminatorio o no. Entendemos que hay discurso discriminatorio en el tweet si tiene declaraciones de carácter intenso e irracional de rechazo, enemistad y aborrecimiento contra un individuo o contra un grupo, siendo estos objetivos de estas expresiones por poseer una característica protegida. Las características protegidas que contemplamos son:\\n\\n- mujer: Mujeres o movimiento feminista\\n- lgbti: Género, identidad sexual\\n- racismo: Inmigrantes, extranjeros, religión, pueblos aborígenes u otras nacionalidades\\n- clase: Clase, situación socioeconómica o barrio de residencia\\n- discapacidad: Discapacidades, problemas de salud mental o de adicción al alcohol u otras drogas\\n- política: Opinión o ideología política.\\n- aspecto: Aspecto, gordofobia o edad\\n- criminal: Antecedentes penales o estar privado de la libertad\\n\\nResponder una o varias de las características separadas por coma, o bien \"nada\" si no hay discurso discriminato...\n",
       "2      Determinar si el siguiente mensaje contiene discurso discriminatorio o no. Entendemos que hay discurso discriminatorio en el tweet si tiene declaraciones de carácter intenso e irracional de rechazo, enemistad y aborrecimiento contra un individuo o contra un grupo, siendo estos objetivos de estas expresiones por poseer una característica protegida. Las características protegidas que contemplamos son:\\n\\n- mujer: Mujeres o movimiento feminista\\n- lgbti: Género, identidad sexual\\n- racismo: Inmigrantes, extranjeros, religión, pueblos aborígenes u otras nacionalidades\\n- clase: Clase, situación socioeconómica o barrio de residencia\\n- discapacidad: Discapacidades, problemas de salud mental o de adicción al alcohol u otras drogas\\n- política: Opinión o ideología política.\\n- aspecto: Aspecto, gordofobia o edad\\n- criminal: Antecedentes penales o estar privado de la libertad\\n\\nResponder una o varias de las características separadas por coma, o bien \"nada\" si no hay discurso discriminato...\n",
       "3      Determinar si el siguiente mensaje contiene discurso discriminatorio o no. Entendemos que hay discurso discriminatorio en el tweet si tiene declaraciones de carácter intenso e irracional de rechazo, enemistad y aborrecimiento contra un individuo o contra un grupo, siendo estos objetivos de estas expresiones por poseer una característica protegida. Las características protegidas que contemplamos son:\\n\\n- mujer: Mujeres o movimiento feminista\\n- lgbti: Género, identidad sexual\\n- racismo: Inmigrantes, extranjeros, religión, pueblos aborígenes u otras nacionalidades\\n- clase: Clase, situación socioeconómica o barrio de residencia\\n- discapacidad: Discapacidades, problemas de salud mental o de adicción al alcohol u otras drogas\\n- política: Opinión o ideología política.\\n- aspecto: Aspecto, gordofobia o edad\\n- criminal: Antecedentes penales o estar privado de la libertad\\n\\nResponder una o varias de las características separadas por coma, o bien \"nada\" si no hay discurso discriminato...\n",
       "4      Determinar si el siguiente mensaje contiene discurso discriminatorio o no. Entendemos que hay discurso discriminatorio en el tweet si tiene declaraciones de carácter intenso e irracional de rechazo, enemistad y aborrecimiento contra un individuo o contra un grupo, siendo estos objetivos de estas expresiones por poseer una característica protegida. Las características protegidas que contemplamos son:\\n\\n- mujer: Mujeres o movimiento feminista\\n- lgbti: Género, identidad sexual\\n- racismo: Inmigrantes, extranjeros, religión, pueblos aborígenes u otras nacionalidades\\n- clase: Clase, situación socioeconómica o barrio de residencia\\n- discapacidad: Discapacidades, problemas de salud mental o de adicción al alcohol u otras drogas\\n- política: Opinión o ideología política.\\n- aspecto: Aspecto, gordofobia o edad\\n- criminal: Antecedentes penales o estar privado de la libertad\\n\\nResponder una o varias de las características separadas por coma, o bien \"nada\" si no hay discurso discriminato...\n",
       "                                                                                                                                                                                                                                                                                                                                                                                                                                                                                                                        ...                                                                                                                                                                                                                                                                                                                                                                                                                                                                                                                   \n",
       "695    Determinar si el siguiente mensaje contiene discurso discriminatorio o no. Entendemos que hay discurso discriminatorio en el tweet si tiene declaraciones de carácter intenso e irracional de rechazo, enemistad y aborrecimiento contra un individuo o contra un grupo, siendo estos objetivos de estas expresiones por poseer una característica protegida. Las características protegidas que contemplamos son:\\n\\n- mujer: Mujeres o movimiento feminista\\n- lgbti: Género, identidad sexual\\n- racismo: Inmigrantes, extranjeros, religión, pueblos aborígenes u otras nacionalidades\\n- clase: Clase, situación socioeconómica o barrio de residencia\\n- discapacidad: Discapacidades, problemas de salud mental o de adicción al alcohol u otras drogas\\n- política: Opinión o ideología política.\\n- aspecto: Aspecto, gordofobia o edad\\n- criminal: Antecedentes penales o estar privado de la libertad\\n\\nResponder una o varias de las características separadas por coma, o bien \"nada\" si no hay discurso discriminato...\n",
       "696    Determinar si el siguiente mensaje contiene discurso discriminatorio o no. Entendemos que hay discurso discriminatorio en el tweet si tiene declaraciones de carácter intenso e irracional de rechazo, enemistad y aborrecimiento contra un individuo o contra un grupo, siendo estos objetivos de estas expresiones por poseer una característica protegida. Las características protegidas que contemplamos son:\\n\\n- mujer: Mujeres o movimiento feminista\\n- lgbti: Género, identidad sexual\\n- racismo: Inmigrantes, extranjeros, religión, pueblos aborígenes u otras nacionalidades\\n- clase: Clase, situación socioeconómica o barrio de residencia\\n- discapacidad: Discapacidades, problemas de salud mental o de adicción al alcohol u otras drogas\\n- política: Opinión o ideología política.\\n- aspecto: Aspecto, gordofobia o edad\\n- criminal: Antecedentes penales o estar privado de la libertad\\n\\nResponder una o varias de las características separadas por coma, o bien \"nada\" si no hay discurso discriminato...\n",
       "697    Determinar si el siguiente mensaje contiene discurso discriminatorio o no. Entendemos que hay discurso discriminatorio en el tweet si tiene declaraciones de carácter intenso e irracional de rechazo, enemistad y aborrecimiento contra un individuo o contra un grupo, siendo estos objetivos de estas expresiones por poseer una característica protegida. Las características protegidas que contemplamos son:\\n\\n- mujer: Mujeres o movimiento feminista\\n- lgbti: Género, identidad sexual\\n- racismo: Inmigrantes, extranjeros, religión, pueblos aborígenes u otras nacionalidades\\n- clase: Clase, situación socioeconómica o barrio de residencia\\n- discapacidad: Discapacidades, problemas de salud mental o de adicción al alcohol u otras drogas\\n- política: Opinión o ideología política.\\n- aspecto: Aspecto, gordofobia o edad\\n- criminal: Antecedentes penales o estar privado de la libertad\\n\\nResponder una o varias de las características separadas por coma, o bien \"nada\" si no hay discurso discriminato...\n",
       "698    Determinar si el siguiente mensaje contiene discurso discriminatorio o no. Entendemos que hay discurso discriminatorio en el tweet si tiene declaraciones de carácter intenso e irracional de rechazo, enemistad y aborrecimiento contra un individuo o contra un grupo, siendo estos objetivos de estas expresiones por poseer una característica protegida. Las características protegidas que contemplamos son:\\n\\n- mujer: Mujeres o movimiento feminista\\n- lgbti: Género, identidad sexual\\n- racismo: Inmigrantes, extranjeros, religión, pueblos aborígenes u otras nacionalidades\\n- clase: Clase, situación socioeconómica o barrio de residencia\\n- discapacidad: Discapacidades, problemas de salud mental o de adicción al alcohol u otras drogas\\n- política: Opinión o ideología política.\\n- aspecto: Aspecto, gordofobia o edad\\n- criminal: Antecedentes penales o estar privado de la libertad\\n\\nResponder una o varias de las características separadas por coma, o bien \"nada\" si no hay discurso discriminato...\n",
       "699    Determinar si el siguiente mensaje contiene discurso discriminatorio o no. Entendemos que hay discurso discriminatorio en el tweet si tiene declaraciones de carácter intenso e irracional de rechazo, enemistad y aborrecimiento contra un individuo o contra un grupo, siendo estos objetivos de estas expresiones por poseer una característica protegida. Las características protegidas que contemplamos son:\\n\\n- mujer: Mujeres o movimiento feminista\\n- lgbti: Género, identidad sexual\\n- racismo: Inmigrantes, extranjeros, religión, pueblos aborígenes u otras nacionalidades\\n- clase: Clase, situación socioeconómica o barrio de residencia\\n- discapacidad: Discapacidades, problemas de salud mental o de adicción al alcohol u otras drogas\\n- política: Opinión o ideología política.\\n- aspecto: Aspecto, gordofobia o edad\\n- criminal: Antecedentes penales o estar privado de la libertad\\n\\nResponder una o varias de las características separadas por coma, o bien \"nada\" si no hay discurso discriminato...\n",
       "Name: prompt, Length: 700, dtype: object"
      ]
     },
     "execution_count": 40,
     "metadata": {},
     "output_type": "execute_result"
    }
   ],
   "source": [
    "sample_df[\"prompt\"]"
   ]
  },
  {
   "cell_type": "code",
   "execution_count": null,
   "metadata": {},
   "outputs": [],
   "source": []
  },
  {
   "cell_type": "code",
   "execution_count": 41,
   "metadata": {},
   "outputs": [
    {
     "data": {
      "text/html": [
       "<div>\n",
       "<style scoped>\n",
       "    .dataframe tbody tr th:only-of-type {\n",
       "        vertical-align: middle;\n",
       "    }\n",
       "\n",
       "    .dataframe tbody tr th {\n",
       "        vertical-align: top;\n",
       "    }\n",
       "\n",
       "    .dataframe thead th {\n",
       "        text-align: right;\n",
       "    }\n",
       "</style>\n",
       "<table border=\"1\" class=\"dataframe\">\n",
       "  <thead>\n",
       "    <tr style=\"text-align: right;\">\n",
       "      <th></th>\n",
       "      <th>context_tweet</th>\n",
       "      <th>text</th>\n",
       "      <th>text_label</th>\n",
       "      <th>pred_cot</th>\n",
       "    </tr>\n",
       "  </thead>\n",
       "  <tbody>\n",
       "    <tr>\n",
       "      <th>226</th>\n",
       "      <td>El video de la pelea de Cinthia Fernández con una vecina: “Me robaron, me pegaron y me tiraron del pelo\" https://t.co/0T1yEKlv4S</td>\n",
       "      <td>@usuario Y fue a pelear ,pobre mina no puede ser más agresiva</td>\n",
       "      <td>nada</td>\n",
       "      <td>El texto se refiere a Cinthia Fernández como \"agresiva\" debido a su actitud de pelear. La respuesta final es \"mujer\".</td>\n",
       "    </tr>\n",
       "    <tr>\n",
       "      <th>675</th>\n",
       "      <td>Romina Malaspina hizo su descargo tras la polémica por su look para el noticiero de Canal 26 https://t.co/hHt7CHzVKN</td>\n",
       "      <td>@usuario La evolución es mostrar las tetas ... que lejos estás de ser periodista GATO</td>\n",
       "      <td>mujer</td>\n",
       "      <td>El comentario alude a su apariencia (mostrar las tetas) y la insulta llamándola gato. La respuesta final es \"mujer, aspecto\"</td>\n",
       "    </tr>\n",
       "    <tr>\n",
       "      <th>379</th>\n",
       "      <td>Coronavirus en la Argentina: cómo vive Estanislao, el hijo de Alberto Fernández, la cuarentena en Olivos https://t.co/sAuEpeHCui https://t.co/KBKHmq4hIG</td>\n",
       "      <td>@usuario Que interesante!🤣</td>\n",
       "      <td>nada</td>\n",
       "      <td>El texto no contiene ningún tipo de discurso discriminatorio. La respuesta final es \"nada\".</td>\n",
       "    </tr>\n",
       "    <tr>\n",
       "      <th>480</th>\n",
       "      <td>Loly Antoniale mostró su impresionante casa en Miami: “Soy la reina de mi castillo” https://t.co/GuFd1ythLA</td>\n",
       "      <td>@usuario La felicito.\\nSabía que está chica haría carrera en el lugar que fuera.</td>\n",
       "      <td>nada</td>\n",
       "      <td>El mensaje no contiene discurso discriminatorio. La respuesta final es 'nada'.</td>\n",
       "    </tr>\n",
       "    <tr>\n",
       "      <th>642</th>\n",
       "      <td>\"El país está tomando todas las medidas para afrontar el coronavirus\" https://t.co/F1Zv4dnGCX</td>\n",
       "      <td>@usuario Cientificas medidas como la declaracion jurada, vamos fenomenos</td>\n",
       "      <td>nada</td>\n",
       "      <td>El texto no contiene discurso discriminatorio. La respuesta final es \"nada\".</td>\n",
       "    </tr>\n",
       "  </tbody>\n",
       "</table>\n",
       "</div>"
      ],
      "text/plain": [
       "                                                                                                                                                context_tweet  \\\n",
       "226                          El video de la pelea de Cinthia Fernández con una vecina: “Me robaron, me pegaron y me tiraron del pelo\" https://t.co/0T1yEKlv4S   \n",
       "675                                      Romina Malaspina hizo su descargo tras la polémica por su look para el noticiero de Canal 26 https://t.co/hHt7CHzVKN   \n",
       "379  Coronavirus en la Argentina: cómo vive Estanislao, el hijo de Alberto Fernández, la cuarentena en Olivos https://t.co/sAuEpeHCui https://t.co/KBKHmq4hIG   \n",
       "480                                               Loly Antoniale mostró su impresionante casa en Miami: “Soy la reina de mi castillo” https://t.co/GuFd1ythLA   \n",
       "642                                                             \"El país está tomando todas las medidas para afrontar el coronavirus\" https://t.co/F1Zv4dnGCX   \n",
       "\n",
       "                                                                                      text  \\\n",
       "226                          @usuario Y fue a pelear ,pobre mina no puede ser más agresiva   \n",
       "675  @usuario La evolución es mostrar las tetas ... que lejos estás de ser periodista GATO   \n",
       "379                                                             @usuario Que interesante!🤣   \n",
       "480       @usuario La felicito.\\nSabía que está chica haría carrera en el lugar que fuera.   \n",
       "642               @usuario Cientificas medidas como la declaracion jurada, vamos fenomenos   \n",
       "\n",
       "    text_label  \\\n",
       "226       nada   \n",
       "675      mujer   \n",
       "379       nada   \n",
       "480       nada   \n",
       "642       nada   \n",
       "\n",
       "                                                                                                                         pred_cot  \n",
       "226         El texto se refiere a Cinthia Fernández como \"agresiva\" debido a su actitud de pelear. La respuesta final es \"mujer\".  \n",
       "675  El comentario alude a su apariencia (mostrar las tetas) y la insulta llamándola gato. La respuesta final es \"mujer, aspecto\"  \n",
       "379                                   El texto no contiene ningún tipo de discurso discriminatorio. La respuesta final es \"nada\".  \n",
       "480                                                El mensaje no contiene discurso discriminatorio. La respuesta final es 'nada'.  \n",
       "642                                                  El texto no contiene discurso discriminatorio. La respuesta final es \"nada\".  "
      ]
     },
     "execution_count": 41,
     "metadata": {},
     "output_type": "execute_result"
    }
   ],
   "source": [
    "sample_df[[\"context_tweet\", \"text\", \"text_label\",\"pred_cot\"]].sample(5)"
   ]
  },
  {
   "cell_type": "markdown",
   "metadata": {},
   "source": [
    "## Error analysis"
   ]
  },
  {
   "cell_type": "code",
   "execution_count": 42,
   "metadata": {},
   "outputs": [
    {
     "data": {
      "text/html": [
       "<div>\n",
       "<style scoped>\n",
       "    .dataframe tbody tr th:only-of-type {\n",
       "        vertical-align: middle;\n",
       "    }\n",
       "\n",
       "    .dataframe tbody tr th {\n",
       "        vertical-align: top;\n",
       "    }\n",
       "\n",
       "    .dataframe thead th {\n",
       "        text-align: right;\n",
       "    }\n",
       "</style>\n",
       "<table border=\"1\" class=\"dataframe\">\n",
       "  <thead>\n",
       "    <tr style=\"text-align: right;\">\n",
       "      <th></th>\n",
       "      <th>context_tweet</th>\n",
       "      <th>text</th>\n",
       "      <th>text_label</th>\n",
       "      <th>pred_cot</th>\n",
       "    </tr>\n",
       "  </thead>\n",
       "  <tbody>\n",
       "    <tr>\n",
       "      <th>81</th>\n",
       "      <td>Un diputado chileno propuso trasladar a enfermos de coronavirus a la Argentina https://t.co/X7REunq8Mt</td>\n",
       "      <td>@usuario \"Como ustedes hoy no están tan saturados, podríamos hacer un convenio de aprovechar nosotros, que estamos falto de aquello, y posteriormente, ojalá no ocurra, que pudiese haber un aumento de contagiados, ustedes utilizar la infraestructura nuestra\"</td>\n",
       "      <td>nada</td>\n",
       "      <td>El mensaje no contiene discurso discriminatorio. No realiza ninguna declaración de rechazo, enemistad o aborrecimiento contra un individuo o grupo por poseer una característica protegida.</td>\n",
       "    </tr>\n",
       "  </tbody>\n",
       "</table>\n",
       "</div>"
      ],
      "text/plain": [
       "                                                                                             context_tweet  \\\n",
       "81  Un diputado chileno propuso trasladar a enfermos de coronavirus a la Argentina https://t.co/X7REunq8Mt   \n",
       "\n",
       "                                                                                                                                                                                                                                                                 text  \\\n",
       "81  @usuario \"Como ustedes hoy no están tan saturados, podríamos hacer un convenio de aprovechar nosotros, que estamos falto de aquello, y posteriormente, ojalá no ocurra, que pudiese haber un aumento de contagiados, ustedes utilizar la infraestructura nuestra\"   \n",
       "\n",
       "   text_label  \\\n",
       "81       nada   \n",
       "\n",
       "                                                                                                                                                                                       pred_cot  \n",
       "81  El mensaje no contiene discurso discriminatorio. No realiza ninguna declaración de rechazo, enemistad o aborrecimiento contra un individuo o grupo por poseer una característica protegida.  "
      ]
     },
     "execution_count": 42,
     "metadata": {},
     "output_type": "execute_result"
    }
   ],
   "source": [
    "# Check \"la respuesta final\" is in every pred_cot\n",
    "\n",
    "sample_df[~sample_df[\"pred_cot\"].str.contains(\"respuesta final\")][[\"context_tweet\", \"text\", \"text_label\",\"pred_cot\"]]"
   ]
  },
  {
   "cell_type": "code",
   "execution_count": 43,
   "metadata": {},
   "outputs": [],
   "source": [
    "from rioplatense_hs.preprocessing import text_to_label, labels\n",
    "\n",
    "\n",
    "pred_labels = [f\"PRED_{l}\" for l in labels]\n",
    "\n",
    "for idx, value in sample_df[\"pred_cot\"].items():\n",
    "\n",
    "    preds = text_to_label(value)\n",
    "\n",
    "    for k, v in preds.items():\n",
    "        sample_df.loc[idx, f\"PRED_{k}\"] = int(v)"
   ]
  },
  {
   "cell_type": "code",
   "execution_count": 44,
   "metadata": {},
   "outputs": [
    {
     "name": "stdout",
     "output_type": "stream",
     "text": [
      "              precision    recall  f1-score   support\n",
      "\n",
      "       WOMEN       0.38      0.43      0.40        21\n",
      "       LGBTI       0.47      0.54      0.50        13\n",
      "      RACISM       0.59      0.82      0.69        40\n",
      "       CLASS       0.14      0.50      0.22        10\n",
      "    POLITICS       0.22      0.50      0.31        22\n",
      "    DISABLED       0.11      0.20      0.14         5\n",
      "  APPEARANCE       0.23      0.41      0.30        22\n",
      "    CRIMINAL       0.33      0.47      0.39        17\n",
      "\n",
      "   micro avg       0.33      0.55      0.41       150\n",
      "   macro avg       0.31      0.48      0.37       150\n",
      "weighted avg       0.37      0.55      0.43       150\n",
      " samples avg       0.10      0.10      0.10       150\n",
      "\n"
     ]
    },
    {
     "name": "stderr",
     "output_type": "stream",
     "text": [
      "/home/jmperez/projects/rioplatense_hate_speech/.venv/lib/python3.10/site-packages/sklearn/metrics/_classification.py:1471: UndefinedMetricWarning: Precision and F-score are ill-defined and being set to 0.0 in samples with no predicted labels. Use `zero_division` parameter to control this behavior.\n",
      "  _warn_prf(average, modifier, msg_start, len(result))\n",
      "/home/jmperez/projects/rioplatense_hate_speech/.venv/lib/python3.10/site-packages/sklearn/metrics/_classification.py:1471: UndefinedMetricWarning: Recall and F-score are ill-defined and being set to 0.0 in samples with no true labels. Use `zero_division` parameter to control this behavior.\n",
      "  _warn_prf(average, modifier, msg_start, len(result))\n"
     ]
    }
   ],
   "source": [
    "from sklearn.metrics import classification_report\n",
    "gold_labels = sample_df[labels]\n",
    "preds = sample_df[pred_labels].astype(int)\n",
    "\n",
    "\n",
    "print(classification_report(gold_labels, preds, target_names=labels))"
   ]
  },
  {
   "cell_type": "code",
   "execution_count": 45,
   "metadata": {},
   "outputs": [
    {
     "name": "stdout",
     "output_type": "stream",
     "text": [
      "              precision    recall  f1-score   support\n",
      "\n",
      "       False       0.92      0.80      0.86       582\n",
      "        True       0.40      0.68      0.50       118\n",
      "\n",
      "    accuracy                           0.78       700\n",
      "   macro avg       0.66      0.74      0.68       700\n",
      "weighted avg       0.84      0.78      0.80       700\n",
      "\n"
     ]
    }
   ],
   "source": [
    "label_hate = sample_df.num_hatred > 0\n",
    "pred_hate = sample_df[pred_labels].sum(axis=1) > 0\n",
    "\n",
    "print(classification_report(label_hate, pred_hate))"
   ]
  },
  {
   "cell_type": "code",
   "execution_count": null,
   "metadata": {},
   "outputs": [],
   "source": [
    "df_train"
   ]
  },
  {
   "cell_type": "code",
   "execution_count": 37,
   "metadata": {},
   "outputs": [
    {
     "name": "stderr",
     "output_type": "stream",
     "text": [
      "[autoreload of rioplatense_hs.prompting failed: Traceback (most recent call last):\n",
      "  File \"/home/jmperez/projects/rioplatense_hate_speech/.venv/lib/python3.10/site-packages/IPython/extensions/autoreload.py\", line 276, in check\n",
      "    superreload(m, reload, self.old_objects)\n",
      "  File \"/home/jmperez/projects/rioplatense_hate_speech/.venv/lib/python3.10/site-packages/IPython/extensions/autoreload.py\", line 475, in superreload\n",
      "    module = reload(module)\n",
      "  File \"/home/jmperez/.pyenv/versions/3.10.7/lib/python3.10/importlib/__init__.py\", line 169, in reload\n",
      "    _bootstrap._exec(spec, module)\n",
      "  File \"<frozen importlib._bootstrap>\", line 619, in _exec\n",
      "  File \"<frozen importlib._bootstrap_external>\", line 879, in exec_module\n",
      "  File \"<frozen importlib._bootstrap_external>\", line 1017, in get_code\n",
      "  File \"<frozen importlib._bootstrap_external>\", line 947, in source_to_code\n",
      "  File \"<frozen importlib._bootstrap>\", line 241, in _call_with_frames_removed\n",
      "  File \"/home/jmperez/projects/rioplatense_hate_speech/rioplatense_hs/prompting.py\", line 46\n",
      "    \"salida\": 'El comentario critica el título del artículo por insinuar que el racismo es una enfermedad. No critica en ningún momento a las actrices. La respuesta final es \"nada\"',\n",
      "            ^\n",
      "SyntaxError: invalid syntax\n",
      "]\n"
     ]
    },
    {
     "data": {
      "text/html": [
       "<div>\n",
       "<style scoped>\n",
       "    .dataframe tbody tr th:only-of-type {\n",
       "        vertical-align: middle;\n",
       "    }\n",
       "\n",
       "    .dataframe tbody tr th {\n",
       "        vertical-align: top;\n",
       "    }\n",
       "\n",
       "    .dataframe thead th {\n",
       "        text-align: right;\n",
       "    }\n",
       "</style>\n",
       "<table border=\"1\" class=\"dataframe\">\n",
       "  <thead>\n",
       "    <tr style=\"text-align: right;\">\n",
       "      <th></th>\n",
       "      <th>context_tweet</th>\n",
       "      <th>text</th>\n",
       "      <th>text_label</th>\n",
       "      <th>pred_cot</th>\n",
       "    </tr>\n",
       "  </thead>\n",
       "  <tbody>\n",
       "    <tr>\n",
       "      <th>29</th>\n",
       "      <td>Elisa Carrió: \"No tengan miedo, el problema no es el coronavirus sino Putin\" https://t.co/PNCHuFxdnM</td>\n",
       "      <td>@usuario Pongan en cuarentena a está mujer...lo tiene lo tiene</td>\n",
       "      <td>nada</td>\n",
       "      <td>El texto alude a que Elisa Carrió tiene problemas de salud mental y sugiere que debería estar en cuarentena, lo cual hace referencia a su discapacidad. La respuesta final es \"discapacidad\"</td>\n",
       "    </tr>\n",
       "    <tr>\n",
       "      <th>32</th>\n",
       "      <td>Luis Brandoni cruzó a Ricardo Alfonsín por sus críticas a la marcha: \"No está en el centro de sus convicciones, de lo que ha mamado desde que nació\" https://t.co/RuqteYDjek</td>\n",
       "      <td>@usuario Que convicciones querés que tenga el excremento de @usuario si manotea un millón de pesos por mes del estado. A quien carajo le puede importar la moral que pueda tener un hdp así.</td>\n",
       "      <td>nada</td>\n",
       "      <td>El texto se refiere al excremento como alguien que recibe un millón de pesos del estado, lo cual puede considerarse una crítica hacia su situación socioeconómica. La respuesta final es \"clase\".</td>\n",
       "    </tr>\n",
       "    <tr>\n",
       "      <th>26</th>\n",
       "      <td>Es norteamericano, sobrevivió al 11-S y se mudó a Argentina: “Es uno de los mejores países del mundo” | Por Florencia Illbele\\nhttps://t.co/Lsiw2RrMnR</td>\n",
       "      <td>@usuario Obvio míster, lástima el #gobiernodemierda que tenemos y todos sus séquitos planeros. Andate antes q te apuñalen en la calle y la policía no te pueda defender.</td>\n",
       "      <td>nada</td>\n",
       "      <td>El texto insulta al gobierno y a quienes reciben planes sociales, aludiéndolos como \"planeros\". La respuesta final es \"clase\"</td>\n",
       "    </tr>\n",
       "    <tr>\n",
       "      <th>31</th>\n",
       "      <td>Grabois calificó al campo como \"parásitos que viven de la renta extraordinaria de la tierra que es de todos\" https://t.co/c8XQr9c1aA</td>\n",
       "      <td>@usuario LA TIERRA ES PARA EL QUE LA COMPRO CON ESFUERZO Y SUDOR DE SANGRE, PARA QUE VENGAS VOS IMBECIL A QUERER DECIR QUE ES DE TODOS. NO SABES DIFERENCIAR UNA VACA DE UN CHIMANGO.</td>\n",
       "      <td>nada</td>\n",
       "      <td>El texto contiene insultos (\"imbécil\") y una expresión de rechazo hacia el grupo al que pertenece (Grabois y su opinión sobre el campo), pero no hace referencia directa a las características protegidas. La respuesta final es \"política\".</td>\n",
       "    </tr>\n",
       "    <tr>\n",
       "      <th>65</th>\n",
       "      <td>China celebró el final de su batalla contra el coronavirus: \"Hemos derrotado al actual brote\" https://t.co/b6QmYSjawg</td>\n",
       "      <td>@usuario El famoso cuento chino...</td>\n",
       "      <td>nada</td>\n",
       "      <td>El texto utiliza la expresión \"cuento chino\" de manera peyorativa, lo cual puede ser considerado como un estereotipo o prejuicio hacia los chinos. La respuesta final es \"racismo\"</td>\n",
       "    </tr>\n",
       "    <tr>\n",
       "      <th>62</th>\n",
       "      <td>Guillermo Moreno: \"Es una barbaridad cerrar las villas, el peronismo es amor, ¿qué hubiese dicho Evita?\" https://t.co/FWMNdyO2Qk</td>\n",
       "      <td>@usuario Amor......... a la pobreza</td>\n",
       "      <td>nada</td>\n",
       "      <td>El texto se refiere al peronismo como amor a la pobreza. La respuesta final es \"política\".</td>\n",
       "    </tr>\n",
       "    <tr>\n",
       "      <th>85</th>\n",
       "      <td>🔴 AHORA | El gobierno porteño adelantó que la nueva cuarentena tendrá una fecha de finalización concreta https://t.co/Mu5y2vf9bw https://t.co/N3Z61jmfAJ</td>\n",
       "      <td>@usuario No seas trolo infogarcha. Que es esa foto de perfil?</td>\n",
       "      <td>nada</td>\n",
       "      <td>El texto utiliza un insulto homofóbico (\"trolo\") y una expresión despectiva (\"infogarcha\") para referirse a la persona a la que está respondiendo. Además, se burla de su foto de perfil. La respuesta final es \"lgtbi, aspecto\".</td>\n",
       "    </tr>\n",
       "    <tr>\n",
       "      <th>98</th>\n",
       "      <td>La frase homofóbica de Jair Bolsonaro al hablar del COVID-19 en Brasil: “Todos nos vamos a morir un día, dejen de ser un país de maricas” https://t.co/QDn9vMUYHh</td>\n",
       "      <td>@usuario El Sr. Presidente de Brasil tiene toda la razón !!!</td>\n",
       "      <td>nada</td>\n",
       "      <td>El texto apoya y respalda el discurso homofóbico de Jair Bolsonaro. La respuesta final es \"lgbti, política\"</td>\n",
       "    </tr>\n",
       "    <tr>\n",
       "      <th>41</th>\n",
       "      <td>La desacertada declaración de Bernie Ecclestone: “En muchos casos las personas negras son más racistas que las blancas” https://t.co/30IR1woaCw</td>\n",
       "      <td>@usuario Tiene razón.  No es políticamente correcto decirlo. Pero es cierto</td>\n",
       "      <td>nada</td>\n",
       "      <td>El texto respalda una declaración discriminatoria al afirmar que las personas negras son más racistas que las blancas. La respuesta final es \"racismo\"</td>\n",
       "    </tr>\n",
       "    <tr>\n",
       "      <th>18</th>\n",
       "      <td>Coronavirus: con un piquete fronterizo, bolivianos piden controles sanitarios para los argentinos que entran a ese país https://t.co/EwPYLuDXlA</td>\n",
       "      <td>@usuario Acá somos tan boludos que les damos hospitales, escuelas y universidades gratis y como si fuera poco también planes, AUH y ahora la tarjeta Alimentar.  \\nEncima comentas algo y salta desde el INADI la idiota de Vicky Donda gritando q están discriminando!\\nPaís de pelotudos.</td>\n",
       "      <td>nada</td>\n",
       "      <td>El texto alude a los bolivianos como \"pelotudos\" y critica que se les brinden servicios y beneficios en Argentina. Además, menciona a Vicky Donda del INADI, acusándola de ser idiota y reaccionar de manera exagerada ante comentarios discriminatorios. La respuesta final es \"racismo, clase, política\"</td>\n",
       "    </tr>\n",
       "  </tbody>\n",
       "</table>\n",
       "</div>"
      ],
      "text/plain": [
       "                                                                                                                                                                   context_tweet  \\\n",
       "29                                                                          Elisa Carrió: \"No tengan miedo, el problema no es el coronavirus sino Putin\" https://t.co/PNCHuFxdnM   \n",
       "32  Luis Brandoni cruzó a Ricardo Alfonsín por sus críticas a la marcha: \"No está en el centro de sus convicciones, de lo que ha mamado desde que nació\" https://t.co/RuqteYDjek   \n",
       "26                        Es norteamericano, sobrevivió al 11-S y se mudó a Argentina: “Es uno de los mejores países del mundo” | Por Florencia Illbele\\nhttps://t.co/Lsiw2RrMnR   \n",
       "31                                          Grabois calificó al campo como \"parásitos que viven de la renta extraordinaria de la tierra que es de todos\" https://t.co/c8XQr9c1aA   \n",
       "65                                                         China celebró el final de su batalla contra el coronavirus: \"Hemos derrotado al actual brote\" https://t.co/b6QmYSjawg   \n",
       "62                                              Guillermo Moreno: \"Es una barbaridad cerrar las villas, el peronismo es amor, ¿qué hubiese dicho Evita?\" https://t.co/FWMNdyO2Qk   \n",
       "85                      🔴 AHORA | El gobierno porteño adelantó que la nueva cuarentena tendrá una fecha de finalización concreta https://t.co/Mu5y2vf9bw https://t.co/N3Z61jmfAJ   \n",
       "98             La frase homofóbica de Jair Bolsonaro al hablar del COVID-19 en Brasil: “Todos nos vamos a morir un día, dejen de ser un país de maricas” https://t.co/QDn9vMUYHh   \n",
       "41                               La desacertada declaración de Bernie Ecclestone: “En muchos casos las personas negras son más racistas que las blancas” https://t.co/30IR1woaCw   \n",
       "18                               Coronavirus: con un piquete fronterizo, bolivianos piden controles sanitarios para los argentinos que entran a ese país https://t.co/EwPYLuDXlA   \n",
       "\n",
       "                                                                                                                                                                                                                                                                                           text  \\\n",
       "29                                                                                                                                                                                                                               @usuario Pongan en cuarentena a está mujer...lo tiene lo tiene   \n",
       "32                                                                                                 @usuario Que convicciones querés que tenga el excremento de @usuario si manotea un millón de pesos por mes del estado. A quien carajo le puede importar la moral que pueda tener un hdp así.   \n",
       "26                                                                                                                     @usuario Obvio míster, lástima el #gobiernodemierda que tenemos y todos sus séquitos planeros. Andate antes q te apuñalen en la calle y la policía no te pueda defender.   \n",
       "31                                                                                                        @usuario LA TIERRA ES PARA EL QUE LA COMPRO CON ESFUERZO Y SUDOR DE SANGRE, PARA QUE VENGAS VOS IMBECIL A QUERER DECIR QUE ES DE TODOS. NO SABES DIFERENCIAR UNA VACA DE UN CHIMANGO.   \n",
       "65                                                                                                                                                                                                                                                           @usuario El famoso cuento chino...   \n",
       "62                                                                                                                                                                                                                                                          @usuario Amor......... a la pobreza   \n",
       "85                                                                                                                                                                                                                                @usuario No seas trolo infogarcha. Que es esa foto de perfil?   \n",
       "98                                                                                                                                                                                                                                 @usuario El Sr. Presidente de Brasil tiene toda la razón !!!   \n",
       "41                                                                                                                                                                                                                  @usuario Tiene razón.  No es políticamente correcto decirlo. Pero es cierto   \n",
       "18  @usuario Acá somos tan boludos que les damos hospitales, escuelas y universidades gratis y como si fuera poco también planes, AUH y ahora la tarjeta Alimentar.  \\nEncima comentas algo y salta desde el INADI la idiota de Vicky Donda gritando q están discriminando!\\nPaís de pelotudos.   \n",
       "\n",
       "   text_label  \\\n",
       "29       nada   \n",
       "32       nada   \n",
       "26       nada   \n",
       "31       nada   \n",
       "65       nada   \n",
       "62       nada   \n",
       "85       nada   \n",
       "98       nada   \n",
       "41       nada   \n",
       "18       nada   \n",
       "\n",
       "                                                                                                                                                                                                                                                                                                      pred_cot  \n",
       "29                                                                                                                El texto alude a que Elisa Carrió tiene problemas de salud mental y sugiere que debería estar en cuarentena, lo cual hace referencia a su discapacidad. La respuesta final es \"discapacidad\"  \n",
       "32                                                                                                           El texto se refiere al excremento como alguien que recibe un millón de pesos del estado, lo cual puede considerarse una crítica hacia su situación socioeconómica. La respuesta final es \"clase\".  \n",
       "26                                                                                                                                                                               El texto insulta al gobierno y a quienes reciben planes sociales, aludiéndolos como \"planeros\". La respuesta final es \"clase\"  \n",
       "31                                                                El texto contiene insultos (\"imbécil\") y una expresión de rechazo hacia el grupo al que pertenece (Grabois y su opinión sobre el campo), pero no hace referencia directa a las características protegidas. La respuesta final es \"política\".  \n",
       "65                                                                                                                          El texto utiliza la expresión \"cuento chino\" de manera peyorativa, lo cual puede ser considerado como un estereotipo o prejuicio hacia los chinos. La respuesta final es \"racismo\"  \n",
       "62                                                                                                                                                                                                                  El texto se refiere al peronismo como amor a la pobreza. La respuesta final es \"política\".  \n",
       "85                                                                           El texto utiliza un insulto homofóbico (\"trolo\") y una expresión despectiva (\"infogarcha\") para referirse a la persona a la que está respondiendo. Además, se burla de su foto de perfil. La respuesta final es \"lgtbi, aspecto\".  \n",
       "98                                                                                                                                                                                                 El texto apoya y respalda el discurso homofóbico de Jair Bolsonaro. La respuesta final es \"lgbti, política\"  \n",
       "41                                                                                                                                                      El texto respalda una declaración discriminatoria al afirmar que las personas negras son más racistas que las blancas. La respuesta final es \"racismo\"  \n",
       "18  El texto alude a los bolivianos como \"pelotudos\" y critica que se les brinden servicios y beneficios en Argentina. Además, menciona a Vicky Donda del INADI, acusándola de ser idiota y reaccionar de manera exagerada ante comentarios discriminatorios. La respuesta final es \"racismo, clase, política\"  "
      ]
     },
     "execution_count": 37,
     "metadata": {},
     "output_type": "execute_result"
    }
   ],
   "source": [
    "sample_df[pred_hate & ~label_hate][[\"context_tweet\", \"text\", \"text_label\", \"pred_cot\", ]].sample(10)"
   ]
  },
  {
   "cell_type": "code",
   "execution_count": 36,
   "metadata": {},
   "outputs": [
    {
     "data": {
      "text/html": [
       "<div>\n",
       "<style scoped>\n",
       "    .dataframe tbody tr th:only-of-type {\n",
       "        vertical-align: middle;\n",
       "    }\n",
       "\n",
       "    .dataframe tbody tr th {\n",
       "        vertical-align: top;\n",
       "    }\n",
       "\n",
       "    .dataframe thead th {\n",
       "        text-align: right;\n",
       "    }\n",
       "</style>\n",
       "<table border=\"1\" class=\"dataframe\">\n",
       "  <thead>\n",
       "    <tr style=\"text-align: right;\">\n",
       "      <th></th>\n",
       "      <th>context_tweet</th>\n",
       "      <th>text</th>\n",
       "      <th>text_label</th>\n",
       "    </tr>\n",
       "  </thead>\n",
       "  <tbody>\n",
       "    <tr>\n",
       "      <th>22340</th>\n",
       "      <td>La historia de la modelo colombiana trans que besa la panza de su esposo embarazado de ocho meses https://t.co/9eSCC1eOHj</td>\n",
       "      <td>@usuario Imaginate llorar por eso kjjj</td>\n",
       "      <td>nada</td>\n",
       "    </tr>\n",
       "    <tr>\n",
       "      <th>13928</th>\n",
       "      <td>Flor de equipo: así será el nuevo magazine de Telefe https://t.co/WSVHSV5ajd https://t.co/5AEkCzX8T9</td>\n",
       "      <td>@usuario Raro que esta señora no fue al canal estatal !!! Trabaja para una corporación???? O no es corpo?</td>\n",
       "      <td>nada</td>\n",
       "    </tr>\n",
       "    <tr>\n",
       "      <th>14100</th>\n",
       "      <td>Barack Obama: \"La guerra a veces es necesaria \" https://t.co/4PgQhChTnY https://t.co/CxKBWKTCfd</td>\n",
       "      <td>@usuario Buah</td>\n",
       "      <td>nada</td>\n",
       "    </tr>\n",
       "    <tr>\n",
       "      <th>32731</th>\n",
       "      <td>Joe Biden nominó a Rachel Levine, una mujer transgénero, para que sea su subsecretaria de Salud https://t.co/xqIA6f1XFK</td>\n",
       "      <td>@usuario Excelente!</td>\n",
       "      <td>nada</td>\n",
       "    </tr>\n",
       "    <tr>\n",
       "      <th>35472</th>\n",
       "      <td>Revocaron la prisión domiciliaria del violador que acosaba a su vecina de 12 años en Tucumán https://t.co/cgtgKeDthM</td>\n",
       "      <td>@usuario Un rayo la justicia , unos teflejos!!</td>\n",
       "      <td>nada</td>\n",
       "    </tr>\n",
       "    <tr>\n",
       "      <th>13893</th>\n",
       "      <td>Una dirigente gremial docente afirmó que “el nivel de circulación de coronavirus dentro de una escuela es tan alto que podría compararse con el de una fiesta clandestina” https://t.co/4Huf0N317Q</td>\n",
       "      <td>@usuario Andá a laburar lcdtm</td>\n",
       "      <td>nada</td>\n",
       "    </tr>\n",
       "    <tr>\n",
       "      <th>27345</th>\n",
       "      <td>Nicolás Maduro ahora le pide auxilio económico al FMI para combatir al coronavirus https://t.co/NwNAqLZIoe</td>\n",
       "      <td>@usuario Que raro no le pidió ayuda a sus amigos dictadores de Corea del Norte, Cuba, China o Rusia</td>\n",
       "      <td>nada</td>\n",
       "    </tr>\n",
       "    <tr>\n",
       "      <th>10443</th>\n",
       "      <td>Alarma entre los científicos en Bolivia por la aparición de un nuevo virus con una letalidad similar al ébola https://t.co/qHLVgRSMRe</td>\n",
       "      <td>@usuario La ptm 🤦‍♂️</td>\n",
       "      <td>nada</td>\n",
       "    </tr>\n",
       "    <tr>\n",
       "      <th>22615</th>\n",
       "      <td>El Gobierno advirtió que habrá un \"pico de delitos contra la propiedad” cuando termine la cuarentena https://t.co/s4LbjLgJ0N</td>\n",
       "      <td>@usuario Ya hay</td>\n",
       "      <td>nada</td>\n",
       "    </tr>\n",
       "    <tr>\n",
       "      <th>25955</th>\n",
       "      <td>Coronavirus: el Papa envió ayuda a transexuales que se quedaron sin clientes https://t.co/eqVgFsDse3 https://t.co/4VeltGuIbB</td>\n",
       "      <td>@usuario Es joda no?</td>\n",
       "      <td>nada</td>\n",
       "    </tr>\n",
       "  </tbody>\n",
       "</table>\n",
       "</div>"
      ],
      "text/plain": [
       "                                                                                                                                                                                            context_tweet  \\\n",
       "22340                                                                           La historia de la modelo colombiana trans que besa la panza de su esposo embarazado de ocho meses https://t.co/9eSCC1eOHj   \n",
       "13928                                                                                                Flor de equipo: así será el nuevo magazine de Telefe https://t.co/WSVHSV5ajd https://t.co/5AEkCzX8T9   \n",
       "14100                                                                                                     Barack Obama: \"La guerra a veces es necesaria \" https://t.co/4PgQhChTnY https://t.co/CxKBWKTCfd   \n",
       "32731                                                                             Joe Biden nominó a Rachel Levine, una mujer transgénero, para que sea su subsecretaria de Salud https://t.co/xqIA6f1XFK   \n",
       "35472                                                                                Revocaron la prisión domiciliaria del violador que acosaba a su vecina de 12 años en Tucumán https://t.co/cgtgKeDthM   \n",
       "13893  Una dirigente gremial docente afirmó que “el nivel de circulación de coronavirus dentro de una escuela es tan alto que podría compararse con el de una fiesta clandestina” https://t.co/4Huf0N317Q   \n",
       "27345                                                                                          Nicolás Maduro ahora le pide auxilio económico al FMI para combatir al coronavirus https://t.co/NwNAqLZIoe   \n",
       "10443                                                               Alarma entre los científicos en Bolivia por la aparición de un nuevo virus con una letalidad similar al ébola https://t.co/qHLVgRSMRe   \n",
       "22615                                                                        El Gobierno advirtió que habrá un \"pico de delitos contra la propiedad” cuando termine la cuarentena https://t.co/s4LbjLgJ0N   \n",
       "25955                                                                        Coronavirus: el Papa envió ayuda a transexuales que se quedaron sin clientes https://t.co/eqVgFsDse3 https://t.co/4VeltGuIbB   \n",
       "\n",
       "                                                                                                            text  \\\n",
       "22340                                                                     @usuario Imaginate llorar por eso kjjj   \n",
       "13928  @usuario Raro que esta señora no fue al canal estatal !!! Trabaja para una corporación???? O no es corpo?   \n",
       "14100                                                                                              @usuario Buah   \n",
       "32731                                                                                        @usuario Excelente!   \n",
       "35472                                                             @usuario Un rayo la justicia , unos teflejos!!   \n",
       "13893                                                                              @usuario Andá a laburar lcdtm   \n",
       "27345        @usuario Que raro no le pidió ayuda a sus amigos dictadores de Corea del Norte, Cuba, China o Rusia   \n",
       "10443                                                                                       @usuario La ptm 🤦‍♂️   \n",
       "22615                                                                                            @usuario Ya hay   \n",
       "25955                                                                                       @usuario Es joda no?   \n",
       "\n",
       "      text_label  \n",
       "22340       nada  \n",
       "13928       nada  \n",
       "14100       nada  \n",
       "32731       nada  \n",
       "35472       nada  \n",
       "13893       nada  \n",
       "27345       nada  \n",
       "10443       nada  \n",
       "22615       nada  \n",
       "25955       nada  "
      ]
     },
     "execution_count": 36,
     "metadata": {},
     "output_type": "execute_result"
    }
   ],
   "source": [
    "df_train[df_train[\"num_hatred\"] == 0][[\"context_tweet\", \"text\", \"text_label\"]].sample(10)"
   ]
  },
  {
   "cell_type": "code",
   "execution_count": 177,
   "metadata": {},
   "outputs": [
    {
     "data": {
      "text/html": [
       "<div>\n",
       "<style scoped>\n",
       "    .dataframe tbody tr th:only-of-type {\n",
       "        vertical-align: middle;\n",
       "    }\n",
       "\n",
       "    .dataframe tbody tr th {\n",
       "        vertical-align: top;\n",
       "    }\n",
       "\n",
       "    .dataframe thead th {\n",
       "        text-align: right;\n",
       "    }\n",
       "</style>\n",
       "<table border=\"1\" class=\"dataframe\">\n",
       "  <thead>\n",
       "    <tr style=\"text-align: right;\">\n",
       "      <th></th>\n",
       "      <th>context_tweet</th>\n",
       "      <th>text</th>\n",
       "      <th>text_label</th>\n",
       "      <th>pred_cot</th>\n",
       "    </tr>\n",
       "  </thead>\n",
       "  <tbody>\n",
       "    <tr>\n",
       "      <th>690</th>\n",
       "      <td>En promedio, los beneficiarios de planes sociales cobrarán $40.000 en diciembre | Por Pablo Wende https://t.co/OaSD2ZmmHy</td>\n",
       "      <td>@usuario @usuario Les seguimos pagando el crédito de ANSES con el q se compraron el 50’ \\nArroyo mismo lo dijo cuando empezó la cuareterna: -muchos tienen créditos y les llega descontado del plan”-\\nPagamos sus vicios y sus “gustitos “</td>\n",
       "      <td>nada</td>\n",
       "      <td>El texto se refiere a los beneficiarios de planes sociales como personas que gastan el dinero en vicios y gustitos. La respuesta final es \"clase\"</td>\n",
       "    </tr>\n",
       "    <tr>\n",
       "      <th>294</th>\n",
       "      <td>Juan Grabois, sobre la post pandemia: “Si no hay una intervención política, va a haber un fuerte aumento de la criminalidad y un proceso de toma de tierras” https://t.co/h5wlZGPRQd</td>\n",
       "      <td>@usuario Dnd vive Grabois ?? En algún asentamiento ó barrio privado ??</td>\n",
       "      <td>nada</td>\n",
       "      <td>El texto cuestiona el lugar de residencia de Juan Grabois, sugiriendo la posibilidad de que viva en un asentamiento o barrio privado. La respuesta final es \"clase\"</td>\n",
       "    </tr>\n",
       "    <tr>\n",
       "      <th>682</th>\n",
       "      <td>Juan Grabois: \"Hay una oleada de toma de tierras y se va a profundizar \" https://t.co/2B1JL2BkHh https://t.co/jJXbT0X564</td>\n",
       "      <td>@usuario Espero que la gente, dueña,.los saque a patadas en el culo. Quien se creen que son. Tomar tierra, trabaja y pedí un crédito. Por Asís e hacen las cosas, así hacen el resto de los argentinos que trabaja.</td>\n",
       "      <td>clase, criminal</td>\n",
       "      <td>El texto no contiene discurso discriminatorio. La respuesta final es 'nada'</td>\n",
       "    </tr>\n",
       "    <tr>\n",
       "      <th>149</th>\n",
       "      <td>El Polo Obrero realiza un corte en la Panamericana en contra de la flexibilización de la cuarentena y en reclamo de aumentos a los planes sociales https://t.co/fHOeCKJdY6</td>\n",
       "      <td>@usuario A ver si entendí, cortan para q nadie vaya a laburar y q leaumente la limosna ??!!!</td>\n",
       "      <td>nada</td>\n",
       "      <td>El texto critica a los manifestantes por cortar la Panamericana y reclamar aumentos a los planes sociales, llamándolos \"limosna\". La respuesta final es \"clase\"</td>\n",
       "    </tr>\n",
       "    <tr>\n",
       "      <th>93</th>\n",
       "      <td>Pablo Moyano amenaza con un paro de recolectores en la Ciudad de Buenos Aires https://t.co/tPArqK6otB https://t.co/8F6nHRi0Jr</td>\n",
       "      <td>@usuario CUANTA PLATA TIENEN ENTRE ESTOS TRES TIPOS. SON MULTIMILLONARIOS.</td>\n",
       "      <td>nada</td>\n",
       "      <td>El texto se refiere a la cantidad de dinero que tienen entre los tres mencionados. La respuesta final es \"clase\"</td>\n",
       "    </tr>\n",
       "  </tbody>\n",
       "</table>\n",
       "</div>"
      ],
      "text/plain": [
       "                                                                                                                                                                            context_tweet  \\\n",
       "690                                                             En promedio, los beneficiarios de planes sociales cobrarán $40.000 en diciembre | Por Pablo Wende https://t.co/OaSD2ZmmHy   \n",
       "294  Juan Grabois, sobre la post pandemia: “Si no hay una intervención política, va a haber un fuerte aumento de la criminalidad y un proceso de toma de tierras” https://t.co/h5wlZGPRQd   \n",
       "682                                                              Juan Grabois: \"Hay una oleada de toma de tierras y se va a profundizar \" https://t.co/2B1JL2BkHh https://t.co/jJXbT0X564   \n",
       "149            El Polo Obrero realiza un corte en la Panamericana en contra de la flexibilización de la cuarentena y en reclamo de aumentos a los planes sociales https://t.co/fHOeCKJdY6   \n",
       "93                                                          Pablo Moyano amenaza con un paro de recolectores en la Ciudad de Buenos Aires https://t.co/tPArqK6otB https://t.co/8F6nHRi0Jr   \n",
       "\n",
       "                                                                                                                                                                                                                                            text  \\\n",
       "690  @usuario @usuario Les seguimos pagando el crédito de ANSES con el q se compraron el 50’ \\nArroyo mismo lo dijo cuando empezó la cuareterna: -muchos tienen créditos y les llega descontado del plan”-\\nPagamos sus vicios y sus “gustitos “   \n",
       "294                                                                                                                                                                       @usuario Dnd vive Grabois ?? En algún asentamiento ó barrio privado ??   \n",
       "682                          @usuario Espero que la gente, dueña,.los saque a patadas en el culo. Quien se creen que son. Tomar tierra, trabaja y pedí un crédito. Por Asís e hacen las cosas, así hacen el resto de los argentinos que trabaja.   \n",
       "149                                                                                                                                                 @usuario A ver si entendí, cortan para q nadie vaya a laburar y q leaumente la limosna ??!!!   \n",
       "93                                                                                                                                                                    @usuario CUANTA PLATA TIENEN ENTRE ESTOS TRES TIPOS. SON MULTIMILLONARIOS.   \n",
       "\n",
       "          text_label  \\\n",
       "690             nada   \n",
       "294             nada   \n",
       "682  clase, criminal   \n",
       "149             nada   \n",
       "93              nada   \n",
       "\n",
       "                                                                                                                                                                pred_cot  \n",
       "690                    El texto se refiere a los beneficiarios de planes sociales como personas que gastan el dinero en vicios y gustitos. La respuesta final es \"clase\"  \n",
       "294  El texto cuestiona el lugar de residencia de Juan Grabois, sugiriendo la posibilidad de que viva en un asentamiento o barrio privado. La respuesta final es \"clase\"  \n",
       "682                                                                                          El texto no contiene discurso discriminatorio. La respuesta final es 'nada'  \n",
       "149      El texto critica a los manifestantes por cortar la Panamericana y reclamar aumentos a los planes sociales, llamándolos \"limosna\". La respuesta final es \"clase\"  \n",
       "93                                                      El texto se refiere a la cantidad de dinero que tienen entre los tres mencionados. La respuesta final es \"clase\"  "
      ]
     },
     "execution_count": 177,
     "metadata": {},
     "output_type": "execute_result"
    }
   ],
   "source": [
    "# LGBTI errors\n",
    "\n",
    "label = \"CLASS\"\n",
    "sample_df.loc[sample_df[label] != sample_df[f\"PRED_{label}\"]][[\"context_tweet\", \"text\", \"text_label\", \"pred_cot\"]].sample(5)"
   ]
  },
  {
   "cell_type": "code",
   "execution_count": 117,
   "metadata": {},
   "outputs": [
    {
     "data": {
      "text/html": [
       "<div>\n",
       "<style scoped>\n",
       "    .dataframe tbody tr th:only-of-type {\n",
       "        vertical-align: middle;\n",
       "    }\n",
       "\n",
       "    .dataframe tbody tr th {\n",
       "        vertical-align: top;\n",
       "    }\n",
       "\n",
       "    .dataframe thead th {\n",
       "        text-align: right;\n",
       "    }\n",
       "</style>\n",
       "<table border=\"1\" class=\"dataframe\">\n",
       "  <thead>\n",
       "    <tr style=\"text-align: right;\">\n",
       "      <th></th>\n",
       "      <th>context_tweet</th>\n",
       "      <th>text</th>\n",
       "      <th>text_label</th>\n",
       "    </tr>\n",
       "  </thead>\n",
       "  <tbody>\n",
       "    <tr>\n",
       "      <th>32287</th>\n",
       "      <td>Cecilia Moreau: \"No se puede permitir que la minoría le imponga a la mayoría qué temas discutir\" https://t.co/DIOKystxnf</td>\n",
       "      <td>@usuario COCHINA MENTIROSA!! CÓMPLICE  canalla de la mafia KAKA!!</td>\n",
       "      <td>política, aspecto</td>\n",
       "    </tr>\n",
       "    <tr>\n",
       "      <th>26017</th>\n",
       "      <td>Coronavirus en Argentina: el Gobierno convocará a miles de piqueteros para convencer a la gente que se vacune https://t.co/XofDz33SV1</td>\n",
       "      <td>@usuario Los quieren concencer a los palazos? Vacunena los piqueteros y pkanwros primero. @usuario @usuario @usuario @usuario @usuario</td>\n",
       "      <td>clase, política</td>\n",
       "    </tr>\n",
       "    <tr>\n",
       "      <th>7622</th>\n",
       "      <td>\"Día menstrual para estudiantes \": el proyecto de ley de Carmela Moreau https://t.co/OfxmKpX7bT https://t.co/YxTJbSrQ3k</td>\n",
       "      <td>@usuario Gobierno nacional popular y generador de excusas para no trabajar, y digo gobierno x que esta inepta, incapaz, indigna y descerebrada de Carmela tiene el sello kk ya incorporado en el adn #GobiernoDeInutiles #gobiernodemierda #GobiernoDeMierda</td>\n",
       "      <td>mujer, política</td>\n",
       "    </tr>\n",
       "    <tr>\n",
       "      <th>28206</th>\n",
       "      <td>Santa Fe: rompen más silobolsas y crece la preocupación en el campo https://t.co/Pb1gaBqyXU https://t.co/cPlGjy3V6T</td>\n",
       "      <td>@usuario hay que hacer guardia, meter bala y enterrar a los soretes para abonar la tierra</td>\n",
       "      <td>política, criminal</td>\n",
       "    </tr>\n",
       "    <tr>\n",
       "      <th>28983</th>\n",
       "      <td>'País de maricas': ¿Por qué Jair Bolsonaro vuelve a atacar a los homosexuales en Brasil? https://t.co/pVdFjiztkm</td>\n",
       "      <td>@usuario El discurso de bolsonaro donde dice \"maricas\" es brillante, sólo eso basta para meresca ser el presidente de Sudamérica. Clarín es una cueva de zurdos y progresistas que se pintan los labios punto. Clarín suavecito, te pasas de marica!</td>\n",
       "      <td>lgbti, política</td>\n",
       "    </tr>\n",
       "  </tbody>\n",
       "</table>\n",
       "</div>"
      ],
      "text/plain": [
       "                                                                                                                               context_tweet  \\\n",
       "32287               Cecilia Moreau: \"No se puede permitir que la minoría le imponga a la mayoría qué temas discutir\" https://t.co/DIOKystxnf   \n",
       "26017  Coronavirus en Argentina: el Gobierno convocará a miles de piqueteros para convencer a la gente que se vacune https://t.co/XofDz33SV1   \n",
       "7622                 \"Día menstrual para estudiantes \": el proyecto de ley de Carmela Moreau https://t.co/OfxmKpX7bT https://t.co/YxTJbSrQ3k   \n",
       "28206                    Santa Fe: rompen más silobolsas y crece la preocupación en el campo https://t.co/Pb1gaBqyXU https://t.co/cPlGjy3V6T   \n",
       "28983                       'País de maricas': ¿Por qué Jair Bolsonaro vuelve a atacar a los homosexuales en Brasil? https://t.co/pVdFjiztkm   \n",
       "\n",
       "                                                                                                                                                                                                                                                               text  \\\n",
       "32287                                                                                                                                                                                             @usuario COCHINA MENTIROSA!! CÓMPLICE  canalla de la mafia KAKA!!   \n",
       "26017                                                                                                                        @usuario Los quieren concencer a los palazos? Vacunena los piqueteros y pkanwros primero. @usuario @usuario @usuario @usuario @usuario   \n",
       "7622   @usuario Gobierno nacional popular y generador de excusas para no trabajar, y digo gobierno x que esta inepta, incapaz, indigna y descerebrada de Carmela tiene el sello kk ya incorporado en el adn #GobiernoDeInutiles #gobiernodemierda #GobiernoDeMierda   \n",
       "28206                                                                                                                                                                     @usuario hay que hacer guardia, meter bala y enterrar a los soretes para abonar la tierra   \n",
       "28983          @usuario El discurso de bolsonaro donde dice \"maricas\" es brillante, sólo eso basta para meresca ser el presidente de Sudamérica. Clarín es una cueva de zurdos y progresistas que se pintan los labios punto. Clarín suavecito, te pasas de marica!   \n",
       "\n",
       "               text_label  \n",
       "32287   política, aspecto  \n",
       "26017     clase, política  \n",
       "7622      mujer, política  \n",
       "28206  política, criminal  \n",
       "28983     lgbti, política  "
      ]
     },
     "execution_count": 117,
     "metadata": {},
     "output_type": "execute_result"
    }
   ],
   "source": [
    "df_train[(df_train[\"POLITICS\"] > 0) & (df_train[\"num_hatred\"] > 1)][[\"context_tweet\", \"text\", \"text_label\"]].sample(5)"
   ]
  },
  {
   "cell_type": "code",
   "execution_count": null,
   "metadata": {},
   "outputs": [],
   "source": []
  }
 ],
 "metadata": {
  "kernelspec": {
   "display_name": ".venv",
   "language": "python",
   "name": "python3"
  },
  "language_info": {
   "codemirror_mode": {
    "name": "ipython",
    "version": 3
   },
   "file_extension": ".py",
   "mimetype": "text/x-python",
   "name": "python",
   "nbconvert_exporter": "python",
   "pygments_lexer": "ipython3",
   "version": "3.10.7"
  }
 },
 "nbformat": 4,
 "nbformat_minor": 2
}
