{
 "cells": [
  {
   "cell_type": "code",
   "execution_count": 89,
   "metadata": {},
   "outputs": [
    {
     "name": "stdout",
     "output_type": "stream",
     "text": [
      "The autoreload extension is already loaded. To reload it, use:\n",
      "  %reload_ext autoreload\n"
     ]
    }
   ],
   "source": [
    "\n",
    "%load_ext autoreload\n",
    "%autoreload 2\n",
    "from rioplatense_hs.openai import get_completion\n",
    "from datasets import load_dataset\n",
    "\n",
    "dataset = load_dataset(\"piuba-bigdata/contextualized_hate_speech\")\n"
   ]
  },
  {
   "cell_type": "code",
   "execution_count": 90,
   "metadata": {},
   "outputs": [
    {
     "data": {
      "text/plain": [
       "list"
      ]
     },
     "execution_count": 90,
     "metadata": {},
     "output_type": "execute_result"
    }
   ],
   "source": [
    "import json\n",
    "\n",
    "raw_dataset = json.load(open(\"../data/dataset.raw.json\"))\n",
    "\n",
    "type(raw_dataset)"
   ]
  },
  {
   "cell_type": "code",
   "execution_count": 91,
   "metadata": {},
   "outputs": [
    {
     "data": {
      "text/plain": [
       "Dataset({\n",
       "    features: ['id', 'title', 'text', 'context_tweet', 'HATEFUL', 'body', 'CALLS', 'WOMEN', 'LGBTI', 'RACISM', 'CLASS', 'POLITICS', 'DISABLED', 'APPEARANCE', 'CRIMINAL'],\n",
       "    num_rows: 9106\n",
       "})"
      ]
     },
     "execution_count": 91,
     "metadata": {},
     "output_type": "execute_result"
    }
   ],
   "source": [
    "dataset[\"dev\"]"
   ]
  },
  {
   "cell_type": "code",
   "execution_count": 92,
   "metadata": {},
   "outputs": [],
   "source": [
    "from rioplatense_hs.preprocessing import labels, label_to_text\n",
    "\n",
    "df_train = dataset[\"train\"].to_pandas()\n",
    "df_test = dataset[\"test\"].to_pandas()\n",
    "df_dev = dataset[\"dev\"].to_pandas()\n",
    "df_train[\"num_hatred\"] = df_train[labels].sum(axis=1)\n",
    "df_dev[\"num_hatred\"] = df_dev[labels].sum(axis=1)\n",
    "df_test[\"num_hatred\"] = df_test[labels].sum(axis=1)\n",
    "\n",
    "df_train[\"text_label\"] = df_train.apply(lambda x: label_to_text(x), axis=1)\n",
    "df_dev[\"text_label\"] = df_dev.apply(lambda x: label_to_text(x), axis=1)\n",
    "df_test[\"text_label\"] = df_test.apply(lambda x: label_to_text(x), axis=1)\n"
   ]
  },
  {
   "cell_type": "code",
   "execution_count": 93,
   "metadata": {},
   "outputs": [
    {
     "data": {
      "text/plain": [
       "['WOMEN',\n",
       " 'LGBTI',\n",
       " 'RACISM',\n",
       " 'CLASS',\n",
       " 'POLITICS',\n",
       " 'DISABLED',\n",
       " 'APPEARANCE',\n",
       " 'CRIMINAL']"
      ]
     },
     "execution_count": 93,
     "metadata": {},
     "output_type": "execute_result"
    }
   ],
   "source": [
    "labels"
   ]
  },
  {
   "cell_type": "code",
   "execution_count": 94,
   "metadata": {},
   "outputs": [
    {
     "data": {
      "text/html": [
       "<div>\n",
       "<style scoped>\n",
       "    .dataframe tbody tr th:only-of-type {\n",
       "        vertical-align: middle;\n",
       "    }\n",
       "\n",
       "    .dataframe tbody tr th {\n",
       "        vertical-align: top;\n",
       "    }\n",
       "\n",
       "    .dataframe thead th {\n",
       "        text-align: right;\n",
       "    }\n",
       "</style>\n",
       "<table border=\"1\" class=\"dataframe\">\n",
       "  <thead>\n",
       "    <tr style=\"text-align: right;\">\n",
       "      <th></th>\n",
       "      <th>context_tweet</th>\n",
       "      <th>text</th>\n",
       "    </tr>\n",
       "  </thead>\n",
       "  <tbody>\n",
       "    <tr>\n",
       "      <th>27884</th>\n",
       "      <td>Un diputado propuso la pena de muerte para violadores y asesinos: “Para mí no son seres humanos” | Por Matías Russo Coroman\\nhttps://t.co/vfthAkwVzq</td>\n",
       "      <td>@usuario Si agregan a la Chorra  y todos los corruptos que caminan la argentina entonces siiiii !!</td>\n",
       "    </tr>\n",
       "    <tr>\n",
       "      <th>293</th>\n",
       "      <td>Un diputado propuso la pena de muerte para violadores y asesinos: “Para mí no son seres humanos” | Por Matías Russo Coroman\\nhttps://t.co/vfthAkwVzq</td>\n",
       "      <td>@usuario Sí esto es tal cuál está bien.</td>\n",
       "    </tr>\n",
       "  </tbody>\n",
       "</table>\n",
       "</div>"
      ],
      "text/plain": [
       "                                                                                                                                              context_tweet  \\\n",
       "27884  Un diputado propuso la pena de muerte para violadores y asesinos: “Para mí no son seres humanos” | Por Matías Russo Coroman\\nhttps://t.co/vfthAkwVzq   \n",
       "293    Un diputado propuso la pena de muerte para violadores y asesinos: “Para mí no son seres humanos” | Por Matías Russo Coroman\\nhttps://t.co/vfthAkwVzq   \n",
       "\n",
       "                                                                                                     text  \n",
       "27884  @usuario Si agregan a la Chorra  y todos los corruptos que caminan la argentina entonces siiiii !!  \n",
       "293                                                               @usuario Sí esto es tal cuál está bien.  "
      ]
     },
     "execution_count": 94,
     "metadata": {},
     "output_type": "execute_result"
    }
   ],
   "source": [
    "df_train[df_train[\"CRIMINAL\"] > 0].sample(2)[[\"context_tweet\", \"text\"]]"
   ]
  },
  {
   "cell_type": "code",
   "execution_count": 95,
   "metadata": {},
   "outputs": [],
   "source": [
    "import pandas as pd\n",
    "\n",
    "pd.options.display.max_colwidth = 1000\n",
    "#df_train.loc[df_train[\"LGBTI\"] > 0, [\"title\", \"text\", \"text_label\"]].sample(20)"
   ]
  },
  {
   "cell_type": "code",
   "execution_count": 98,
   "metadata": {},
   "outputs": [
    {
     "name": "stdout",
     "output_type": "stream",
     "text": [
      "Determinar si el siguiente mensaje contiene discurso discriminatorio o no. Entendemos que hay discurso discriminatorio en el tweet si tiene declaraciones de carácter intenso e irracional de rechazo, enemistad y aborrecimiento contra un individuo o contra un grupo, siendo estos objetivos de estas expresiones por poseer de las siguientes características protegidas:\n",
      "\n",
      "- mujer: Mujeres o movimiento feminista\n",
      "- lgbti: Género, identidad sexual\n",
      "- racismo: Inmigrantes, extranjeros, religión, pueblos aborígenes u otras nacionalidades\n",
      "- clase: Clase, situación socioeconómica o barrio de residencia\n",
      "- discapacidad: Discapacidades, problemas de salud mental o de adicción al alcohol u otras drogas\n",
      "- política: Opinión o ideología política.\n",
      "- aspecto: Aspecto, gordofobia o edad\n",
      "- criminal: Antecedentes penales o estar privado de la libertad\n",
      "\n",
      "Responder una o varias de las características separadas por coma, o bien \"nada\" si no hay discurso discriminatorio. Pensá paso a paso la respuesta antes de responder.\n",
      "###\n",
      "contexto: Al borde del llanto, Nati Jota pidió disculpas por sus repudiables tuits pero los justificó: 'Quería sumar seguidores'\n",
      "texto: Show o nada mi amorrr!! La imbesilidad al palo!\n",
      "salida: Es un insulto y no menciona nada relacionado a las características protegidas. La respuesta final es 'nada' \n",
      "###\n",
      "contexto: Violento motín en la cárcel de Devoto: tomaron e incendiaron pabellones\n",
      "texto: Hermanito lo que son esos grones. Ahí adentro le robaron la billetera al coronavirus\n",
      "salida: La palabra \"grones\" significa negros, lo cual alude a su color de piel y aspecto. Además, se refiere a su condición de presos. La respuesta final es \"criminal, racismo, aspecto\" \n",
      "###\n",
      "contexto: Mayra Mendoza criticó el banderazo contra el Gobierno: \"No tiene sentido y es antidemocrático\"\n",
      "texto: Que negrita villera....ni con la plata q roba puede arreglarse\n",
      "salida: El texto alude a su color de piel, a su condición social (villera), y a su aspecto. La respuesta final es \"racismo, aspecto, clase\" \n",
      "###\n",
      "contexto: Les darán DNI provisorio a personas en situación vulnerable, para que puedan empezar a cobrar planes sociales\n",
      "texto: Seguimos alimentando vagos\n",
      "salida: El comentario se refiere a quienes cobran planes sociales como vagos. La respuesta final es \"clase\" \n",
      "###\n",
      "contexto: No da tregua: sin ropa y desafiante Flor Peña volvió a mostrar su lado más hot\n",
      "texto: K lado hot tiene más varices k mi abuela. Tiene mas puesta de espalda k karagian trola\n",
      "salida: El texto alude a su aspecto (las varices) y la desprecia por \"trola\". La respuesta final es \"mujer, aspecto\" \n",
      "###\n",
      "contexto: Wuhan celebra el fin de la cuarentena por el coronavirus con un mensaje para el resto del mundo: \"Aprendan de nuestros errores\"\n",
      "texto: Chinos culiados de mierda ojalá se mueran todos\n",
      "salida: Desea que se mueran los chinos por ser los supuestos culpables del COVID-19. La respuesta final es \"racismo\" \n",
      "###\n",
      "contexto: Otro ataque de furia contra un colectivero: una mujer trans le pateó la unidad y le tiró un ladrillazo\n",
      "texto: Un tipo operado. Con la fuerza de un hombre y no la de una mujer\n",
      "salida: El texto alude a que la mujer trans es un hombre. La respuesta final es \"lgbti\" \n",
      "###\n",
      "contexto: Elisa Carrió denunció que el Gobierno usa la pandemia para \"establecer un estado de sitio\"\n",
      "texto: Gorda psiquiátrica\n",
      "salida: El texto alude a su aspecto (gorda) y la acusa de tener problemas psiquiátricos. La respuesta final es \"aspecto, discapacidad\" \n",
      "###\n",
      "contexto: Los dos presos heridos de bala en el motín de Devoto tienen Covid-19 y uno quedó hemipléjico\n",
      "texto: justicia divina!\n",
      "salida: El texto alude a que los presos merecen ser baleados. La respuesta final es 'criminal' \n",
      "###\n",
      "contexto: Ginés González García: \"Le tengo mucho miedo al verano, el riesgo va a seguir\"\n",
      "texto: A este viejo le quedan 2 neuronas 1 para comer 2 para cagar\n",
      "salida: El texto alude a su edad, aduciendo que no tiene capacidades mentales acordes. La respuesta final es \"aspecto\" \n",
      "###\n",
      "contexto: Estados Unidos restringe los vuelos debido al COVID-19\n",
      "texto: Todo esto es una locura\n",
      "salida: \n"
     ]
    }
   ],
   "source": [
    "from pprint import pprint as pp\n",
    "from rioplatense_hs.prompting import build_prompt\n",
    "\n",
    "print(build_prompt(contexto=\"Estados Unidos restringe los vuelos debido al COVID-19\", texto=\"Todo esto es una locura\"))"
   ]
  },
  {
   "cell_type": "code",
   "execution_count": 99,
   "metadata": {},
   "outputs": [],
   "source": [
    "# sample_df = df_test.sample(100)\n",
    "\n",
    "sample_df = df_dev.sample(700, random_state=2022)"
   ]
  },
  {
   "cell_type": "code",
   "execution_count": 100,
   "metadata": {},
   "outputs": [
    {
     "data": {
      "text/plain": [
       "0.16857142857142857"
      ]
     },
     "execution_count": 100,
     "metadata": {},
     "output_type": "execute_result"
    }
   ],
   "source": [
    "(sample_df[\"num_hatred\"] > 0).mean()"
   ]
  },
  {
   "cell_type": "code",
   "execution_count": 35,
   "metadata": {},
   "outputs": [],
   "source": [
    "outs = {\n",
    "\n",
    "}"
   ]
  },
  {
   "cell_type": "code",
   "execution_count": 36,
   "metadata": {},
   "outputs": [
    {
     "data": {
      "text/plain": [
       "Index(['id', 'title', 'text', 'context_tweet', 'HATEFUL', 'body', 'CALLS',\n",
       "       'WOMEN', 'LGBTI', 'RACISM', 'CLASS', 'POLITICS', 'DISABLED',\n",
       "       'APPEARANCE', 'CRIMINAL', 'num_hatred', 'text_label', 'pred_cot'],\n",
       "      dtype='object')"
      ]
     },
     "execution_count": 36,
     "metadata": {},
     "output_type": "execute_result"
    }
   ],
   "source": [
    "sample_df.columns"
   ]
  },
  {
   "cell_type": "code",
   "execution_count": 101,
   "metadata": {},
   "outputs": [
    {
     "name": "stderr",
     "output_type": "stream",
     "text": [
      "100%|██████████| 700/700 [17:09<00:00,  1.47s/it]\n"
     ]
    }
   ],
   "source": [
    "from tqdm import tqdm\n",
    "import time\n",
    "from rioplatense_hs.prompting import get_response\n",
    "\n",
    "for idx, row in tqdm(sample_df.iterrows(), total=sample_df.shape[0]):\n",
    "\n",
    "    if idx in outs:\n",
    "        continue\n",
    "\n",
    "    prompt, response = get_response(contexto=row[\"context_tweet\"], texto=row[\"text\"])\n",
    "\n",
    "    outs[idx] = (prompt, response)\n",
    "\n",
    "    time.sleep(0.01)"
   ]
  },
  {
   "cell_type": "code",
   "execution_count": 102,
   "metadata": {},
   "outputs": [],
   "source": [
    "sample_df[\"pred_cot\"] = sample_df.index.map(lambda x: outs[x][1])\n",
    "sample_df[\"prompt\"] = sample_df.index.map(lambda x: outs[x][0])\n"
   ]
  },
  {
   "cell_type": "code",
   "execution_count": 103,
   "metadata": {},
   "outputs": [
    {
     "data": {
      "text/html": [
       "<div>\n",
       "<style scoped>\n",
       "    .dataframe tbody tr th:only-of-type {\n",
       "        vertical-align: middle;\n",
       "    }\n",
       "\n",
       "    .dataframe tbody tr th {\n",
       "        vertical-align: top;\n",
       "    }\n",
       "\n",
       "    .dataframe thead th {\n",
       "        text-align: right;\n",
       "    }\n",
       "</style>\n",
       "<table border=\"1\" class=\"dataframe\">\n",
       "  <thead>\n",
       "    <tr style=\"text-align: right;\">\n",
       "      <th></th>\n",
       "      <th>context_tweet</th>\n",
       "      <th>text</th>\n",
       "      <th>text_label</th>\n",
       "      <th>pred_cot</th>\n",
       "    </tr>\n",
       "  </thead>\n",
       "  <tbody>\n",
       "    <tr>\n",
       "      <th>5404</th>\n",
       "      <td>La científica argentina Sandra Pitta apuntó su visión crítica sobre el manejo de la pandemia: “Se hicieron las cosas mal en la Argentina” | Por Daniela Blanco https://t.co/j7IqUGoNEY</td>\n",
       "      <td>@usuario UNA POBRE MEDIOCRE CON DELIRIOS DE IMPORTANCIA USADA Y BURLADA POR LOS QUE ELLA APOYA!!!\\nEL NIVEL DE DAÑO AUTOINFLINGIDO ES IGUAL A SU ODIO POR LOS QUE HACEN TODO BIEN Y SON SUPERIORES: ENVIDIA!!!</td>\n",
       "      <td>nada</td>\n",
       "      <td>El texto contiene insultos y desprecio hacia la científica, pero no se mencionan características protegidas. La respuesta final es 'nada'.</td>\n",
       "    </tr>\n",
       "    <tr>\n",
       "      <th>4894</th>\n",
       "      <td>Un carnicero mató a un ladrón que entró a robarle y un grupo de 20 personas intentó prender fuego el local como venganza https://t.co/AEVCa73yGG</td>\n",
       "      <td>@usuario Gracias a este gobierno de mierda que garantiza los \"derechos\" de los chorros HDP y no el de los ciudadanos de bien!</td>\n",
       "      <td>nada</td>\n",
       "      <td>El texto hace referencia negativa al gobierno y su política de derechos para \"los chorros HDP\" (ladrones). La respuesta final es \"política\"</td>\n",
       "    </tr>\n",
       "    <tr>\n",
       "      <th>7517</th>\n",
       "      <td>El senador José Mayans defendió a Gildo Insfrán: “En pandemia no hay derechos” https://t.co/cRKKb1zDZj</td>\n",
       "      <td>@usuario Y luego se ofenden con el término #Infectafura\\n\\nHDP!!!\\n\\n#ElPeorGobiernoDeLaHistoria \\n#LaPeorVicepresidenteDeLaHistoria \\n#ElPeorPresidenteDeLaHistoria \\n#GobiernoDeInutiles \\n#GobiernoCriminalyCorrupto</td>\n",
       "      <td>nada</td>\n",
       "      <td>El texto contiene insultos y descalificaciones, pero no hace referencia a las características protegidas mencionadas anteriormente. La respuesta final es 'nada'.</td>\n",
       "    </tr>\n",
       "    <tr>\n",
       "      <th>6526</th>\n",
       "      <td>Murió el hombre que pasó un año prófugo por violar a dos nenas y fue encontrado en terapia intensiva con coronavirus | Por Pilar Safatle https://t.co/A6BMDmuRI0</td>\n",
       "      <td>@usuario La justicia núnca la hace el Poder Judicial. Tiene que pasar algo asi para eliminar estas lacras de la sociedad.</td>\n",
       "      <td>nada</td>\n",
       "      <td>El texto alude a las personas que cometen violaciones como \"lacras de la sociedad\". La respuesta final es \"criminal\".</td>\n",
       "    </tr>\n",
       "    <tr>\n",
       "      <th>768</th>\n",
       "      <td>Tras su salida de Casados con hijos, Érica Rivas contó cuándo se hizo feminista https://t.co/0jhdC6Bnyz https://t.co/ymHOSjcXP2</td>\n",
       "      <td>@usuario Borracha. Ahora le digo al canal que te alcance una etiqueta Roja</td>\n",
       "      <td>discapacidad</td>\n",
       "      <td>El texto alude a la condición de \"borracha\" de la persona mencionada. La respuesta final es \"aspecto\".</td>\n",
       "    </tr>\n",
       "  </tbody>\n",
       "</table>\n",
       "</div>"
      ],
      "text/plain": [
       "                                                                                                                                                                               context_tweet  \\\n",
       "5404  La científica argentina Sandra Pitta apuntó su visión crítica sobre el manejo de la pandemia: “Se hicieron las cosas mal en la Argentina” | Por Daniela Blanco https://t.co/j7IqUGoNEY   \n",
       "4894                                        Un carnicero mató a un ladrón que entró a robarle y un grupo de 20 personas intentó prender fuego el local como venganza https://t.co/AEVCa73yGG   \n",
       "7517                                                                                  El senador José Mayans defendió a Gildo Insfrán: “En pandemia no hay derechos” https://t.co/cRKKb1zDZj   \n",
       "6526                        Murió el hombre que pasó un año prófugo por violar a dos nenas y fue encontrado en terapia intensiva con coronavirus | Por Pilar Safatle https://t.co/A6BMDmuRI0   \n",
       "768                                                          Tras su salida de Casados con hijos, Érica Rivas contó cuándo se hizo feminista https://t.co/0jhdC6Bnyz https://t.co/ymHOSjcXP2   \n",
       "\n",
       "                                                                                                                                                                                                                         text  \\\n",
       "5404           @usuario UNA POBRE MEDIOCRE CON DELIRIOS DE IMPORTANCIA USADA Y BURLADA POR LOS QUE ELLA APOYA!!!\\nEL NIVEL DE DAÑO AUTOINFLINGIDO ES IGUAL A SU ODIO POR LOS QUE HACEN TODO BIEN Y SON SUPERIORES: ENVIDIA!!!   \n",
       "4894                                                                                            @usuario Gracias a este gobierno de mierda que garantiza los \"derechos\" de los chorros HDP y no el de los ciudadanos de bien!   \n",
       "7517  @usuario Y luego se ofenden con el término #Infectafura\\n\\nHDP!!!\\n\\n#ElPeorGobiernoDeLaHistoria \\n#LaPeorVicepresidenteDeLaHistoria \\n#ElPeorPresidenteDeLaHistoria \\n#GobiernoDeInutiles \\n#GobiernoCriminalyCorrupto   \n",
       "6526                                                                                                @usuario La justicia núnca la hace el Poder Judicial. Tiene que pasar algo asi para eliminar estas lacras de la sociedad.   \n",
       "768                                                                                                                                                @usuario Borracha. Ahora le digo al canal que te alcance una etiqueta Roja   \n",
       "\n",
       "        text_label  \\\n",
       "5404          nada   \n",
       "4894          nada   \n",
       "7517          nada   \n",
       "6526          nada   \n",
       "768   discapacidad   \n",
       "\n",
       "                                                                                                                                                               pred_cot  \n",
       "5404                         El texto contiene insultos y desprecio hacia la científica, pero no se mencionan características protegidas. La respuesta final es 'nada'.  \n",
       "4894                        El texto hace referencia negativa al gobierno y su política de derechos para \"los chorros HDP\" (ladrones). La respuesta final es \"política\"  \n",
       "7517  El texto contiene insultos y descalificaciones, pero no hace referencia a las características protegidas mencionadas anteriormente. La respuesta final es 'nada'.  \n",
       "6526                                              El texto alude a las personas que cometen violaciones como \"lacras de la sociedad\". La respuesta final es \"criminal\".  \n",
       "768                                                              El texto alude a la condición de \"borracha\" de la persona mencionada. La respuesta final es \"aspecto\".  "
      ]
     },
     "execution_count": 103,
     "metadata": {},
     "output_type": "execute_result"
    }
   ],
   "source": [
    "sample_df[[\"context_tweet\", \"text\", \"text_label\",\"pred_cot\"]].sample(5)"
   ]
  },
  {
   "cell_type": "code",
   "execution_count": 104,
   "metadata": {},
   "outputs": [],
   "source": [
    "sample_df.to_csv(\"../data/sample_dev_df.csv\", index=False)"
   ]
  },
  {
   "cell_type": "markdown",
   "metadata": {},
   "source": [
    "## Error analysis"
   ]
  },
  {
   "cell_type": "code",
   "execution_count": 105,
   "metadata": {},
   "outputs": [],
   "source": [
    "import pandas as pd\n",
    "\n",
    "pd.options.display.max_colwidth = 1000\n",
    "\n",
    "sample_df = pd.read_csv(\"../data/sample_dev_df.csv\")"
   ]
  },
  {
   "cell_type": "code",
   "execution_count": 106,
   "metadata": {},
   "outputs": [
    {
     "data": {
      "text/html": [
       "<div>\n",
       "<style scoped>\n",
       "    .dataframe tbody tr th:only-of-type {\n",
       "        vertical-align: middle;\n",
       "    }\n",
       "\n",
       "    .dataframe tbody tr th {\n",
       "        vertical-align: top;\n",
       "    }\n",
       "\n",
       "    .dataframe thead th {\n",
       "        text-align: right;\n",
       "    }\n",
       "</style>\n",
       "<table border=\"1\" class=\"dataframe\">\n",
       "  <thead>\n",
       "    <tr style=\"text-align: right;\">\n",
       "      <th></th>\n",
       "      <th>context_tweet</th>\n",
       "      <th>text</th>\n",
       "      <th>text_label</th>\n",
       "      <th>pred_cot</th>\n",
       "    </tr>\n",
       "  </thead>\n",
       "  <tbody>\n",
       "    <tr>\n",
       "      <th>663</th>\n",
       "      <td>Mayra Mendoza está aislada por ser contacto estrecho de un caso positivo de coronavirus\\nhttps://t.co/aVY3wsFTOg</td>\n",
       "      <td>@usuario Podrán aislarla hasta el 2023?</td>\n",
       "      <td>nada</td>\n",
       "      <td>l</td>\n",
       "    </tr>\n",
       "    <tr>\n",
       "      <th>214</th>\n",
       "      <td>Cristina Kirchner va por la revancha: el Senado investigará el endeudamiento y la gestión judicial de Mauricio Macri https://t.co/hZ7J5aLMUx https://t.co/dLIfJYdST2</td>\n",
       "      <td>@usuario Jajaja!! El endeudamiento es parte del lastre que dejo Ud.!!!!</td>\n",
       "      <td>nada</td>\n",
       "      <td>Nada</td>\n",
       "    </tr>\n",
       "    <tr>\n",
       "      <th>657</th>\n",
       "      <td>Sabina Frederic dijo que \"no hay muchos robos, pero los medios de comunicación los hacen visibles\" https://t.co/sFYm1oENtD</td>\n",
       "      <td>@usuario Sos una hdp! Cara rota.😠</td>\n",
       "      <td>nada</td>\n",
       "      <td>l</td>\n",
       "    </tr>\n",
       "    <tr>\n",
       "      <th>592</th>\n",
       "      <td>Alberto Fernández se enfrentó con Cristina Pérez y la mandó a leer la Constitución Nacional https://t.co/VFmfVOlgSb https://t.co/FLcWI8Lfc1</td>\n",
       "      <td>@usuario Mieeerda en 4 años de Macrismo no la vi a Cristina Pérez levantar un dedo y ahora es la súper enfrentadora mega soldado que discute a un presidente en tiempos de pandemia</td>\n",
       "      <td>nada</td>\n",
       "      <td>l</td>\n",
       "    </tr>\n",
       "    <tr>\n",
       "      <th>117</th>\n",
       "      <td>Intendentes del conurbano preocupados por la cuarentena: temen que haya violencia y saqueos https://t.co/GuWqPDc6NJ</td>\n",
       "      <td>@usuario La gente ahí vive de changas y al dia. Que raro que un gobierno que se dice del pueblo no haya caído. El armaron tal diario de Yrigoyen al cuis que no ve a dos metros de distancia. No sirve la cuarentena solo el testeo masivo.</td>\n",
       "      <td>nada</td>\n",
       "      <td>l</td>\n",
       "    </tr>\n",
       "  </tbody>\n",
       "</table>\n",
       "</div>"
      ],
      "text/plain": [
       "                                                                                                                                                            context_tweet  \\\n",
       "663                                                      Mayra Mendoza está aislada por ser contacto estrecho de un caso positivo de coronavirus\\nhttps://t.co/aVY3wsFTOg   \n",
       "214  Cristina Kirchner va por la revancha: el Senado investigará el endeudamiento y la gestión judicial de Mauricio Macri https://t.co/hZ7J5aLMUx https://t.co/dLIfJYdST2   \n",
       "657                                            Sabina Frederic dijo que \"no hay muchos robos, pero los medios de comunicación los hacen visibles\" https://t.co/sFYm1oENtD   \n",
       "592                           Alberto Fernández se enfrentó con Cristina Pérez y la mandó a leer la Constitución Nacional https://t.co/VFmfVOlgSb https://t.co/FLcWI8Lfc1   \n",
       "117                                                   Intendentes del conurbano preocupados por la cuarentena: temen que haya violencia y saqueos https://t.co/GuWqPDc6NJ   \n",
       "\n",
       "                                                                                                                                                                                                                                            text  \\\n",
       "663                                                                                                                                                                                                      @usuario Podrán aislarla hasta el 2023?   \n",
       "214                                                                                                                                                                      @usuario Jajaja!! El endeudamiento es parte del lastre que dejo Ud.!!!!   \n",
       "657                                                                                                                                                                                                            @usuario Sos una hdp! Cara rota.😠   \n",
       "592                                                          @usuario Mieeerda en 4 años de Macrismo no la vi a Cristina Pérez levantar un dedo y ahora es la súper enfrentadora mega soldado que discute a un presidente en tiempos de pandemia   \n",
       "117  @usuario La gente ahí vive de changas y al dia. Que raro que un gobierno que se dice del pueblo no haya caído. El armaron tal diario de Yrigoyen al cuis que no ve a dos metros de distancia. No sirve la cuarentena solo el testeo masivo.   \n",
       "\n",
       "    text_label pred_cot  \n",
       "663       nada        l  \n",
       "214       nada     Nada  \n",
       "657       nada        l  \n",
       "592       nada        l  \n",
       "117       nada        l  "
      ]
     },
     "execution_count": 106,
     "metadata": {},
     "output_type": "execute_result"
    }
   ],
   "source": [
    "# Check \"la respuesta final\" is in every pred_cot\n",
    "\n",
    "sample_df[~sample_df[\"pred_cot\"].str.contains(\"respuesta final\")][[\"context_tweet\", \"text\", \"text_label\",\"pred_cot\"]].sample(5)"
   ]
  },
  {
   "cell_type": "code",
   "execution_count": 107,
   "metadata": {},
   "outputs": [],
   "source": [
    "from rioplatense_hs.preprocessing import text_to_label, labels\n",
    "\n",
    "\n",
    "pred_labels = [f\"PRED_{l}\" for l in labels]\n",
    "\n",
    "for idx, value in sample_df[\"pred_cot\"].items():\n",
    "\n",
    "    preds = text_to_label(value)\n",
    "\n",
    "    for k, v in preds.items():\n",
    "        sample_df.loc[idx, f\"PRED_{k}\"] = int(v)"
   ]
  },
  {
   "cell_type": "code",
   "execution_count": 108,
   "metadata": {},
   "outputs": [
    {
     "name": "stdout",
     "output_type": "stream",
     "text": [
      "              precision    recall  f1-score   support\n",
      "\n",
      "       WOMEN       0.39      0.52      0.45        21\n",
      "       LGBTI       0.39      0.54      0.45        13\n",
      "      RACISM       0.47      0.72      0.57        40\n",
      "       CLASS       0.12      0.60      0.21        10\n",
      "    POLITICS       0.17      0.64      0.27        22\n",
      "    DISABLED       0.43      0.60      0.50         5\n",
      "  APPEARANCE       0.30      0.68      0.42        22\n",
      "    CRIMINAL       0.25      0.47      0.33        17\n",
      "\n",
      "   micro avg       0.29      0.62      0.39       150\n",
      "   macro avg       0.32      0.60      0.40       150\n",
      "weighted avg       0.33      0.62      0.42       150\n",
      " samples avg       0.11      0.11      0.11       150\n",
      "\n"
     ]
    },
    {
     "name": "stderr",
     "output_type": "stream",
     "text": [
      "/home/jmperez/projects/rioplatense_hate_speech/.venv/lib/python3.10/site-packages/sklearn/metrics/_classification.py:1471: UndefinedMetricWarning: Precision and F-score are ill-defined and being set to 0.0 in samples with no predicted labels. Use `zero_division` parameter to control this behavior.\n",
      "  _warn_prf(average, modifier, msg_start, len(result))\n",
      "/home/jmperez/projects/rioplatense_hate_speech/.venv/lib/python3.10/site-packages/sklearn/metrics/_classification.py:1471: UndefinedMetricWarning: Recall and F-score are ill-defined and being set to 0.0 in samples with no true labels. Use `zero_division` parameter to control this behavior.\n",
      "  _warn_prf(average, modifier, msg_start, len(result))\n"
     ]
    }
   ],
   "source": [
    "from sklearn.metrics import classification_report\n",
    "gold_labels = sample_df[labels]\n",
    "preds = sample_df[pred_labels].astype(int)\n",
    "\n",
    "\n",
    "print(classification_report(gold_labels, preds, target_names=labels))"
   ]
  },
  {
   "cell_type": "code",
   "execution_count": 109,
   "metadata": {},
   "outputs": [
    {
     "name": "stdout",
     "output_type": "stream",
     "text": [
      "              precision    recall  f1-score   support\n",
      "\n",
      "       False       0.94      0.70      0.80       582\n",
      "        True       0.35      0.78      0.48       118\n",
      "\n",
      "    accuracy                           0.71       700\n",
      "   macro avg       0.64      0.74      0.64       700\n",
      "weighted avg       0.84      0.71      0.75       700\n",
      "\n"
     ]
    }
   ],
   "source": [
    "label_hate = sample_df.num_hatred > 0\n",
    "pred_hate = sample_df[pred_labels].sum(axis=1) > 0\n",
    "\n",
    "print(classification_report(label_hate, pred_hate))"
   ]
  },
  {
   "cell_type": "code",
   "execution_count": null,
   "metadata": {},
   "outputs": [],
   "source": [
    "df_train[df_train[\"POLITICS\"] > 0 ]"
   ]
  },
  {
   "cell_type": "code",
   "execution_count": 116,
   "metadata": {},
   "outputs": [
    {
     "data": {
      "text/html": [
       "<div>\n",
       "<style scoped>\n",
       "    .dataframe tbody tr th:only-of-type {\n",
       "        vertical-align: middle;\n",
       "    }\n",
       "\n",
       "    .dataframe tbody tr th {\n",
       "        vertical-align: top;\n",
       "    }\n",
       "\n",
       "    .dataframe thead th {\n",
       "        text-align: right;\n",
       "    }\n",
       "</style>\n",
       "<table border=\"1\" class=\"dataframe\">\n",
       "  <thead>\n",
       "    <tr style=\"text-align: right;\">\n",
       "      <th></th>\n",
       "      <th>context_tweet</th>\n",
       "      <th>text</th>\n",
       "      <th>text_label</th>\n",
       "      <th>pred_cot</th>\n",
       "    </tr>\n",
       "  </thead>\n",
       "  <tbody>\n",
       "    <tr>\n",
       "      <th>86</th>\n",
       "      <td>Aborto legal: el Gobierno mantiene la idea de enviar el proyecto este año, pero no será hasta después de septiembre | Por Marcos Shaw\\nhttps://t.co/kIMcSBkV70</td>\n",
       "      <td>@usuario Cómo les gusta que las usen a estas pelotudas</td>\n",
       "      <td>nada</td>\n",
       "      <td>El texto menciona a las mujeres y las desprecia llamándolas \"pelotudas\". La respuesta final es \"mujer\".</td>\n",
       "    </tr>\n",
       "    <tr>\n",
       "      <th>170</th>\n",
       "      <td>La declaración de un testigo del caso del jubilado que mató a un ladrón: “Levantaba la mano pidiendo ayuda y el hombre le volvió a disparar” | Por Leonardo Scannone https://t.co/46a0CqmsaD</td>\n",
       "      <td>@usuario El jubilado no sólo fue asaltado sino que fue golpeado salvajemente por los delincuentes. Ni me quiero imaginar el dolor, el miedo y el shock en el que estaba ese hombre. Me importa un bledo del delincuente. UNO MENOS.</td>\n",
       "      <td>criminal</td>\n",
       "      <td>El texto no contiene discurso discriminatorio. La respuesta final es \"nada\".</td>\n",
       "    </tr>\n",
       "    <tr>\n",
       "      <th>584</th>\n",
       "      <td>Macri, íntimo: qué piensa y cómo planea su reconstrucción política | Por María Julia Oliván https://t.co/7YhhX4uDbp</td>\n",
       "      <td>@usuario Feliz día del trabajo infantil! A explotar esas manitos!</td>\n",
       "      <td>nada</td>\n",
       "      <td>El texto alude a la explotación laboral de los niños. La respuesta final es \"clase\"</td>\n",
       "    </tr>\n",
       "    <tr>\n",
       "      <th>149</th>\n",
       "      <td>El Polo Obrero realiza un corte en la Panamericana en contra de la flexibilización de la cuarentena y en reclamo de aumentos a los planes sociales https://t.co/fHOeCKJdY6</td>\n",
       "      <td>@usuario A ver si entendí, cortan para q nadie vaya a laburar y q leaumente la limosna ??!!!</td>\n",
       "      <td>nada</td>\n",
       "      <td>El texto denigra a las personas que están reclamando por aumentos a los planes sociales, llamándolos \"limosna\". La respuesta final es \"clase\".</td>\n",
       "    </tr>\n",
       "    <tr>\n",
       "      <th>487</th>\n",
       "      <td>Robó a una embarazada, los vecinos lo lincharon y pidió clemencia: “Perdón, tengo dos pibes” https://t.co/gOcURtu6LT</td>\n",
       "      <td>@usuario y no entiendo, porqué no le quebraron las piernas o algo?</td>\n",
       "      <td>criminal</td>\n",
       "      <td>El texto alude a causarle daño físico al ladrón por su acción de robar, lo cual puede ser considerado discurso discriminatorio. Sin embargo, no se mencionan características protegidas en el mensaje. La respuesta final es \"nada\".</td>\n",
       "    </tr>\n",
       "    <tr>\n",
       "      <th>653</th>\n",
       "      <td>Lanata: \"Hoy Alberto está funcionando como el secretario de Cristina \" https://t.co/iFX8XgP0sm https://t.co/VGDfiVoUea</td>\n",
       "      <td>@usuario ES UN REBERENDO PELOTUDO FORRO DELA VIEJA CORRUPTA DE CUENTE MAFIOSA!!!</td>\n",
       "      <td>aspecto</td>\n",
       "      <td>El texto contiene insultos y descalificaciones, pero no menciona ninguna de las características protegidas. La respuesta final es 'nada'.</td>\n",
       "    </tr>\n",
       "    <tr>\n",
       "      <th>348</th>\n",
       "      <td>China prestará USD 1,000 millones a México, América Latina y el Caribe para la compra de vacunas contra el COVID-19 https://t.co/oxL59BpvNa</td>\n",
       "      <td>@usuario Son unos desgraciados los políticos chinos, unos miserables y rastreros. Para Ecuador intenta destruir la reputación del mejor camarón del mundo #iloveshrimpfromecuador, luego está el asecho a #Galapagos #SOSGALAPAGOS y ahora su chantaje con la vacuna. #ChinaLiedPeopleDied .</td>\n",
       "      <td>nada</td>\n",
       "      <td>El texto denigra y desprecia a los políticos chinos, los acusa de ser miserables y rastreros. Además, utiliza el término \"desgraciados\". La respuesta final es \"política\".</td>\n",
       "    </tr>\n",
       "    <tr>\n",
       "      <th>288</th>\n",
       "      <td>Cristina Pérez vivió un incómodo momento en vivo con Sergio Berni: “No tiene necesidad de descalificarme” https://t.co/ZA45DZ0C05</td>\n",
       "      <td>@usuario Lo que pasa es que esa chica es medio opa, es difícil que no se incomode: dice boludeces todo el tiempo, realmente me pregunto si es tonta o se hace.</td>\n",
       "      <td>nada</td>\n",
       "      <td>El texto alude a la capacidad mental de Cristina Pérez, insinuando que podría ser \"opa\" o tonta. La respuesta final es \"discapacidad, aspecto\".</td>\n",
       "    </tr>\n",
       "    <tr>\n",
       "      <th>361</th>\n",
       "      <td>Gerardo Morales volvió a diferenciarse de Mauricio Macri: \"No comparto su visión, hay que apoyar al Gobierno\" https://t.co/4DtZSoNdne</td>\n",
       "      <td>@usuario Ya van a ir x vos...</td>\n",
       "      <td>nada</td>\n",
       "      <td>El texto parece ser una amenaza o advertencia hacia Gerardo Morales, indicando que habrá consecuencias o represalias contra él. La respuesta final es \"política\".</td>\n",
       "    </tr>\n",
       "    <tr>\n",
       "      <th>688</th>\n",
       "      <td>Aborto: miles de mujeres volvieron a las calles para reclamar que se trate y sea ley https://t.co/hbfjyaIYbA</td>\n",
       "      <td>@usuario Vayan a sus casas señoras! La economía del país se cae a pedazos y ustedes piden más gastos??? Encima también matar inocentes</td>\n",
       "      <td>nada</td>\n",
       "      <td>El texto critica a las mujeres que protestan por el aborto, acusándolas de preocuparse por temas irrelevantes (gastos) y de apoyar la muerte de inocentes. La respuesta final es \"mujer, política\".</td>\n",
       "    </tr>\n",
       "  </tbody>\n",
       "</table>\n",
       "</div>"
      ],
      "text/plain": [
       "                                                                                                                                                                                    context_tweet  \\\n",
       "86                                 Aborto legal: el Gobierno mantiene la idea de enviar el proyecto este año, pero no será hasta después de septiembre | Por Marcos Shaw\\nhttps://t.co/kIMcSBkV70   \n",
       "170  La declaración de un testigo del caso del jubilado que mató a un ladrón: “Levantaba la mano pidiendo ayuda y el hombre le volvió a disparar” | Por Leonardo Scannone https://t.co/46a0CqmsaD   \n",
       "584                                                                           Macri, íntimo: qué piensa y cómo planea su reconstrucción política | Por María Julia Oliván https://t.co/7YhhX4uDbp   \n",
       "149                    El Polo Obrero realiza un corte en la Panamericana en contra de la flexibilización de la cuarentena y en reclamo de aumentos a los planes sociales https://t.co/fHOeCKJdY6   \n",
       "487                                                                          Robó a una embarazada, los vecinos lo lincharon y pidió clemencia: “Perdón, tengo dos pibes” https://t.co/gOcURtu6LT   \n",
       "653                                                                        Lanata: \"Hoy Alberto está funcionando como el secretario de Cristina \" https://t.co/iFX8XgP0sm https://t.co/VGDfiVoUea   \n",
       "348                                                   China prestará USD 1,000 millones a México, América Latina y el Caribe para la compra de vacunas contra el COVID-19 https://t.co/oxL59BpvNa   \n",
       "288                                                             Cristina Pérez vivió un incómodo momento en vivo con Sergio Berni: “No tiene necesidad de descalificarme” https://t.co/ZA45DZ0C05   \n",
       "361                                                         Gerardo Morales volvió a diferenciarse de Mauricio Macri: \"No comparto su visión, hay que apoyar al Gobierno\" https://t.co/4DtZSoNdne   \n",
       "688                                                                                  Aborto: miles de mujeres volvieron a las calles para reclamar que se trate y sea ley https://t.co/hbfjyaIYbA   \n",
       "\n",
       "                                                                                                                                                                                                                                                                                             text  \\\n",
       "86                                                                                                                                                                                                                                         @usuario Cómo les gusta que las usen a estas pelotudas   \n",
       "170                                                           @usuario El jubilado no sólo fue asaltado sino que fue golpeado salvajemente por los delincuentes. Ni me quiero imaginar el dolor, el miedo y el shock en el que estaba ese hombre. Me importa un bledo del delincuente. UNO MENOS.   \n",
       "584                                                                                                                                                                                                                             @usuario Feliz día del trabajo infantil! A explotar esas manitos!   \n",
       "149                                                                                                                                                                                                  @usuario A ver si entendí, cortan para q nadie vaya a laburar y q leaumente la limosna ??!!!   \n",
       "487                                                                                                                                                                                                                            @usuario y no entiendo, porqué no le quebraron las piernas o algo?   \n",
       "653                                                                                                                                                                                                              @usuario ES UN REBERENDO PELOTUDO FORRO DELA VIEJA CORRUPTA DE CUENTE MAFIOSA!!!   \n",
       "348  @usuario Son unos desgraciados los políticos chinos, unos miserables y rastreros. Para Ecuador intenta destruir la reputación del mejor camarón del mundo #iloveshrimpfromecuador, luego está el asecho a #Galapagos #SOSGALAPAGOS y ahora su chantaje con la vacuna. #ChinaLiedPeopleDied .   \n",
       "288                                                                                                                                @usuario Lo que pasa es que esa chica es medio opa, es difícil que no se incomode: dice boludeces todo el tiempo, realmente me pregunto si es tonta o se hace.   \n",
       "361                                                                                                                                                                                                                                                                 @usuario Ya van a ir x vos...   \n",
       "688                                                                                                                                                        @usuario Vayan a sus casas señoras! La economía del país se cae a pedazos y ustedes piden más gastos??? Encima también matar inocentes   \n",
       "\n",
       "    text_label  \\\n",
       "86        nada   \n",
       "170   criminal   \n",
       "584       nada   \n",
       "149       nada   \n",
       "487   criminal   \n",
       "653    aspecto   \n",
       "348       nada   \n",
       "288       nada   \n",
       "361       nada   \n",
       "688       nada   \n",
       "\n",
       "                                                                                                                                                                                                                                 pred_cot  \n",
       "86                                                                                                                                El texto menciona a las mujeres y las desprecia llamándolas \"pelotudas\". La respuesta final es \"mujer\".  \n",
       "170                                                                                                                                                          El texto no contiene discurso discriminatorio. La respuesta final es \"nada\".  \n",
       "584                                                                                                                                                   El texto alude a la explotación laboral de los niños. La respuesta final es \"clase\"  \n",
       "149                                                                                        El texto denigra a las personas que están reclamando por aumentos a los planes sociales, llamándolos \"limosna\". La respuesta final es \"clase\".  \n",
       "487  El texto alude a causarle daño físico al ladrón por su acción de robar, lo cual puede ser considerado discurso discriminatorio. Sin embargo, no se mencionan características protegidas en el mensaje. La respuesta final es \"nada\".  \n",
       "653                                                                                             El texto contiene insultos y descalificaciones, pero no menciona ninguna de las características protegidas. La respuesta final es 'nada'.  \n",
       "348                                                            El texto denigra y desprecia a los políticos chinos, los acusa de ser miserables y rastreros. Además, utiliza el término \"desgraciados\". La respuesta final es \"política\".  \n",
       "288                                                                                       El texto alude a la capacidad mental de Cristina Pérez, insinuando que podría ser \"opa\" o tonta. La respuesta final es \"discapacidad, aspecto\".  \n",
       "361                                                                     El texto parece ser una amenaza o advertencia hacia Gerardo Morales, indicando que habrá consecuencias o represalias contra él. La respuesta final es \"política\".  \n",
       "688                                   El texto critica a las mujeres que protestan por el aborto, acusándolas de preocuparse por temas irrelevantes (gastos) y de apoyar la muerte de inocentes. La respuesta final es \"mujer, política\".  "
      ]
     },
     "execution_count": 116,
     "metadata": {},
     "output_type": "execute_result"
    }
   ],
   "source": [
    "sample_df[pred_hate != label_hate][[\"context_tweet\", \"text\", \"text_label\", \"pred_cot\", ]].sample(10)"
   ]
  },
  {
   "cell_type": "code",
   "execution_count": 112,
   "metadata": {},
   "outputs": [
    {
     "data": {
      "text/html": [
       "<div>\n",
       "<style scoped>\n",
       "    .dataframe tbody tr th:only-of-type {\n",
       "        vertical-align: middle;\n",
       "    }\n",
       "\n",
       "    .dataframe tbody tr th {\n",
       "        vertical-align: top;\n",
       "    }\n",
       "\n",
       "    .dataframe thead th {\n",
       "        text-align: right;\n",
       "    }\n",
       "</style>\n",
       "<table border=\"1\" class=\"dataframe\">\n",
       "  <thead>\n",
       "    <tr style=\"text-align: right;\">\n",
       "      <th></th>\n",
       "      <th>context_tweet</th>\n",
       "      <th>text</th>\n",
       "      <th>text_label</th>\n",
       "      <th>pred_cot</th>\n",
       "    </tr>\n",
       "  </thead>\n",
       "  <tbody>\n",
       "    <tr>\n",
       "      <th>690</th>\n",
       "      <td>En promedio, los beneficiarios de planes sociales cobrarán $40.000 en diciembre | Por Pablo Wende https://t.co/OaSD2ZmmHy</td>\n",
       "      <td>@usuario @usuario Les seguimos pagando el crédito de ANSES con el q se compraron el 50’ \\nArroyo mismo lo dijo cuando empezó la cuareterna: -muchos tienen créditos y les llega descontado del plan”-\\nPagamos sus vicios y sus “gustitos “</td>\n",
       "      <td>nada</td>\n",
       "      <td>El texto se refiere a quienes cobran planes sociales como personas que gastan el dinero en vicios y gustos. La respuesta final es \"clase\"</td>\n",
       "    </tr>\n",
       "    <tr>\n",
       "      <th>45</th>\n",
       "      <td>Robó a una embarazada, los vecinos lo lincharon y pidió clemencia: “Perdón, tengo dos pibes” https://t.co/gOcURtu6LT</td>\n",
       "      <td>@usuario Anda a vender pastelitos, pelotudo, si es cierto que tenes dos hijos.</td>\n",
       "      <td>nada</td>\n",
       "      <td>El texto insulta y menosprecia al individuo llamándolo \"pelotudo\" y sugiriendo que venda pastelitos como forma de subsistencia. La respuesta final es \"clase\"</td>\n",
       "    </tr>\n",
       "    <tr>\n",
       "      <th>40</th>\n",
       "      <td>Yanina Latorre le respondió a quienes la cuestionaron porque su mamá se vacunó contra el COVID-19 en Estados Unidos https://t.co/w9t3G6NIBX</td>\n",
       "      <td>@usuario Ojalá todo esto genere que la familia Latorre en pleno se vaya a vivir al exterior. Son prescindibles</td>\n",
       "      <td>nada</td>\n",
       "      <td>El comentario sugiere que la familia Latorre debería irse del país, lo cual implica que no son necesarios o no son importantes. La respuesta final es \"clase\"</td>\n",
       "    </tr>\n",
       "    <tr>\n",
       "      <th>426</th>\n",
       "      <td>Corrientes: cesárea programada para la nena de 10 años violada por la ex pareja de su mamá https://t.co/NOZxEpINON</td>\n",
       "      <td>@usuario \"Fue seducida\" y \"tiene un leve trauma\" ese juez es una verdadera basura</td>\n",
       "      <td>nada</td>\n",
       "      <td>El texto pone en duda la versión de la niña de 10 años que fue violada, culpando al juez y llamándolo basura. La respuesta final es \"clase, criminal\"</td>\n",
       "    </tr>\n",
       "    <tr>\n",
       "      <th>31</th>\n",
       "      <td>Grabois calificó al campo como \"parásitos que viven de la renta extraordinaria de la tierra que es de todos\" https://t.co/c8XQr9c1aA</td>\n",
       "      <td>@usuario LA TIERRA ES PARA EL QUE LA COMPRO CON ESFUERZO Y SUDOR DE SANGRE, PARA QUE VENGAS VOS IMBECIL A QUERER DECIR QUE ES DE TODOS. NO SABES DIFERENCIAR UNA VACA DE UN CHIMANGO.</td>\n",
       "      <td>nada</td>\n",
       "      <td>El texto alude a la condición de clase del destinatario del mensaje (campesinos), y lo desprecia llamándolo imbecil e insinuando que es ignorante. La respuesta final es \"clase\"</td>\n",
       "    </tr>\n",
       "  </tbody>\n",
       "</table>\n",
       "</div>"
      ],
      "text/plain": [
       "                                                                                                                                   context_tweet  \\\n",
       "690                    En promedio, los beneficiarios de planes sociales cobrarán $40.000 en diciembre | Por Pablo Wende https://t.co/OaSD2ZmmHy   \n",
       "45                          Robó a una embarazada, los vecinos lo lincharon y pidió clemencia: “Perdón, tengo dos pibes” https://t.co/gOcURtu6LT   \n",
       "40   Yanina Latorre le respondió a quienes la cuestionaron porque su mamá se vacunó contra el COVID-19 en Estados Unidos https://t.co/w9t3G6NIBX   \n",
       "426                           Corrientes: cesárea programada para la nena de 10 años violada por la ex pareja de su mamá https://t.co/NOZxEpINON   \n",
       "31          Grabois calificó al campo como \"parásitos que viven de la renta extraordinaria de la tierra que es de todos\" https://t.co/c8XQr9c1aA   \n",
       "\n",
       "                                                                                                                                                                                                                                            text  \\\n",
       "690  @usuario @usuario Les seguimos pagando el crédito de ANSES con el q se compraron el 50’ \\nArroyo mismo lo dijo cuando empezó la cuareterna: -muchos tienen créditos y les llega descontado del plan”-\\nPagamos sus vicios y sus “gustitos “   \n",
       "45                                                                                                                                                                @usuario Anda a vender pastelitos, pelotudo, si es cierto que tenes dos hijos.   \n",
       "40                                                                                                                                @usuario Ojalá todo esto genere que la familia Latorre en pleno se vaya a vivir al exterior. Son prescindibles   \n",
       "426                                                                                                                                                            @usuario \"Fue seducida\" y \"tiene un leve trauma\" ese juez es una verdadera basura   \n",
       "31                                                         @usuario LA TIERRA ES PARA EL QUE LA COMPRO CON ESFUERZO Y SUDOR DE SANGRE, PARA QUE VENGAS VOS IMBECIL A QUERER DECIR QUE ES DE TODOS. NO SABES DIFERENCIAR UNA VACA DE UN CHIMANGO.   \n",
       "\n",
       "    text_label  \\\n",
       "690       nada   \n",
       "45        nada   \n",
       "40        nada   \n",
       "426       nada   \n",
       "31        nada   \n",
       "\n",
       "                                                                                                                                                                             pred_cot  \n",
       "690                                         El texto se refiere a quienes cobran planes sociales como personas que gastan el dinero en vicios y gustos. La respuesta final es \"clase\"  \n",
       "45                      El texto insulta y menosprecia al individuo llamándolo \"pelotudo\" y sugiriendo que venda pastelitos como forma de subsistencia. La respuesta final es \"clase\"  \n",
       "40                      El comentario sugiere que la familia Latorre debería irse del país, lo cual implica que no son necesarios o no son importantes. La respuesta final es \"clase\"  \n",
       "426                             El texto pone en duda la versión de la niña de 10 años que fue violada, culpando al juez y llamándolo basura. La respuesta final es \"clase, criminal\"  \n",
       "31   El texto alude a la condición de clase del destinatario del mensaje (campesinos), y lo desprecia llamándolo imbecil e insinuando que es ignorante. La respuesta final es \"clase\"  "
      ]
     },
     "execution_count": 112,
     "metadata": {},
     "output_type": "execute_result"
    }
   ],
   "source": [
    "# LGBTI errors\n",
    "\n",
    "label = \"CLASS\"\n",
    "sample_df.loc[sample_df[label] != sample_df[f\"PRED_{label}\"]][[\"context_tweet\", \"text\", \"text_label\", \"pred_cot\"]].sample(5)"
   ]
  },
  {
   "cell_type": "code",
   "execution_count": 117,
   "metadata": {},
   "outputs": [
    {
     "data": {
      "text/html": [
       "<div>\n",
       "<style scoped>\n",
       "    .dataframe tbody tr th:only-of-type {\n",
       "        vertical-align: middle;\n",
       "    }\n",
       "\n",
       "    .dataframe tbody tr th {\n",
       "        vertical-align: top;\n",
       "    }\n",
       "\n",
       "    .dataframe thead th {\n",
       "        text-align: right;\n",
       "    }\n",
       "</style>\n",
       "<table border=\"1\" class=\"dataframe\">\n",
       "  <thead>\n",
       "    <tr style=\"text-align: right;\">\n",
       "      <th></th>\n",
       "      <th>context_tweet</th>\n",
       "      <th>text</th>\n",
       "      <th>text_label</th>\n",
       "    </tr>\n",
       "  </thead>\n",
       "  <tbody>\n",
       "    <tr>\n",
       "      <th>32287</th>\n",
       "      <td>Cecilia Moreau: \"No se puede permitir que la minoría le imponga a la mayoría qué temas discutir\" https://t.co/DIOKystxnf</td>\n",
       "      <td>@usuario COCHINA MENTIROSA!! CÓMPLICE  canalla de la mafia KAKA!!</td>\n",
       "      <td>política, aspecto</td>\n",
       "    </tr>\n",
       "    <tr>\n",
       "      <th>26017</th>\n",
       "      <td>Coronavirus en Argentina: el Gobierno convocará a miles de piqueteros para convencer a la gente que se vacune https://t.co/XofDz33SV1</td>\n",
       "      <td>@usuario Los quieren concencer a los palazos? Vacunena los piqueteros y pkanwros primero. @usuario @usuario @usuario @usuario @usuario</td>\n",
       "      <td>clase, política</td>\n",
       "    </tr>\n",
       "    <tr>\n",
       "      <th>7622</th>\n",
       "      <td>\"Día menstrual para estudiantes \": el proyecto de ley de Carmela Moreau https://t.co/OfxmKpX7bT https://t.co/YxTJbSrQ3k</td>\n",
       "      <td>@usuario Gobierno nacional popular y generador de excusas para no trabajar, y digo gobierno x que esta inepta, incapaz, indigna y descerebrada de Carmela tiene el sello kk ya incorporado en el adn #GobiernoDeInutiles #gobiernodemierda #GobiernoDeMierda</td>\n",
       "      <td>mujer, política</td>\n",
       "    </tr>\n",
       "    <tr>\n",
       "      <th>28206</th>\n",
       "      <td>Santa Fe: rompen más silobolsas y crece la preocupación en el campo https://t.co/Pb1gaBqyXU https://t.co/cPlGjy3V6T</td>\n",
       "      <td>@usuario hay que hacer guardia, meter bala y enterrar a los soretes para abonar la tierra</td>\n",
       "      <td>política, criminal</td>\n",
       "    </tr>\n",
       "    <tr>\n",
       "      <th>28983</th>\n",
       "      <td>'País de maricas': ¿Por qué Jair Bolsonaro vuelve a atacar a los homosexuales en Brasil? https://t.co/pVdFjiztkm</td>\n",
       "      <td>@usuario El discurso de bolsonaro donde dice \"maricas\" es brillante, sólo eso basta para meresca ser el presidente de Sudamérica. Clarín es una cueva de zurdos y progresistas que se pintan los labios punto. Clarín suavecito, te pasas de marica!</td>\n",
       "      <td>lgbti, política</td>\n",
       "    </tr>\n",
       "  </tbody>\n",
       "</table>\n",
       "</div>"
      ],
      "text/plain": [
       "                                                                                                                               context_tweet  \\\n",
       "32287               Cecilia Moreau: \"No se puede permitir que la minoría le imponga a la mayoría qué temas discutir\" https://t.co/DIOKystxnf   \n",
       "26017  Coronavirus en Argentina: el Gobierno convocará a miles de piqueteros para convencer a la gente que se vacune https://t.co/XofDz33SV1   \n",
       "7622                 \"Día menstrual para estudiantes \": el proyecto de ley de Carmela Moreau https://t.co/OfxmKpX7bT https://t.co/YxTJbSrQ3k   \n",
       "28206                    Santa Fe: rompen más silobolsas y crece la preocupación en el campo https://t.co/Pb1gaBqyXU https://t.co/cPlGjy3V6T   \n",
       "28983                       'País de maricas': ¿Por qué Jair Bolsonaro vuelve a atacar a los homosexuales en Brasil? https://t.co/pVdFjiztkm   \n",
       "\n",
       "                                                                                                                                                                                                                                                               text  \\\n",
       "32287                                                                                                                                                                                             @usuario COCHINA MENTIROSA!! CÓMPLICE  canalla de la mafia KAKA!!   \n",
       "26017                                                                                                                        @usuario Los quieren concencer a los palazos? Vacunena los piqueteros y pkanwros primero. @usuario @usuario @usuario @usuario @usuario   \n",
       "7622   @usuario Gobierno nacional popular y generador de excusas para no trabajar, y digo gobierno x que esta inepta, incapaz, indigna y descerebrada de Carmela tiene el sello kk ya incorporado en el adn #GobiernoDeInutiles #gobiernodemierda #GobiernoDeMierda   \n",
       "28206                                                                                                                                                                     @usuario hay que hacer guardia, meter bala y enterrar a los soretes para abonar la tierra   \n",
       "28983          @usuario El discurso de bolsonaro donde dice \"maricas\" es brillante, sólo eso basta para meresca ser el presidente de Sudamérica. Clarín es una cueva de zurdos y progresistas que se pintan los labios punto. Clarín suavecito, te pasas de marica!   \n",
       "\n",
       "               text_label  \n",
       "32287   política, aspecto  \n",
       "26017     clase, política  \n",
       "7622      mujer, política  \n",
       "28206  política, criminal  \n",
       "28983     lgbti, política  "
      ]
     },
     "execution_count": 117,
     "metadata": {},
     "output_type": "execute_result"
    }
   ],
   "source": [
    "df_train[(df_train[\"POLITICS\"] > 0) & (df_train[\"num_hatred\"] > 1)][[\"context_tweet\", \"text\", \"text_label\"]].sample(5)"
   ]
  },
  {
   "cell_type": "code",
   "execution_count": null,
   "metadata": {},
   "outputs": [],
   "source": []
  }
 ],
 "metadata": {
  "kernelspec": {
   "display_name": ".venv",
   "language": "python",
   "name": "python3"
  },
  "language_info": {
   "codemirror_mode": {
    "name": "ipython",
    "version": 3
   },
   "file_extension": ".py",
   "mimetype": "text/x-python",
   "name": "python",
   "nbconvert_exporter": "python",
   "pygments_lexer": "ipython3",
   "version": "3.10.7"
  }
 },
 "nbformat": 4,
 "nbformat_minor": 2
}
