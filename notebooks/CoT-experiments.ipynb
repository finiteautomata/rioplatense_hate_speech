{
 "cells": [
  {
   "cell_type": "code",
   "execution_count": 1,
   "metadata": {},
   "outputs": [],
   "source": [
    "\n",
    "%load_ext autoreload\n",
    "%autoreload 2\n",
    "from rioplatense_hs.openai import get_completion\n",
    "from datasets import load_dataset\n",
    "\n",
    "dataset = load_dataset(\"piuba-bigdata/contextualized_hate_speech\")\n"
   ]
  },
  {
   "cell_type": "code",
   "execution_count": 2,
   "metadata": {},
   "outputs": [
    {
     "data": {
      "text/plain": [
       "list"
      ]
     },
     "execution_count": 2,
     "metadata": {},
     "output_type": "execute_result"
    }
   ],
   "source": [
    "import json\n",
    "\n",
    "raw_dataset = json.load(open(\"../data/dataset.raw.json\"))\n",
    "\n",
    "type(raw_dataset)"
   ]
  },
  {
   "cell_type": "code",
   "execution_count": 3,
   "metadata": {},
   "outputs": [
    {
     "data": {
      "text/plain": [
       "Dataset({\n",
       "    features: ['id', 'title', 'text', 'context_tweet', 'HATEFUL', 'body', 'CALLS', 'WOMEN', 'LGBTI', 'RACISM', 'CLASS', 'POLITICS', 'DISABLED', 'APPEARANCE', 'CRIMINAL'],\n",
       "    num_rows: 9106\n",
       "})"
      ]
     },
     "execution_count": 3,
     "metadata": {},
     "output_type": "execute_result"
    }
   ],
   "source": [
    "dataset[\"dev\"]"
   ]
  },
  {
   "cell_type": "code",
   "execution_count": 4,
   "metadata": {},
   "outputs": [],
   "source": [
    "from rioplatense_hs.preprocessing import labels, label_to_text\n",
    "\n",
    "df_train = dataset[\"train\"].to_pandas()\n",
    "df_test = dataset[\"test\"].to_pandas()\n",
    "df_dev = dataset[\"dev\"].to_pandas()\n",
    "df_train[\"num_hatred\"] = df_train[labels].sum(axis=1)\n",
    "df_dev[\"num_hatred\"] = df_dev[labels].sum(axis=1)\n",
    "df_test[\"num_hatred\"] = df_test[labels].sum(axis=1)\n",
    "\n",
    "df_train[\"text_label\"] = df_train.apply(lambda x: label_to_text(x), axis=1)\n",
    "df_dev[\"text_label\"] = df_dev.apply(lambda x: label_to_text(x), axis=1)\n",
    "df_test[\"text_label\"] = df_test.apply(lambda x: label_to_text(x), axis=1)\n"
   ]
  },
  {
   "cell_type": "code",
   "execution_count": 71,
   "metadata": {},
   "outputs": [
    {
     "data": {
      "text/plain": [
       "['WOMEN',\n",
       " 'LGBTI',\n",
       " 'RACISM',\n",
       " 'CLASS',\n",
       " 'POLITICS',\n",
       " 'DISABLED',\n",
       " 'APPEARANCE',\n",
       " 'CRIMINAL']"
      ]
     },
     "execution_count": 71,
     "metadata": {},
     "output_type": "execute_result"
    }
   ],
   "source": [
    "labels"
   ]
  },
  {
   "cell_type": "code",
   "execution_count": 73,
   "metadata": {},
   "outputs": [
    {
     "data": {
      "text/html": [
       "<div>\n",
       "<style scoped>\n",
       "    .dataframe tbody tr th:only-of-type {\n",
       "        vertical-align: middle;\n",
       "    }\n",
       "\n",
       "    .dataframe tbody tr th {\n",
       "        vertical-align: top;\n",
       "    }\n",
       "\n",
       "    .dataframe thead th {\n",
       "        text-align: right;\n",
       "    }\n",
       "</style>\n",
       "<table border=\"1\" class=\"dataframe\">\n",
       "  <thead>\n",
       "    <tr style=\"text-align: right;\">\n",
       "      <th></th>\n",
       "      <th>context_tweet</th>\n",
       "      <th>text</th>\n",
       "    </tr>\n",
       "  </thead>\n",
       "  <tbody>\n",
       "    <tr>\n",
       "      <th>19296</th>\n",
       "      <td>Horror en Salta: abusaron “en manada” de un joven con retraso mental, se filmaron y subieron el video a las redes sociales https://t.co/nvZEQY8m4i</td>\n",
       "      <td>@usuario Bala</td>\n",
       "    </tr>\n",
       "    <tr>\n",
       "      <th>28724</th>\n",
       "      <td>Los dos presos heridos de bala en el motín de Devoto tienen Covid-19 y uno quedó hemipléjico https://t.co/6IFtJcNXhE</td>\n",
       "      <td>@usuario justicia divina....</td>\n",
       "    </tr>\n",
       "  </tbody>\n",
       "</table>\n",
       "</div>"
      ],
      "text/plain": [
       "                                                                                                                                            context_tweet  \\\n",
       "19296  Horror en Salta: abusaron “en manada” de un joven con retraso mental, se filmaron y subieron el video a las redes sociales https://t.co/nvZEQY8m4i   \n",
       "28724                                Los dos presos heridos de bala en el motín de Devoto tienen Covid-19 y uno quedó hemipléjico https://t.co/6IFtJcNXhE   \n",
       "\n",
       "                               text  \n",
       "19296                 @usuario Bala  \n",
       "28724  @usuario justicia divina....  "
      ]
     },
     "execution_count": 73,
     "metadata": {},
     "output_type": "execute_result"
    }
   ],
   "source": [
    "df_train[df_train[\"CRIMINAL\"] > 0].sample(2)[[\"context_tweet\", \"text\"]]"
   ]
  },
  {
   "cell_type": "code",
   "execution_count": 6,
   "metadata": {},
   "outputs": [],
   "source": [
    "import pandas as pd\n",
    "\n",
    "pd.options.display.max_colwidth = 1000\n",
    "#df_train.loc[df_train[\"LGBTI\"] > 0, [\"title\", \"text\", \"text_label\"]].sample(20)"
   ]
  },
  {
   "cell_type": "code",
   "execution_count": 7,
   "metadata": {},
   "outputs": [
    {
     "name": "stdout",
     "output_type": "stream",
     "text": [
      "Determinar si el siguiente mensaje contiene discurso discriminatorio o no. Entendemos que hay discurso discriminatorio en el tweet si tiene declaraciones de carácter intenso e irracional de rechazo, enemistad y aborrecimiento contra un individuo o contra un grupo, siendo estos objetivos de estas expresiones por poseer una característica protegida. Las características protegidas que contemplamos son:\n",
      "\n",
      "- mujer: Mujeres o movimiento feminista\n",
      "- lgbti: Género, identidad sexual\n",
      "- racismo: Inmigrantes, extranjeros, religión, pueblos aborígenes u otras nacionalidades\n",
      "- clase: Clase, situación socioeconómica o barrio de residencia\n",
      "- discapacidad: Discapacidades, problemas de salud mental o de adicción al alcohol u otras drogas\n",
      "- política: Opinión o ideología política.\n",
      "- aspecto: Aspecto, gordofobia o edad\n",
      "- criminal: Antecedentes penales o estar privado de la libertad\n",
      "\n",
      "El discurso discriminatorio no es sólo discurso ofensivo contra una persona o grupo con alguna de las características protegidas. Tiene que apelar a su condición de mujer, inmigrante, LGBTI, etc. para que lo consideremos así. Responder una o varias de las características separadas por coma, o bien \"nada\" si no hay discurso discriminatorio. Pensá paso a paso la respuesta.\n",
      "\n",
      "---\n",
      "contexto: Al borde del llanto, Nati Jota pidió disculpas por sus repudiables tuits pero los justificó: 'Quería sumar seguidores'\n",
      "texto: Show o nada mi amorrr!! La imbesilidad al palo!\n",
      "salida: \n",
      "---\n",
      "contexto: Violento motín en la cárcel de Devoto: tomaron e incendiaron pabellones\n",
      "texto: Hermanito lo que son esos grones. Ahí adentro le robaron la billetera al coronavirus\n",
      "salida: \n",
      "---\n",
      "contexto: Mayra Mendoza criticó el banderazo contra el Gobierno: \"No tiene sentido y es antidemocrático\"\n",
      "texto: Que negrita villera....ni con la plata q roba puede arreglarse\n",
      "salida: \n",
      "---\n",
      "contexto: No da tregua: sin ropa y desafiante Flor Peña volvió a mostrar su lado más hot\n",
      "texto: K lado hot tiene más varices k mi abuela. Tiene mas puesta de espalda k karagian trola\n",
      "salida: \n",
      "---\n",
      "contexto: Wuhan celebra el fin de la cuarentena por el coronavirus con un mensaje para el resto del mundo: \"Aprendan de nuestros errores\"\n",
      "texto: Chinos culiados de mierda ojalá se mueran todos\n",
      "salida: \n",
      "---\n",
      "contexto: Otro ataque de furia contra un colectivero: una mujer trans le pateó la unidad y le tiró un ladrillazo\n",
      "texto: Un tipo operado. Con la fuerza de un hombre y no la de una mujer\n",
      "salida: \n",
      "---\n",
      "contexto: Ginés González García: \"Le tengo mucho miedo al verano, el riesgo va a seguir\"\n",
      "texto: A este viejo le quedan 2 neuronas 1 para comer 2 para cagar\n",
      "salida: \n",
      "---\n",
      "contexto: Estados Unidos restringe los vuelos debido al COVID-19\n",
      "texto: Todo esto es una locura\n",
      "salida: \n"
     ]
    }
   ],
   "source": [
    "from rioplatense_hs.prompting import build_prompt\n",
    "\n",
    "print(build_prompt(contexto=\"Estados Unidos restringe los vuelos debido al COVID-19\", texto=\"Todo esto es una locura\"))"
   ]
  },
  {
   "cell_type": "code",
   "execution_count": 8,
   "metadata": {},
   "outputs": [],
   "source": [
    "# sample_df = df_test.sample(100)\n",
    "\n",
    "sample_df = df_dev.sample(700, random_state=2022)"
   ]
  },
  {
   "cell_type": "code",
   "execution_count": 9,
   "metadata": {},
   "outputs": [
    {
     "data": {
      "text/plain": [
       "0.16857142857142857"
      ]
     },
     "execution_count": 9,
     "metadata": {},
     "output_type": "execute_result"
    }
   ],
   "source": [
    "(sample_df[\"num_hatred\"] > 0).mean()"
   ]
  },
  {
   "cell_type": "code",
   "execution_count": 35,
   "metadata": {},
   "outputs": [],
   "source": [
    "outs = {\n",
    "\n",
    "}"
   ]
  },
  {
   "cell_type": "code",
   "execution_count": 36,
   "metadata": {},
   "outputs": [
    {
     "data": {
      "text/plain": [
       "Index(['id', 'title', 'text', 'context_tweet', 'HATEFUL', 'body', 'CALLS',\n",
       "       'WOMEN', 'LGBTI', 'RACISM', 'CLASS', 'POLITICS', 'DISABLED',\n",
       "       'APPEARANCE', 'CRIMINAL', 'num_hatred', 'text_label', 'pred_cot'],\n",
       "      dtype='object')"
      ]
     },
     "execution_count": 36,
     "metadata": {},
     "output_type": "execute_result"
    }
   ],
   "source": [
    "sample_df.columns"
   ]
  },
  {
   "cell_type": "code",
   "execution_count": 40,
   "metadata": {},
   "outputs": [
    {
     "name": "stderr",
     "output_type": "stream",
     "text": [
      "  0%|          | 0/700 [00:00<?, ?it/s]"
     ]
    },
    {
     "name": "stderr",
     "output_type": "stream",
     "text": [
      "100%|██████████| 700/700 [14:32<00:00,  1.25s/it]\n"
     ]
    }
   ],
   "source": [
    "from tqdm import tqdm\n",
    "import time\n",
    "from rioplatense_hs.prompting import get_response\n",
    "\n",
    "for idx, row in tqdm(sample_df.iterrows(), total=sample_df.shape[0]):\n",
    "\n",
    "    if idx in outs:\n",
    "        continue\n",
    "\n",
    "    response = get_response(contexto=row[\"context_tweet\"], texto=row[\"text\"])\n",
    "\n",
    "    outs[idx] = response\n",
    "\n",
    "    time.sleep(0.01)"
   ]
  },
  {
   "cell_type": "code",
   "execution_count": 42,
   "metadata": {},
   "outputs": [],
   "source": [
    "sample_df[\"pred_cot\"] = sample_df.index.map(outs)\n"
   ]
  },
  {
   "cell_type": "code",
   "execution_count": 50,
   "metadata": {},
   "outputs": [
    {
     "data": {
      "text/html": [
       "<div>\n",
       "<style scoped>\n",
       "    .dataframe tbody tr th:only-of-type {\n",
       "        vertical-align: middle;\n",
       "    }\n",
       "\n",
       "    .dataframe tbody tr th {\n",
       "        vertical-align: top;\n",
       "    }\n",
       "\n",
       "    .dataframe thead th {\n",
       "        text-align: right;\n",
       "    }\n",
       "</style>\n",
       "<table border=\"1\" class=\"dataframe\">\n",
       "  <thead>\n",
       "    <tr style=\"text-align: right;\">\n",
       "      <th></th>\n",
       "      <th>context_tweet</th>\n",
       "      <th>text</th>\n",
       "      <th>text_label</th>\n",
       "      <th>pred_cot</th>\n",
       "    </tr>\n",
       "  </thead>\n",
       "  <tbody>\n",
       "    <tr>\n",
       "      <th>615</th>\n",
       "      <td>La angustia de Jimena Barón porque su hijo pasa la cuarentena con Daniel Osvaldo y “no quiere volver” https://t.co/1TD75TcJXC</td>\n",
       "      <td>@usuario otra imbecil que cree que el hijo es una propiedad como un mueble o una tele</td>\n",
       "      <td>nada</td>\n",
       "      <td>El texto no contiene discurso discriminatorio. No se hace referencia a ninguna de las características protegidas. La respuesta final es \"nada\".</td>\n",
       "    </tr>\n",
       "    <tr>\n",
       "      <th>262</th>\n",
       "      <td>No da tregua: sin ropa y desafiante Flor Peña volvió a mostrar su lado más hot https://t.co/28Wb8lAo53 https://t.co/HRFKvcbBHQ</td>\n",
       "      <td>@usuario Todo caído la vieja</td>\n",
       "      <td>aspecto</td>\n",
       "      <td>El texto alude al aspecto de la persona, refiriéndose a que está envejecida. La respuesta final es \"aspecto\"</td>\n",
       "    </tr>\n",
       "    <tr>\n",
       "      <th>531</th>\n",
       "      <td>La Provincia volvió a apuntar a la Ciudad por el avance del coronavirus: \"Veníamos bien hasta el brote de la villa 31\" https://t.co/7ROvndX32c</td>\n",
       "      <td>@usuario Jamás esperes que los pelronistas y kirchneristas se hagan responsables de su incapacidad para realizar eficientemente su trabajo, siempre la culpa es del otro.</td>\n",
       "      <td>nada</td>\n",
       "      <td>El texto menciona a \"pelronistas y kirchneristas\" como responsables de la incapacidad para realizar eficientemente su trabajo, lo cual alude a su ideología política. La respuesta final es \"política\".</td>\n",
       "    </tr>\n",
       "    <tr>\n",
       "      <th>465</th>\n",
       "      <td>La subdirectora del Instituto de Virología de Wuhan dijo que el coronavirus es “solo la punta del iceberg” https://t.co/cUn8xAzlxF</td>\n",
       "      <td>@usuario Alguna potencia que lance una bomba atómica sobre ese país de mierda por favor</td>\n",
       "      <td>racismo</td>\n",
       "      <td>El texto desea que se lance una bomba atómica sobre un país (China), lo cual es un discurso violento y discriminatorio hacia esa nacionalidad. La respuesta final es \"racismo\".</td>\n",
       "    </tr>\n",
       "    <tr>\n",
       "      <th>344</th>\n",
       "      <td>China detectó coronavirus en un embarque de carne vacuna que se exportó desde Argentina | Por Juan Martín Melo https://t.co/XF2Vl38v4W</td>\n",
       "      <td>@usuario Estps chinos mugrientos se hacen los asustados... hubieran controlado el mercado de mierda ese en Wuhan. Paso por 72mil manos desde que bajo del barco hasta la camara y se preocupan si salio de aca. Vayanse a la mierda</td>\n",
       "      <td>racismo</td>\n",
       "      <td>El texto alude a los chinos como \"mugrientos\" y los desprecia. Además, se refiere peyorativamente a la situación del mercado en Wuhan. La respuesta final es \"racismo\"</td>\n",
       "    </tr>\n",
       "  </tbody>\n",
       "</table>\n",
       "</div>"
      ],
      "text/plain": [
       "                                                                                                                                      context_tweet  \\\n",
       "615                   La angustia de Jimena Barón porque su hijo pasa la cuarentena con Daniel Osvaldo y “no quiere volver” https://t.co/1TD75TcJXC   \n",
       "262                  No da tregua: sin ropa y desafiante Flor Peña volvió a mostrar su lado más hot https://t.co/28Wb8lAo53 https://t.co/HRFKvcbBHQ   \n",
       "531  La Provincia volvió a apuntar a la Ciudad por el avance del coronavirus: \"Veníamos bien hasta el brote de la villa 31\" https://t.co/7ROvndX32c   \n",
       "465              La subdirectora del Instituto de Virología de Wuhan dijo que el coronavirus es “solo la punta del iceberg” https://t.co/cUn8xAzlxF   \n",
       "344          China detectó coronavirus en un embarque de carne vacuna que se exportó desde Argentina | Por Juan Martín Melo https://t.co/XF2Vl38v4W   \n",
       "\n",
       "                                                                                                                                                                                                                                    text  \\\n",
       "615                                                                                                                                                @usuario otra imbecil que cree que el hijo es una propiedad como un mueble o una tele   \n",
       "262                                                                                                                                                                                                         @usuario Todo caído la vieja   \n",
       "531                                                            @usuario Jamás esperes que los pelronistas y kirchneristas se hagan responsables de su incapacidad para realizar eficientemente su trabajo, siempre la culpa es del otro.   \n",
       "465                                                                                                                                              @usuario Alguna potencia que lance una bomba atómica sobre ese país de mierda por favor   \n",
       "344  @usuario Estps chinos mugrientos se hacen los asustados... hubieran controlado el mercado de mierda ese en Wuhan. Paso por 72mil manos desde que bajo del barco hasta la camara y se preocupan si salio de aca. Vayanse a la mierda   \n",
       "\n",
       "    text_label  \\\n",
       "615       nada   \n",
       "262    aspecto   \n",
       "531       nada   \n",
       "465    racismo   \n",
       "344    racismo   \n",
       "\n",
       "                                                                                                                                                                                                    pred_cot  \n",
       "615                                                          El texto no contiene discurso discriminatorio. No se hace referencia a ninguna de las características protegidas. La respuesta final es \"nada\".  \n",
       "262                                                                                             El texto alude al aspecto de la persona, refiriéndose a que está envejecida. La respuesta final es \"aspecto\"  \n",
       "531  El texto menciona a \"pelronistas y kirchneristas\" como responsables de la incapacidad para realizar eficientemente su trabajo, lo cual alude a su ideología política. La respuesta final es \"política\".  \n",
       "465                          El texto desea que se lance una bomba atómica sobre un país (China), lo cual es un discurso violento y discriminatorio hacia esa nacionalidad. La respuesta final es \"racismo\".  \n",
       "344                                   El texto alude a los chinos como \"mugrientos\" y los desprecia. Además, se refiere peyorativamente a la situación del mercado en Wuhan. La respuesta final es \"racismo\"  "
      ]
     },
     "execution_count": 50,
     "metadata": {},
     "output_type": "execute_result"
    }
   ],
   "source": [
    "sample_df[[\"context_tweet\", \"text\", \"text_label\",\"pred_cot\"]].sample(5)"
   ]
  },
  {
   "cell_type": "code",
   "execution_count": 51,
   "metadata": {},
   "outputs": [],
   "source": [
    "sample_df.to_csv(\"../data/sample_dev_df.csv\", index=False)"
   ]
  },
  {
   "cell_type": "markdown",
   "metadata": {},
   "source": [
    "## Error analysis"
   ]
  },
  {
   "cell_type": "code",
   "execution_count": 52,
   "metadata": {},
   "outputs": [],
   "source": [
    "import pandas as pd\n",
    "\n",
    "pd.options.display.max_colwidth = 1000\n",
    "\n",
    "sample_df = pd.read_csv(\"../data/sample_dev_df.csv\")"
   ]
  },
  {
   "cell_type": "code",
   "execution_count": 56,
   "metadata": {},
   "outputs": [
    {
     "data": {
      "text/html": [
       "<div>\n",
       "<style scoped>\n",
       "    .dataframe tbody tr th:only-of-type {\n",
       "        vertical-align: middle;\n",
       "    }\n",
       "\n",
       "    .dataframe tbody tr th {\n",
       "        vertical-align: top;\n",
       "    }\n",
       "\n",
       "    .dataframe thead th {\n",
       "        text-align: right;\n",
       "    }\n",
       "</style>\n",
       "<table border=\"1\" class=\"dataframe\">\n",
       "  <thead>\n",
       "    <tr style=\"text-align: right;\">\n",
       "      <th></th>\n",
       "      <th>context_tweet</th>\n",
       "      <th>text</th>\n",
       "      <th>text_label</th>\n",
       "      <th>pred_cot</th>\n",
       "    </tr>\n",
       "  </thead>\n",
       "  <tbody>\n",
       "    <tr>\n",
       "      <th>671</th>\n",
       "      <td>Laferrere: no se resistió a que le robaran la mochila, pero igual le dispararon a quemarropa https://t.co/dAQcj5ZRsU</td>\n",
       "      <td>@usuario qué mafia.. ¿dónde está el ministro de seguridad? y ¿el gobernador?</td>\n",
       "      <td>nada</td>\n",
       "      <td>Nada</td>\n",
       "    </tr>\n",
       "    <tr>\n",
       "      <th>324</th>\n",
       "      <td>Luis Novaresio sufrió un robo en Palermo: “El nivel de arrebato que hay en la Ciudad es muy alto” https://t.co/DgSU0HenLf</td>\n",
       "      <td>@usuario Es verdad en C.A.B.A nos acaban de manotear los terrenos de  Costa Salguero.</td>\n",
       "      <td>nada</td>\n",
       "      <td>Nada</td>\n",
       "    </tr>\n",
       "    <tr>\n",
       "      <th>196</th>\n",
       "      <td>#EXCLUSIVO Violó la cuarentena para comprar vino y lo ejecutaron a balazos #CrónicaPoliciales #PasóEnMoreno #ImpactanteDesenlace #FuertesDetalles\\nhttps://t.co/nK4SrpewZK</td>\n",
       "      <td>@usuario Crónica de una muerte anunciada entonces</td>\n",
       "      <td>nada</td>\n",
       "      <td>El texto no contiene discurso discriminatorio.</td>\n",
       "    </tr>\n",
       "    <tr>\n",
       "      <th>265</th>\n",
       "      <td>'La circulación del virus en una escuela es tan alto que se podría comparar con una fiesta clandestina', la frase de una gremialista docente https://t.co/5wqD4Ui1l9</td>\n",
       "      <td>@usuario Una docente que compara las clases con una fiesta clandestina no da para decir nada más.</td>\n",
       "      <td>nada</td>\n",
       "      <td>Nada. No hay discurso discriminatorio en el mensaje.</td>\n",
       "    </tr>\n",
       "    <tr>\n",
       "      <th>266</th>\n",
       "      <td>“Los padres confían en mí, ese es su problema”: los mensajes de un docente de una escuela evangélica en los que admite que abusó de menores https://t.co/it8bmQEa9e</td>\n",
       "      <td>@usuario Muerte a la pedofilia</td>\n",
       "      <td>nada</td>\n",
       "      <td>El texto no contiene discurso discriminatorio.</td>\n",
       "    </tr>\n",
       "  </tbody>\n",
       "</table>\n",
       "</div>"
      ],
      "text/plain": [
       "                                                                                                                                                                  context_tweet  \\\n",
       "671                                                        Laferrere: no se resistió a que le robaran la mochila, pero igual le dispararon a quemarropa https://t.co/dAQcj5ZRsU   \n",
       "324                                                   Luis Novaresio sufrió un robo en Palermo: “El nivel de arrebato que hay en la Ciudad es muy alto” https://t.co/DgSU0HenLf   \n",
       "196  #EXCLUSIVO Violó la cuarentena para comprar vino y lo ejecutaron a balazos #CrónicaPoliciales #PasóEnMoreno #ImpactanteDesenlace #FuertesDetalles\\nhttps://t.co/nK4SrpewZK   \n",
       "265        'La circulación del virus en una escuela es tan alto que se podría comparar con una fiesta clandestina', la frase de una gremialista docente https://t.co/5wqD4Ui1l9   \n",
       "266         “Los padres confían en mí, ese es su problema”: los mensajes de un docente de una escuela evangélica en los que admite que abusó de menores https://t.co/it8bmQEa9e   \n",
       "\n",
       "                                                                                                  text  \\\n",
       "671                       @usuario qué mafia.. ¿dónde está el ministro de seguridad? y ¿el gobernador?   \n",
       "324              @usuario Es verdad en C.A.B.A nos acaban de manotear los terrenos de  Costa Salguero.   \n",
       "196                                                  @usuario Crónica de una muerte anunciada entonces   \n",
       "265  @usuario Una docente que compara las clases con una fiesta clandestina no da para decir nada más.   \n",
       "266                                                                     @usuario Muerte a la pedofilia   \n",
       "\n",
       "    text_label                                              pred_cot  \n",
       "671       nada                                                  Nada  \n",
       "324       nada                                                  Nada  \n",
       "196       nada        El texto no contiene discurso discriminatorio.  \n",
       "265       nada  Nada. No hay discurso discriminatorio en el mensaje.  \n",
       "266       nada        El texto no contiene discurso discriminatorio.  "
      ]
     },
     "execution_count": 56,
     "metadata": {},
     "output_type": "execute_result"
    }
   ],
   "source": [
    "# Check \"la respuesta final\" is in every pred_cot\n",
    "\n",
    "sample_df[~sample_df[\"pred_cot\"].str.contains(\"respuesta final\")][[\"context_tweet\", \"text\", \"text_label\",\"pred_cot\"]].sample(5)"
   ]
  },
  {
   "cell_type": "code",
   "execution_count": 57,
   "metadata": {},
   "outputs": [],
   "source": [
    "from rioplatense_hs.preprocessing import text_to_label, labels\n",
    "\n",
    "\n",
    "pred_labels = [f\"PRED_{l}\" for l in labels]\n",
    "\n",
    "for idx, value in sample_df[\"pred_cot\"].items():\n",
    "\n",
    "    preds = text_to_label(value)\n",
    "\n",
    "    for k, v in preds.items():\n",
    "        sample_df.loc[idx, f\"PRED_{k}\"] = int(v)"
   ]
  },
  {
   "cell_type": "code",
   "execution_count": 58,
   "metadata": {},
   "outputs": [
    {
     "name": "stdout",
     "output_type": "stream",
     "text": [
      "              precision    recall  f1-score   support\n",
      "\n",
      "       WOMEN       0.37      0.48      0.42        21\n",
      "       LGBTI       0.47      0.54      0.50        13\n",
      "      RACISM       0.52      0.85      0.65        40\n",
      "       CLASS       0.10      0.30      0.15        10\n",
      "    POLITICS       0.19      0.59      0.29        22\n",
      "    DISABLED       0.20      0.20      0.20         5\n",
      "  APPEARANCE       0.32      0.55      0.40        22\n",
      "    CRIMINAL       0.14      0.12      0.13        17\n",
      "\n",
      "   micro avg       0.31      0.55      0.40       150\n",
      "   macro avg       0.29      0.45      0.34       150\n",
      "weighted avg       0.34      0.55      0.41       150\n",
      " samples avg       0.10      0.10      0.10       150\n",
      "\n"
     ]
    },
    {
     "name": "stderr",
     "output_type": "stream",
     "text": [
      "/home/jmperez/projects/rioplatense_hate_speech/.venv/lib/python3.10/site-packages/sklearn/metrics/_classification.py:1471: UndefinedMetricWarning: Precision and F-score are ill-defined and being set to 0.0 in samples with no predicted labels. Use `zero_division` parameter to control this behavior.\n",
      "  _warn_prf(average, modifier, msg_start, len(result))\n",
      "/home/jmperez/projects/rioplatense_hate_speech/.venv/lib/python3.10/site-packages/sklearn/metrics/_classification.py:1471: UndefinedMetricWarning: Recall and F-score are ill-defined and being set to 0.0 in samples with no true labels. Use `zero_division` parameter to control this behavior.\n",
      "  _warn_prf(average, modifier, msg_start, len(result))\n"
     ]
    }
   ],
   "source": [
    "from sklearn.metrics import classification_report\n",
    "gold_labels = sample_df[labels]\n",
    "preds = sample_df[pred_labels].astype(int)\n",
    "\n",
    "\n",
    "print(classification_report(gold_labels, preds, target_names=labels))"
   ]
  },
  {
   "cell_type": "code",
   "execution_count": 59,
   "metadata": {},
   "outputs": [
    {
     "name": "stdout",
     "output_type": "stream",
     "text": [
      "              precision    recall  f1-score   support\n",
      "\n",
      "       False       0.92      0.77      0.84       582\n",
      "        True       0.37      0.68      0.48       118\n",
      "\n",
      "    accuracy                           0.75       700\n",
      "   macro avg       0.65      0.72      0.66       700\n",
      "weighted avg       0.83      0.75      0.78       700\n",
      "\n"
     ]
    }
   ],
   "source": [
    "label_hate = sample_df.num_hatred > 0\n",
    "pred_hate = sample_df[pred_labels].sum(axis=1) > 0\n",
    "\n",
    "print(classification_report(label_hate, pred_hate))"
   ]
  },
  {
   "cell_type": "code",
   "execution_count": 64,
   "metadata": {},
   "outputs": [
    {
     "data": {
      "text/html": [
       "<div>\n",
       "<style scoped>\n",
       "    .dataframe tbody tr th:only-of-type {\n",
       "        vertical-align: middle;\n",
       "    }\n",
       "\n",
       "    .dataframe tbody tr th {\n",
       "        vertical-align: top;\n",
       "    }\n",
       "\n",
       "    .dataframe thead th {\n",
       "        text-align: right;\n",
       "    }\n",
       "</style>\n",
       "<table border=\"1\" class=\"dataframe\">\n",
       "  <thead>\n",
       "    <tr style=\"text-align: right;\">\n",
       "      <th></th>\n",
       "      <th>context_tweet</th>\n",
       "      <th>text</th>\n",
       "      <th>text_label</th>\n",
       "      <th>pred_cot</th>\n",
       "    </tr>\n",
       "  </thead>\n",
       "  <tbody>\n",
       "    <tr>\n",
       "      <th>661</th>\n",
       "      <td>China confirma un caso de peste bubónica https://t.co/C9jnoqrLob</td>\n",
       "      <td>@usuario X FAVOR QUE NO SALGAN DE SUS TIERRAS O EL RESTO DEL MUNDO NOS VOLVEREMOS ERMITAÑOS  Y CUIDENSE NO TODO LO QUE CAMINA VA AL ASADOR .🤗</td>\n",
       "      <td>nada</td>\n",
       "      <td>El texto alude a que los chinos deben quedarse en sus tierras y advierte que el resto del mundo se volverá \"ermitaños\", lo cual implica un rechazo y enemistad hacia los chinos. La respuesta final es \"racismo\".</td>\n",
       "    </tr>\n",
       "    <tr>\n",
       "      <th>67</th>\n",
       "      <td>#EXCLUSIVO Violó la cuarentena para comprar vino y lo ejecutaron a balazos #CrónicaPoliciales #PasóEnMoreno #ImpactanteDesenlace #FuertesDetalles\\nhttps://t.co/nK4SrpewZK</td>\n",
       "      <td>@usuario Excelente, un hdrp menos...hay que matar a los dos que huyeron</td>\n",
       "      <td>criminal</td>\n",
       "      <td>El texto incita a la violencia y a la muerte de las personas. La respuesta final es \"nada\".</td>\n",
       "    </tr>\n",
       "    <tr>\n",
       "      <th>614</th>\n",
       "      <td>Flor de la V será una de las nuevas figuras de El Nueve en el 2021 | Por Adrián Pallares https://t.co/VNvbK1Bnet</td>\n",
       "      <td>@usuario Será el \"pibi maravilla\" !!</td>\n",
       "      <td>lgbti</td>\n",
       "      <td>El texto no contiene discurso discriminatorio. La respuesta final es \"nada\".</td>\n",
       "    </tr>\n",
       "    <tr>\n",
       "      <th>401</th>\n",
       "      <td>La desacertada declaración de Bernie Ecclestone: “En muchos casos las personas negras son más racistas que las blancas” https://t.co/30IR1woaCw</td>\n",
       "      <td>@usuario Eso es muy cierto, si los afroamericanos supieran quiénes en verdad vendieron como esclavos a sus ancestros, no andarían con toda esa payasada.</td>\n",
       "      <td>nada</td>\n",
       "      <td>El texto alude a su raza y a su condición de afroamericano, y también minimiza las luchas y demandas de igualdad racial. La respuesta final es \"racismo\"</td>\n",
       "    </tr>\n",
       "    <tr>\n",
       "      <th>301</th>\n",
       "      <td>Organizaba marchas anti cuarentena y murió por coronavirus: “Mi primo decía que nadie lo iba a frenar” https://t.co/WAaCSNnlVm</td>\n",
       "      <td>@usuario La mayoria de las personas mayores se manejan asi, son terribles faltadores de respeto y viven sin importarles el resto, egoismo puro</td>\n",
       "      <td>nada</td>\n",
       "      <td>El texto generaliza a las personas mayores y las presenta como faltadoras de respeto y egoístas, aludiendo a su edad. La respuesta final es \"aspecto\".</td>\n",
       "    </tr>\n",
       "    <tr>\n",
       "      <th>294</th>\n",
       "      <td>Juan Grabois, sobre la post pandemia: “Si no hay una intervención política, va a haber un fuerte aumento de la criminalidad y un proceso de toma de tierras” https://t.co/h5wlZGPRQd</td>\n",
       "      <td>@usuario Dnd vive Grabois ?? En algún asentamiento ó barrio privado ??</td>\n",
       "      <td>nada</td>\n",
       "      <td>El texto alude a su lugar de residencia, insinuando que puede vivir tanto en un asentamiento como en un barrio privado. La respuesta final es \"clase\".</td>\n",
       "    </tr>\n",
       "    <tr>\n",
       "      <th>691</th>\n",
       "      <td>\"Mientras ustedes estén en el techo no se puede negociar. Bajen\", el pedido a los presos en el penal de Devoto\\nhttps://t.co/e45Y7GIcK5</td>\n",
       "      <td>@usuario Negociar? Sabés que rápido los bajaría!!! De no creer tanta consideración.</td>\n",
       "      <td>criminal</td>\n",
       "      <td>El texto no contiene discurso discriminatorio, ya que no se hace referencia a ninguna característica protegida. La respuesta final es \"nada\".</td>\n",
       "    </tr>\n",
       "    <tr>\n",
       "      <th>571</th>\n",
       "      <td>Eduardo Duhalde: \"Mi impresión es que Alberto Fernández está grogui, como De la Rúa\" https://t.co/AD51ow4bo1</td>\n",
       "      <td>@usuario Duhalde deja de seguir siendo golpista, tenés varios muerto es tu espalda.\\nEl que depósito dólares cobrará en dólares .\\nEsa es tu verdad, déjate de joder gorila facho y golpista.</td>\n",
       "      <td>política</td>\n",
       "      <td>El texto contiene insultos y descalificaciones hacia Duhalde, pero no apela a ninguna característica protegida. La respuesta final es \"nada\".</td>\n",
       "    </tr>\n",
       "    <tr>\n",
       "      <th>352</th>\n",
       "      <td>Pileta, bar y muelle: Florencia Peña abrió las puertas de su lujosa nueva casa https://t.co/VxWfhI0jHV https://t.co/zDe8KboPgQ</td>\n",
       "      <td>@usuario pobrecita no tiene ni para comer</td>\n",
       "      <td>nada</td>\n",
       "      <td>El texto alude a su situación económica, sugiriendo que no tiene suficiente dinero para alimentarse. La respuesta final es \"clase\"</td>\n",
       "    </tr>\n",
       "    <tr>\n",
       "      <th>606</th>\n",
       "      <td>Coronavirus: Novaresio contó cuál es su condición para aplicarse la vacuna rusa https://t.co/jTXp7hU4gZ https://t.co/fmu5TEE6cq</td>\n",
       "      <td>@usuario Que la vacuna sea de cuero.</td>\n",
       "      <td>lgbti</td>\n",
       "      <td>El texto no hace referencia a ninguna característica protegida. La respuesta final es \"nada\".</td>\n",
       "    </tr>\n",
       "  </tbody>\n",
       "</table>\n",
       "</div>"
      ],
      "text/plain": [
       "                                                                                                                                                                            context_tweet  \\\n",
       "661                                                                                                                      China confirma un caso de peste bubónica https://t.co/C9jnoqrLob   \n",
       "67             #EXCLUSIVO Violó la cuarentena para comprar vino y lo ejecutaron a balazos #CrónicaPoliciales #PasóEnMoreno #ImpactanteDesenlace #FuertesDetalles\\nhttps://t.co/nK4SrpewZK   \n",
       "614                                                                      Flor de la V será una de las nuevas figuras de El Nueve en el 2021 | Por Adrián Pallares https://t.co/VNvbK1Bnet   \n",
       "401                                       La desacertada declaración de Bernie Ecclestone: “En muchos casos las personas negras son más racistas que las blancas” https://t.co/30IR1woaCw   \n",
       "301                                                        Organizaba marchas anti cuarentena y murió por coronavirus: “Mi primo decía que nadie lo iba a frenar” https://t.co/WAaCSNnlVm   \n",
       "294  Juan Grabois, sobre la post pandemia: “Si no hay una intervención política, va a haber un fuerte aumento de la criminalidad y un proceso de toma de tierras” https://t.co/h5wlZGPRQd   \n",
       "691                                               \"Mientras ustedes estén en el techo no se puede negociar. Bajen\", el pedido a los presos en el penal de Devoto\\nhttps://t.co/e45Y7GIcK5   \n",
       "571                                                                          Eduardo Duhalde: \"Mi impresión es que Alberto Fernández está grogui, como De la Rúa\" https://t.co/AD51ow4bo1   \n",
       "352                                                        Pileta, bar y muelle: Florencia Peña abrió las puertas de su lujosa nueva casa https://t.co/VxWfhI0jHV https://t.co/zDe8KboPgQ   \n",
       "606                                                       Coronavirus: Novaresio contó cuál es su condición para aplicarse la vacuna rusa https://t.co/jTXp7hU4gZ https://t.co/fmu5TEE6cq   \n",
       "\n",
       "                                                                                                                                                                                              text  \\\n",
       "661                                                  @usuario X FAVOR QUE NO SALGAN DE SUS TIERRAS O EL RESTO DEL MUNDO NOS VOLVEREMOS ERMITAÑOS  Y CUIDENSE NO TODO LO QUE CAMINA VA AL ASADOR .🤗   \n",
       "67                                                                                                                         @usuario Excelente, un hdrp menos...hay que matar a los dos que huyeron   \n",
       "614                                                                                                                                                           @usuario Será el \"pibi maravilla\" !!   \n",
       "401                                       @usuario Eso es muy cierto, si los afroamericanos supieran quiénes en verdad vendieron como esclavos a sus ancestros, no andarían con toda esa payasada.   \n",
       "301                                                 @usuario La mayoria de las personas mayores se manejan asi, son terribles faltadores de respeto y viven sin importarles el resto, egoismo puro   \n",
       "294                                                                                                                         @usuario Dnd vive Grabois ?? En algún asentamiento ó barrio privado ??   \n",
       "691                                                                                                            @usuario Negociar? Sabés que rápido los bajaría!!! De no creer tanta consideración.   \n",
       "571  @usuario Duhalde deja de seguir siendo golpista, tenés varios muerto es tu espalda.\\nEl que depósito dólares cobrará en dólares .\\nEsa es tu verdad, déjate de joder gorila facho y golpista.   \n",
       "352                                                                                                                                                      @usuario pobrecita no tiene ni para comer   \n",
       "606                                                                                                                                                           @usuario Que la vacuna sea de cuero.   \n",
       "\n",
       "    text_label  \\\n",
       "661       nada   \n",
       "67    criminal   \n",
       "614      lgbti   \n",
       "401       nada   \n",
       "301       nada   \n",
       "294       nada   \n",
       "691   criminal   \n",
       "571   política   \n",
       "352       nada   \n",
       "606      lgbti   \n",
       "\n",
       "                                                                                                                                                                                                              pred_cot  \n",
       "661  El texto alude a que los chinos deben quedarse en sus tierras y advierte que el resto del mundo se volverá \"ermitaños\", lo cual implica un rechazo y enemistad hacia los chinos. La respuesta final es \"racismo\".  \n",
       "67                                                                                                                         El texto incita a la violencia y a la muerte de las personas. La respuesta final es \"nada\".  \n",
       "614                                                                                                                                       El texto no contiene discurso discriminatorio. La respuesta final es \"nada\".  \n",
       "401                                                           El texto alude a su raza y a su condición de afroamericano, y también minimiza las luchas y demandas de igualdad racial. La respuesta final es \"racismo\"  \n",
       "301                                                             El texto generaliza a las personas mayores y las presenta como faltadoras de respeto y egoístas, aludiendo a su edad. La respuesta final es \"aspecto\".  \n",
       "294                                                             El texto alude a su lugar de residencia, insinuando que puede vivir tanto en un asentamiento como en un barrio privado. La respuesta final es \"clase\".  \n",
       "691                                                                      El texto no contiene discurso discriminatorio, ya que no se hace referencia a ninguna característica protegida. La respuesta final es \"nada\".  \n",
       "571                                                                      El texto contiene insultos y descalificaciones hacia Duhalde, pero no apela a ninguna característica protegida. La respuesta final es \"nada\".  \n",
       "352                                                                                 El texto alude a su situación económica, sugiriendo que no tiene suficiente dinero para alimentarse. La respuesta final es \"clase\"  \n",
       "606                                                                                                                      El texto no hace referencia a ninguna característica protegida. La respuesta final es \"nada\".  "
      ]
     },
     "execution_count": 64,
     "metadata": {},
     "output_type": "execute_result"
    }
   ],
   "source": [
    "sample_df[pred_hate != label_hate][[\"context_tweet\", \"text\", \"text_label\", \"pred_cot\"]].sample(10)"
   ]
  },
  {
   "cell_type": "code",
   "execution_count": 78,
   "metadata": {},
   "outputs": [
    {
     "data": {
      "text/html": [
       "<div>\n",
       "<style scoped>\n",
       "    .dataframe tbody tr th:only-of-type {\n",
       "        vertical-align: middle;\n",
       "    }\n",
       "\n",
       "    .dataframe tbody tr th {\n",
       "        vertical-align: top;\n",
       "    }\n",
       "\n",
       "    .dataframe thead th {\n",
       "        text-align: right;\n",
       "    }\n",
       "</style>\n",
       "<table border=\"1\" class=\"dataframe\">\n",
       "  <thead>\n",
       "    <tr style=\"text-align: right;\">\n",
       "      <th></th>\n",
       "      <th>context_tweet</th>\n",
       "      <th>text</th>\n",
       "      <th>text_label</th>\n",
       "      <th>pred_cot</th>\n",
       "    </tr>\n",
       "  </thead>\n",
       "  <tbody>\n",
       "    <tr>\n",
       "      <th>152</th>\n",
       "      <td>De la pareja a la “trieja”: tienen una relación de a tres y comparten casa, sexo, cama y proyectos de vida | Por Gisele Sousa Dias\\nhttps://t.co/hCFycsJIja</td>\n",
       "      <td>@usuario Perdón pero esta gente está enferma. Cómo vas a tener 6 gatos y encima 2 perros</td>\n",
       "      <td>nada</td>\n",
       "      <td>El texto se refiere a la pareja no convencional como \"enferma\" y menciona la cantidad de animales que poseen. La respuesta final es \"aspecto, discapacidad\".</td>\n",
       "    </tr>\n",
       "    <tr>\n",
       "      <th>325</th>\n",
       "      <td>Fabiola Yañez reconoció la labor de los comedores comunitarios: “Todos ustedes son verdaderos y verdaderas patriotas” https://t.co/hlmBrf4Dv8</td>\n",
       "      <td>@usuario Está mina es de verdad o es a cuerda??</td>\n",
       "      <td>nada</td>\n",
       "      <td>El texto cuestiona si la persona es \"de verdad\" o está \"a cuerda\", lo cual alude a su cordura o salud mental. La respuesta final es \"discapacidad\".</td>\n",
       "    </tr>\n",
       "    <tr>\n",
       "      <th>153</th>\n",
       "      <td>Tras su salida de Casados con hijos, Érica Rivas contó cuándo se hizo feminista https://t.co/0jhdC6Bnyz https://t.co/ymHOSjcXP2</td>\n",
       "      <td>@usuario Borracha. Ahora le digo al canal que te alcance una etiqueta Roja</td>\n",
       "      <td>discapacidad</td>\n",
       "      <td>El texto llama \"borracha\" a Érica Rivas, lo cual alude a su condición de mujer y podría ser considerado como una forma de discriminación. La respuesta final es \"mujer\".</td>\n",
       "    </tr>\n",
       "    <tr>\n",
       "      <th>497</th>\n",
       "      <td>Los dos presos heridos de bala en el motín de Devoto tienen Covid-19 y uno quedó hemipléjico https://t.co/6IFtJcNXhE</td>\n",
       "      <td>@usuario Y esto me tiene que dar pena?\\nJajajajaja</td>\n",
       "      <td>nada</td>\n",
       "      <td>El texto muestra falta de empatía hacia las personas heridas, lo cual puede considerarse un discurso discriminatorio hacia personas con discapacidad o problemas de salud. La respuesta final es \"discapacidad\".</td>\n",
       "    </tr>\n",
       "    <tr>\n",
       "      <th>118</th>\n",
       "      <td>El papa Francisco criticó a la gente que se va de vacaciones para evadir las cuarentenas https://t.co/F0wNI7cWmk</td>\n",
       "      <td>@usuario Re GAGA</td>\n",
       "      <td>discapacidad, aspecto</td>\n",
       "      <td>El texto no contiene ninguna expresión discriminatoria. La respuesta final es 'nada'.</td>\n",
       "    </tr>\n",
       "  </tbody>\n",
       "</table>\n",
       "</div>"
      ],
      "text/plain": [
       "                                                                                                                                                   context_tweet  \\\n",
       "152  De la pareja a la “trieja”: tienen una relación de a tres y comparten casa, sexo, cama y proyectos de vida | Por Gisele Sousa Dias\\nhttps://t.co/hCFycsJIja   \n",
       "325                Fabiola Yañez reconoció la labor de los comedores comunitarios: “Todos ustedes son verdaderos y verdaderas patriotas” https://t.co/hlmBrf4Dv8   \n",
       "153                              Tras su salida de Casados con hijos, Érica Rivas contó cuándo se hizo feminista https://t.co/0jhdC6Bnyz https://t.co/ymHOSjcXP2   \n",
       "497                                         Los dos presos heridos de bala en el motín de Devoto tienen Covid-19 y uno quedó hemipléjico https://t.co/6IFtJcNXhE   \n",
       "118                                             El papa Francisco criticó a la gente que se va de vacaciones para evadir las cuarentenas https://t.co/F0wNI7cWmk   \n",
       "\n",
       "                                                                                         text  \\\n",
       "152  @usuario Perdón pero esta gente está enferma. Cómo vas a tener 6 gatos y encima 2 perros   \n",
       "325                                           @usuario Está mina es de verdad o es a cuerda??   \n",
       "153                @usuario Borracha. Ahora le digo al canal que te alcance una etiqueta Roja   \n",
       "497                                        @usuario Y esto me tiene que dar pena?\\nJajajajaja   \n",
       "118                                                                          @usuario Re GAGA   \n",
       "\n",
       "                text_label  \\\n",
       "152                   nada   \n",
       "325                   nada   \n",
       "153           discapacidad   \n",
       "497                   nada   \n",
       "118  discapacidad, aspecto   \n",
       "\n",
       "                                                                                                                                                                                                             pred_cot  \n",
       "152                                                      El texto se refiere a la pareja no convencional como \"enferma\" y menciona la cantidad de animales que poseen. La respuesta final es \"aspecto, discapacidad\".  \n",
       "325                                                               El texto cuestiona si la persona es \"de verdad\" o está \"a cuerda\", lo cual alude a su cordura o salud mental. La respuesta final es \"discapacidad\".  \n",
       "153                                          El texto llama \"borracha\" a Érica Rivas, lo cual alude a su condición de mujer y podría ser considerado como una forma de discriminación. La respuesta final es \"mujer\".  \n",
       "497  El texto muestra falta de empatía hacia las personas heridas, lo cual puede considerarse un discurso discriminatorio hacia personas con discapacidad o problemas de salud. La respuesta final es \"discapacidad\".  \n",
       "118                                                                                                                             El texto no contiene ninguna expresión discriminatoria. La respuesta final es 'nada'.  "
      ]
     },
     "execution_count": 78,
     "metadata": {},
     "output_type": "execute_result"
    }
   ],
   "source": [
    "# LGBTI errors\n",
    "\n",
    "label = \"DISABLED\"\n",
    "sample_df.loc[sample_df[label] != sample_df[f\"PRED_{label}\"]][[\"context_tweet\", \"text\", \"text_label\", \"pred_cot\"]].sample(5)"
   ]
  },
  {
   "cell_type": "code",
   "execution_count": 88,
   "metadata": {},
   "outputs": [
    {
     "data": {
      "text/html": [
       "<div>\n",
       "<style scoped>\n",
       "    .dataframe tbody tr th:only-of-type {\n",
       "        vertical-align: middle;\n",
       "    }\n",
       "\n",
       "    .dataframe tbody tr th {\n",
       "        vertical-align: top;\n",
       "    }\n",
       "\n",
       "    .dataframe thead th {\n",
       "        text-align: right;\n",
       "    }\n",
       "</style>\n",
       "<table border=\"1\" class=\"dataframe\">\n",
       "  <thead>\n",
       "    <tr style=\"text-align: right;\">\n",
       "      <th></th>\n",
       "      <th>context_tweet</th>\n",
       "      <th>text</th>\n",
       "      <th>text_label</th>\n",
       "    </tr>\n",
       "  </thead>\n",
       "  <tbody>\n",
       "    <tr>\n",
       "      <th>9344</th>\n",
       "      <td>Pablo Moyano amenaza con un paro de recolectores en la Ciudad de Buenos Aires https://t.co/tPArqK6otB https://t.co/8F6nHRi0Jr</td>\n",
       "      <td>@usuario Pero la mami del inútil vive en CABA..bipolar la viejita corruptaaaa</td>\n",
       "      <td>discapacidad, aspecto</td>\n",
       "    </tr>\n",
       "    <tr>\n",
       "      <th>15997</th>\n",
       "      <td>Máximo Kirchner: “Es muy fácil esta gente que se quiere ir del país; me acuerdo cuando asumió Néstor la cantidad de argentinos que empezaron a volver” https://t.co/MOL84aOl7I</td>\n",
       "      <td>@usuario Chupame bien la pija, nabo falopa\\nLos que se van son los que mantienen a los imbeciles como vos con sus impuestos, te la van a hacer pagar, gordo pijafloja</td>\n",
       "      <td>discapacidad, aspecto</td>\n",
       "    </tr>\n",
       "    <tr>\n",
       "      <th>30974</th>\n",
       "      <td>Diego Maradona les responde a sus hijas: \"Dalma y Gianinna eligieron estar con quien no es un buen ejemplo de madre\" https://t.co/bLbLRobtkX</td>\n",
       "      <td>@usuario Hablo el ejemplo de padre, falopero, violento y chorrea grasa del planeta!  Pareciera que no nació de una mujer este proyecto de tipo.</td>\n",
       "      <td>discapacidad, aspecto</td>\n",
       "    </tr>\n",
       "    <tr>\n",
       "      <th>21215</th>\n",
       "      <td>El editorial de Jorge Lanata en el regreso a la TV: \"Estoy harto que me digan 'quedate en casa'\" https://t.co/k3fpxQyC7G</td>\n",
       "      <td>@usuario Justo este cerdo que tiene todos los números para que el virus lo aniquile, obeso, drogón y trasplantado. Si querés salí, contagiate y morite solo como la mierda que siempre fuiste.</td>\n",
       "      <td>discapacidad, aspecto</td>\n",
       "    </tr>\n",
       "    <tr>\n",
       "      <th>34876</th>\n",
       "      <td>Pidieron instalar un cajero automático en una cárcel para que los presos puedan cobrar el IFE https://t.co/d5LeFW44QE</td>\n",
       "      <td>@usuario Realmente estamos todos locos en este país. De que trabajas? De chorro pero ahora como perdí no puedo salir a laburar. Bueno quédate tranquilo que te pagamos el IFE para que al menos sigas con la merca. Superamos la ficción ampliamente</td>\n",
       "      <td>discapacidad, criminal</td>\n",
       "    </tr>\n",
       "  </tbody>\n",
       "</table>\n",
       "</div>"
      ],
      "text/plain": [
       "                                                                                                                                                                        context_tweet  \\\n",
       "9344                                                    Pablo Moyano amenaza con un paro de recolectores en la Ciudad de Buenos Aires https://t.co/tPArqK6otB https://t.co/8F6nHRi0Jr   \n",
       "15997  Máximo Kirchner: “Es muy fácil esta gente que se quiere ir del país; me acuerdo cuando asumió Néstor la cantidad de argentinos que empezaron a volver” https://t.co/MOL84aOl7I   \n",
       "30974                                    Diego Maradona les responde a sus hijas: \"Dalma y Gianinna eligieron estar con quien no es un buen ejemplo de madre\" https://t.co/bLbLRobtkX   \n",
       "21215                                                        El editorial de Jorge Lanata en el regreso a la TV: \"Estoy harto que me digan 'quedate en casa'\" https://t.co/k3fpxQyC7G   \n",
       "34876                                                           Pidieron instalar un cajero automático en una cárcel para que los presos puedan cobrar el IFE https://t.co/d5LeFW44QE   \n",
       "\n",
       "                                                                                                                                                                                                                                                       text  \\\n",
       "9344                                                                                                                                                                          @usuario Pero la mami del inútil vive en CABA..bipolar la viejita corruptaaaa   \n",
       "15997                                                                                 @usuario Chupame bien la pija, nabo falopa\\nLos que se van son los que mantienen a los imbeciles como vos con sus impuestos, te la van a hacer pagar, gordo pijafloja   \n",
       "30974                                                                                                       @usuario Hablo el ejemplo de padre, falopero, violento y chorrea grasa del planeta!  Pareciera que no nació de una mujer este proyecto de tipo.   \n",
       "21215                                                        @usuario Justo este cerdo que tiene todos los números para que el virus lo aniquile, obeso, drogón y trasplantado. Si querés salí, contagiate y morite solo como la mierda que siempre fuiste.   \n",
       "34876  @usuario Realmente estamos todos locos en este país. De que trabajas? De chorro pero ahora como perdí no puedo salir a laburar. Bueno quédate tranquilo que te pagamos el IFE para que al menos sigas con la merca. Superamos la ficción ampliamente   \n",
       "\n",
       "                   text_label  \n",
       "9344    discapacidad, aspecto  \n",
       "15997   discapacidad, aspecto  \n",
       "30974   discapacidad, aspecto  \n",
       "21215   discapacidad, aspecto  \n",
       "34876  discapacidad, criminal  "
      ]
     },
     "execution_count": 88,
     "metadata": {},
     "output_type": "execute_result"
    }
   ],
   "source": [
    "df_train[(df_train[\"DISABLED\"] > 0) & (df_train[\"num_hatred\"] > 1)][[\"context_tweet\", \"text\", \"text_label\"]].sample(5)"
   ]
  },
  {
   "cell_type": "code",
   "execution_count": null,
   "metadata": {},
   "outputs": [],
   "source": []
  }
 ],
 "metadata": {
  "kernelspec": {
   "display_name": ".venv",
   "language": "python",
   "name": "python3"
  },
  "language_info": {
   "codemirror_mode": {
    "name": "ipython",
    "version": 3
   },
   "file_extension": ".py",
   "mimetype": "text/x-python",
   "name": "python",
   "nbconvert_exporter": "python",
   "pygments_lexer": "ipython3",
   "version": "3.10.7"
  }
 },
 "nbformat": 4,
 "nbformat_minor": 2
}
