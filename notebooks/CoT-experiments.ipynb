{
 "cells": [
  {
   "cell_type": "markdown",
   "metadata": {},
   "source": [
    "## Chain of thought experiments\n",
    "\n",
    "En esta notebook hacemos unos pequeños experimentos con CoT + HS detection"
   ]
  },
  {
   "cell_type": "code",
   "execution_count": 121,
   "metadata": {},
   "outputs": [
    {
     "name": "stdout",
     "output_type": "stream",
     "text": [
      "The autoreload extension is already loaded. To reload it, use:\n",
      "  %reload_ext autoreload\n"
     ]
    }
   ],
   "source": [
    "\n",
    "%load_ext autoreload\n",
    "%autoreload 2\n",
    "from rioplatense_hs.openai import get_completion\n",
    "from datasets import load_dataset\n",
    "\n",
    "dataset = load_dataset(\"piuba-bigdata/contextualized_hate_speech\")\n"
   ]
  },
  {
   "cell_type": "code",
   "execution_count": 122,
   "metadata": {},
   "outputs": [
    {
     "data": {
      "text/plain": [
       "list"
      ]
     },
     "execution_count": 122,
     "metadata": {},
     "output_type": "execute_result"
    }
   ],
   "source": [
    "import json\n",
    "\n",
    "raw_dataset = json.load(open(\"../data/dataset.raw.json\"))\n",
    "\n",
    "type(raw_dataset)"
   ]
  },
  {
   "cell_type": "code",
   "execution_count": 123,
   "metadata": {},
   "outputs": [
    {
     "data": {
      "text/plain": [
       "Dataset({\n",
       "    features: ['id', 'title', 'text', 'context_tweet', 'HATEFUL', 'body', 'CALLS', 'WOMEN', 'LGBTI', 'RACISM', 'CLASS', 'POLITICS', 'DISABLED', 'APPEARANCE', 'CRIMINAL'],\n",
       "    num_rows: 11343\n",
       "})"
      ]
     },
     "execution_count": 123,
     "metadata": {},
     "output_type": "execute_result"
    }
   ],
   "source": [
    "dataset[\"test\"]"
   ]
  },
  {
   "cell_type": "code",
   "execution_count": 124,
   "metadata": {},
   "outputs": [],
   "source": [
    "from rioplatense_hs.preprocessing import labels, label_to_text\n",
    "\n",
    "df_train = dataset[\"train\"].to_pandas()\n",
    "df_test = dataset[\"test\"].to_pandas()\n",
    "df_dev = dataset[\"dev\"].to_pandas()\n",
    "df_train[\"num_hatred\"] = df_train[labels].sum(axis=1)\n",
    "df_dev[\"num_hatred\"] = df_dev[labels].sum(axis=1)\n",
    "df_test[\"num_hatred\"] = df_test[labels].sum(axis=1)\n",
    "\n",
    "df_train[\"text_label\"] = df_train.apply(lambda x: label_to_text(x), axis=1)\n",
    "df_dev[\"text_label\"] = df_dev.apply(lambda x: label_to_text(x), axis=1)\n",
    "df_test[\"text_label\"] = df_test.apply(lambda x: label_to_text(x), axis=1)\n"
   ]
  },
  {
   "cell_type": "code",
   "execution_count": 125,
   "metadata": {},
   "outputs": [
    {
     "data": {
      "text/plain": [
       "['WOMEN',\n",
       " 'LGBTI',\n",
       " 'RACISM',\n",
       " 'CLASS',\n",
       " 'POLITICS',\n",
       " 'DISABLED',\n",
       " 'APPEARANCE',\n",
       " 'CRIMINAL']"
      ]
     },
     "execution_count": 125,
     "metadata": {},
     "output_type": "execute_result"
    }
   ],
   "source": [
    "labels"
   ]
  },
  {
   "cell_type": "code",
   "execution_count": 126,
   "metadata": {},
   "outputs": [
    {
     "data": {
      "text/html": [
       "<div>\n",
       "<style scoped>\n",
       "    .dataframe tbody tr th:only-of-type {\n",
       "        vertical-align: middle;\n",
       "    }\n",
       "\n",
       "    .dataframe tbody tr th {\n",
       "        vertical-align: top;\n",
       "    }\n",
       "\n",
       "    .dataframe thead th {\n",
       "        text-align: right;\n",
       "    }\n",
       "</style>\n",
       "<table border=\"1\" class=\"dataframe\">\n",
       "  <thead>\n",
       "    <tr style=\"text-align: right;\">\n",
       "      <th></th>\n",
       "      <th>context_tweet</th>\n",
       "      <th>text</th>\n",
       "    </tr>\n",
       "  </thead>\n",
       "  <tbody>\n",
       "    <tr>\n",
       "      <th>10692</th>\n",
       "      <td>Coronavirus en Argentina: 341 presos bonaerenses inician huelga de hambre y piden \"irse a sus casas\" https://t.co/GXtHXFL6te</td>\n",
       "      <td>@usuario Claro!!!  Así siguen robando y matando... Que se mueran todos</td>\n",
       "    </tr>\n",
       "    <tr>\n",
       "      <th>25169</th>\n",
       "      <td>Violencia: creció la cantidad de ladrones abatidos por policías en Buenos Aires https://t.co/A0pOfDGBSF https://t.co/GQDsaWPI2w</td>\n",
       "      <td>@usuario Una buena...</td>\n",
       "    </tr>\n",
       "  </tbody>\n",
       "</table>\n",
       "</div>"
      ],
      "text/plain": [
       "                                                                                                                         context_tweet  \\\n",
       "10692     Coronavirus en Argentina: 341 presos bonaerenses inician huelga de hambre y piden \"irse a sus casas\" https://t.co/GXtHXFL6te   \n",
       "25169  Violencia: creció la cantidad de ladrones abatidos por policías en Buenos Aires https://t.co/A0pOfDGBSF https://t.co/GQDsaWPI2w   \n",
       "\n",
       "                                                                         text  \n",
       "10692  @usuario Claro!!!  Así siguen robando y matando... Que se mueran todos  \n",
       "25169                                                   @usuario Una buena...  "
      ]
     },
     "execution_count": 126,
     "metadata": {},
     "output_type": "execute_result"
    }
   ],
   "source": [
    "df_train[df_train[\"CRIMINAL\"] > 0].sample(2)[[\"context_tweet\", \"text\"]]"
   ]
  },
  {
   "cell_type": "code",
   "execution_count": 127,
   "metadata": {},
   "outputs": [],
   "source": [
    "import pandas as pd\n",
    "\n",
    "pd.options.display.max_colwidth = 1000\n",
    "#df_train.loc[df_train[\"LGBTI\"] > 0, [\"title\", \"text\", \"text_label\"]].sample(20)"
   ]
  },
  {
   "cell_type": "code",
   "execution_count": 129,
   "metadata": {},
   "outputs": [
    {
     "name": "stdout",
     "output_type": "stream",
     "text": [
      "14\n",
      "Determinar si el siguiente mensaje contiene discurso de odio. Entendemos que hay discurso de odio en el tweet si tiene declaraciones de carácter intenso e irracional de rechazo, enemistad y aborrecimiento contra un individuo o contra un grupo, siendo objetivos de estas expresiones por poseer una característica protegida. Las características protegidas que contemplamos son:\n",
      "\n",
      "- mujer: mujeres o movimiento feminista\n",
      "- lgbti: contra gays, lesbianas, transexuales y otras identidades de género\n",
      "- racismo: inmigrantes, xenofobia, o contra pueblos aborígenes\n",
      "- clase: personas de bajos recursos o motivos de clase\n",
      "- discapacidad: discapacidad, problemas de salud mental o de adicción al alcohol u otras drogas\n",
      "- política: ideología política\n",
      "- aspecto: aspecto, gordofobia o edad\n",
      "- criminal: presos o delincuentes comunes\n",
      "\n",
      "Responder una o varias de las características separadas por coma, o bien \"nada\" si no hay discurso de odio. Pensá paso a paso la respuesta antes de responder.\n",
      "###\n",
      "contexto: Al borde del llanto, Nati Jota pidió disculpas por sus repudiables tuits pero los justificó: 'Quería sumar seguidores'\n",
      "texto: Show o nada mi amorrr!! Sos una imbesil!\n",
      "salida: Es un insulto y no menciona nada relacionado a las características protegidas. La respuesta final es 'nada' \n",
      "###\n",
      "contexto: Violento motín en la cárcel de Devoto: tomaron e incendiaron pabellones\n",
      "texto: Hermanito lo que son esos grones. Ahí adentro le robaron la billetera al coronavirus\n",
      "salida: La palabra \"grones\" significa negros, lo cual alude a su color de piel y aspecto. Además, se refiere a su condición de presos. La respuesta final es \"criminal, racismo, aspecto\" \n",
      "###\n",
      "contexto: Pileta, bar y muelle: Florencia Peña abrió las puertas de su lujosa nueva casa\n",
      "texto: pobrecita no tiene para comer\n",
      "salida: El comentario se refiere irónicamente a la lujosa casa, pero sin hacer ninguna mención a característica protegida. La respuesta final es 'nada'. \n",
      "###\n",
      "contexto: Mayra Mendoza criticó el banderazo contra el Gobierno: \"No tiene sentido y es antidemocrático\"\n",
      "texto: Que negrita villera....ni con la plata q roba puede arreglarse\n",
      "salida: El texto alude a su color de piel, a su condición social (villera), y a su aspecto. La respuesta final es \"racismo, aspecto, clase\" \n",
      "###\n",
      "contexto: Les darán DNI provisorio a personas en situación vulnerable, para que puedan empezar a cobrar planes sociales\n",
      "texto: Seguimos alimentando vagos\n",
      "salida: El comentario se refiere a quienes cobran planes sociales como vagos. La respuesta final es \"clase\" \n",
      "###\n",
      "contexto: Viola Davis, Halle Berry y Angela Bassett, actrices negras que superaron la discriminación en Hollywood\n",
      "texto: el titulo de por si da pena, la nación cree que el racismo es una enfermedad que los que la sufren tienen que superar, es un título discriminatorio\n",
      "salida: El comentario critica el título del artículo por insinuar que el racismo es una enfermedad. No critica en ningún momento a las actrices. La respuesta final es \"nada\" \n",
      "###\n",
      "contexto: No da tregua: sin ropa y desafiante Flor Peña volvió a mostrar su lado más hot\n",
      "texto: K lado hot tiene más varices k mi abuela. Tiene mas puesta de espalda k karagian trola\n",
      "salida: El texto alude a su aspecto (las varices) y la desprecia por \"trola\". La respuesta final es \"mujer, aspecto\" \n",
      "###\n",
      "contexto: Ginés González García: \"Le tengo mucho miedo al verano, el riesgo va a seguir\"\n",
      "texto: A este viejo le quedan 2 neuronas 1 para comer 2 para cagar\n",
      "salida: El texto alude a su edad, aduciendo que no tiene capacidades mentales acordes. La respuesta final es \"aspecto\" \n",
      "###\n",
      "contexto: Otro ataque de furia contra un colectivero: una mujer trans le pateó la unidad y le tiró un ladrillazo\n",
      "texto: Un tipo operado. Con la fuerza de un hombre y no la de una mujer\n",
      "salida: El texto alude a que la mujer trans es un hombre. La respuesta final es \"lgbti\" \n",
      "###\n",
      "contexto: Elisa Carrió denunció que el Gobierno usa la pandemia para \"establecer un estado de sitio\"\n",
      "texto: Gorda psiquiátrica\n",
      "salida: El texto alude a su aspecto (gorda) y la acusa de tener problemas psiquiátricos. La respuesta final es \"aspecto, discapacidad\" \n",
      "###\n",
      "contexto: 'País de maricas': ¿Por qué Jair Bolsonaro vuelve a atacar a los homosexuales en Brasil?\n",
      "texto: El discurso de bolsonaro donde dice \"maricas\" es brillante, sólo eso basta para meresca ser el presidente de Sudamérica. Clarín es una cueva de zurdos y progresistas que se pintan los labios punto. Clarín suavecito, te pasas de marica!\n",
      "salida: El texto alude a la homosexualidad como algo negativo, a la vez que acusa de ser \"zurdos y progresistas\" a quienes no están de acuerdo con el discurso de Bolsonaro. La respuesta final es \"lgbti, política\" \n",
      "###\n",
      "contexto: Coronavirus: las terribles imágenes del mercado donde se originó la pandemia\n",
      "texto: Como se llama la obra? Estigmaticemos a los chinos\n",
      "salida: El texto critica el titular del artículo por \"estigmatizar a los chinos\". Es un comentario irónico. La respuesta final es \"nada\" \n",
      "###\n",
      "contexto: Los dos presos heridos de bala en el motín de Devoto tienen Covid-19 y uno quedó hemipléjico\n",
      "texto: justicia divina!\n",
      "salida: El texto alude a que los presos merecen ser baleados. La respuesta final es 'criminal' \n",
      "###\n",
      "contexto: Wuhan celebra el fin de la cuarentena por el coronavirus con un mensaje para el resto del mundo: \"Aprendan de nuestros errores\"\n",
      "texto: Chinos culiados de mierda ojalá se mueran todos\n",
      "salida: Desea que se mueran los chinos por ser los supuestos culpables del COVID-19. La respuesta final es \"racismo\" \n",
      "###\n",
      "contexto: Estados Unidos restringe los vuelos debido al COVID-19\n",
      "texto: Todo esto es una locura\n",
      "salida: \n"
     ]
    }
   ],
   "source": [
    "from pprint import pprint as pp\n",
    "from rioplatense_hs.prompting import build_prompt, examples\n",
    "\n",
    "print(len(examples))\n",
    "print(build_prompt(contexto=\"Estados Unidos restringe los vuelos debido al COVID-19\", texto=\"Todo esto es una locura\"))"
   ]
  },
  {
   "cell_type": "code",
   "execution_count": 130,
   "metadata": {},
   "outputs": [],
   "source": [
    "# sample_df = df_test.sample(100)\n",
    "\n",
    "# sample_df = df_dev.sample(700, random_state=2022)\n",
    "\n",
    "sample_df = pd.read_csv(\"../data/sample_dev_df_14_shot.csv\")"
   ]
  },
  {
   "cell_type": "code",
   "execution_count": 131,
   "metadata": {},
   "outputs": [
    {
     "data": {
      "text/plain": [
       "0.16857142857142857"
      ]
     },
     "execution_count": 131,
     "metadata": {},
     "output_type": "execute_result"
    }
   ],
   "source": [
    "(sample_df[\"num_hatred\"] > 0).mean()"
   ]
  },
  {
   "cell_type": "markdown",
   "metadata": {},
   "source": [
    "## Error analysis"
   ]
  },
  {
   "cell_type": "code",
   "execution_count": 132,
   "metadata": {},
   "outputs": [
    {
     "name": "stdout",
     "output_type": "stream",
     "text": [
      "              precision    recall  f1-score   support\n",
      "\n",
      "       WOMEN       0.47      0.33      0.39        21\n",
      "       LGBTI       0.47      0.69      0.56        13\n",
      "      RACISM       0.65      0.78      0.70        40\n",
      "       CLASS       0.21      0.40      0.28        10\n",
      "    POLITICS       0.24      0.50      0.33        22\n",
      "    DISABLED       0.33      0.20      0.25         5\n",
      "  APPEARANCE       0.44      0.36      0.40        22\n",
      "    CRIMINAL       0.30      0.41      0.35        17\n",
      "\n",
      "   micro avg       0.41      0.52      0.46       150\n",
      "   macro avg       0.39      0.46      0.41       150\n",
      "weighted avg       0.44      0.52      0.46       150\n",
      " samples avg       0.10      0.10      0.10       150\n",
      "\n"
     ]
    },
    {
     "name": "stderr",
     "output_type": "stream",
     "text": [
      "/home/jmperez/projects/rioplatense_hate_speech/.venv/lib/python3.10/site-packages/sklearn/metrics/_classification.py:1471: UndefinedMetricWarning: Precision and F-score are ill-defined and being set to 0.0 in samples with no predicted labels. Use `zero_division` parameter to control this behavior.\n",
      "  _warn_prf(average, modifier, msg_start, len(result))\n",
      "/home/jmperez/projects/rioplatense_hate_speech/.venv/lib/python3.10/site-packages/sklearn/metrics/_classification.py:1471: UndefinedMetricWarning: Recall and F-score are ill-defined and being set to 0.0 in samples with no true labels. Use `zero_division` parameter to control this behavior.\n",
      "  _warn_prf(average, modifier, msg_start, len(result))\n"
     ]
    }
   ],
   "source": [
    "from rioplatense_hs.preprocessing import text_to_label, labels\n",
    "from sklearn.metrics import classification_report\n",
    "\n",
    "pred_labels = [f\"PRED_{label}\" for label in labels]\n",
    "gold_labels = sample_df[labels]\n",
    "preds = sample_df[pred_labels].astype(int)\n",
    "\n",
    "\n",
    "print(classification_report(gold_labels, preds, target_names=labels))"
   ]
  },
  {
   "cell_type": "code",
   "execution_count": 140,
   "metadata": {},
   "outputs": [
    {
     "name": "stdout",
     "output_type": "stream",
     "text": [
      "              precision    recall  f1-score   support\n",
      "\n",
      "       False       0.92      0.87      0.89       582\n",
      "        True       0.49      0.64      0.55       118\n",
      "\n",
      "    accuracy                           0.83       700\n",
      "   macro avg       0.71      0.75      0.72       700\n",
      "weighted avg       0.85      0.83      0.84       700\n",
      "\n"
     ]
    }
   ],
   "source": [
    "pred_labels = [l for l in sample_df.columns if l.startswith(\"PRED\")]\n",
    "\n",
    "label_hate = sample_df.num_hatred > 0\n",
    "pred_hate = sample_df[pred_labels].sum(axis=1) > 0\n",
    "\n",
    "print(classification_report(label_hate, pred_hate))"
   ]
  },
  {
   "cell_type": "code",
   "execution_count": 142,
   "metadata": {},
   "outputs": [
    {
     "data": {
      "text/plain": [
       "(11343, 17)"
      ]
     },
     "execution_count": 142,
     "metadata": {},
     "output_type": "execute_result"
    }
   ],
   "source": [
    "df_test.shape"
   ]
  },
  {
   "cell_type": "code",
   "execution_count": 102,
   "metadata": {},
   "outputs": [
    {
     "data": {
      "text/html": [
       "<div>\n",
       "<style scoped>\n",
       "    .dataframe tbody tr th:only-of-type {\n",
       "        vertical-align: middle;\n",
       "    }\n",
       "\n",
       "    .dataframe tbody tr th {\n",
       "        vertical-align: top;\n",
       "    }\n",
       "\n",
       "    .dataframe thead th {\n",
       "        text-align: right;\n",
       "    }\n",
       "</style>\n",
       "<table border=\"1\" class=\"dataframe\">\n",
       "  <thead>\n",
       "    <tr style=\"text-align: right;\">\n",
       "      <th></th>\n",
       "      <th>context_tweet</th>\n",
       "      <th>text</th>\n",
       "    </tr>\n",
       "  </thead>\n",
       "  <tbody>\n",
       "    <tr>\n",
       "      <th>22824</th>\n",
       "      <td>OPINIÓN: Se acaba el tiempo para que el proyecto de Interrupción Voluntaria del Embarazo se trate en el Congreso. Por Mariana Iglesias.  https://t.co/ecKOh57RUp</td>\n",
       "      <td>@usuario Hay prioridades sres.!q se cuiden y chau,siglo XXI y aun no saben como hacerlo!??... #NOALBORTO🙋‍♀️🇦🇷💪🏻</td>\n",
       "    </tr>\n",
       "    <tr>\n",
       "      <th>3013</th>\n",
       "      <td>Las razones de la Justicia para dejar libre al acusado de drogar y violar a la joven venezolana en su primer día de trabajo | Por Leonardo Scannone https://t.co/xeCBm8I0MC</td>\n",
       "      <td>@usuario Que vergüenza por favor. Basta de jueces incompatibles</td>\n",
       "    </tr>\n",
       "    <tr>\n",
       "      <th>3206</th>\n",
       "      <td>Daniel Gollán: \"Con la doctrina de Trump o Bolsonaro, la Argentina tendría entre 25 y 30 mil muertos por coronavirus\" https://t.co/f0G6mMv692</td>\n",
       "      <td>@usuario Pero seríamos o una de las mayores potencias del mundo y con más años de democracia ininterrumpida o el maior do mundo...\\nPD.: sin contar que somos aprox 45 millones contra entre 300/250 millones. O sea...</td>\n",
       "    </tr>\n",
       "    <tr>\n",
       "      <th>30813</th>\n",
       "      <td>La cruda advertencia de los especialistas: “Si Roldán hubiera matado a su atacante ahora estaría preso” https://t.co/DQ3YJONPIx</td>\n",
       "      <td>@usuario jjaajajjjaaj si hubiera, imbéciles</td>\n",
       "    </tr>\n",
       "    <tr>\n",
       "      <th>12171</th>\n",
       "      <td>Julia Mengolini volvió a criticar a Jimena Barón: “Estar buena te sirve solo a vos, no estás haciendo nada por los demás” https://t.co/I7sMgC4qkQ</td>\n",
       "      <td>@usuario @usuario se cree es la dueña de decir que es feminismo y que no. Todo lo que piensan como ella esta bien. No hay actitud mas facho que esa. Mengo dejate el bigote hitleriano</td>\n",
       "    </tr>\n",
       "    <tr>\n",
       "      <th>19989</th>\n",
       "      <td>Coronavirus en Argentina: Ginés González García confirmó que traerán médicos cubanos a la Argentina https://t.co/piNZBfPG1w</td>\n",
       "      <td>@usuario @usuario Sigo sin entender para que.</td>\n",
       "    </tr>\n",
       "    <tr>\n",
       "      <th>11549</th>\n",
       "      <td>Santiago Cafiero: “Si se empieza a instalar un discurso de odio, hay que desarmarlo rápidamente” https://t.co/rlYkS4zPTI https://t.co/2jVONdUoQN</td>\n",
       "      <td>@usuario Perdon????? Alguien q le dijo imbecil al dr @usuario habla de discurso de odio? Cuando el es el responsable de publicar a sus hijos?</td>\n",
       "    </tr>\n",
       "    <tr>\n",
       "      <th>24924</th>\n",
       "      <td>María Eugenia Vidal: “En Argentina las mujeres somos más que los hombres y debemos tener una representación de acuerdo a ello” https://t.co/CmhB77Xn2P</td>\n",
       "      <td>@usuario Lee el.disparate que decis @usuario !!!!\\n\\nEl personajillo politico mas sobrevaluado de la historia argentina\\n\\nDeplorable</td>\n",
       "    </tr>\n",
       "    <tr>\n",
       "      <th>15325</th>\n",
       "      <td>Elisa Carrió, contra Sergio Massa: \"Es un oportunista y un golpista, se merece una denuncia penal por Traición a la Patria\" https://t.co/VjfpDw0wNN</td>\n",
       "      <td>@usuario Psicótica. #RefornaJudicialYa #impuestoALaRiquezaYa #MacriPreso</td>\n",
       "    </tr>\n",
       "    <tr>\n",
       "      <th>14020</th>\n",
       "      <td>El mensaje de Florencia Kirchner antes de volver a la Argentina: \"Tengo lágrimas negras\" https://t.co/bjQdXLpxBI https://t.co/TOx13rGA1q</td>\n",
       "      <td>@usuario Para y por qué volvió?</td>\n",
       "    </tr>\n",
       "  </tbody>\n",
       "</table>\n",
       "</div>"
      ],
      "text/plain": [
       "                                                                                                                                                                     context_tweet  \\\n",
       "22824             OPINIÓN: Se acaba el tiempo para que el proyecto de Interrupción Voluntaria del Embarazo se trate en el Congreso. Por Mariana Iglesias.  https://t.co/ecKOh57RUp   \n",
       "3013   Las razones de la Justicia para dejar libre al acusado de drogar y violar a la joven venezolana en su primer día de trabajo | Por Leonardo Scannone https://t.co/xeCBm8I0MC   \n",
       "3206                                 Daniel Gollán: \"Con la doctrina de Trump o Bolsonaro, la Argentina tendría entre 25 y 30 mil muertos por coronavirus\" https://t.co/f0G6mMv692   \n",
       "30813                                              La cruda advertencia de los especialistas: “Si Roldán hubiera matado a su atacante ahora estaría preso” https://t.co/DQ3YJONPIx   \n",
       "12171                            Julia Mengolini volvió a criticar a Jimena Barón: “Estar buena te sirve solo a vos, no estás haciendo nada por los demás” https://t.co/I7sMgC4qkQ   \n",
       "19989                                                  Coronavirus en Argentina: Ginés González García confirmó que traerán médicos cubanos a la Argentina https://t.co/piNZBfPG1w   \n",
       "11549                             Santiago Cafiero: “Si se empieza a instalar un discurso de odio, hay que desarmarlo rápidamente” https://t.co/rlYkS4zPTI https://t.co/2jVONdUoQN   \n",
       "24924                       María Eugenia Vidal: “En Argentina las mujeres somos más que los hombres y debemos tener una representación de acuerdo a ello” https://t.co/CmhB77Xn2P   \n",
       "15325                          Elisa Carrió, contra Sergio Massa: \"Es un oportunista y un golpista, se merece una denuncia penal por Traición a la Patria\" https://t.co/VjfpDw0wNN   \n",
       "14020                                     El mensaje de Florencia Kirchner antes de volver a la Argentina: \"Tengo lágrimas negras\" https://t.co/bjQdXLpxBI https://t.co/TOx13rGA1q   \n",
       "\n",
       "                                                                                                                                                                                                                          text  \n",
       "22824                                                                                                         @usuario Hay prioridades sres.!q se cuiden y chau,siglo XXI y aun no saben como hacerlo!??... #NOALBORTO🙋‍♀️🇦🇷💪🏻  \n",
       "3013                                                                                                                                                           @usuario Que vergüenza por favor. Basta de jueces incompatibles  \n",
       "3206   @usuario Pero seríamos o una de las mayores potencias del mundo y con más años de democracia ininterrumpida o el maior do mundo...\\nPD.: sin contar que somos aprox 45 millones contra entre 300/250 millones. O sea...  \n",
       "30813                                                                                                                                                                              @usuario jjaajajjjaaj si hubiera, imbéciles  \n",
       "12171                                   @usuario @usuario se cree es la dueña de decir que es feminismo y que no. Todo lo que piensan como ella esta bien. No hay actitud mas facho que esa. Mengo dejate el bigote hitleriano  \n",
       "19989                                                                                                                                                                            @usuario @usuario Sigo sin entender para que.  \n",
       "11549                                                                            @usuario Perdon????? Alguien q le dijo imbecil al dr @usuario habla de discurso de odio? Cuando el es el responsable de publicar a sus hijos?  \n",
       "24924                                                                                    @usuario Lee el.disparate que decis @usuario !!!!\\n\\nEl personajillo politico mas sobrevaluado de la historia argentina\\n\\nDeplorable  \n",
       "15325                                                                                                                                                 @usuario Psicótica. #RefornaJudicialYa #impuestoALaRiquezaYa #MacriPreso  \n",
       "14020                                                                                                                                                                                          @usuario Para y por qué volvió?  "
      ]
     },
     "execution_count": 102,
     "metadata": {},
     "output_type": "execute_result"
    }
   ],
   "source": [
    "df_train[df_train[\"HATEFUL\"] == 0].sample(10)[[\"context_tweet\", \"text\"]]"
   ]
  },
  {
   "cell_type": "code",
   "execution_count": 103,
   "metadata": {},
   "outputs": [
    {
     "data": {
      "text/plain": [
       "('Determinar si el siguiente mensaje contiene discurso discriminatorio o no. Entendemos que hay discurso discriminatorio en el tweet si tiene declaraciones de carácter intenso e irracional de rechazo, enemistad y aborrecimiento contra un individuo o contra un grupo, siendo estos objetivos de estas expresiones por poseer una característica protegida. Las características protegidas que contemplamos son:\\n\\n- mujer: Mujeres o movimiento feminista\\n- lgbti: Género, identidad sexual\\n- racismo: Inmigrantes, extranjeros, religión, pueblos aborígenes u otras nacionalidades\\n- clase: Clase, situación socioeconómica o barrio de residencia\\n- discapacidad: Discapacidades, problemas de salud mental o de adicción al alcohol u otras drogas\\n- política: Opinión o ideología política.\\n- aspecto: Aspecto, gordofobia o edad\\n- criminal: Antecedentes penales o estar privado de la libertad\\n\\nResponder una o varias de las características separadas por coma, o bien \"nada\" si no hay discurso discriminatorio. Pensá paso a paso la respuesta antes de responder.\\n###\\ncontexto: Al borde del llanto, Nati Jota pidió disculpas por sus repudiables tuits pero los justificó: \\'Quería sumar seguidores\\'\\ntexto: Show o nada mi amorrr!! La imbesilidad al palo!\\nsalida: Es un insulto y no menciona nada relacionado a las características protegidas. La respuesta final es \\'nada\\' \\n###\\ncontexto: Violento motín en la cárcel de Devoto: tomaron e incendiaron pabellones\\ntexto: Hermanito lo que son esos grones. Ahí adentro le robaron la billetera al coronavirus\\nsalida: La palabra \"grones\" significa negros, lo cual alude a su color de piel y aspecto. Además, se refiere a su condición de presos. La respuesta final es \"criminal, racismo, aspecto\" \\n###\\ncontexto: Mayra Mendoza criticó el banderazo contra el Gobierno: \"No tiene sentido y es antidemocrático\"\\ntexto: Que negrita villera....ni con la plata q roba puede arreglarse\\nsalida: El texto alude a su color de piel, a su condición social (villera), y a su aspecto. La respuesta final es \"racismo, aspecto, clase\" \\n###\\ncontexto: Les darán DNI provisorio a personas en situación vulnerable, para que puedan empezar a cobrar planes sociales\\ntexto: Seguimos alimentando vagos\\nsalida: El comentario se refiere a quienes cobran planes sociales como vagos. La respuesta final es \"clase\" \\n###\\ncontexto: Viola Davis, Halle Berry y Angela Bassett, actrices negras que superaron la discriminación en Hollywood\\ntexto: el titulo de por si da pena, la nación cree que el racismo es una enfermedad que los que la sufren tienen que superar, es un título discriminatorio\\nsalida: El comentario critica el título del artículo por insinuar que el racismo es una enfermedad. No critica en ningún momento a las actrices. La respuesta final es \"nada\" \\n###\\ncontexto: No da tregua: sin ropa y desafiante Flor Peña volvió a mostrar su lado más hot\\ntexto: K lado hot tiene más varices k mi abuela. Tiene mas puesta de espalda k karagian trola\\nsalida: El texto alude a su aspecto (las varices) y la desprecia por \"trola\". La respuesta final es \"mujer, aspecto\" \\n###\\ncontexto: Ginés González García: \"Le tengo mucho miedo al verano, el riesgo va a seguir\"\\ntexto: A este viejo le quedan 2 neuronas 1 para comer 2 para cagar\\nsalida: El texto alude a su edad, aduciendo que no tiene capacidades mentales acordes. La respuesta final es \"aspecto\" \\n###\\ncontexto: Otro ataque de furia contra un colectivero: una mujer trans le pateó la unidad y le tiró un ladrillazo\\ntexto: Un tipo operado. Con la fuerza de un hombre y no la de una mujer\\nsalida: El texto alude a que la mujer trans es un hombre. La respuesta final es \"lgbti\" \\n###\\ncontexto: Elisa Carrió denunció que el Gobierno usa la pandemia para \"establecer un estado de sitio\"\\ntexto: Gorda psiquiátrica\\nsalida: El texto alude a su aspecto (gorda) y la acusa de tener problemas psiquiátricos. La respuesta final es \"aspecto, discapacidad\" \\n###\\ncontexto: \\'País de maricas\\': ¿Por qué Jair Bolsonaro vuelve a atacar a los homosexuales en Brasil?\\ntexto: El discurso de bolsonaro donde dice \"maricas\" es brillante, sólo eso basta para meresca ser el presidente de Sudamérica. Clarín es una cueva de zurdos y progresistas que se pintan los labios punto. Clarín suavecito, te pasas de marica!\\nsalida: El texto alude a la homosexualidad como algo negativo, a la vez que acusa de ser \"zurdos y progresistas\" a quienes no están de acuerdo con el discurso de Bolsonaro. La respuesta final es \"lgbti, política\" \\n###\\ncontexto: Los dos presos heridos de bala en el motín de Devoto tienen Covid-19 y uno quedó hemipléjico\\ntexto: justicia divina!\\nsalida: El texto alude a que los presos merecen ser baleados. La respuesta final es \\'criminal\\' \\n###\\ncontexto: Wuhan celebra el fin de la cuarentena por el coronavirus con un mensaje para el resto del mundo: \"Aprendan de nuestros errores\"\\ntexto: Chinos culiados de mierda ojalá se mueran todos\\nsalida: Desea que se mueran los chinos por ser los supuestos culpables del COVID-19. La respuesta final es \"racismo\" \\n###\\ncontexto: Julia Mengolini volvió a criticar a Jimena Barón: \"Estar buena te sirve solo a vos, no estás haciendo nada por los demás\"\\ntexto: se cree es la dueña de decir que es feminismo y que no. Todo lo que piensan como ella esta bien. No hay actitud mas facho que esa. Mengo dejate el bigote hitleriano\\nsalida: ',\n",
       " 'El texto critica a Julia Mengolini por su postura feminista y la compara con Hitler por tener un bigote. La respuesta final es \"mujer, política\"')"
      ]
     },
     "execution_count": 103,
     "metadata": {},
     "output_type": "execute_result"
    }
   ],
   "source": [
    "from rioplatense_hs.prompting import get_response\n",
    "\n",
    "contexto = 'Julia Mengolini volvió a criticar a Jimena Barón: “Estar buena te sirve solo a vos, no estás haciendo nada por los demás”'\n",
    "texto = 'se cree es la dueña de decir que es feminismo y que no. Todo lo que piensan como ella esta bien. No hay actitud mas facho que esa. Mengo dejate el bigote hitleriano'\n",
    "\n",
    "get_response(contexto, texto)"
   ]
  },
  {
   "cell_type": "code",
   "execution_count": 137,
   "metadata": {},
   "outputs": [
    {
     "data": {
      "text/plain": [
       "0"
      ]
     },
     "execution_count": 137,
     "metadata": {},
     "output_type": "execute_result"
    }
   ],
   "source": [
    "pred_hate.sum()"
   ]
  },
  {
   "cell_type": "code",
   "execution_count": 135,
   "metadata": {},
   "outputs": [
    {
     "ename": "ValueError",
     "evalue": "a must be greater than 0 unless no samples are taken",
     "output_type": "error",
     "traceback": [
      "\u001b[0;31m---------------------------------------------------------------------------\u001b[0m",
      "\u001b[0;31mValueError\u001b[0m                                Traceback (most recent call last)",
      "Cell \u001b[0;32mIn[135], line 1\u001b[0m\n\u001b[0;32m----> 1\u001b[0m \u001b[43msample_df\u001b[49m\u001b[43m[\u001b[49m\u001b[43mpred_hate\u001b[49m\u001b[43m \u001b[49m\u001b[38;5;241;43m&\u001b[39;49m\u001b[43m \u001b[49m\u001b[38;5;241;43m~\u001b[39;49m\u001b[43mlabel_hate\u001b[49m\u001b[43m]\u001b[49m\u001b[43m[\u001b[49m\u001b[43m[\u001b[49m\u001b[38;5;124;43m\"\u001b[39;49m\u001b[38;5;124;43mcontext_tweet\u001b[39;49m\u001b[38;5;124;43m\"\u001b[39;49m\u001b[43m,\u001b[49m\u001b[43m \u001b[49m\u001b[38;5;124;43m\"\u001b[39;49m\u001b[38;5;124;43mtext\u001b[39;49m\u001b[38;5;124;43m\"\u001b[39;49m\u001b[43m,\u001b[49m\u001b[43m \u001b[49m\u001b[38;5;124;43m\"\u001b[39;49m\u001b[38;5;124;43mtext_label\u001b[39;49m\u001b[38;5;124;43m\"\u001b[39;49m\u001b[43m,\u001b[49m\u001b[43m \u001b[49m\u001b[38;5;124;43m\"\u001b[39;49m\u001b[38;5;124;43mpred_cot\u001b[39;49m\u001b[38;5;124;43m\"\u001b[39;49m\u001b[43m,\u001b[49m\u001b[43m \u001b[49m\u001b[43m]\u001b[49m\u001b[43m]\u001b[49m\u001b[38;5;241;43m.\u001b[39;49m\u001b[43msample\u001b[49m\u001b[43m(\u001b[49m\u001b[38;5;241;43m10\u001b[39;49m\u001b[43m)\u001b[49m\n",
      "File \u001b[0;32m~/projects/rioplatense_hate_speech/.venv/lib/python3.10/site-packages/pandas/core/generic.py:6029\u001b[0m, in \u001b[0;36mNDFrame.sample\u001b[0;34m(self, n, frac, replace, weights, random_state, axis, ignore_index)\u001b[0m\n\u001b[1;32m   6026\u001b[0m \u001b[38;5;28;01mif\u001b[39;00m weights \u001b[38;5;129;01mis\u001b[39;00m \u001b[38;5;129;01mnot\u001b[39;00m \u001b[38;5;28;01mNone\u001b[39;00m:\n\u001b[1;32m   6027\u001b[0m     weights \u001b[38;5;241m=\u001b[39m sample\u001b[38;5;241m.\u001b[39mpreprocess_weights(\u001b[38;5;28mself\u001b[39m, weights, axis)\n\u001b[0;32m-> 6029\u001b[0m sampled_indices \u001b[38;5;241m=\u001b[39m \u001b[43msample\u001b[49m\u001b[38;5;241;43m.\u001b[39;49m\u001b[43msample\u001b[49m\u001b[43m(\u001b[49m\u001b[43mobj_len\u001b[49m\u001b[43m,\u001b[49m\u001b[43m \u001b[49m\u001b[43msize\u001b[49m\u001b[43m,\u001b[49m\u001b[43m \u001b[49m\u001b[43mreplace\u001b[49m\u001b[43m,\u001b[49m\u001b[43m \u001b[49m\u001b[43mweights\u001b[49m\u001b[43m,\u001b[49m\u001b[43m \u001b[49m\u001b[43mrs\u001b[49m\u001b[43m)\u001b[49m\n\u001b[1;32m   6030\u001b[0m result \u001b[38;5;241m=\u001b[39m \u001b[38;5;28mself\u001b[39m\u001b[38;5;241m.\u001b[39mtake(sampled_indices, axis\u001b[38;5;241m=\u001b[39maxis)\n\u001b[1;32m   6032\u001b[0m \u001b[38;5;28;01mif\u001b[39;00m ignore_index:\n",
      "File \u001b[0;32m~/projects/rioplatense_hate_speech/.venv/lib/python3.10/site-packages/pandas/core/sample.py:152\u001b[0m, in \u001b[0;36msample\u001b[0;34m(obj_len, size, replace, weights, random_state)\u001b[0m\n\u001b[1;32m    149\u001b[0m     \u001b[38;5;28;01melse\u001b[39;00m:\n\u001b[1;32m    150\u001b[0m         \u001b[38;5;28;01mraise\u001b[39;00m \u001b[38;5;167;01mValueError\u001b[39;00m(\u001b[38;5;124m\"\u001b[39m\u001b[38;5;124mInvalid weights: weights sum to zero\u001b[39m\u001b[38;5;124m\"\u001b[39m)\n\u001b[0;32m--> 152\u001b[0m \u001b[38;5;28;01mreturn\u001b[39;00m \u001b[43mrandom_state\u001b[49m\u001b[38;5;241;43m.\u001b[39;49m\u001b[43mchoice\u001b[49m\u001b[43m(\u001b[49m\u001b[43mobj_len\u001b[49m\u001b[43m,\u001b[49m\u001b[43m \u001b[49m\u001b[43msize\u001b[49m\u001b[38;5;241;43m=\u001b[39;49m\u001b[43msize\u001b[49m\u001b[43m,\u001b[49m\u001b[43m \u001b[49m\u001b[43mreplace\u001b[49m\u001b[38;5;241;43m=\u001b[39;49m\u001b[43mreplace\u001b[49m\u001b[43m,\u001b[49m\u001b[43m \u001b[49m\u001b[43mp\u001b[49m\u001b[38;5;241;43m=\u001b[39;49m\u001b[43mweights\u001b[49m\u001b[43m)\u001b[49m\u001b[38;5;241m.\u001b[39mastype(\n\u001b[1;32m    153\u001b[0m     np\u001b[38;5;241m.\u001b[39mintp, copy\u001b[38;5;241m=\u001b[39m\u001b[38;5;28;01mFalse\u001b[39;00m\n\u001b[1;32m    154\u001b[0m )\n",
      "File \u001b[0;32mnumpy/random/mtrand.pyx:944\u001b[0m, in \u001b[0;36mnumpy.random.mtrand.RandomState.choice\u001b[0;34m()\u001b[0m\n",
      "\u001b[0;31mValueError\u001b[0m: a must be greater than 0 unless no samples are taken"
     ]
    }
   ],
   "source": [
    "sample_df[pred_hate & ~label_hate][[\"context_tweet\", \"text\", \"text_label\", \"pred_cot\", ]].sample(10)"
   ]
  },
  {
   "cell_type": "code",
   "execution_count": 78,
   "metadata": {},
   "outputs": [
    {
     "data": {
      "text/html": [
       "<div>\n",
       "<style scoped>\n",
       "    .dataframe tbody tr th:only-of-type {\n",
       "        vertical-align: middle;\n",
       "    }\n",
       "\n",
       "    .dataframe tbody tr th {\n",
       "        vertical-align: top;\n",
       "    }\n",
       "\n",
       "    .dataframe thead th {\n",
       "        text-align: right;\n",
       "    }\n",
       "</style>\n",
       "<table border=\"1\" class=\"dataframe\">\n",
       "  <thead>\n",
       "    <tr style=\"text-align: right;\">\n",
       "      <th></th>\n",
       "      <th>context_tweet</th>\n",
       "      <th>text</th>\n",
       "      <th>text_label</th>\n",
       "    </tr>\n",
       "  </thead>\n",
       "  <tbody>\n",
       "    <tr>\n",
       "      <th>15354</th>\n",
       "      <td>Loly Antoniale mostró su impresionante casa en Miami: “Soy la reina de mi castillo” https://t.co/GuFd1ythLA</td>\n",
       "      <td>@usuario Mujeres hablando de mujeres 💜</td>\n",
       "      <td>nada</td>\n",
       "    </tr>\n",
       "    <tr>\n",
       "      <th>16828</th>\n",
       "      <td>La nueva vida en la cárcel de los rugbiers acusados de matar a Fernando Báez Sosa: comparten todos el mismo celular y leen novelas de fantasía https://t.co/VHfUewstWx</td>\n",
       "      <td>@usuario Uno piensa que solo en Colombia la justicia es ciega \\n\\nPero con este caso me doy cuenta que es en todo el mundo</td>\n",
       "      <td>nada</td>\n",
       "    </tr>\n",
       "    <tr>\n",
       "      <th>27859</th>\n",
       "      <td>Violó a su nieta, recibió la prisión domiciliaria con la excusa del coronavirus y volvió a contactar a la víctima por teléfono https://t.co/Fgc5jKto1U</td>\n",
       "      <td>@usuario La quería poner el hombre, se solidarizó el juez.</td>\n",
       "      <td>nada</td>\n",
       "    </tr>\n",
       "    <tr>\n",
       "      <th>34678</th>\n",
       "      <td>El equipo médico que venció al coronavirus en China recomendó endurecer la cuarentena en Italia: “Hay demasiada gente en la calle, no sé qué están pensando” https://t.co/CKfSJEuwIL</td>\n",
       "      <td>@usuario A mi me gustaría saber que mierda estaban pensando ellos cuando comían en esos mercados con todos los animales hacinados!</td>\n",
       "      <td>nada</td>\n",
       "    </tr>\n",
       "    <tr>\n",
       "      <th>1925</th>\n",
       "      <td>Agrupaciones feministas y la ministra de las Mujeres y Géneros se expresaron contra la liberación de violadores y femicidas https://t.co/ccZOTF32Qp</td>\n",
       "      <td>@usuario Tu gobierno, querida.</td>\n",
       "      <td>nada</td>\n",
       "    </tr>\n",
       "    <tr>\n",
       "      <th>35235</th>\n",
       "      <td>La asesina serial que mataba hombres para divertirse: sangre, sexo sadomasoquista y excitación en cada puñalada | Por Carolina Balbiani https://t.co/T3EdKxXmkf</td>\n",
       "      <td>@usuario Que rica</td>\n",
       "      <td>nada</td>\n",
       "    </tr>\n",
       "    <tr>\n",
       "      <th>25050</th>\n",
       "      <td>Organizaciones sociales cortan la avenida 9 de Julio: reclaman un salario mínimo de $ 45.000 https://t.co/DvQoh4SPaF</td>\n",
       "      <td>@usuario pasaje de ida a Haití y en 10 años somos potencia</td>\n",
       "      <td>nada</td>\n",
       "    </tr>\n",
       "    <tr>\n",
       "      <th>26016</th>\n",
       "      <td>Cuarentena. Carrió: \"Si allanan a Macri, tienen que detener a Alberto Fernández \" https://t.co/GBNki8ew1D https://t.co/tMZwEurVa0</td>\n",
       "      <td>@usuario Bamos LILITA ES ASI</td>\n",
       "      <td>nada</td>\n",
       "    </tr>\n",
       "    <tr>\n",
       "      <th>589</th>\n",
       "      <td>Trump volvió a culpar a China por la pandemia y aseguró que “van a pagar un alto precio por lo que le hicieron a EEUU y al mundo” https://t.co/ZvfPtpZNPe</td>\n",
       "      <td>@usuario Te amo</td>\n",
       "      <td>nada</td>\n",
       "    </tr>\n",
       "    <tr>\n",
       "      <th>12317</th>\n",
       "      <td>Juana Viale: \"Me afectó muchísimo que me dijeran golpista \" https://t.co/xNUKlEj9B9 https://t.co/GnejLiVYUB</td>\n",
       "      <td>@usuario Golpista y más aún. Viene de familia (de garcas)</td>\n",
       "      <td>nada</td>\n",
       "    </tr>\n",
       "  </tbody>\n",
       "</table>\n",
       "</div>"
      ],
      "text/plain": [
       "                                                                                                                                                                              context_tweet  \\\n",
       "15354                                                                           Loly Antoniale mostró su impresionante casa en Miami: “Soy la reina de mi castillo” https://t.co/GuFd1ythLA   \n",
       "16828                La nueva vida en la cárcel de los rugbiers acusados de matar a Fernando Báez Sosa: comparten todos el mismo celular y leen novelas de fantasía https://t.co/VHfUewstWx   \n",
       "27859                                Violó a su nieta, recibió la prisión domiciliaria con la excusa del coronavirus y volvió a contactar a la víctima por teléfono https://t.co/Fgc5jKto1U   \n",
       "34678  El equipo médico que venció al coronavirus en China recomendó endurecer la cuarentena en Italia: “Hay demasiada gente en la calle, no sé qué están pensando” https://t.co/CKfSJEuwIL   \n",
       "1925                                    Agrupaciones feministas y la ministra de las Mujeres y Géneros se expresaron contra la liberación de violadores y femicidas https://t.co/ccZOTF32Qp   \n",
       "35235                       La asesina serial que mataba hombres para divertirse: sangre, sexo sadomasoquista y excitación en cada puñalada | Por Carolina Balbiani https://t.co/T3EdKxXmkf   \n",
       "25050                                                                  Organizaciones sociales cortan la avenida 9 de Julio: reclaman un salario mínimo de $ 45.000 https://t.co/DvQoh4SPaF   \n",
       "26016                                                     Cuarentena. Carrió: \"Si allanan a Macri, tienen que detener a Alberto Fernández \" https://t.co/GBNki8ew1D https://t.co/tMZwEurVa0   \n",
       "589                               Trump volvió a culpar a China por la pandemia y aseguró que “van a pagar un alto precio por lo que le hicieron a EEUU y al mundo” https://t.co/ZvfPtpZNPe   \n",
       "12317                                                                           Juana Viale: \"Me afectó muchísimo que me dijeran golpista \" https://t.co/xNUKlEj9B9 https://t.co/GnejLiVYUB   \n",
       "\n",
       "                                                                                                                                     text  \\\n",
       "15354                                                                                              @usuario Mujeres hablando de mujeres 💜   \n",
       "16828          @usuario Uno piensa que solo en Colombia la justicia es ciega \\n\\nPero con este caso me doy cuenta que es en todo el mundo   \n",
       "27859                                                                          @usuario La quería poner el hombre, se solidarizó el juez.   \n",
       "34678  @usuario A mi me gustaría saber que mierda estaban pensando ellos cuando comían en esos mercados con todos los animales hacinados!   \n",
       "1925                                                                                                       @usuario Tu gobierno, querida.   \n",
       "35235                                                                                                                   @usuario Que rica   \n",
       "25050                                                                          @usuario pasaje de ida a Haití y en 10 años somos potencia   \n",
       "26016                                                                                                        @usuario Bamos LILITA ES ASI   \n",
       "589                                                                                                                       @usuario Te amo   \n",
       "12317                                                                           @usuario Golpista y más aún. Viene de familia (de garcas)   \n",
       "\n",
       "      text_label  \n",
       "15354       nada  \n",
       "16828       nada  \n",
       "27859       nada  \n",
       "34678       nada  \n",
       "1925        nada  \n",
       "35235       nada  \n",
       "25050       nada  \n",
       "26016       nada  \n",
       "589         nada  \n",
       "12317       nada  "
      ]
     },
     "execution_count": 78,
     "metadata": {},
     "output_type": "execute_result"
    }
   ],
   "source": [
    "df_train[df_train[\"num_hatred\"] == 0][[\"context_tweet\", \"text\", \"text_label\"]].sample(10)"
   ]
  },
  {
   "cell_type": "code",
   "execution_count": 104,
   "metadata": {},
   "outputs": [
    {
     "data": {
      "text/html": [
       "<div>\n",
       "<style scoped>\n",
       "    .dataframe tbody tr th:only-of-type {\n",
       "        vertical-align: middle;\n",
       "    }\n",
       "\n",
       "    .dataframe tbody tr th {\n",
       "        vertical-align: top;\n",
       "    }\n",
       "\n",
       "    .dataframe thead th {\n",
       "        text-align: right;\n",
       "    }\n",
       "</style>\n",
       "<table border=\"1\" class=\"dataframe\">\n",
       "  <thead>\n",
       "    <tr style=\"text-align: right;\">\n",
       "      <th></th>\n",
       "      <th>context_tweet</th>\n",
       "      <th>text</th>\n",
       "      <th>text_label</th>\n",
       "      <th>pred_cot</th>\n",
       "    </tr>\n",
       "  </thead>\n",
       "  <tbody>\n",
       "    <tr>\n",
       "      <th>64</th>\n",
       "      <td>🔴 AHORA | Alberto Fernández criticó a Susana Giménez y defendió a Marcelo Tinelli https://t.co/vMUxU3bdKB</td>\n",
       "      <td>@usuario Pregunta... los de la Villa Azul y sus alrededores no son Noticias? No está Berni ahí?</td>\n",
       "      <td>nada</td>\n",
       "      <td>El texto menciona a la \"Villa Azul\", que es una referencia a un barrio de bajos recursos, y hace alusión a la presencia del Ministro de Seguridad de la provincia de Buenos Aires, Sergio Berni. Por lo tanto, se está haciendo una asociación entre la villa y delincuencia. La respuesta final es \"clase, criminal\".</td>\n",
       "    </tr>\n",
       "    <tr>\n",
       "      <th>522</th>\n",
       "      <td>El drama de una argentina en Bolivia: está embarazada de seis meses, duerme en la calle con su hijo de 4 años y no puede regresar al país | Por Florencia Illbele https://t.co/emWE3AxUqe</td>\n",
       "      <td>@usuario Que feo pensar que acá los bolivianos hasta planes sociales tiene y disfrutan de nuestro sistema de salud y educativo cada vez me convenzo más que los arg somos demasiados generosos</td>\n",
       "      <td>racismo</td>\n",
       "      <td>El texto alude a los bolivianos y los critica por recibir planes sociales y disfrutar del sistema de salud y educación argentino. La respuesta final es \"racismo, clase\".</td>\n",
       "    </tr>\n",
       "    <tr>\n",
       "      <th>382</th>\n",
       "      <td>Coronavirus en Argentina: detienen a dos funcionarios de la Aduana que llevaban dinero de planes sociales argentinos a Paraguay https://t.co/HtxVVz1oZ2</td>\n",
       "      <td>@usuario AHHHH !!! QUE SON KK ,LOS MUCHACHOS ,,JEJEEJ, ARGENTINA PAIS DE PELOTUDOS /AS..</td>\n",
       "      <td>nada</td>\n",
       "      <td>El texto utiliza expresiones despectivas y palabras ofensivas para referirse a los funcionarios y a los argentinos en general. La respuesta final es \"clase\"</td>\n",
       "    </tr>\n",
       "    <tr>\n",
       "      <th>427</th>\n",
       "      <td>Relato de un aborto en medio de la desesperación: “Me jugué la vida, cuando no tenés plata te la jugás” | Por Gisele Sousa Dias https://t.co/kFFKKuARi8</td>\n",
       "      <td>@usuario Todo por no ponerse 1 forro! Tomatelas PAYASA</td>\n",
       "      <td>nada</td>\n",
       "      <td>El texto critica a la persona por no haber utilizado un condón y la insulta llamándola \"payasa\". La respuesta final es \"clase\".</td>\n",
       "    </tr>\n",
       "    <tr>\n",
       "      <th>66</th>\n",
       "      <td>Coronavirus en Argentina: 341 presos bonaerenses inician huelga de hambre y piden \"irse a sus casas\" https://t.co/GXtHXFL6te</td>\n",
       "      <td>@usuario Un gasto menos, dinero q puede ser invertido en salud. Y Si llegan a quemar colchones en señal d protesta como es su costumbre, q duerman en el piso!</td>\n",
       "      <td>nada</td>\n",
       "      <td>El texto se refiere a los presos como un gasto innecesario y sugiere que si llegan a protestar quemando colchones, deberían dormir en el piso. La respuesta final es \"criminal, clase\".</td>\n",
       "    </tr>\n",
       "  </tbody>\n",
       "</table>\n",
       "</div>"
      ],
      "text/plain": [
       "                                                                                                                                                                                 context_tweet  \\\n",
       "64                                                                                   🔴 AHORA | Alberto Fernández criticó a Susana Giménez y defendió a Marcelo Tinelli https://t.co/vMUxU3bdKB   \n",
       "522  El drama de una argentina en Bolivia: está embarazada de seis meses, duerme en la calle con su hijo de 4 años y no puede regresar al país | Por Florencia Illbele https://t.co/emWE3AxUqe   \n",
       "382                                    Coronavirus en Argentina: detienen a dos funcionarios de la Aduana que llevaban dinero de planes sociales argentinos a Paraguay https://t.co/HtxVVz1oZ2   \n",
       "427                                    Relato de un aborto en medio de la desesperación: “Me jugué la vida, cuando no tenés plata te la jugás” | Por Gisele Sousa Dias https://t.co/kFFKKuARi8   \n",
       "66                                                                Coronavirus en Argentina: 341 presos bonaerenses inician huelga de hambre y piden \"irse a sus casas\" https://t.co/GXtHXFL6te   \n",
       "\n",
       "                                                                                                                                                                                               text  \\\n",
       "64                                                                                                  @usuario Pregunta... los de la Villa Azul y sus alrededores no son Noticias? No está Berni ahí?   \n",
       "522  @usuario Que feo pensar que acá los bolivianos hasta planes sociales tiene y disfrutan de nuestro sistema de salud y educativo cada vez me convenzo más que los arg somos demasiados generosos   \n",
       "382                                                                                                        @usuario AHHHH !!! QUE SON KK ,LOS MUCHACHOS ,,JEJEEJ, ARGENTINA PAIS DE PELOTUDOS /AS..   \n",
       "427                                                                                                                                          @usuario Todo por no ponerse 1 forro! Tomatelas PAYASA   \n",
       "66                                   @usuario Un gasto menos, dinero q puede ser invertido en salud. Y Si llegan a quemar colchones en señal d protesta como es su costumbre, q duerman en el piso!   \n",
       "\n",
       "    text_label  \\\n",
       "64        nada   \n",
       "522    racismo   \n",
       "382       nada   \n",
       "427       nada   \n",
       "66        nada   \n",
       "\n",
       "                                                                                                                                                                                                                                                                                                                   pred_cot  \n",
       "64   El texto menciona a la \"Villa Azul\", que es una referencia a un barrio de bajos recursos, y hace alusión a la presencia del Ministro de Seguridad de la provincia de Buenos Aires, Sergio Berni. Por lo tanto, se está haciendo una asociación entre la villa y delincuencia. La respuesta final es \"clase, criminal\".  \n",
       "522                                                                                                                                               El texto alude a los bolivianos y los critica por recibir planes sociales y disfrutar del sistema de salud y educación argentino. La respuesta final es \"racismo, clase\".  \n",
       "382                                                                                                                                                            El texto utiliza expresiones despectivas y palabras ofensivas para referirse a los funcionarios y a los argentinos en general. La respuesta final es \"clase\"  \n",
       "427                                                                                                                                                                                         El texto critica a la persona por no haber utilizado un condón y la insulta llamándola \"payasa\". La respuesta final es \"clase\".  \n",
       "66                                                                                                                                  El texto se refiere a los presos como un gasto innecesario y sugiere que si llegan a protestar quemando colchones, deberían dormir en el piso. La respuesta final es \"criminal, clase\".  "
      ]
     },
     "execution_count": 104,
     "metadata": {},
     "output_type": "execute_result"
    }
   ],
   "source": [
    "# LGBTI errors\n",
    "\n",
    "label = \"CLASS\"\n",
    "sample_df.loc[sample_df[label] != sample_df[f\"PRED_{label}\"]][[\"context_tweet\", \"text\", \"text_label\", \"pred_cot\"]].sample(5)"
   ]
  },
  {
   "cell_type": "code",
   "execution_count": 80,
   "metadata": {},
   "outputs": [
    {
     "data": {
      "text/html": [
       "<div>\n",
       "<style scoped>\n",
       "    .dataframe tbody tr th:only-of-type {\n",
       "        vertical-align: middle;\n",
       "    }\n",
       "\n",
       "    .dataframe tbody tr th {\n",
       "        vertical-align: top;\n",
       "    }\n",
       "\n",
       "    .dataframe thead th {\n",
       "        text-align: right;\n",
       "    }\n",
       "</style>\n",
       "<table border=\"1\" class=\"dataframe\">\n",
       "  <thead>\n",
       "    <tr style=\"text-align: right;\">\n",
       "      <th></th>\n",
       "      <th>context_tweet</th>\n",
       "      <th>text</th>\n",
       "      <th>text_label</th>\n",
       "    </tr>\n",
       "  </thead>\n",
       "  <tbody>\n",
       "    <tr>\n",
       "      <th>31940</th>\n",
       "      <td>Grabois defendió la toma de tierras: \"El que dice que ocupar es delito, miente \" https://t.co/qXZsHYnmZ3 https://t.co/R2BLqqV23a</td>\n",
       "      <td>@usuario Yo le pongo una dinamita a estos vagos</td>\n",
       "      <td>clase, política</td>\n",
       "    </tr>\n",
       "    <tr>\n",
       "      <th>16559</th>\n",
       "      <td>Le sacó el arma al ladrón que lo asaltó, lo corrió y lo mató de un disparo: quedó detenido https://t.co/fU6UWLDqQe</td>\n",
       "      <td>@usuario Cagones hoy marchen para que suelten a este hombre, no por el hijo de puta de Macri que nos fundió y ayudó a que vuelvan estos negros hijos de puta kirchnerista</td>\n",
       "      <td>racismo, política, criminal</td>\n",
       "    </tr>\n",
       "    <tr>\n",
       "      <th>7604</th>\n",
       "      <td>Santa Fe: rompen más silobolsas y crece la preocupación en el campo https://t.co/Pb1gaBqyXU https://t.co/cPlGjy3V6T</td>\n",
       "      <td>@usuario Donde quedaron los escopetazos Argentina mia?...</td>\n",
       "      <td>política, criminal</td>\n",
       "    </tr>\n",
       "    <tr>\n",
       "      <th>34614</th>\n",
       "      <td>Juan Grabois: \"Hay una oleada de toma de tierras y se va a profundizar \" https://t.co/2B1JL2BkHh https://t.co/jJXbT0X564</td>\n",
       "      <td>@usuario Si es una amenaza!!!!??!!...a Vos hdrmPtas, seras otro de los tantos que vamos a LINCHAR en la Plaza de Mayo!!!!</td>\n",
       "      <td>clase, política</td>\n",
       "    </tr>\n",
       "    <tr>\n",
       "      <th>21056</th>\n",
       "      <td>“Tenemos explotados los teléfonos con denuncias por gente que no cumple la cuarentena”, aseguró la titular de Migraciones | Por Hugo Martin https://t.co/IJgFwW4Gbk</td>\n",
       "      <td>@usuario Se supone q es gente escolarizada, con educación, después dicen peronchos! Hdp</td>\n",
       "      <td>racismo, política</td>\n",
       "    </tr>\n",
       "  </tbody>\n",
       "</table>\n",
       "</div>"
      ],
      "text/plain": [
       "                                                                                                                                                             context_tweet  \\\n",
       "31940                                     Grabois defendió la toma de tierras: \"El que dice que ocupar es delito, miente \" https://t.co/qXZsHYnmZ3 https://t.co/R2BLqqV23a   \n",
       "16559                                                   Le sacó el arma al ladrón que lo asaltó, lo corrió y lo mató de un disparo: quedó detenido https://t.co/fU6UWLDqQe   \n",
       "7604                                                   Santa Fe: rompen más silobolsas y crece la preocupación en el campo https://t.co/Pb1gaBqyXU https://t.co/cPlGjy3V6T   \n",
       "34614                                             Juan Grabois: \"Hay una oleada de toma de tierras y se va a profundizar \" https://t.co/2B1JL2BkHh https://t.co/jJXbT0X564   \n",
       "21056  “Tenemos explotados los teléfonos con denuncias por gente que no cumple la cuarentena”, aseguró la titular de Migraciones | Por Hugo Martin https://t.co/IJgFwW4Gbk   \n",
       "\n",
       "                                                                                                                                                                            text  \\\n",
       "31940                                                                                                                            @usuario Yo le pongo una dinamita a estos vagos   \n",
       "16559  @usuario Cagones hoy marchen para que suelten a este hombre, no por el hijo de puta de Macri que nos fundió y ayudó a que vuelvan estos negros hijos de puta kirchnerista   \n",
       "7604                                                                                                                   @usuario Donde quedaron los escopetazos Argentina mia?...   \n",
       "34614                                                  @usuario Si es una amenaza!!!!??!!...a Vos hdrmPtas, seras otro de los tantos que vamos a LINCHAR en la Plaza de Mayo!!!!   \n",
       "21056                                                                                    @usuario Se supone q es gente escolarizada, con educación, después dicen peronchos! Hdp   \n",
       "\n",
       "                        text_label  \n",
       "31940              clase, política  \n",
       "16559  racismo, política, criminal  \n",
       "7604            política, criminal  \n",
       "34614              clase, política  \n",
       "21056            racismo, política  "
      ]
     },
     "execution_count": 80,
     "metadata": {},
     "output_type": "execute_result"
    }
   ],
   "source": [
    "df_train[(df_train[\"POLITICS\"] > 0) & (df_train[\"num_hatred\"] > 1)][[\"context_tweet\", \"text\", \"text_label\"]].sample(5)"
   ]
  },
  {
   "cell_type": "code",
   "execution_count": 82,
   "metadata": {},
   "outputs": [],
   "source": []
  },
  {
   "cell_type": "code",
   "execution_count": 91,
   "metadata": {},
   "outputs": [],
   "source": [
    "sample_df[\"PRED_HATEFUL\"] = pred_hate.astype(int)"
   ]
  },
  {
   "cell_type": "code",
   "execution_count": 92,
   "metadata": {},
   "outputs": [],
   "source": [
    "sample_df.to_csv(\"../data/sample_dev_df.csv\", index=False)"
   ]
  },
  {
   "cell_type": "code",
   "execution_count": null,
   "metadata": {},
   "outputs": [],
   "source": []
  }
 ],
 "metadata": {
  "kernelspec": {
   "display_name": ".venv",
   "language": "python",
   "name": "python3"
  },
  "language_info": {
   "codemirror_mode": {
    "name": "ipython",
    "version": 3
   },
   "file_extension": ".py",
   "mimetype": "text/x-python",
   "name": "python",
   "nbconvert_exporter": "python",
   "pygments_lexer": "ipython3",
   "version": "3.10.7"
  }
 },
 "nbformat": 4,
 "nbformat_minor": 2
}
