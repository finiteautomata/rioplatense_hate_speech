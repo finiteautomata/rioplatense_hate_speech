{
 "cells": [
  {
   "cell_type": "code",
   "execution_count": 4,
   "metadata": {},
   "outputs": [],
   "source": [
    "import getpass\n",
    "import openai\n",
    "\n",
    "API_KEY = getpass.getpass(\"Enter your API key: \")\n",
    "\n",
    "\n",
    "\n",
    "openai.api_key = API_KEY"
   ]
  },
  {
   "cell_type": "code",
   "execution_count": 5,
   "metadata": {},
   "outputs": [],
   "source": [
    "from openai import OpenAI\n",
    "\n",
    "client = OpenAI(\n",
    "    api_key=API_KEY\n",
    ")"
   ]
  },
  {
   "cell_type": "code",
   "execution_count": 6,
   "metadata": {},
   "outputs": [],
   "source": [
    "from datasets import load_dataset\n",
    "\n",
    "dataset = load_dataset(\"piuba-bigdata/contextualized_hate_speech\")"
   ]
  },
  {
   "cell_type": "code",
   "execution_count": 7,
   "metadata": {},
   "outputs": [
    {
     "data": {
      "text/plain": [
       "{'id': 343726,\n",
       " 'title': 'Video: salió de la cárcel por el coronavirus y murió de un tiro el mismo día al festejar su libertad',\n",
       " 'text': '@usuario Uno menos',\n",
       " 'context_tweet': 'Video: salió de la cárcel por el coronavirus y murió de un tiro el mismo día al festejar su libertad https://t.co/UrJGRAdEvD',\n",
       " 'HATEFUL': 1,\n",
       " 'body': 'Un hombre de 46 años, que cumplía una condena en prisión y fue puesto en libertad por el coronavirus, murió el mismo día que dejó la cárcel baleado por un primo, durante los \"festejos\" por dejar la prisión.\\n\\nSari Salem Wardat, de 46 años, recibió un disparo desde atrás en un aparente accidente mientras caminaba hacia miembros de la familia y vecinos que se habían reunido para darle la bienvenida a su casa, en Jordania.\\n\\nUn video que circuló en las redes sociales \\u200bmuestra a Sari llegando a su casa en un auto azul rodeado de tiros de \"celebración\". El primo se acerca de inmediato a Sari, que sostiene una pistola y la apunta hacia el cielo.\\n\\nEl detenido liberado, al lado de la puerta del acompañante, mira a su primo quien \"festeja\" la liberación.\\n\\nMirá también Mirá también El increíble video de unos monos que se tiran a la pileta como Charly García\\n\\nEl arma parece trabarse dos veces antes de que el primo dispare siete tiros al aire mientras Sari camina hacia las personas reunidas en la calle. Luego, el arma se traba una vez más y allí el preso liberado recibe un tiro accidental en la cabeza.\\n\\nSari había estado cumpliendo una condena de ocho meses de prisión por portar un arma sin licencia y resistir el arresto, pero también se cree que era un traficante de drogas y un contrabandista. Fue puesto en libertad dos semanas antes del final de su condena como parte de las medidas gubernamentales de Jordania para prevenir la propagación del coronavirus.',\n",
       " 'CALLS': 0,\n",
       " 'WOMEN': 0,\n",
       " 'LGBTI': 0,\n",
       " 'RACISM': 0,\n",
       " 'CLASS': 0,\n",
       " 'POLITICS': 0,\n",
       " 'DISABLED': 0,\n",
       " 'APPEARANCE': 0,\n",
       " 'CRIMINAL': 1}"
      ]
     },
     "execution_count": 7,
     "metadata": {},
     "output_type": "execute_result"
    }
   ],
   "source": [
    "dataset[\"train\"][0]"
   ]
  },
  {
   "cell_type": "code",
   "execution_count": 24,
   "metadata": {},
   "outputs": [],
   "source": [
    "df_test = dataset[\"test\"].to_pandas()"
   ]
  },
  {
   "cell_type": "code",
   "execution_count": 29,
   "metadata": {},
   "outputs": [],
   "source": [
    "\n",
    "labels = df_test.columns[7:]\n",
    "\n",
    "df_test[\"num_hatred\"] = df_test[labels].sum(axis=1)"
   ]
  },
  {
   "cell_type": "code",
   "execution_count": 43,
   "metadata": {},
   "outputs": [],
   "source": [
    "\n",
    "df_train = dataset[\"train\"].to_pandas()\n",
    "\n",
    "df_train[\"num_hatred\"] = df_train[labels].sum(axis=1)\n"
   ]
  },
  {
   "cell_type": "code",
   "execution_count": 50,
   "metadata": {},
   "outputs": [],
   "source": [
    "import pandas as pd\n",
    "\n",
    "pd.options.display.max_colwidth = 1000\n",
    "df_train[df_train[\"num_hatred\"] > 1].sample(2)\n",
    "\n",
    "def get_text_label(row):\n",
    "    ret = \"\"\n",
    "    for label in labels:\n",
    "        if row[label] == 1:\n",
    "            if ret == \"\":\n",
    "                ret = label\n",
    "            else:\n",
    "                ret = ret + \", \" + label\n",
    "    if ret == \"\":\n",
    "        ret = \"nada\"\n",
    "    return ret\n",
    "\n",
    "df_train[\"text_label\"] = df_train.apply(get_text_label, axis=1)\n",
    "df_test[\"text_label\"] = df_test.apply(get_text_label, axis=1)"
   ]
  },
  {
   "cell_type": "code",
   "execution_count": 59,
   "metadata": {},
   "outputs": [
    {
     "data": {
      "text/html": [
       "<div>\n",
       "<style scoped>\n",
       "    .dataframe tbody tr th:only-of-type {\n",
       "        vertical-align: middle;\n",
       "    }\n",
       "\n",
       "    .dataframe tbody tr th {\n",
       "        vertical-align: top;\n",
       "    }\n",
       "\n",
       "    .dataframe thead th {\n",
       "        text-align: right;\n",
       "    }\n",
       "</style>\n",
       "<table border=\"1\" class=\"dataframe\">\n",
       "  <thead>\n",
       "    <tr style=\"text-align: right;\">\n",
       "      <th></th>\n",
       "      <th>id</th>\n",
       "      <th>title</th>\n",
       "      <th>text</th>\n",
       "      <th>context_tweet</th>\n",
       "      <th>HATEFUL</th>\n",
       "      <th>body</th>\n",
       "      <th>CALLS</th>\n",
       "      <th>WOMEN</th>\n",
       "      <th>LGBTI</th>\n",
       "      <th>RACISM</th>\n",
       "      <th>CLASS</th>\n",
       "      <th>POLITICS</th>\n",
       "      <th>DISABLED</th>\n",
       "      <th>APPEARANCE</th>\n",
       "      <th>CRIMINAL</th>\n",
       "      <th>num_hatred</th>\n",
       "      <th>text_label</th>\n",
       "    </tr>\n",
       "  </thead>\n",
       "  <tbody>\n",
       "    <tr>\n",
       "      <th>8329</th>\n",
       "      <td>345474</td>\n",
       "      <td>Coronavirus en Argentina: se levantó la protesta de los presos en la cárcel de Melchor Romero</td>\n",
       "      <td>@usuario Ponga una bomba que mueran todo hay ratas</td>\n",
       "      <td>Coronavirus en Argentina: 150 presos protestan en los techos de una cárcel y piden \"libertad\" para \"no morir\" en prisión https://t.co/RcvBqs0bS3</td>\n",
       "      <td>1</td>\n",
       "      <td>Las autoridades del Servicio Penitenciario Bonaerense (SPB) informaron esta tarde que se \"retomó la calma\" en la Unidad 10 de Melchor Romero, donde este martes, bien temprano, un grupo de presos inició una protesta para reclamar salidas transitorias y otros beneficios en medio de la pandemia por el coronavirus .\\n\\nHoras antes, entre 10 y 20 detenidos se subieron a los techos del edificio y, a través de videos enviados con celulares, plantearon pedidos a las autoridades penales y judiciales.\\n\\nA partir de la intervención de representantes de la Defensoría General de La Plata, la Comisión Provincial por la Memoria (CPM) y directivos del SPB lograron desactivar la manifestación y recuperar el control del edificio que está ubicado en 519 y 176 de esa localidad perteneciente al partido de La Plata.​\\n\\n\"La situación quedó controlada sin que se registraran heridos o lesionados. Los internos preparan un petitorio para el Poder Judicial\", dijeron esta tarde fuentes penitenciarias.\\n\\nPro...</td>\n",
       "      <td>1</td>\n",
       "      <td>0</td>\n",
       "      <td>0</td>\n",
       "      <td>0</td>\n",
       "      <td>0</td>\n",
       "      <td>0</td>\n",
       "      <td>0</td>\n",
       "      <td>0</td>\n",
       "      <td>1</td>\n",
       "      <td>1</td>\n",
       "      <td>CRIMINAL</td>\n",
       "    </tr>\n",
       "    <tr>\n",
       "      <th>3353</th>\n",
       "      <td>337615</td>\n",
       "      <td>Wuhan celebra el fin de la cuarentena por el coronavirus con un mensaje para el resto del mundo: \"Aprendan de nuestros errores\"</td>\n",
       "      <td>@usuario Chinos culiados de mierda ojalá se mueran todos</td>\n",
       "      <td>Wuhan celebra el fin de la cuarentena por el coronavirus con un mensaje para el resto del mundo: \"Aprendan de nuestros errores\" https://t.co/mBLG1XfOGD</td>\n",
       "      <td>1</td>\n",
       "      <td>Miles de chinos celebraron con euforia este miércoles 8 de abril el final de más de dos meses de confinamiento en Wuhan, cuna de la pandemia de coronavirus. Mientras tanto, el virus no da tregua a Estados Unidos y Europa, donde no se logra generar una respuesta económica unificada y las muertes volvieron a aumentar en España​.\\n\\nEn medio de la aterradora marcha del nuevo coronavirus, el mundo vio una luz de esperanza con la imágenes de miles de pasajeros que a partir de la medianoche del martes empezaron a tomar por asalto estaciones de micros y trenes, algunos de ellos con atuendos de protección integral, en Wuhan, la capital de la provincia china de Hubei.\\n\\n\"Me levanté a las cuatro hoy. ¡Me siento tan bien!\", dijo una feliz Hao Mei, de 39 años y oriunda de Enshi, ciudad a 450 kilómetros al oeste de Wuhan. Estaba a punto de subirse a un tren para regresar con sus dos hijos, a los que tuvo que dejar solos durante más de dos meses, ya que quedó atrapada a fines de enero en Wuhan....</td>\n",
       "      <td>1</td>\n",
       "      <td>0</td>\n",
       "      <td>0</td>\n",
       "      <td>1</td>\n",
       "      <td>0</td>\n",
       "      <td>0</td>\n",
       "      <td>0</td>\n",
       "      <td>0</td>\n",
       "      <td>0</td>\n",
       "      <td>1</td>\n",
       "      <td>RACISM</td>\n",
       "    </tr>\n",
       "  </tbody>\n",
       "</table>\n",
       "</div>"
      ],
      "text/plain": [
       "          id  \\\n",
       "8329  345474   \n",
       "3353  337615   \n",
       "\n",
       "                                                                                                                                title  \\\n",
       "8329                                    Coronavirus en Argentina: se levantó la protesta de los presos en la cárcel de Melchor Romero   \n",
       "3353  Wuhan celebra el fin de la cuarentena por el coronavirus con un mensaje para el resto del mundo: \"Aprendan de nuestros errores\"   \n",
       "\n",
       "                                                          text  \\\n",
       "8329        @usuario Ponga una bomba que mueran todo hay ratas   \n",
       "3353  @usuario Chinos culiados de mierda ojalá se mueran todos   \n",
       "\n",
       "                                                                                                                                                context_tweet  \\\n",
       "8329         Coronavirus en Argentina: 150 presos protestan en los techos de una cárcel y piden \"libertad\" para \"no morir\" en prisión https://t.co/RcvBqs0bS3   \n",
       "3353  Wuhan celebra el fin de la cuarentena por el coronavirus con un mensaje para el resto del mundo: \"Aprendan de nuestros errores\" https://t.co/mBLG1XfOGD   \n",
       "\n",
       "      HATEFUL  \\\n",
       "8329        1   \n",
       "3353        1   \n",
       "\n",
       "                                                                                                                                                                                                                                                                                                                                                                                                                                                                                                                                                                                                                                                                                                                                                                                                                                                                                                                                                                                                                                         body  \\\n",
       "8329  Las autoridades del Servicio Penitenciario Bonaerense (SPB) informaron esta tarde que se \"retomó la calma\" en la Unidad 10 de Melchor Romero, donde este martes, bien temprano, un grupo de presos inició una protesta para reclamar salidas transitorias y otros beneficios en medio de la pandemia por el coronavirus .\\n\\nHoras antes, entre 10 y 20 detenidos se subieron a los techos del edificio y, a través de videos enviados con celulares, plantearon pedidos a las autoridades penales y judiciales.\\n\\nA partir de la intervención de representantes de la Defensoría General de La Plata, la Comisión Provincial por la Memoria (CPM) y directivos del SPB lograron desactivar la manifestación y recuperar el control del edificio que está ubicado en 519 y 176 de esa localidad perteneciente al partido de La Plata.​\\n\\n\"La situación quedó controlada sin que se registraran heridos o lesionados. Los internos preparan un petitorio para el Poder Judicial\", dijeron esta tarde fuentes penitenciarias.\\n\\nPro...   \n",
       "3353  Miles de chinos celebraron con euforia este miércoles 8 de abril el final de más de dos meses de confinamiento en Wuhan, cuna de la pandemia de coronavirus. Mientras tanto, el virus no da tregua a Estados Unidos y Europa, donde no se logra generar una respuesta económica unificada y las muertes volvieron a aumentar en España​.\\n\\nEn medio de la aterradora marcha del nuevo coronavirus, el mundo vio una luz de esperanza con la imágenes de miles de pasajeros que a partir de la medianoche del martes empezaron a tomar por asalto estaciones de micros y trenes, algunos de ellos con atuendos de protección integral, en Wuhan, la capital de la provincia china de Hubei.\\n\\n\"Me levanté a las cuatro hoy. ¡Me siento tan bien!\", dijo una feliz Hao Mei, de 39 años y oriunda de Enshi, ciudad a 450 kilómetros al oeste de Wuhan. Estaba a punto de subirse a un tren para regresar con sus dos hijos, a los que tuvo que dejar solos durante más de dos meses, ya que quedó atrapada a fines de enero en Wuhan....   \n",
       "\n",
       "      CALLS  WOMEN  LGBTI  RACISM  CLASS  POLITICS  DISABLED  APPEARANCE  \\\n",
       "8329      1      0      0       0      0         0         0           0   \n",
       "3353      1      0      0       1      0         0         0           0   \n",
       "\n",
       "      CRIMINAL  num_hatred text_label  \n",
       "8329         1           1   CRIMINAL  \n",
       "3353         0           1     RACISM  "
      ]
     },
     "execution_count": 59,
     "metadata": {},
     "output_type": "execute_result"
    }
   ],
   "source": [
    "df_train[df_train[\"num_hatred\"] >= 1].sample(2)"
   ]
  },
  {
   "cell_type": "code",
   "execution_count": 75,
   "metadata": {},
   "outputs": [],
   "source": [
    "template_prompt = f\"\"\"Determinar si el siguiente mensaje contiene discurso discriminatorio o no. Entendemos que hay discurso discriminatorio en el tweet si contiene declaraciones de carácter intenso y posiblemente irracional de rechazo, enemistad y aborrecimiento contra un individuo o contra un grupo, siendo estos objetivos de estas expresiones por poseer una característica protegida.\n",
    "\n",
    "Las características protegidas que contemplamos son:\n",
    "\n",
    "- Mujeres (mujer)\n",
    "- Género o identidad sexual (lgbti)\n",
    "- Inmigrantes, extranjeros, religión, pueblos aborígenes u otras nacionalidades (racismo)\n",
    "- Clase, situación socioeconómica o barrio de residencia (clase)\n",
    "- Poseer discapacidades, problemas salud mental o de adicción al alcohol, drogas u otros estupefacientes (discapacidad)\n",
    "- Opinión o ideología política (política)\n",
    "- Aspecto o edad (aspecto)\n",
    "- Antecedentes penales o estar privado de la libertad (criminal)\n",
    "\n",
    "En contexto daremos un titular de una noticia, y en texto un comentario a analizar. Responder una, varias o ninguna de las características anteriores.\n",
    "###\n",
    "contexto: Al borde del llanto, Nati Jota pidió disculpas por sus repudiables tuits pero los justificó: 'Quería sumar seguidores'\n",
    "texto: Show o nada mi amorrr!!\n",
    "La imbesilidad al palo!\n",
    "salida: nada\n",
    "###\n",
    "contexto: Violento motín en la cárcel de Devoto: tomaron e incendiaron pabellones\n",
    "texto: Hermanito lo que son esos grones. Ahí adentro le robaron la billetera al coronavirus\n",
    "salida: criminal, racismo, aspecto\n",
    "###\n",
    "contexto: Mayra Mendoza criticó el banderazo contra el Gobierno: \"No tiene sentido y es antidemocrático\"\n",
    "texto: Que negrita villera....ni con la plata q roba puede arreglarse\n",
    "salida: mujer, racismo, aspecto, clase\n",
    "###\n",
    "contexto: No da tregua: sin ropa y desafiante Flor Peña volvió a mostrar su lado más hot\n",
    "texto: K lado hot tiene más varices k mi abuela. Tiene mas puesta de espalda k karagian trola\n",
    "salida: mujer, aspecto\n",
    "###\n",
    "contexto: Wuhan celebra el fin de la cuarentena por el coronavirus con un mensaje para el resto del mundo: \"Aprendan de nuestros errores\"\n",
    "texto: Chinos culiados de mierda ojalá se mueran todos\n",
    "salida: racismo\n",
    "###\n",
    "\"\"\"\n",
    "\n"
   ]
  },
  {
   "cell_type": "code",
   "execution_count": 76,
   "metadata": {},
   "outputs": [
    {
     "data": {
      "text/plain": [
       "'Vergonzoso es lo que dice este sr. Los planeros paraguayos, bolivianos, peruanos como cobran el IFE, cobran jubilaciones, votan en Argentina ??? No me diga que NO sabe... es una burla! 👎🤦💩🤡'"
      ]
     },
     "execution_count": 76,
     "metadata": {},
     "output_type": "execute_result"
    }
   ],
   "source": [
    "import re\n",
    "from pysentimiento.preprocessing import preprocess_tweet\n",
    "\n",
    "url_regex = r'\\burl\\b'\n",
    "\n",
    "\n",
    "\n",
    "def my_preprocess(text):\n",
    "    text = preprocess_tweet(text, preprocess_hashtags=False, demoji=False)\n",
    "    text = text.replace(\"@usuario\", \"\")\n",
    "\n",
    "    text = re.sub(url_regex, \"\", text)\n",
    "    # Replace multiple spaces with one\n",
    "    text = \" \".join(text.split())\n",
    "    text = text.replace(\"\\n\", \" \")\n",
    "\n",
    "    return text\n",
    "\n",
    "my_preprocess(\"@usuario Vergonzoso es lo que dice este sr. Los planeros paraguayos, bolivianos, peruanos como cobran el IFE, cobran jubilaciones, votan en Argentina ??? No me diga que NO sabe... es una burla! 👎🤦💩🤡 http://google.com\")"
   ]
  },
  {
   "cell_type": "code",
   "execution_count": 80,
   "metadata": {},
   "outputs": [
    {
     "data": {
      "text/plain": [
       "(11343, 17)"
      ]
     },
     "execution_count": 80,
     "metadata": {},
     "output_type": "execute_result"
    }
   ],
   "source": [
    "df_test.shape"
   ]
  },
  {
   "cell_type": "code",
   "execution_count": 84,
   "metadata": {},
   "outputs": [],
   "source": [
    "sample_df = df_test.sample(100)"
   ]
  },
  {
   "cell_type": "code",
   "execution_count": null,
   "metadata": {},
   "outputs": [],
   "source": [
    "outs = {\n",
    "\n",
    "}"
   ]
  },
  {
   "cell_type": "code",
   "execution_count": 98,
   "metadata": {},
   "outputs": [
    {
     "name": "stderr",
     "output_type": "stream",
     "text": [
      "100%|██████████| 100/100 [00:36<00:00,  2.72it/s]\n"
     ]
    }
   ],
   "source": [
    "from tqdm import tqdm\n",
    "import time\n",
    "\n",
    "\n",
    "def get_completion(prompt):\n",
    "    return client.chat.completions.create(messages=[{\n",
    "            \"role\": \"user\",\n",
    "            \"content\": prompt\n",
    "    }], model=\"gpt-3.5-turbo\")\n",
    "\n",
    "for idx, row in tqdm(sample_df.iterrows(), total=sample_df.shape[0]):\n",
    "\n",
    "    if idx in outs:\n",
    "        continue\n",
    "\n",
    "    contexto = preprocess_tweet(row[\"context_tweet\"], preprocess_hashtags=False, demoji=False, preprocess_handles=False)\n",
    "    texto = my_preprocess(row[\"text\"])\n",
    "    prompt = template_prompt + f\"contexto: {contexto}\\ntexto: {texto}\\nsalida: \"\n",
    "\n",
    "    response = get_completion(prompt)\n",
    "\n",
    "    outs[idx] = response.choices[0].message.content\n",
    "\n",
    "    time.sleep(0.1)"
   ]
  },
  {
   "cell_type": "code",
   "execution_count": 102,
   "metadata": {},
   "outputs": [],
   "source": [
    "import json\n",
    "\n",
    "with open(\"outputs.json\", \"w\") as f:\n",
    "    json.dump(outs, f)\n"
   ]
  },
  {
   "cell_type": "code",
   "execution_count": 108,
   "metadata": {},
   "outputs": [
    {
     "data": {
      "text/plain": [
       "Index(['WOMEN', 'LGBTI', 'RACISM', 'CLASS', 'POLITICS', 'DISABLED',\n",
       "       'APPEARANCE', 'CRIMINAL'],\n",
       "      dtype='object')"
      ]
     },
     "execution_count": 108,
     "metadata": {},
     "output_type": "execute_result"
    }
   ],
   "source": [
    "labels = []"
   ]
  },
  {
   "cell_type": "code",
   "execution_count": 106,
   "metadata": {},
   "outputs": [],
   "source": [
    "from collections import Counter\n",
    "\n",
    "counter = Counter()\n",
    "\n",
    "\n",
    "for v in outs.values():\n",
    "    for cl in v.split(\",\"):\n",
    "        counter[cl.strip().lower()] += 1\n"
   ]
  },
  {
   "cell_type": "code",
   "execution_count": 107,
   "metadata": {},
   "outputs": [
    {
     "data": {
      "text/plain": [
       "Counter({'política': 46,\n",
       "         'nada': 24,\n",
       "         'ninguna': 14,\n",
       "         'mujer': 13,\n",
       "         'clase': 7,\n",
       "         'racismo': 6,\n",
       "         'criminal': 4,\n",
       "         'aspecto': 4,\n",
       "         'discapacidad': 2,\n",
       "         'inmigrantes': 1,\n",
       "         'género o identidad sexual': 1,\n",
       "         'opinión-política': 1,\n",
       "         'lgbti': 1})"
      ]
     },
     "execution_count": 107,
     "metadata": {},
     "output_type": "execute_result"
    }
   ],
   "source": [
    "\n",
    "counter"
   ]
  },
  {
   "cell_type": "code",
   "execution_count": 112,
   "metadata": {},
   "outputs": [],
   "source": [
    "sample_df[\"pred\"] = sample_df.index.map(outs)\n"
   ]
  },
  {
   "cell_type": "code",
   "execution_count": 115,
   "metadata": {},
   "outputs": [],
   "source": [
    "sample_df.to_csv(\"sample_df.csv\", index=False)"
   ]
  }
 ],
 "metadata": {
  "kernelspec": {
   "display_name": ".venv",
   "language": "python",
   "name": "python3"
  },
  "language_info": {
   "codemirror_mode": {
    "name": "ipython",
    "version": 3
   },
   "file_extension": ".py",
   "mimetype": "text/x-python",
   "name": "python",
   "nbconvert_exporter": "python",
   "pygments_lexer": "ipython3",
   "version": "3.10.13"
  }
 },
 "nbformat": 4,
 "nbformat_minor": 2
}
