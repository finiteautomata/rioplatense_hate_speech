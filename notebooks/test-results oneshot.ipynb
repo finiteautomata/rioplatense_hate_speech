{
 "cells": [
  {
   "cell_type": "code",
   "execution_count": 11,
   "metadata": {},
   "outputs": [
    {
     "name": "stdout",
     "output_type": "stream",
     "text": [
      "The autoreload extension is already loaded. To reload it, use:\n",
      "  %reload_ext autoreload\n"
     ]
    }
   ],
   "source": [
    "\n",
    "%load_ext autoreload\n",
    "%autoreload 2\n",
    "from rioplatense_hs.openai import get_completion\n"
   ]
  },
  {
   "cell_type": "code",
   "execution_count": 12,
   "metadata": {},
   "outputs": [],
   "source": [
    "import pandas as pd\n",
    "\n",
    "pd.options.display.max_colwidth = 1000\n",
    "#df_train.loc[df_train[\"LGBTI\"] > 0, [\"title\", \"text\", \"text_label\"]].sample(20)"
   ]
  },
  {
   "cell_type": "code",
   "execution_count": 13,
   "metadata": {},
   "outputs": [
    {
     "data": {
      "text/plain": [
       "(5670, 25)"
      ]
     },
     "execution_count": 13,
     "metadata": {},
     "output_type": "execute_result"
    }
   ],
   "source": [
    "import pandas as pd\n",
    "from glob import glob\n",
    "\n",
    "files = glob(\"../data/test*pred*1shot.csv\")\n",
    "\n",
    "dfs = [pd.read_csv(f) for f in files]\n",
    "\n",
    "\n",
    "df_test = pd.concat(dfs)\n",
    "\n",
    "df_test.shape\n"
   ]
  },
  {
   "cell_type": "markdown",
   "metadata": {},
   "source": [
    "## Error analysis"
   ]
  },
  {
   "cell_type": "code",
   "execution_count": 14,
   "metadata": {},
   "outputs": [
    {
     "name": "stdout",
     "output_type": "stream",
     "text": [
      "              precision    recall  f1-score   support\n",
      "\n",
      "       WOMEN       0.26      0.31      0.28       131\n",
      "       LGBTI       0.51      0.45      0.48        88\n",
      "      RACISM       0.58      0.63      0.60       230\n",
      "       CLASS       0.25      0.24      0.24        76\n",
      "    POLITICS       0.14      0.32      0.20       144\n",
      "    DISABLED       0.33      0.09      0.14        66\n",
      "  APPEARANCE       0.57      0.37      0.45       189\n",
      "    CRIMINAL       0.41      0.42      0.42       185\n",
      "\n",
      "   micro avg       0.37      0.40      0.38      1109\n",
      "   macro avg       0.38      0.35      0.35      1109\n",
      "weighted avg       0.41      0.40      0.39      1109\n",
      " samples avg       0.07      0.07      0.07      1109\n",
      "\n"
     ]
    },
    {
     "name": "stderr",
     "output_type": "stream",
     "text": [
      "/home/jmperez/projects/rioplatense_hate_speech/.venv/lib/python3.10/site-packages/sklearn/metrics/_classification.py:1471: UndefinedMetricWarning: Precision and F-score are ill-defined and being set to 0.0 in samples with no predicted labels. Use `zero_division` parameter to control this behavior.\n",
      "  _warn_prf(average, modifier, msg_start, len(result))\n",
      "/home/jmperez/projects/rioplatense_hate_speech/.venv/lib/python3.10/site-packages/sklearn/metrics/_classification.py:1471: UndefinedMetricWarning: Recall and F-score are ill-defined and being set to 0.0 in samples with no true labels. Use `zero_division` parameter to control this behavior.\n",
      "  _warn_prf(average, modifier, msg_start, len(result))\n"
     ]
    }
   ],
   "source": [
    "from rioplatense_hs.preprocessing import text_to_label, labels\n",
    "from sklearn.metrics import classification_report\n",
    "\n",
    "pred_labels = [f\"PRED_{label}\" for label in labels]\n",
    "gold_labels = df_test[labels]\n",
    "preds = df_test[pred_labels].astype(int)\n",
    "\n",
    "\n",
    "print(classification_report(gold_labels, preds, target_names=labels))"
   ]
  },
  {
   "cell_type": "code",
   "execution_count": 15,
   "metadata": {},
   "outputs": [
    {
     "name": "stdout",
     "output_type": "stream",
     "text": [
      "              precision    recall  f1-score   support\n",
      "\n",
      "       False       0.91      0.87      0.89      4794\n",
      "        True       0.43      0.53      0.48       876\n",
      "\n",
      "    accuracy                           0.82      5670\n",
      "   macro avg       0.67      0.70      0.68      5670\n",
      "weighted avg       0.84      0.82      0.83      5670\n",
      "\n"
     ]
    }
   ],
   "source": [
    "pred_labels = [l for l in df_test.columns if l.startswith(\"PRED\")]\n",
    "\n",
    "label_hate = df_test[labels].sum(axis=1) > 0\n",
    "pred_hate = df_test[pred_labels].sum(axis=1) > 0\n",
    "\n",
    "print(classification_report(label_hate, pred_hate))"
   ]
  },
  {
   "cell_type": "code",
   "execution_count": 7,
   "metadata": {},
   "outputs": [
    {
     "name": "stdout",
     "output_type": "stream",
     "text": [
      "              precision    recall  f1-score   support\n",
      "\n",
      "       False       0.95      0.94      0.95      3122\n",
      "        True       0.45      0.50      0.47       280\n",
      "\n",
      "    accuracy                           0.91      3402\n",
      "   macro avg       0.70      0.72      0.71      3402\n",
      "weighted avg       0.91      0.91      0.91      3402\n",
      "\n"
     ]
    }
   ],
   "source": [
    "# Just keep the most important characteristics\n",
    "core_labels = [\"WOMEN\", \"LGBTI\", \"RACISM\", \"CLASS\"]\n",
    "pred_core_labels = [f\"PRED_{label}\" for label in core_labels]\n",
    "\n",
    "label_core_hate = df_test[core_labels].sum(axis=1) > 0\n",
    "pred_core_hate = df_test[pred_core_labels].sum(axis=1) > 0\n",
    "\n",
    "print(classification_report(label_core_hate, pred_core_hate))\n"
   ]
  },
  {
   "cell_type": "code",
   "execution_count": 10,
   "metadata": {},
   "outputs": [
    {
     "data": {
      "text/html": [
       "<div>\n",
       "<style scoped>\n",
       "    .dataframe tbody tr th:only-of-type {\n",
       "        vertical-align: middle;\n",
       "    }\n",
       "\n",
       "    .dataframe tbody tr th {\n",
       "        vertical-align: top;\n",
       "    }\n",
       "\n",
       "    .dataframe thead th {\n",
       "        text-align: right;\n",
       "    }\n",
       "</style>\n",
       "<table border=\"1\" class=\"dataframe\">\n",
       "  <thead>\n",
       "    <tr style=\"text-align: right;\">\n",
       "      <th></th>\n",
       "      <th>context_tweet</th>\n",
       "      <th>text</th>\n",
       "      <th>pred_cot</th>\n",
       "    </tr>\n",
       "  </thead>\n",
       "  <tbody>\n",
       "    <tr>\n",
       "      <th>139</th>\n",
       "      <td>El sorteo del Mundial 2023: los Pumas buscan evitar el grupo de la muerte https://t.co/IHkMAikGdG https://t.co/bTQsPk9Cja</td>\n",
       "      <td>@usuario Seguramente buscarán un grupo donde no estén los ALL BLACKS, detestan a los NEGROS</td>\n",
       "      <td>Desea evitar que el equipo de los All Blacks, que en este contexto se refiere al equipo nacional de rugby de Nueva Zelanda, esté en el mismo grupo que los Pumas. Además, utiliza un término despectivo y discriminatorio (\"NEGROS\") para referirse a ellos. La respuesta final es \"racismo\".</td>\n",
       "    </tr>\n",
       "    <tr>\n",
       "      <th>727</th>\n",
       "      <td>Coronavirus: Ginés reveló cuál fue la palabra que detonó el acuerdo con Pfizer https://t.co/lIi4Z3eWlE https://t.co/zgd8MCCrui</td>\n",
       "      <td>@usuario La verdad,ni vale la pena q salgan a explicar nada,si a los mandriles solo se los tranquiliza con bananas🤦🏿‍♂️🤦🏿‍♂️🤦🏿‍♂️</td>\n",
       "      <td>Se utiliza un lenguaje despectivo y racista al referirse a las personas como \"mandriles\" y al hacer referencia a la necesidad de tranquilizarlos con bananas. La respuesta final es \"racismo\".</td>\n",
       "    </tr>\n",
       "    <tr>\n",
       "      <th>661</th>\n",
       "      <td>Cristina Kirchner está en los tribunales de Lomas de Zamora para ver las pruebas del espionaje ilegal que sufrió en el gobierno de Macri https://t.co/YR2oW0uNFM</td>\n",
       "      <td>@usuario VIEJA CHOTA PSIQUIÁTRICA ELLA SOLA SE CREE SUS MENTIRAS BASTA DE RELATO!!HASTA CUANDO SEGUIRA ESTA LOCA MANEJANDO EL PAIS Y A LOS JUECES DE LOS HUEVOS SIN DIGNIDAD!JURY O RENUNCIEN SI NO VAN A HACER Q SE CUMPLA LA LEY !\\nBASTA DE IMPUNIDAD A LA CHORRA Y SU BANDA K!</td>\n",
       "      <td>El mensaje contiene expresiones intensas y de rechazo hacia Cristina Kirchner, una persona política, por lo que se puede considerar discurso de odio hacia su ideología política. La respuesta final es \"política\"</td>\n",
       "    </tr>\n",
       "    <tr>\n",
       "      <th>568</th>\n",
       "      <td>Martha Rosenberg: “En situación de pandemia, legalizar el aborto es más urgente que nunca” | Por Mariana Fernández Camacho https://t.co/drwsysry27</td>\n",
       "      <td>@usuario A estos lúmpenes no les importa nada. Son la desgracia de la civilización.</td>\n",
       "      <td>Desprecio hacia un grupo de personas (lúmpenes), por lo que la respuesta final es \"clase\".</td>\n",
       "    </tr>\n",
       "    <tr>\n",
       "      <th>55</th>\n",
       "      <td>El mensaje de El Dipy que lo convirtió en tendencia en las redes: “Piensan que porque salí de un barrio humilde, soy kirchnerista o soy peronista” https://t.co/CMwm2t7eJA</td>\n",
       "      <td>@usuario Jajaja, no entras en ninguna categoría papá!!! Ahhh y hacete bien esos dientes dracu dracu que tenes! Otario</td>\n",
       "      <td>Insulta y se burla del aspecto físico de la persona mencionada. La respuesta final es \"aspecto\".</td>\n",
       "    </tr>\n",
       "  </tbody>\n",
       "</table>\n",
       "</div>"
      ],
      "text/plain": [
       "                                                                                                                                                                  context_tweet  \\\n",
       "139                                                   El sorteo del Mundial 2023: los Pumas buscan evitar el grupo de la muerte https://t.co/IHkMAikGdG https://t.co/bTQsPk9Cja   \n",
       "727                                              Coronavirus: Ginés reveló cuál fue la palabra que detonó el acuerdo con Pfizer https://t.co/lIi4Z3eWlE https://t.co/zgd8MCCrui   \n",
       "661            Cristina Kirchner está en los tribunales de Lomas de Zamora para ver las pruebas del espionaje ilegal que sufrió en el gobierno de Macri https://t.co/YR2oW0uNFM   \n",
       "568                          Martha Rosenberg: “En situación de pandemia, legalizar el aborto es más urgente que nunca” | Por Mariana Fernández Camacho https://t.co/drwsysry27   \n",
       "55   El mensaje de El Dipy que lo convirtió en tendencia en las redes: “Piensan que porque salí de un barrio humilde, soy kirchnerista o soy peronista” https://t.co/CMwm2t7eJA   \n",
       "\n",
       "                                                                                                                                                                                                                                                                                   text  \\\n",
       "139                                                                                                                                                                                         @usuario Seguramente buscarán un grupo donde no estén los ALL BLACKS, detestan a los NEGROS   \n",
       "727                                                                                                                                                   @usuario La verdad,ni vale la pena q salgan a explicar nada,si a los mandriles solo se los tranquiliza con bananas🤦🏿‍♂️🤦🏿‍♂️🤦🏿‍♂️   \n",
       "661  @usuario VIEJA CHOTA PSIQUIÁTRICA ELLA SOLA SE CREE SUS MENTIRAS BASTA DE RELATO!!HASTA CUANDO SEGUIRA ESTA LOCA MANEJANDO EL PAIS Y A LOS JUECES DE LOS HUEVOS SIN DIGNIDAD!JURY O RENUNCIEN SI NO VAN A HACER Q SE CUMPLA LA LEY !\\nBASTA DE IMPUNIDAD A LA CHORRA Y SU BANDA K!   \n",
       "568                                                                                                                                                                                                 @usuario A estos lúmpenes no les importa nada. Son la desgracia de la civilización.   \n",
       "55                                                                                                                                                                @usuario Jajaja, no entras en ninguna categoría papá!!! Ahhh y hacete bien esos dientes dracu dracu que tenes! Otario   \n",
       "\n",
       "                                                                                                                                                                                                                                                                                          pred_cot  \n",
       "139  Desea evitar que el equipo de los All Blacks, que en este contexto se refiere al equipo nacional de rugby de Nueva Zelanda, esté en el mismo grupo que los Pumas. Además, utiliza un término despectivo y discriminatorio (\"NEGROS\") para referirse a ellos. La respuesta final es \"racismo\".  \n",
       "727                                                                                                 Se utiliza un lenguaje despectivo y racista al referirse a las personas como \"mandriles\" y al hacer referencia a la necesidad de tranquilizarlos con bananas. La respuesta final es \"racismo\".  \n",
       "661                                                                             El mensaje contiene expresiones intensas y de rechazo hacia Cristina Kirchner, una persona política, por lo que se puede considerar discurso de odio hacia su ideología política. La respuesta final es \"política\"  \n",
       "568                                                                                                                                                                                                     Desprecio hacia un grupo de personas (lúmpenes), por lo que la respuesta final es \"clase\".  \n",
       "55                                                                                                                                                                                                Insulta y se burla del aspecto físico de la persona mencionada. La respuesta final es \"aspecto\".  "
      ]
     },
     "execution_count": 10,
     "metadata": {},
     "output_type": "execute_result"
    }
   ],
   "source": [
    "pd.options.display.max_colwidth = 1000\n",
    "\n",
    "df_test[pred_core_hate != label_core_hate][[\"context_tweet\", \"text\", \"pred_cot\", ]].sample(5)"
   ]
  },
  {
   "cell_type": "code",
   "execution_count": 58,
   "metadata": {},
   "outputs": [],
   "source": [
    "pd.options.display.max_colwidth = 1000\n",
    "\n",
    "df_test[pred_core_hate != label_core_hate][[\"context_tweet\", \"text\", \"pred_cot\", ]].sample(200).to_csv(\"../data/errors.csv\")"
   ]
  },
  {
   "cell_type": "code",
   "execution_count": 56,
   "metadata": {},
   "outputs": [
    {
     "data": {
      "text/html": [
       "<div>\n",
       "<style scoped>\n",
       "    .dataframe tbody tr th:only-of-type {\n",
       "        vertical-align: middle;\n",
       "    }\n",
       "\n",
       "    .dataframe tbody tr th {\n",
       "        vertical-align: top;\n",
       "    }\n",
       "\n",
       "    .dataframe thead th {\n",
       "        text-align: right;\n",
       "    }\n",
       "</style>\n",
       "<table border=\"1\" class=\"dataframe\">\n",
       "  <thead>\n",
       "    <tr style=\"text-align: right;\">\n",
       "      <th></th>\n",
       "      <th>context_tweet</th>\n",
       "      <th>text</th>\n",
       "      <th>pred_cot</th>\n",
       "    </tr>\n",
       "  </thead>\n",
       "  <tbody>\n",
       "    <tr>\n",
       "      <th>125</th>\n",
       "      <td>😱🔥[¡INESPERADO!]😱🔥 Luis Novaresio recomendó un juguete sexual en las redes &amp;gt;&amp;gt;&amp;gt; El periodista compartió en sus redes sociales una peculiar noticia sobre un objeto para el placer masculino que se volvió viral. ¡Entrá a la nota y mirá! https://t.co/U8NuqEKeQX</td>\n",
       "      <td>@usuario Alto sida, tiene el viejo esté !!!</td>\n",
       "      <td>El texto utiliza la expresión \"alto sida\" de forma despectiva hacia el periodista. La respuesta final es \"discapacidad\".</td>\n",
       "    </tr>\n",
       "    <tr>\n",
       "      <th>532</th>\n",
       "      <td>Pedro Sánchez: “Argentina es hoy una nación más feminista” https://t.co/5s89M2akC5</td>\n",
       "      <td>@usuario Hace mucho luego ya eran Mariconsitos</td>\n",
       "      <td>El texto utiliza un término ofensivo para referirse a los argentinos y los califica de \"mariconsitos\", lo cual constituye un discurso de odio hacia la comunidad LGBTI. La respuesta final es \"lgbti\".</td>\n",
       "    </tr>\n",
       "    <tr>\n",
       "      <th>118</th>\n",
       "      <td>Mara Gómez: la historia de la primera futbolista trans en el torneo argentino https://t.co/rBx3pMPUbB https://t.co/l5I1j0xFku</td>\n",
       "      <td>@usuario Por fin fútbol femenino de calidad</td>\n",
       "      <td>El comentario alude a la calidad del fútbol femenino, pero no contiene ninguna expresión de odio hacia las características protegidas. La respuesta final es 'nada'.</td>\n",
       "    </tr>\n",
       "    <tr>\n",
       "      <th>181</th>\n",
       "      <td>Contó que era lesbiana, su papá le confesó que era gay y ahora su madre se enamoró de una mujer, lo que inspiró su segundo film | Por Hugo Martin\\nhttps://t.co/dt3NtrVJIW</td>\n",
       "      <td>@usuario Los comentarios dios, están todos en el closet  odiando a la comunidad</td>\n",
       "      <td>El texto alude a que aquellos que hacen comentarios negativos hacia la comunidad LGBTQ+ están en el closet. La respuesta final es \"lgbti\"</td>\n",
       "    </tr>\n",
       "    <tr>\n",
       "      <th>844</th>\n",
       "      <td>Mariana Genesio Peña pasa su cuarentena total con guantes, barbijo y desnuda: “Mi cuerpo es el planeta Tierra” https://t.co/igQITEEaKl</td>\n",
       "      <td>@usuario Guarda con el paquete...</td>\n",
       "      <td>El texto hace referencia al cuerpo desnudo de Mariana Genesio Peña, pero no contiene un discurso de odio o comentarios negativos hacia ella. La respuesta final es 'nada'.</td>\n",
       "    </tr>\n",
       "  </tbody>\n",
       "</table>\n",
       "</div>"
      ],
      "text/plain": [
       "                                                                                                                                                                                                                                                                 context_tweet  \\\n",
       "125  😱🔥[¡INESPERADO!]😱🔥 Luis Novaresio recomendó un juguete sexual en las redes &gt;&gt;&gt; El periodista compartió en sus redes sociales una peculiar noticia sobre un objeto para el placer masculino que se volvió viral. ¡Entrá a la nota y mirá! https://t.co/U8NuqEKeQX   \n",
       "532                                                                                                                                                                                         Pedro Sánchez: “Argentina es hoy una nación más feminista” https://t.co/5s89M2akC5   \n",
       "118                                                                                                                                              Mara Gómez: la historia de la primera futbolista trans en el torneo argentino https://t.co/rBx3pMPUbB https://t.co/l5I1j0xFku   \n",
       "181                                                                                                 Contó que era lesbiana, su papá le confesó que era gay y ahora su madre se enamoró de una mujer, lo que inspiró su segundo film | Por Hugo Martin\\nhttps://t.co/dt3NtrVJIW   \n",
       "844                                                                                                                                     Mariana Genesio Peña pasa su cuarentena total con guantes, barbijo y desnuda: “Mi cuerpo es el planeta Tierra” https://t.co/igQITEEaKl   \n",
       "\n",
       "                                                                                text  \\\n",
       "125                                      @usuario Alto sida, tiene el viejo esté !!!   \n",
       "532                                   @usuario Hace mucho luego ya eran Mariconsitos   \n",
       "118                                      @usuario Por fin fútbol femenino de calidad   \n",
       "181  @usuario Los comentarios dios, están todos en el closet  odiando a la comunidad   \n",
       "844                                                @usuario Guarda con el paquete...   \n",
       "\n",
       "                                                                                                                                                                                                   pred_cot  \n",
       "125                                                                                El texto utiliza la expresión \"alto sida\" de forma despectiva hacia el periodista. La respuesta final es \"discapacidad\".  \n",
       "532  El texto utiliza un término ofensivo para referirse a los argentinos y los califica de \"mariconsitos\", lo cual constituye un discurso de odio hacia la comunidad LGBTI. La respuesta final es \"lgbti\".  \n",
       "118                                    El comentario alude a la calidad del fútbol femenino, pero no contiene ninguna expresión de odio hacia las características protegidas. La respuesta final es 'nada'.  \n",
       "181                                                               El texto alude a que aquellos que hacen comentarios negativos hacia la comunidad LGBTQ+ están en el closet. La respuesta final es \"lgbti\"  \n",
       "844                              El texto hace referencia al cuerpo desnudo de Mariana Genesio Peña, pero no contiene un discurso de odio o comentarios negativos hacia ella. La respuesta final es 'nada'.  "
      ]
     },
     "execution_count": 56,
     "metadata": {},
     "output_type": "execute_result"
    }
   ],
   "source": [
    "# LGBTI errors\n",
    "\n",
    "label = \"LGBTI\"\n",
    "df_test.loc[df_test[label] != df_test[f\"PRED_{label}\"]][[\"context_tweet\", \"text\", \"pred_cot\"]].sample(5)"
   ]
  },
  {
   "cell_type": "code",
   "execution_count": 80,
   "metadata": {},
   "outputs": [
    {
     "data": {
      "text/html": [
       "<div>\n",
       "<style scoped>\n",
       "    .dataframe tbody tr th:only-of-type {\n",
       "        vertical-align: middle;\n",
       "    }\n",
       "\n",
       "    .dataframe tbody tr th {\n",
       "        vertical-align: top;\n",
       "    }\n",
       "\n",
       "    .dataframe thead th {\n",
       "        text-align: right;\n",
       "    }\n",
       "</style>\n",
       "<table border=\"1\" class=\"dataframe\">\n",
       "  <thead>\n",
       "    <tr style=\"text-align: right;\">\n",
       "      <th></th>\n",
       "      <th>context_tweet</th>\n",
       "      <th>text</th>\n",
       "      <th>text_label</th>\n",
       "    </tr>\n",
       "  </thead>\n",
       "  <tbody>\n",
       "    <tr>\n",
       "      <th>31940</th>\n",
       "      <td>Grabois defendió la toma de tierras: \"El que dice que ocupar es delito, miente \" https://t.co/qXZsHYnmZ3 https://t.co/R2BLqqV23a</td>\n",
       "      <td>@usuario Yo le pongo una dinamita a estos vagos</td>\n",
       "      <td>clase, política</td>\n",
       "    </tr>\n",
       "    <tr>\n",
       "      <th>16559</th>\n",
       "      <td>Le sacó el arma al ladrón que lo asaltó, lo corrió y lo mató de un disparo: quedó detenido https://t.co/fU6UWLDqQe</td>\n",
       "      <td>@usuario Cagones hoy marchen para que suelten a este hombre, no por el hijo de puta de Macri que nos fundió y ayudó a que vuelvan estos negros hijos de puta kirchnerista</td>\n",
       "      <td>racismo, política, criminal</td>\n",
       "    </tr>\n",
       "    <tr>\n",
       "      <th>7604</th>\n",
       "      <td>Santa Fe: rompen más silobolsas y crece la preocupación en el campo https://t.co/Pb1gaBqyXU https://t.co/cPlGjy3V6T</td>\n",
       "      <td>@usuario Donde quedaron los escopetazos Argentina mia?...</td>\n",
       "      <td>política, criminal</td>\n",
       "    </tr>\n",
       "    <tr>\n",
       "      <th>34614</th>\n",
       "      <td>Juan Grabois: \"Hay una oleada de toma de tierras y se va a profundizar \" https://t.co/2B1JL2BkHh https://t.co/jJXbT0X564</td>\n",
       "      <td>@usuario Si es una amenaza!!!!??!!...a Vos hdrmPtas, seras otro de los tantos que vamos a LINCHAR en la Plaza de Mayo!!!!</td>\n",
       "      <td>clase, política</td>\n",
       "    </tr>\n",
       "    <tr>\n",
       "      <th>21056</th>\n",
       "      <td>“Tenemos explotados los teléfonos con denuncias por gente que no cumple la cuarentena”, aseguró la titular de Migraciones | Por Hugo Martin https://t.co/IJgFwW4Gbk</td>\n",
       "      <td>@usuario Se supone q es gente escolarizada, con educación, después dicen peronchos! Hdp</td>\n",
       "      <td>racismo, política</td>\n",
       "    </tr>\n",
       "  </tbody>\n",
       "</table>\n",
       "</div>"
      ],
      "text/plain": [
       "                                                                                                                                                             context_tweet  \\\n",
       "31940                                     Grabois defendió la toma de tierras: \"El que dice que ocupar es delito, miente \" https://t.co/qXZsHYnmZ3 https://t.co/R2BLqqV23a   \n",
       "16559                                                   Le sacó el arma al ladrón que lo asaltó, lo corrió y lo mató de un disparo: quedó detenido https://t.co/fU6UWLDqQe   \n",
       "7604                                                   Santa Fe: rompen más silobolsas y crece la preocupación en el campo https://t.co/Pb1gaBqyXU https://t.co/cPlGjy3V6T   \n",
       "34614                                             Juan Grabois: \"Hay una oleada de toma de tierras y se va a profundizar \" https://t.co/2B1JL2BkHh https://t.co/jJXbT0X564   \n",
       "21056  “Tenemos explotados los teléfonos con denuncias por gente que no cumple la cuarentena”, aseguró la titular de Migraciones | Por Hugo Martin https://t.co/IJgFwW4Gbk   \n",
       "\n",
       "                                                                                                                                                                            text  \\\n",
       "31940                                                                                                                            @usuario Yo le pongo una dinamita a estos vagos   \n",
       "16559  @usuario Cagones hoy marchen para que suelten a este hombre, no por el hijo de puta de Macri que nos fundió y ayudó a que vuelvan estos negros hijos de puta kirchnerista   \n",
       "7604                                                                                                                   @usuario Donde quedaron los escopetazos Argentina mia?...   \n",
       "34614                                                  @usuario Si es una amenaza!!!!??!!...a Vos hdrmPtas, seras otro de los tantos que vamos a LINCHAR en la Plaza de Mayo!!!!   \n",
       "21056                                                                                    @usuario Se supone q es gente escolarizada, con educación, después dicen peronchos! Hdp   \n",
       "\n",
       "                        text_label  \n",
       "31940              clase, política  \n",
       "16559  racismo, política, criminal  \n",
       "7604            política, criminal  \n",
       "34614              clase, política  \n",
       "21056            racismo, política  "
      ]
     },
     "execution_count": 80,
     "metadata": {},
     "output_type": "execute_result"
    }
   ],
   "source": [
    "df_train[(df_train[\"POLITICS\"] > 0) & (df_train[\"num_hatred\"] > 1)][[\"context_tweet\", \"text\", \"text_label\"]].sample(5)"
   ]
  },
  {
   "cell_type": "code",
   "execution_count": 82,
   "metadata": {},
   "outputs": [],
   "source": []
  },
  {
   "cell_type": "code",
   "execution_count": 91,
   "metadata": {},
   "outputs": [],
   "source": [
    "sample_df[\"PRED_HATEFUL\"] = pred_hate.astype(int)"
   ]
  },
  {
   "cell_type": "code",
   "execution_count": 92,
   "metadata": {},
   "outputs": [],
   "source": [
    "sample_df.to_csv(\"../data/sample_dev_df.csv\", index=False)"
   ]
  },
  {
   "cell_type": "code",
   "execution_count": null,
   "metadata": {},
   "outputs": [],
   "source": []
  }
 ],
 "metadata": {
  "kernelspec": {
   "display_name": ".venv",
   "language": "python",
   "name": "python3"
  },
  "language_info": {
   "codemirror_mode": {
    "name": "ipython",
    "version": 3
   },
   "file_extension": ".py",
   "mimetype": "text/x-python",
   "name": "python",
   "nbconvert_exporter": "python",
   "pygments_lexer": "ipython3",
   "version": "3.10.7"
  }
 },
 "nbformat": 4,
 "nbformat_minor": 2
}
