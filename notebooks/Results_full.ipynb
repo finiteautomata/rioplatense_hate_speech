{
 "cells": [
  {
   "cell_type": "code",
   "execution_count": null,
   "metadata": {},
   "outputs": [],
   "source": []
  },
  {
   "cell_type": "markdown",
   "metadata": {},
   "source": [
    "## Resultados de clasificación\n",
    "\n",
    "Presentamos los resultados de clasificación para los modelos analizados\n",
    "\n",
    "- GPT-3.5\n",
    "- Cohere/Aya\n",
    "- Mixtral\n",
    "- BETO -- modelo finetuneado\n",
    "\n"
   ]
  },
  {
   "cell_type": "code",
   "execution_count": 4,
   "metadata": {},
   "outputs": [
    {
     "name": "stdout",
     "output_type": "stream",
     "text": [
      "The autoreload extension is already loaded. To reload it, use:\n",
      "  %reload_ext autoreload\n"
     ]
    },
    {
     "data": {
      "text/plain": [
       "{'gpt-3.5': (5670, 24),\n",
       " 'beto': (5670, 27),\n",
       " 'aya': (5670, 25),\n",
       " 'mixtral': (5670, 25)}"
      ]
     },
     "execution_count": 4,
     "metadata": {},
     "output_type": "execute_result"
    }
   ],
   "source": [
    "\n",
    "%load_ext autoreload\n",
    "%autoreload 2\n",
    "import pandas as pd\n",
    "from glob import glob\n",
    "pd.options.display.max_colwidth = 1000\n",
    "#df_train.loc[df_train[\"LGBTI\"] > 0, [\"title\", \"text\", \"text_label\"]].sample(20)\n",
    "from rioplatense_hs.preprocessing import text_to_label\n",
    "from sklearn.metrics import classification_report\n",
    "\n",
    "labels = [\"WOMEN\", \"LGBTI\", \"RACISM\", \"CLASS\"]\n",
    "pred_labels = [f\"PRED_{label}\" for label in labels]\n",
    "\n",
    "pred_labels = [f\"PRED_{label}\" for label in labels]\n",
    "score_labels = [f\"SCORE_{label}\" for label in labels]\n",
    "\n",
    "files = {\n",
    "    #\"one-shot\": sorted(glob(\"../data/test*pred*1shot.csv\")),\n",
    "    \"gpt-3.5\": sorted(glob(\"../data/runs/test_*_chatgpt.csv\")),\n",
    "    \"beto\": sorted(glob(\"../data/runs/test*beto.csv\")),\n",
    "    \"aya\": sorted(glob(\"../data/runs/test*aya.csv\")),\n",
    "    \"mixtral\": sorted(glob(\"../data/runs/test*mixtral.csv\")),\n",
    "}\n",
    "\n",
    "#assert len({len(value) for value in files.values()}) == 1\n",
    "\n",
    "dfs = {k: pd.concat([pd.read_csv(f, index_col=0) for f in v]) for k, v in files.items()}\n",
    "\n",
    "dfs[\"beto\"][score_labels] = dfs[\"beto\"][pred_labels]\n",
    "dfs[\"beto\"][pred_labels] = (dfs[\"beto\"][pred_labels] > 0.5).astype(int)\n",
    "\n",
    "\n",
    "for k, df in dfs.items():\n",
    "    df[\"HATEFUL\"] = (df[labels].sum(axis=1) > 0).astype(int)\n",
    "    df[\"PRED_HATEFUL\"] = (df[pred_labels].sum(axis=1) > 0).astype(int)\n",
    "\n",
    "extended_labels = labels + [\"HATEFUL\"]\n",
    "\n",
    "\n",
    "{k: v.shape for k, v in dfs.items()}"
   ]
  },
  {
   "cell_type": "markdown",
   "metadata": {},
   "source": [
    "Calculamos intervalos de confianza para cada métrica"
   ]
  },
  {
   "cell_type": "code",
   "execution_count": 9,
   "metadata": {},
   "outputs": [
    {
     "name": "stdout",
     "output_type": "stream",
     "text": [
      "gpt-3.5\n"
     ]
    },
    {
     "data": {
      "application/vnd.jupyter.widget-view+json": {
       "model_id": "f2a90e16de6f471299736b6b0202775c",
       "version_major": 2,
       "version_minor": 0
      },
      "text/plain": [
       "  0%|          | 0/5 [00:00<?, ?it/s]"
      ]
     },
     "metadata": {},
     "output_type": "display_data"
    },
    {
     "name": "stdout",
     "output_type": "stream",
     "text": [
      "beto\n"
     ]
    },
    {
     "data": {
      "application/vnd.jupyter.widget-view+json": {
       "model_id": "784fb97147fe4992aecb22791b35b6b1",
       "version_major": 2,
       "version_minor": 0
      },
      "text/plain": [
       "  0%|          | 0/5 [00:00<?, ?it/s]"
      ]
     },
     "metadata": {},
     "output_type": "display_data"
    },
    {
     "name": "stdout",
     "output_type": "stream",
     "text": [
      "aya\n"
     ]
    },
    {
     "data": {
      "application/vnd.jupyter.widget-view+json": {
       "model_id": "3b66a187d3284ed1a2646695bc9a43d5",
       "version_major": 2,
       "version_minor": 0
      },
      "text/plain": [
       "  0%|          | 0/5 [00:00<?, ?it/s]"
      ]
     },
     "metadata": {},
     "output_type": "display_data"
    },
    {
     "name": "stdout",
     "output_type": "stream",
     "text": [
      "mixtral\n"
     ]
    },
    {
     "data": {
      "application/vnd.jupyter.widget-view+json": {
       "model_id": "9b6dbfcc7e2c4264b8b08b8abdf60dd3",
       "version_major": 2,
       "version_minor": 0
      },
      "text/plain": [
       "  0%|          | 0/5 [00:00<?, ?it/s]"
      ]
     },
     "metadata": {},
     "output_type": "display_data"
    }
   ],
   "source": [
    "from tqdm.auto import tqdm\n",
    "from confidence_intervals import Bootstrap\n",
    "from sklearn.metrics import precision_score, recall_score, f1_score\n",
    "\n",
    "\n",
    "def get_metrics(dfs, labels):\n",
    "    metrics = []\n",
    "    for name, df in dfs.items():\n",
    "        print(name)\n",
    "        for label in tqdm(labels):\n",
    "\n",
    "            for metric in {\"precision\", \"recall\", \"f1\"}:\n",
    "                if metric == \"precision\":\n",
    "                    score = precision_score\n",
    "                elif metric == \"recall\":\n",
    "                    score = recall_score\n",
    "                elif metric == \"f1\":\n",
    "                    score = f1_score\n",
    "\n",
    "\n",
    "                gold_labels = df[label].values\n",
    "                preds = df[f\"PRED_{label}\"].values\n",
    "\n",
    "                bst = Bootstrap(metric=score, num_bootstraps=150)\n",
    "\n",
    "                bst_scores = bst.run(preds, gold_labels)\n",
    "\n",
    "                for score in bst_scores:\n",
    "                    metrics.append(\n",
    "                        {\n",
    "                            \"model\": name,\n",
    "                            \"label\": label,\n",
    "                            \"metric\": metric,\n",
    "                            \"score\": score,\n",
    "                        }\n",
    "                    )\n",
    "\n",
    "    return pd.DataFrame(metrics)\n",
    "\n",
    "metrics = get_metrics(dfs, labels=extended_labels)\n"
   ]
  },
  {
   "cell_type": "code",
   "execution_count": 26,
   "metadata": {},
   "outputs": [],
   "source": [
    "\n",
    "\n",
    "model_order = [\"aya\", \"mixtral\", \"gpt-3.5\",  \"beto\"]\n"
   ]
  },
  {
   "cell_type": "code",
   "execution_count": 70,
   "metadata": {},
   "outputs": [
    {
     "data": {
      "text/html": [
       "<div>\n",
       "<style scoped>\n",
       "    .dataframe tbody tr th:only-of-type {\n",
       "        vertical-align: middle;\n",
       "    }\n",
       "\n",
       "    .dataframe tbody tr th {\n",
       "        vertical-align: top;\n",
       "    }\n",
       "\n",
       "    .dataframe thead th {\n",
       "        text-align: right;\n",
       "    }\n",
       "</style>\n",
       "<table border=\"1\" class=\"dataframe\">\n",
       "  <thead>\n",
       "    <tr style=\"text-align: right;\">\n",
       "      <th>metric</th>\n",
       "      <th>precision</th>\n",
       "      <th>recall</th>\n",
       "      <th>f1</th>\n",
       "    </tr>\n",
       "    <tr>\n",
       "      <th>model</th>\n",
       "      <th></th>\n",
       "      <th></th>\n",
       "      <th></th>\n",
       "    </tr>\n",
       "  </thead>\n",
       "  <tbody>\n",
       "    <tr>\n",
       "      <th>aya</th>\n",
       "      <td>11.9 ± 0.5</td>\n",
       "      <td>93.0 ± 1.2</td>\n",
       "      <td>21.2 ± 0.8</td>\n",
       "    </tr>\n",
       "    <tr>\n",
       "      <th>mixtral</th>\n",
       "      <td>25.1 ± 1.0</td>\n",
       "      <td>83.8 ± 1.7</td>\n",
       "      <td>38.6 ± 1.3</td>\n",
       "    </tr>\n",
       "    <tr>\n",
       "      <th>gpt-3.5</th>\n",
       "      <td>39.2 ± 1.8</td>\n",
       "      <td>61.2 ± 2.2</td>\n",
       "      <td>47.8 ± 1.8</td>\n",
       "    </tr>\n",
       "    <tr>\n",
       "      <th>beto</th>\n",
       "      <td>72.9 ± 2.4</td>\n",
       "      <td>56.3 ± 2.1</td>\n",
       "      <td>63.5 ± 1.8</td>\n",
       "    </tr>\n",
       "  </tbody>\n",
       "</table>\n",
       "</div>"
      ],
      "text/plain": [
       "metric    precision      recall          f1\n",
       "model                                      \n",
       "aya      11.9 ± 0.5  93.0 ± 1.2  21.2 ± 0.8\n",
       "mixtral  25.1 ± 1.0  83.8 ± 1.7  38.6 ± 1.3\n",
       "gpt-3.5  39.2 ± 1.8  61.2 ± 2.2  47.8 ± 1.8\n",
       "beto     72.9 ± 2.4  56.3 ± 2.1  63.5 ± 1.8"
      ]
     },
     "execution_count": 70,
     "metadata": {},
     "output_type": "execute_result"
    }
   ],
   "source": [
    "pd.options.display.float_format = \"{:.4f}\".format\n",
    "\n",
    "pd.options.display.max_rows = 100\n",
    "\n",
    "binary_metrics = metrics.loc[metrics[\"label\"] == \"HATEFUL\"].copy()\n",
    "del binary_metrics[\"label\"]\n",
    "\n",
    "def build_table(labels, join=\" ± \"):\n",
    "    sub_metrics = metrics.loc[metrics[\"label\"].isin(labels)].copy()\n",
    "    if len(labels) == 1:\n",
    "        group_columns = [\"metric\"]\n",
    "        del sub_metrics[\"label\"]\n",
    "    else:\n",
    "        group_columns = [\"label\", \"metric\"]\n",
    "\n",
    "\n",
    "    mean_table = sub_metrics.pivot_table(index=\"model\", columns=group_columns, values=\"score\", aggfunc=\"mean\") * 100\n",
    "    std_table = sub_metrics.pivot_table(index=\"model\", columns=group_columns, values=\"score\", aggfunc=\"std\") * 100\n",
    "\n",
    "    # Change metrics to be ordered by precision, recall, f1\n",
    "\n",
    "\n",
    "\n",
    "    res = mean_table.round(1).astype(str) + join + std_table.round(1).astype(str)\n",
    "\n",
    "    if len(group_columns) == 1:\n",
    "        res = res[[\"precision\", \"recall\", \"f1\"]]\n",
    "    else:\n",
    "        res = res.reorder_levels([\"metric\", \"label\"], axis=1)[[\"precision\", \"recall\", \"f1\"]].reorder_levels([\"label\", \"metric\"], axis=1)[labels]\n",
    "\n",
    "    return res.loc[model_order]\n",
    "\n",
    "\n",
    "binary_table = build_table([\"HATEFUL\"])\n",
    "\n",
    "binary_table"
   ]
  },
  {
   "cell_type": "code",
   "execution_count": 71,
   "metadata": {},
   "outputs": [
    {
     "name": "stdout",
     "output_type": "stream",
     "text": [
      "\\begin{tabular}{llll}\n",
      "\\hline\n",
      "metric & precision & recall & f1 \\\\\n",
      "model &  &  &  \\\\\n",
      "\\hline\n",
      "aya & $11.9 \\pm 0.5$ & $93.0 \\pm 1.2$ & $21.2 \\pm 0.8$ \\\\\n",
      "mixtral & $25.1 \\pm 1.0$ & $83.8 \\pm 1.7$ & $38.6 \\pm 1.3$ \\\\\n",
      "gpt-3.5 & $39.2 \\pm 1.8$ & $61.2 \\pm 2.2$ & $47.8 \\pm 1.8$ \\\\\n",
      "beto & $72.9 \\pm 2.4$ & $56.3 \\pm 2.1$ & $63.5 \\pm 1.8$ \\\\\n",
      "\\hline\n",
      "\\end{tabular}\n",
      "\n"
     ]
    }
   ],
   "source": [
    "\n",
    "binary_table = build_table([\"HATEFUL\"], join=\" \\pm \")\n",
    "\n",
    "\n",
    "# Replace the ± with a \\pm\n",
    "for col in binary_table.columns:\n",
    "    binary_table[col] = binary_table[col].map(lambda x:  \"$\" + x + \"$\")\n",
    "\n",
    "binary_table = binary_table.style.set_table_styles([\n",
    "    {'selector': 'toprule', 'props': ':hline;'},\n",
    "    {'selector': 'midrule', 'props': ':hline;'},\n",
    "    {'selector': 'bottomrule', 'props': ':hline;'},\n",
    "], overwrite=False)\n",
    "\n",
    "print(binary_table.to_latex())"
   ]
  },
  {
   "cell_type": "code",
   "execution_count": 47,
   "metadata": {},
   "outputs": [
    {
     "data": {
      "text/html": [
       "<div>\n",
       "<style scoped>\n",
       "    .dataframe tbody tr th:only-of-type {\n",
       "        vertical-align: middle;\n",
       "    }\n",
       "\n",
       "    .dataframe tbody tr th {\n",
       "        vertical-align: top;\n",
       "    }\n",
       "\n",
       "    .dataframe thead tr th {\n",
       "        text-align: left;\n",
       "    }\n",
       "\n",
       "    .dataframe thead tr:last-of-type th {\n",
       "        text-align: right;\n",
       "    }\n",
       "</style>\n",
       "<table border=\"1\" class=\"dataframe\">\n",
       "  <thead>\n",
       "    <tr>\n",
       "      <th>label</th>\n",
       "      <th colspan=\"3\" halign=\"left\">WOMEN</th>\n",
       "      <th colspan=\"3\" halign=\"left\">LGBTI</th>\n",
       "      <th colspan=\"3\" halign=\"left\">RACISM</th>\n",
       "      <th colspan=\"3\" halign=\"left\">CLASS</th>\n",
       "    </tr>\n",
       "    <tr>\n",
       "      <th>metric</th>\n",
       "      <th>precision</th>\n",
       "      <th>recall</th>\n",
       "      <th>f1</th>\n",
       "      <th>precision</th>\n",
       "      <th>recall</th>\n",
       "      <th>f1</th>\n",
       "      <th>precision</th>\n",
       "      <th>recall</th>\n",
       "      <th>f1</th>\n",
       "      <th>precision</th>\n",
       "      <th>recall</th>\n",
       "      <th>f1</th>\n",
       "    </tr>\n",
       "    <tr>\n",
       "      <th>model</th>\n",
       "      <th></th>\n",
       "      <th></th>\n",
       "      <th></th>\n",
       "      <th></th>\n",
       "      <th></th>\n",
       "      <th></th>\n",
       "      <th></th>\n",
       "      <th></th>\n",
       "      <th></th>\n",
       "      <th></th>\n",
       "      <th></th>\n",
       "      <th></th>\n",
       "    </tr>\n",
       "  </thead>\n",
       "  <tbody>\n",
       "    <tr>\n",
       "      <th>aya</th>\n",
       "      <td>9.7 ± 1.0</td>\n",
       "      <td>59.4 ± 4.1</td>\n",
       "      <td>16.7 ± 1.6</td>\n",
       "      <td>12.1 ± 1.4</td>\n",
       "      <td>78.7 ± 4.5</td>\n",
       "      <td>20.9 ± 2.2</td>\n",
       "      <td>20.0 ± 1.3</td>\n",
       "      <td>87.1 ± 2.1</td>\n",
       "      <td>32.5 ± 1.7</td>\n",
       "      <td>3.2 ± 0.4</td>\n",
       "      <td>58.2 ± 5.4</td>\n",
       "      <td>6.1 ± 0.8</td>\n",
       "    </tr>\n",
       "    <tr>\n",
       "      <th>mixtral</th>\n",
       "      <td>18.0 ± 1.7</td>\n",
       "      <td>74.9 ± 3.7</td>\n",
       "      <td>29.0 ± 2.3</td>\n",
       "      <td>33.2 ± 3.4</td>\n",
       "      <td>73.9 ± 5.4</td>\n",
       "      <td>45.7 ± 3.9</td>\n",
       "      <td>37.3 ± 2.2</td>\n",
       "      <td>83.9 ± 2.6</td>\n",
       "      <td>51.6 ± 2.3</td>\n",
       "      <td>11.3 ± 1.6</td>\n",
       "      <td>59.5 ± 5.8</td>\n",
       "      <td>18.9 ± 2.5</td>\n",
       "    </tr>\n",
       "    <tr>\n",
       "      <th>gpt-3.5</th>\n",
       "      <td>28.9 ± 3.3</td>\n",
       "      <td>40.8 ± 4.3</td>\n",
       "      <td>33.8 ± 3.4</td>\n",
       "      <td>43.2 ± 4.7</td>\n",
       "      <td>59.4 ± 5.5</td>\n",
       "      <td>49.9 ± 4.4</td>\n",
       "      <td>46.8 ± 2.8</td>\n",
       "      <td>68.2 ± 2.9</td>\n",
       "      <td>55.5 ± 2.5</td>\n",
       "      <td>22.8 ± 3.4</td>\n",
       "      <td>46.4 ± 6.1</td>\n",
       "      <td>30.4 ± 4.0</td>\n",
       "    </tr>\n",
       "    <tr>\n",
       "      <th>beto</th>\n",
       "      <td>58.2 ± 5.5</td>\n",
       "      <td>34.2 ± 4.1</td>\n",
       "      <td>43.0 ± 4.2</td>\n",
       "      <td>58.8 ± 6.4</td>\n",
       "      <td>37.6 ± 5.1</td>\n",
       "      <td>45.7 ± 5.1</td>\n",
       "      <td>80.2 ± 2.8</td>\n",
       "      <td>70.0 ± 2.9</td>\n",
       "      <td>74.7 ± 2.2</td>\n",
       "      <td>73.8 ± 6.6</td>\n",
       "      <td>47.7 ± 5.8</td>\n",
       "      <td>57.7 ± 5.2</td>\n",
       "    </tr>\n",
       "  </tbody>\n",
       "</table>\n",
       "</div>"
      ],
      "text/plain": [
       "label         WOMEN                               LGBTI              \\\n",
       "metric    precision      recall          f1   precision      recall   \n",
       "model                                                                 \n",
       "aya       9.7 ± 1.0  59.4 ± 4.1  16.7 ± 1.6  12.1 ± 1.4  78.7 ± 4.5   \n",
       "mixtral  18.0 ± 1.7  74.9 ± 3.7  29.0 ± 2.3  33.2 ± 3.4  73.9 ± 5.4   \n",
       "gpt-3.5  28.9 ± 3.3  40.8 ± 4.3  33.8 ± 3.4  43.2 ± 4.7  59.4 ± 5.5   \n",
       "beto     58.2 ± 5.5  34.2 ± 4.1  43.0 ± 4.2  58.8 ± 6.4  37.6 ± 5.1   \n",
       "\n",
       "label                    RACISM                               CLASS  \\\n",
       "metric           f1   precision      recall          f1   precision   \n",
       "model                                                                 \n",
       "aya      20.9 ± 2.2  20.0 ± 1.3  87.1 ± 2.1  32.5 ± 1.7   3.2 ± 0.4   \n",
       "mixtral  45.7 ± 3.9  37.3 ± 2.2  83.9 ± 2.6  51.6 ± 2.3  11.3 ± 1.6   \n",
       "gpt-3.5  49.9 ± 4.4  46.8 ± 2.8  68.2 ± 2.9  55.5 ± 2.5  22.8 ± 3.4   \n",
       "beto     45.7 ± 5.1  80.2 ± 2.8  70.0 ± 2.9  74.7 ± 2.2  73.8 ± 6.6   \n",
       "\n",
       "label                            \n",
       "metric       recall          f1  \n",
       "model                            \n",
       "aya      58.2 ± 5.4   6.1 ± 0.8  \n",
       "mixtral  59.5 ± 5.8  18.9 ± 2.5  \n",
       "gpt-3.5  46.4 ± 6.1  30.4 ± 4.0  \n",
       "beto     47.7 ± 5.8  57.7 ± 5.2  "
      ]
     },
     "execution_count": 47,
     "metadata": {},
     "output_type": "execute_result"
    }
   ],
   "source": [
    "all_table = build_table(labels)\n",
    "\n",
    "all_table.reorder_levels([\"metric\", \"label\"], axis=1)[[\"precision\", \"recall\", \"f1\"]].reorder_levels([\"label\", \"metric\"], axis=1)[labels]"
   ]
  },
  {
   "cell_type": "markdown",
   "metadata": {},
   "source": [
    "Estaría bueno calcular un p-valor en LGBTI para ver si la diferencia es significativa"
   ]
  },
  {
   "cell_type": "code",
   "execution_count": 31,
   "metadata": {},
   "outputs": [
    {
     "data": {
      "text/plain": [
       "MannwhitneyuResult(statistic=16386.5, pvalue=4.052462513071501e-12)"
      ]
     },
     "execution_count": 31,
     "metadata": {},
     "output_type": "execute_result"
    }
   ],
   "source": [
    "# Es significativa la diferencia en LGBTI entre GPT-3.5 y BETO en términos de F1?\n",
    "# Mann-Whitney U test\n",
    "from scipy.stats import mannwhitneyu\n",
    "\n",
    "lgbti_gpt = metrics[(metrics[\"label\"] == \"LGBTI\") & (metrics[\"model\"] == \"gpt-3.5\") & (metrics[\"metric\"] == \"f1\")][\"score\"].values\n",
    "lgbti_beto = metrics[(metrics[\"label\"] == \"LGBTI\") & (metrics[\"model\"] == \"beto\") & (metrics[\"metric\"] == \"f1\")][\"score\"].values\n",
    "lgbti_mixtral = metrics[(metrics[\"label\"] == \"LGBTI\") & (metrics[\"model\"] == \"mixtral\") & (metrics[\"metric\"] == \"f1\")][\"score\"].values\n",
    "\n",
    "mannwhitneyu(lgbti_gpt, lgbti_beto, alternative=\"greater\")"
   ]
  },
  {
   "cell_type": "code",
   "execution_count": 32,
   "metadata": {},
   "outputs": [
    {
     "data": {
      "text/plain": [
       "MannwhitneyuResult(statistic=11257.5, pvalue=0.49628275389136395)"
      ]
     },
     "execution_count": 32,
     "metadata": {},
     "output_type": "execute_result"
    }
   ],
   "source": [
    "mannwhitneyu(lgbti_mixtral, lgbti_beto, alternative=\"greater\")"
   ]
  },
  {
   "cell_type": "code",
   "execution_count": 44,
   "metadata": {},
   "outputs": [
    {
     "data": {
      "image/png": "[encoded data removed]",
      "text/plain": [
       "<Figure size 900x300 with 1 Axes>"
      ]
     },
     "metadata": {},
     "output_type": "display_data"
    }
   ],
   "source": [
    "import seaborn as sns\n",
    "import matplotlib.pyplot as plt\n",
    "\n",
    "\n",
    "# Create the barplot\n",
    "\n",
    "\n",
    "model_order = [\"aya\", \"mixtral\", \"gpt-3.5\", \"beto\"]\n",
    "\n",
    "def plot_metric(df, metric, labels, legend=True):\n",
    "    plt.figure(figsize=(9, 3))\n",
    "\n",
    "    sub_df = df[(df[\"metric\"] == metric) & (df[\"label\"].isin(labels))]\n",
    "\n",
    "    sns.barplot(x='label', y='score', hue='model', data=sub_df, hue_order=model_order, order=labels)\n",
    "\n",
    "\n",
    "    # Set the plot title and labels\n",
    "    plt.xlabel('')\n",
    "    plt.ylabel(metric.capitalize())\n",
    "\n",
    "    # Show the plot\n",
    "\n",
    "    # Remove xticks\n",
    "\n",
    "    #plt.xticks(ticks=[])\n",
    "    plt.xticks(rotation=90)\n",
    "    # Make legend smaller\n",
    "    if legend:\n",
    "        plt.legend(loc='upper right')#, bbox_to_anchor=(0.35, 1.03))\n",
    "\n",
    "\n",
    "metric = \"f1\"\n",
    "plot_metric(df_metrics, metric, labels)\n",
    "plt.savefig(f\"img/{metric}.png\", bbox_inches='tight', dpi=300)"
   ]
  },
  {
   "cell_type": "code",
   "execution_count": 45,
   "metadata": {},
   "outputs": [
    {
     "data": {
      "image/png": "[encoded data removed]",
      "text/plain": [
       "<Figure size 900x300 with 1 Axes>"
      ]
     },
     "metadata": {},
     "output_type": "display_data"
    }
   ],
   "source": [
    "plot_metric(df_metrics, \"recall\", labels)\n",
    "plt.savefig(f\"img/recall.png\", bbox_inches='tight', dpi=300)"
   ]
  },
  {
   "cell_type": "code",
   "execution_count": 46,
   "metadata": {},
   "outputs": [
    {
     "data": {
      "image/png": "[encoded data removed]",
      "text/plain": [
       "<Figure size 900x300 with 1 Axes>"
      ]
     },
     "metadata": {},
     "output_type": "display_data"
    }
   ],
   "source": [
    "plot_metric(df_metrics, \"precision\", labels)\n",
    "plt.savefig(f\"img/precision.png\", bbox_inches='tight', dpi=300)"
   ]
  },
  {
   "cell_type": "markdown",
   "metadata": {},
   "source": [
    "## Métricas agrupadas\n",
    "\n",
    "¿Cómo funciona esto si no miramos qué categorías marca un clasificador, sino simplemente binarizamos las salidas?"
   ]
  },
  {
   "cell_type": "code",
   "execution_count": 33,
   "metadata": {},
   "outputs": [
    {
     "data": {
      "text/html": [
       "<div>\n",
       "<style scoped>\n",
       "    .dataframe tbody tr th:only-of-type {\n",
       "        vertical-align: middle;\n",
       "    }\n",
       "\n",
       "    .dataframe tbody tr th {\n",
       "        vertical-align: top;\n",
       "    }\n",
       "\n",
       "    .dataframe thead th {\n",
       "        text-align: right;\n",
       "    }\n",
       "</style>\n",
       "<table border=\"1\" class=\"dataframe\">\n",
       "  <thead>\n",
       "    <tr style=\"text-align: right;\">\n",
       "      <th></th>\n",
       "      <th>model</th>\n",
       "      <th>metric</th>\n",
       "      <th>score</th>\n",
       "    </tr>\n",
       "  </thead>\n",
       "  <tbody>\n",
       "    <tr>\n",
       "      <th>0</th>\n",
       "      <td>gpt-3.5</td>\n",
       "      <td>f1</td>\n",
       "      <td>0.4818</td>\n",
       "    </tr>\n",
       "    <tr>\n",
       "      <th>1</th>\n",
       "      <td>gpt-3.5</td>\n",
       "      <td>f1</td>\n",
       "      <td>0.4877</td>\n",
       "    </tr>\n",
       "    <tr>\n",
       "      <th>2</th>\n",
       "      <td>gpt-3.5</td>\n",
       "      <td>f1</td>\n",
       "      <td>0.4785</td>\n",
       "    </tr>\n",
       "    <tr>\n",
       "      <th>3</th>\n",
       "      <td>gpt-3.5</td>\n",
       "      <td>f1</td>\n",
       "      <td>0.4751</td>\n",
       "    </tr>\n",
       "    <tr>\n",
       "      <th>4</th>\n",
       "      <td>gpt-3.5</td>\n",
       "      <td>f1</td>\n",
       "      <td>0.5000</td>\n",
       "    </tr>\n",
       "    <tr>\n",
       "      <th>...</th>\n",
       "      <td>...</td>\n",
       "      <td>...</td>\n",
       "      <td>...</td>\n",
       "    </tr>\n",
       "    <tr>\n",
       "      <th>1795</th>\n",
       "      <td>mixtral</td>\n",
       "      <td>recall</td>\n",
       "      <td>0.8173</td>\n",
       "    </tr>\n",
       "    <tr>\n",
       "      <th>1796</th>\n",
       "      <td>mixtral</td>\n",
       "      <td>recall</td>\n",
       "      <td>0.8565</td>\n",
       "    </tr>\n",
       "    <tr>\n",
       "      <th>1797</th>\n",
       "      <td>mixtral</td>\n",
       "      <td>recall</td>\n",
       "      <td>0.8435</td>\n",
       "    </tr>\n",
       "    <tr>\n",
       "      <th>1798</th>\n",
       "      <td>mixtral</td>\n",
       "      <td>recall</td>\n",
       "      <td>0.8440</td>\n",
       "    </tr>\n",
       "    <tr>\n",
       "      <th>1799</th>\n",
       "      <td>mixtral</td>\n",
       "      <td>recall</td>\n",
       "      <td>0.8109</td>\n",
       "    </tr>\n",
       "  </tbody>\n",
       "</table>\n",
       "<p>1800 rows × 3 columns</p>\n",
       "</div>"
      ],
      "text/plain": [
       "        model  metric  score\n",
       "0     gpt-3.5      f1 0.4818\n",
       "1     gpt-3.5      f1 0.4877\n",
       "2     gpt-3.5      f1 0.4785\n",
       "3     gpt-3.5      f1 0.4751\n",
       "4     gpt-3.5      f1 0.5000\n",
       "...       ...     ...    ...\n",
       "1795  mixtral  recall 0.8173\n",
       "1796  mixtral  recall 0.8565\n",
       "1797  mixtral  recall 0.8435\n",
       "1798  mixtral  recall 0.8440\n",
       "1799  mixtral  recall 0.8109\n",
       "\n",
       "[1800 rows x 3 columns]"
      ]
     },
     "execution_count": 33,
     "metadata": {},
     "output_type": "execute_result"
    }
   ],
   "source": [
    "# Just keep the most important characteristics\n",
    "\n",
    "hate_metrics = []\n",
    "\n",
    "# If set to True, uses all labels. If not, only WOMEN, LGBTI, RACISM, CLASS\n",
    "evaluate_all = False\n",
    "\n",
    "\n",
    "for name, df in dfs.items():\n",
    "    if not evaluate_all:\n",
    "        label_hate = df[labels].sum(axis=1) > 0\n",
    "        pred_hate = df[pred_labels].sum(axis=1) > 0\n",
    "    else:\n",
    "        label_hate = df[all_labels].sum(axis=1) > 0\n",
    "        pred_hate = df[all_pred_labels].sum(axis=1) > 0\n",
    "    for metric in {\"precision\", \"recall\", \"f1\"}:\n",
    "        if metric == \"precision\":\n",
    "            score = precision_score\n",
    "        elif metric == \"recall\":\n",
    "            score = recall_score\n",
    "        elif metric == \"f1\":\n",
    "            score = f1_score\n",
    "\n",
    "\n",
    "        gold_labels = label_hate.values\n",
    "        preds = pred_hate.values\n",
    "\n",
    "        bst = Bootstrap(metric=score, num_bootstraps=150)\n",
    "\n",
    "        bst_scores = bst.run(preds, gold_labels)\n",
    "\n",
    "        for score in bst_scores:\n",
    "            hate_metrics.append(\n",
    "                {\n",
    "                    \"model\": name,\n",
    "                    \"metric\": metric,\n",
    "                    \"score\": score,\n",
    "                }\n",
    "            )\n",
    "\n",
    "hate_metrics = pd.DataFrame(hate_metrics)\n",
    "\n",
    "hate_metrics"
   ]
  },
  {
   "cell_type": "code",
   "execution_count": 34,
   "metadata": {},
   "outputs": [
    {
     "data": {
      "text/plain": [
       "([0, 1, 2], [Text(0, 0, 'f1'), Text(1, 0, 'precision'), Text(2, 0, 'recall')])"
      ]
     },
     "execution_count": 34,
     "metadata": {},
     "output_type": "execute_result"
    },
    {
     "data": {
      "image/png": "[encoded data removed]",
      "text/plain": [
       "<Figure size 1000x500 with 1 Axes>"
      ]
     },
     "metadata": {},
     "output_type": "display_data"
    }
   ],
   "source": [
    "import seaborn as sns\n",
    "import matplotlib.pyplot as plt\n",
    "\n",
    "\n",
    "# Create the barplot\n",
    "\n",
    "plt.figure(figsize=(10, 5))\n",
    "sns.barplot(x='metric', y='score', hue='model', data=hate_metrics, hue_order=model_order)\n",
    "\n",
    "\n",
    "plt.ylabel('Value')\n",
    "\n",
    "# Show the plot\n",
    "\n",
    "plt.xticks(rotation=90)\n",
    "#plt.show()"
   ]
  },
  {
   "cell_type": "code",
   "execution_count": 35,
   "metadata": {},
   "outputs": [
    {
     "data": {
      "text/html": [
       "<div>\n",
       "<style scoped>\n",
       "    .dataframe tbody tr th:only-of-type {\n",
       "        vertical-align: middle;\n",
       "    }\n",
       "\n",
       "    .dataframe tbody tr th {\n",
       "        vertical-align: top;\n",
       "    }\n",
       "\n",
       "    .dataframe thead th {\n",
       "        text-align: right;\n",
       "    }\n",
       "</style>\n",
       "<table border=\"1\" class=\"dataframe\">\n",
       "  <thead>\n",
       "    <tr style=\"text-align: right;\">\n",
       "      <th>model</th>\n",
       "      <th>aya</th>\n",
       "      <th>mixtral</th>\n",
       "      <th>gpt-3.5</th>\n",
       "      <th>beto</th>\n",
       "    </tr>\n",
       "    <tr>\n",
       "      <th>metric</th>\n",
       "      <th></th>\n",
       "      <th></th>\n",
       "      <th></th>\n",
       "      <th></th>\n",
       "    </tr>\n",
       "  </thead>\n",
       "  <tbody>\n",
       "    <tr>\n",
       "      <th>precision</th>\n",
       "      <td>11.9 +- 0.5</td>\n",
       "      <td>25.1 +- 1.0</td>\n",
       "      <td>39.2 +- 1.8</td>\n",
       "      <td>72.9 +- 2.4</td>\n",
       "    </tr>\n",
       "    <tr>\n",
       "      <th>recall</th>\n",
       "      <td>93.0 +- 1.2</td>\n",
       "      <td>83.8 +- 1.7</td>\n",
       "      <td>61.2 +- 2.2</td>\n",
       "      <td>56.3 +- 2.1</td>\n",
       "    </tr>\n",
       "    <tr>\n",
       "      <th>f1</th>\n",
       "      <td>21.2 +- 0.8</td>\n",
       "      <td>38.6 +- 1.3</td>\n",
       "      <td>47.8 +- 1.8</td>\n",
       "      <td>63.5 +- 1.8</td>\n",
       "    </tr>\n",
       "  </tbody>\n",
       "</table>\n",
       "</div>"
      ],
      "text/plain": [
       "model              aya      mixtral      gpt-3.5         beto\n",
       "metric                                                       \n",
       "precision  11.9 +- 0.5  25.1 +- 1.0  39.2 +- 1.8  72.9 +- 2.4\n",
       "recall     93.0 +- 1.2  83.8 +- 1.7  61.2 +- 2.2  56.3 +- 2.1\n",
       "f1         21.2 +- 0.8  38.6 +- 1.3  47.8 +- 1.8  63.5 +- 1.8"
      ]
     },
     "execution_count": 35,
     "metadata": {},
     "output_type": "execute_result"
    }
   ],
   "source": [
    "\n",
    "# Show as mean +/- std\n",
    "metrics_copy = hate_metrics.copy()\n",
    "\n",
    "metrics_copy[\"score\"] *= 100\n",
    "\n",
    "res = metrics_copy.groupby([\"model\", \"metric\"]).mean().round(1).astype(str) + \" +- \" + metrics_copy.groupby([\"model\", \"metric\"]).std().round(1).astype(str)\n",
    "\n",
    "# Show as mean +/- std with models as columns\n",
    "\n",
    "res = res.reset_index().pivot(index=\"metric\", columns=\"model\", values=\"score\")\n",
    "\n",
    "res.loc[['precision', 'recall', 'f1'], [\"aya\", \"mixtral\", \"gpt-3.5\", \"beto\"]]"
   ]
  },
  {
   "cell_type": "code",
   "execution_count": null,
   "metadata": {},
   "outputs": [],
   "source": []
  }
 ],
 "metadata": {
  "kernelspec": {
   "display_name": ".venv",
   "language": "python",
   "name": "python3"
  },
  "language_info": {
   "codemirror_mode": {
    "name": "ipython",
    "version": 3
   },
   "file_extension": ".py",
   "mimetype": "text/x-python",
   "name": "python",
   "nbconvert_exporter": "python",
   "pygments_lexer": "ipython3",
   "version": "3.10.7"
  }
 },
 "nbformat": 4,
 "nbformat_minor": 2
}
