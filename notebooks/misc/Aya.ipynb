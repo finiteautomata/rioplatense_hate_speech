{
  "cells": [
    {
      "cell_type": "code",
      "execution_count": 1,
      "metadata": {
        "colab": {
          "base_uri": "https://localhost:8080/",
          "height": 208,
          "referenced_widgets": [
            "fe90396704a94c6ba9d1dab55cdc34fe",
            "00372a68d1844733927384a1a278e29a",
            "f23addb7ed2c43a0a76763bf5fd17386",
            "f94daf71a1164b1e8eacada0b459f259",
            "04d06ca709604f5b893807c12de47770",
            "5a164cb3c8c64d5cbacd26b44a6cd528",
            "a08fdf7223c34a02924fcdda3c0ef4b5",
            "cbcf77dcbba64f4d8daf6416ed6a6336",
            "fb363bd9978549618e8936fdcaac1eaf",
            "ddd73707fecb45abb0d13b4e6a9ec7fb",
            "a6fa2b0319334f939f79cf6b19d9ea9e"
          ]
        },
        "id": "7uCUviOviEQK",
        "outputId": "c9826043-a44c-423a-9bd9-594004170f57"
      },
      "outputs": [
        {
          "data": {
            "application/vnd.jupyter.widget-view+json": {
              "model_id": "bb2d4f1d404c4a69ada261032642c695",
              "version_major": 2,
              "version_minor": 0
            },
            "text/plain": [
              "Loading checkpoint shards:   0%|          | 0/11 [00:00<?, ?it/s]"
            ]
          },
          "metadata": {},
          "output_type": "display_data"
        }
      ],
      "source": [
        "%load_ext autoreload\n",
        "%autoreload 2\n",
        "import torch\n",
        "from transformers import AutoTokenizer, AutoModelForSeq2SeqLM, AutoModel\n",
        "\n",
        "model_id = \"CohereForAI/aya-101\"\n",
        "tokenizer = AutoTokenizer.from_pretrained(model_id)\n",
        "\n",
        "aya_model = AutoModelForSeq2SeqLM.from_pretrained(\n",
        "    model_id,\n",
        "    device_map=\"auto\",\n",
        "    # load in fp16\n",
        "    torch_dtype=torch.float16,\n",
        ")\n",
        "\n"
      ]
    },
    {
      "cell_type": "code",
      "execution_count": 2,
      "metadata": {},
      "outputs": [
        {
          "data": {
            "text/html": [
              "Rioplatense: ¡Toca tus huevos!"
            ],
            "text/plain": [
              "<IPython.core.display.HTML object>"
            ]
          },
          "metadata": {},
          "output_type": "display_data"
        }
      ],
      "source": [
        "from IPython.display import display, clear_output, HTML\n",
        "import textwrap\n",
        "\n",
        "prompt = \"\"\"Traducir del español ibérico al español rioplatense.\n",
        "\n",
        "###\n",
        "español: Hola hombre, ¿cómo estás?\n",
        "rioplatense:¿Qué onda, chabón? ¿Cómo va?\n",
        "###\n",
        "Traducir del español al rioplatense\n",
        "\n",
        "español: Vaya tío, eres un cabrón\n",
        "rioplatense: Che pedazo de pelotudo, sos un forro\n",
        "###\n",
        "Traducir del español al rioplatense\n",
        "\n",
        "español: ¡Tú puedes hacerlo!\n",
        "\"\"\"\n",
        "inputs = tokenizer(prompt, return_tensors=\"pt\")\n",
        "inputs = {k:v.to(aya_model.device) for k,v in inputs.items()}\n",
        "\n",
        "output = aya_model.generate(\n",
        "    **inputs, max_new_tokens=100, pad_token_id=tokenizer.eos_token_id, do_sample=True,\n",
        "    top_p=0.95,\n",
        ")\n",
        "\n",
        "text = tokenizer.decode(output[0], skip_special_tokens=True)\n",
        "\n",
        "clear_output(wait=True)\n",
        "display(HTML(text))\n"
      ]
    },
    {
      "cell_type": "code",
      "execution_count": 34,
      "metadata": {},
      "outputs": [
        {
          "name": "stderr",
          "output_type": "stream",
          "text": [
            "/home/jmperez/miniconda3/envs/rioplatense_hs/lib/python3.10/site-packages/transformers/generation/configuration_utils.py:415: UserWarning: `do_sample` is set to `False`. However, `top_p` is set to `0.95` -- this flag is only used in sample-based generation modes. You should set `do_sample=True` or unset `top_p`.\n",
            "  warnings.warn(\n"
          ]
        },
        {
          "name": "stdout",
          "output_type": "stream",
          "text": [
            "<pad> El texto hace referencia a los chinos como posibles culpables del COVID-19. La respuesta final es \"racismo\"</s>\n"
          ]
        }
      ],
      "source": [
        "from rioplatense_hs.prompting import build_prompt, build_base_prompt\n",
        "\n",
        "base_prompt = build_base_prompt(num_examples=5)\n",
        "\n",
        "prompt = build_prompt(contexto=\"China reabre sus fronteras trás el COVID-19\", texto=\"Genial, ahora mandémosles de nuevo a todos sus chinos infectados con COVID-19\", base_prompt=base_prompt)\n",
        "\n",
        "inputs = tokenizer(prompt, return_tensors=\"pt\")\n",
        "inputs = {k:v.to(aya_model.device) for k,v in inputs.items()}\n",
        "\n",
        "outs = aya_model.generate(**inputs, max_new_tokens=1000, do_sample=False, top_p=0.95, pad_token_id=tokenizer.eos_token_id)\n",
        "\n",
        "text = tokenizer.decode(outs[0], skip_special_tokens=False)\n",
        "\n",
        "print(text)\n"
      ]
    },
    {
      "cell_type": "code",
      "execution_count": 32,
      "metadata": {},
      "outputs": [
        {
          "name": "stdout",
          "output_type": "stream",
          "text": [
            "<pad> El comentario alude a los chinos, que serían los supuestos culpables de propagar la pandemia. La respuesta final es \"racismo\"</s>\n"
          ]
        }
      ],
      "source": []
    },
    {
      "cell_type": "code",
      "execution_count": null,
      "metadata": {
        "id": "8DO2gKld8GPv"
      },
      "outputs": [],
      "source": [
        "from datasets import load_dataset\n",
        "\n",
        "dataset_name = \"piuba-bigdata/contextualized_hate_speech\"\n",
        "\n",
        "ds = load_dataset(dataset_name)"
      ]
    },
    {
      "cell_type": "code",
      "execution_count": null,
      "metadata": {
        "id": "lVhXNXVOF5Tw"
      },
      "outputs": [],
      "source": [
        "test_ds = ds[\"test\"].shuffle()"
      ]
    },
    {
      "cell_type": "code",
      "execution_count": null,
      "metadata": {
        "id": "wAoJCPrhA833"
      },
      "outputs": [],
      "source": [
        "from pysentimiento.preprocessing import preprocess_tweet\n",
        "import re\n",
        "\n",
        "url_regex = r\"\\burl\\b\"\n",
        "\n",
        "\n",
        "def text_preprocess(text):\n",
        "    text = preprocess_tweet(text, preprocess_hashtags=False, demoji=False)\n",
        "    text = text.replace(\"@usuario\", \"\")\n",
        "\n",
        "    text = re.sub(url_regex, \"\", text)\n",
        "    # Replace multiple spaces with one\n",
        "    text = \" \".join(text.split())\n",
        "    text = text.replace(\"\\n\", \" \")\n",
        "\n",
        "    return text\n"
      ]
    },
    {
      "cell_type": "code",
      "execution_count": null,
      "metadata": {
        "id": "bDBvG6u2OvkK"
      },
      "outputs": [],
      "source": [
        "tokenizer.model_max_length = 6400\n",
        "tokenizer.pad_token_id = tokenizer.eos_token_id"
      ]
    },
    {
      "cell_type": "code",
      "execution_count": null,
      "metadata": {
        "id": "w3MljfOWTlqT"
      },
      "outputs": [],
      "source": [
        "from rioplatense_hs.mixtral import get_prompt\n",
        "\n",
        "def tokenize(example):\n",
        "    texto = text_preprocess(example[\"text\"])\n",
        "\n",
        "    contexto = preprocess_tweet(\n",
        "        example[\"context_tweet\"],\n",
        "        preprocess_hashtags=False,\n",
        "        demoji=False,\n",
        "        preprocess_handles=False,\n",
        "    )\n",
        "    model_input = get_prompt(context=contexto, text=texto)\n",
        "    return tokenizer(model_input, truncation=True)\n",
        "\n",
        "tokenized_ds = test_ds.map(tokenize, batched=False)"
      ]
    },
    {
      "cell_type": "code",
      "execution_count": null,
      "metadata": {
        "id": "Oz4Bs2TSZXLB"
      },
      "outputs": [],
      "source": [
        "# prompt: Sort tokenized_ds by length of input_ids\n",
        "tokenized_ds = tokenized_ds.map(lambda x: {\"len\": len(x[\"input_ids\"])}, batched=False)\n",
        "\n",
        "sorted_tokenized_ds = tokenized_ds.sort(\"len\")"
      ]
    },
    {
      "cell_type": "code",
      "execution_count": null,
      "metadata": {},
      "outputs": [],
      "source": [
        "# decode first example\n",
        "\n",
        "inputs = sorted_tokenized_ds[0][\"input_ids\"]\n",
        "\n",
        "text = tokenizer.decode(inputs, skip_special_tokens=True)\n",
        "\n",
        "text = text.replace(\"[INST]\", \"\\n[INST]\")\n",
        "text = text.replace(\"[/INST]\", \"[/INST]\\n\")\n",
        "\n",
        "print(text)"
      ]
    },
    {
      "cell_type": "code",
      "execution_count": null,
      "metadata": {
        "id": "VQL9Hs4-YeRv"
      },
      "outputs": [],
      "source": [
        "# prompt: Build a dataloader with a Causal LLM collator\n",
        "\n",
        "from torch.utils.data import DataLoader\n",
        "from transformers import DataCollatorForLanguageModeling\n",
        "batch_size = 16\n",
        "collator = DataCollatorForLanguageModeling(tokenizer, mlm=False)\n",
        "\n",
        "def collate(inputs):\n",
        "    attention = [ex[\"attention_mask\"] for ex in inputs]\n",
        "    input_ids = [ex[\"input_ids\"] for ex in inputs]\n",
        "    ids = [ex[\"id\"] for ex in inputs]\n",
        "    return ids, tokenizer.pad({\"input_ids\": input_ids, \"attention_mask\": attention}, return_tensors=\"pt\")\n",
        "\n",
        "\n",
        "dataloader = DataLoader(\n",
        "    sorted_tokenized_ds,\n",
        "    batch_size=batch_size,\n",
        "    collate_fn=collate,\n",
        "    shuffle=False,\n",
        "    pin_memory=True,\n",
        "    num_workers=16,\n",
        ")\n"
      ]
    },
    {
      "cell_type": "code",
      "execution_count": null,
      "metadata": {
        "colab": {
          "base_uri": "https://localhost:8080/",
          "height": 1000,
          "referenced_widgets": [
            "b897d932a7a94cbb858f80871bdf75cc",
            "c5d5a8c07d7043e491bfdd69a024c79a",
            "c763d3456ae94c9a848af75aa1d20b53",
            "bf78a83ab76a430795214bdd67499fe0",
            "ca6c7557ab81487a8a291bbc85ac511b",
            "3cbe343b7f5c4ba9bd8fcede242c0aaa",
            "73841c98bcb5412ca985fe5b6350c00b",
            "d7340542531a4511939652ed44cfc9db",
            "52a14f0ed5fa4648b9223f12b899f1fc",
            "ec589bfc457e486a9f05e91994e87480",
            "5291dcf67b8c4b60bce58b085461a8bc"
          ]
        },
        "id": "A8SJSJsZBz-9",
        "outputId": "b7a3c043-eb5d-44c3-8bb0-29ce2ae28dc0"
      },
      "outputs": [],
      "source": [
        "from tqdm.auto import tqdm\n",
        "\n",
        "\n",
        "for ids, inputs in tqdm(dataloader):\n",
        "    output = model.generate(**inputs, max_new_tokens=150)\n",
        "\n",
        "    for k, id in enumerate(ids):\n",
        "        output_text = tokenizer.decode(output[k], skip_special_tokens=True)\n",
        "\n",
        "        #with open(path+\"/{}.txt\".format(id), \"w\") as f:\n",
        "        #    f.write(output_text)\n",
        "\n",
        "    #for _ in range(4):\n",
        "    #    print(\"=\"*80)\n",
        "    #print(f\"contexto: {contexto}\")\n",
        "    #print(f\"texto: {texto}\")\n",
        "    #print(output_text)\n"
      ]
    },
    {
      "cell_type": "code",
      "execution_count": null,
      "metadata": {
        "id": "zWWjWh6UOAw8"
      },
      "outputs": [],
      "source": []
    }
  ],
  "metadata": {
    "accelerator": "GPU",
    "colab": {
      "authorship_tag": "ABX9TyMaKfCdgHkmQ8TrGtDRLego",
      "gpuType": "V100",
      "include_colab_link": true,
      "machine_shape": "hm",
      "provenance": []
    },
    "kernelspec": {
      "display_name": "Python 3",
      "name": "python3"
    },
    "language_info": {
      "codemirror_mode": {
        "name": "ipython",
        "version": 3
      },
      "file_extension": ".py",
      "mimetype": "text/x-python",
      "name": "python",
      "nbconvert_exporter": "python",
      "pygments_lexer": "ipython3",
      "version": "3.10.13"
    },
    "widgets": {
      "application/vnd.jupyter.widget-state+json": {
        "00372a68d1844733927384a1a278e29a": {
          "model_module": "@jupyter-widgets/controls",
          "model_module_version": "1.5.0",
          "model_name": "HTMLModel",
          "state": {
            "_dom_classes": [],
            "_model_module": "@jupyter-widgets/controls",
            "_model_module_version": "1.5.0",
            "_model_name": "HTMLModel",
            "_view_count": null,
            "_view_module": "@jupyter-widgets/controls",
            "_view_module_version": "1.5.0",
            "_view_name": "HTMLView",
            "description": "",
            "description_tooltip": null,
            "layout": "IPY_MODEL_5a164cb3c8c64d5cbacd26b44a6cd528",
            "placeholder": "​",
            "style": "IPY_MODEL_a08fdf7223c34a02924fcdda3c0ef4b5",
            "value": "Loading checkpoint shards: 100%"
          }
        },
        "04d06ca709604f5b893807c12de47770": {
          "model_module": "@jupyter-widgets/base",
          "model_module_version": "1.2.0",
          "model_name": "LayoutModel",
          "state": {
            "_model_module": "@jupyter-widgets/base",
            "_model_module_version": "1.2.0",
            "_model_name": "LayoutModel",
            "_view_count": null,
            "_view_module": "@jupyter-widgets/base",
            "_view_module_version": "1.2.0",
            "_view_name": "LayoutView",
            "align_content": null,
            "align_items": null,
            "align_self": null,
            "border": null,
            "bottom": null,
            "display": null,
            "flex": null,
            "flex_flow": null,
            "grid_area": null,
            "grid_auto_columns": null,
            "grid_auto_flow": null,
            "grid_auto_rows": null,
            "grid_column": null,
            "grid_gap": null,
            "grid_row": null,
            "grid_template_areas": null,
            "grid_template_columns": null,
            "grid_template_rows": null,
            "height": null,
            "justify_content": null,
            "justify_items": null,
            "left": null,
            "margin": null,
            "max_height": null,
            "max_width": null,
            "min_height": null,
            "min_width": null,
            "object_fit": null,
            "object_position": null,
            "order": null,
            "overflow": null,
            "overflow_x": null,
            "overflow_y": null,
            "padding": null,
            "right": null,
            "top": null,
            "visibility": null,
            "width": null
          }
        },
        "3cbe343b7f5c4ba9bd8fcede242c0aaa": {
          "model_module": "@jupyter-widgets/base",
          "model_module_version": "1.2.0",
          "model_name": "LayoutModel",
          "state": {
            "_model_module": "@jupyter-widgets/base",
            "_model_module_version": "1.2.0",
            "_model_name": "LayoutModel",
            "_view_count": null,
            "_view_module": "@jupyter-widgets/base",
            "_view_module_version": "1.2.0",
            "_view_name": "LayoutView",
            "align_content": null,
            "align_items": null,
            "align_self": null,
            "border": null,
            "bottom": null,
            "display": null,
            "flex": null,
            "flex_flow": null,
            "grid_area": null,
            "grid_auto_columns": null,
            "grid_auto_flow": null,
            "grid_auto_rows": null,
            "grid_column": null,
            "grid_gap": null,
            "grid_row": null,
            "grid_template_areas": null,
            "grid_template_columns": null,
            "grid_template_rows": null,
            "height": null,
            "justify_content": null,
            "justify_items": null,
            "left": null,
            "margin": null,
            "max_height": null,
            "max_width": null,
            "min_height": null,
            "min_width": null,
            "object_fit": null,
            "object_position": null,
            "order": null,
            "overflow": null,
            "overflow_x": null,
            "overflow_y": null,
            "padding": null,
            "right": null,
            "top": null,
            "visibility": null,
            "width": null
          }
        },
        "5291dcf67b8c4b60bce58b085461a8bc": {
          "model_module": "@jupyter-widgets/controls",
          "model_module_version": "1.5.0",
          "model_name": "DescriptionStyleModel",
          "state": {
            "_model_module": "@jupyter-widgets/controls",
            "_model_module_version": "1.5.0",
            "_model_name": "DescriptionStyleModel",
            "_view_count": null,
            "_view_module": "@jupyter-widgets/base",
            "_view_module_version": "1.2.0",
            "_view_name": "StyleView",
            "description_width": ""
          }
        },
        "52a14f0ed5fa4648b9223f12b899f1fc": {
          "model_module": "@jupyter-widgets/controls",
          "model_module_version": "1.5.0",
          "model_name": "ProgressStyleModel",
          "state": {
            "_model_module": "@jupyter-widgets/controls",
            "_model_module_version": "1.5.0",
            "_model_name": "ProgressStyleModel",
            "_view_count": null,
            "_view_module": "@jupyter-widgets/base",
            "_view_module_version": "1.2.0",
            "_view_name": "StyleView",
            "bar_color": null,
            "description_width": ""
          }
        },
        "5a164cb3c8c64d5cbacd26b44a6cd528": {
          "model_module": "@jupyter-widgets/base",
          "model_module_version": "1.2.0",
          "model_name": "LayoutModel",
          "state": {
            "_model_module": "@jupyter-widgets/base",
            "_model_module_version": "1.2.0",
            "_model_name": "LayoutModel",
            "_view_count": null,
            "_view_module": "@jupyter-widgets/base",
            "_view_module_version": "1.2.0",
            "_view_name": "LayoutView",
            "align_content": null,
            "align_items": null,
            "align_self": null,
            "border": null,
            "bottom": null,
            "display": null,
            "flex": null,
            "flex_flow": null,
            "grid_area": null,
            "grid_auto_columns": null,
            "grid_auto_flow": null,
            "grid_auto_rows": null,
            "grid_column": null,
            "grid_gap": null,
            "grid_row": null,
            "grid_template_areas": null,
            "grid_template_columns": null,
            "grid_template_rows": null,
            "height": null,
            "justify_content": null,
            "justify_items": null,
            "left": null,
            "margin": null,
            "max_height": null,
            "max_width": null,
            "min_height": null,
            "min_width": null,
            "object_fit": null,
            "object_position": null,
            "order": null,
            "overflow": null,
            "overflow_x": null,
            "overflow_y": null,
            "padding": null,
            "right": null,
            "top": null,
            "visibility": null,
            "width": null
          }
        },
        "73841c98bcb5412ca985fe5b6350c00b": {
          "model_module": "@jupyter-widgets/controls",
          "model_module_version": "1.5.0",
          "model_name": "DescriptionStyleModel",
          "state": {
            "_model_module": "@jupyter-widgets/controls",
            "_model_module_version": "1.5.0",
            "_model_name": "DescriptionStyleModel",
            "_view_count": null,
            "_view_module": "@jupyter-widgets/base",
            "_view_module_version": "1.2.0",
            "_view_name": "StyleView",
            "description_width": ""
          }
        },
        "a08fdf7223c34a02924fcdda3c0ef4b5": {
          "model_module": "@jupyter-widgets/controls",
          "model_module_version": "1.5.0",
          "model_name": "DescriptionStyleModel",
          "state": {
            "_model_module": "@jupyter-widgets/controls",
            "_model_module_version": "1.5.0",
            "_model_name": "DescriptionStyleModel",
            "_view_count": null,
            "_view_module": "@jupyter-widgets/base",
            "_view_module_version": "1.2.0",
            "_view_name": "StyleView",
            "description_width": ""
          }
        },
        "a6fa2b0319334f939f79cf6b19d9ea9e": {
          "model_module": "@jupyter-widgets/controls",
          "model_module_version": "1.5.0",
          "model_name": "DescriptionStyleModel",
          "state": {
            "_model_module": "@jupyter-widgets/controls",
            "_model_module_version": "1.5.0",
            "_model_name": "DescriptionStyleModel",
            "_view_count": null,
            "_view_module": "@jupyter-widgets/base",
            "_view_module_version": "1.2.0",
            "_view_name": "StyleView",
            "description_width": ""
          }
        },
        "b897d932a7a94cbb858f80871bdf75cc": {
          "model_module": "@jupyter-widgets/controls",
          "model_module_version": "1.5.0",
          "model_name": "HBoxModel",
          "state": {
            "_dom_classes": [],
            "_model_module": "@jupyter-widgets/controls",
            "_model_module_version": "1.5.0",
            "_model_name": "HBoxModel",
            "_view_count": null,
            "_view_module": "@jupyter-widgets/controls",
            "_view_module_version": "1.5.0",
            "_view_name": "HBoxView",
            "box_style": "",
            "children": [
              "IPY_MODEL_c5d5a8c07d7043e491bfdd69a024c79a",
              "IPY_MODEL_c763d3456ae94c9a848af75aa1d20b53",
              "IPY_MODEL_bf78a83ab76a430795214bdd67499fe0"
            ],
            "layout": "IPY_MODEL_ca6c7557ab81487a8a291bbc85ac511b"
          }
        },
        "bf78a83ab76a430795214bdd67499fe0": {
          "model_module": "@jupyter-widgets/controls",
          "model_module_version": "1.5.0",
          "model_name": "HTMLModel",
          "state": {
            "_dom_classes": [],
            "_model_module": "@jupyter-widgets/controls",
            "_model_module_version": "1.5.0",
            "_model_name": "HTMLModel",
            "_view_count": null,
            "_view_module": "@jupyter-widgets/controls",
            "_view_module_version": "1.5.0",
            "_view_name": "HTMLView",
            "description": "",
            "description_tooltip": null,
            "layout": "IPY_MODEL_ec589bfc457e486a9f05e91994e87480",
            "placeholder": "​",
            "style": "IPY_MODEL_5291dcf67b8c4b60bce58b085461a8bc",
            "value": " 76/1418 [59:59&lt;18:19:43, 49.17s/it]"
          }
        },
        "c5d5a8c07d7043e491bfdd69a024c79a": {
          "model_module": "@jupyter-widgets/controls",
          "model_module_version": "1.5.0",
          "model_name": "HTMLModel",
          "state": {
            "_dom_classes": [],
            "_model_module": "@jupyter-widgets/controls",
            "_model_module_version": "1.5.0",
            "_model_name": "HTMLModel",
            "_view_count": null,
            "_view_module": "@jupyter-widgets/controls",
            "_view_module_version": "1.5.0",
            "_view_name": "HTMLView",
            "description": "",
            "description_tooltip": null,
            "layout": "IPY_MODEL_3cbe343b7f5c4ba9bd8fcede242c0aaa",
            "placeholder": "​",
            "style": "IPY_MODEL_73841c98bcb5412ca985fe5b6350c00b",
            "value": "  5%"
          }
        },
        "c763d3456ae94c9a848af75aa1d20b53": {
          "model_module": "@jupyter-widgets/controls",
          "model_module_version": "1.5.0",
          "model_name": "FloatProgressModel",
          "state": {
            "_dom_classes": [],
            "_model_module": "@jupyter-widgets/controls",
            "_model_module_version": "1.5.0",
            "_model_name": "FloatProgressModel",
            "_view_count": null,
            "_view_module": "@jupyter-widgets/controls",
            "_view_module_version": "1.5.0",
            "_view_name": "ProgressView",
            "bar_style": "danger",
            "description": "",
            "description_tooltip": null,
            "layout": "IPY_MODEL_d7340542531a4511939652ed44cfc9db",
            "max": 1418,
            "min": 0,
            "orientation": "horizontal",
            "style": "IPY_MODEL_52a14f0ed5fa4648b9223f12b899f1fc",
            "value": 76
          }
        },
        "ca6c7557ab81487a8a291bbc85ac511b": {
          "model_module": "@jupyter-widgets/base",
          "model_module_version": "1.2.0",
          "model_name": "LayoutModel",
          "state": {
            "_model_module": "@jupyter-widgets/base",
            "_model_module_version": "1.2.0",
            "_model_name": "LayoutModel",
            "_view_count": null,
            "_view_module": "@jupyter-widgets/base",
            "_view_module_version": "1.2.0",
            "_view_name": "LayoutView",
            "align_content": null,
            "align_items": null,
            "align_self": null,
            "border": null,
            "bottom": null,
            "display": null,
            "flex": null,
            "flex_flow": null,
            "grid_area": null,
            "grid_auto_columns": null,
            "grid_auto_flow": null,
            "grid_auto_rows": null,
            "grid_column": null,
            "grid_gap": null,
            "grid_row": null,
            "grid_template_areas": null,
            "grid_template_columns": null,
            "grid_template_rows": null,
            "height": null,
            "justify_content": null,
            "justify_items": null,
            "left": null,
            "margin": null,
            "max_height": null,
            "max_width": null,
            "min_height": null,
            "min_width": null,
            "object_fit": null,
            "object_position": null,
            "order": null,
            "overflow": null,
            "overflow_x": null,
            "overflow_y": null,
            "padding": null,
            "right": null,
            "top": null,
            "visibility": null,
            "width": null
          }
        },
        "cbcf77dcbba64f4d8daf6416ed6a6336": {
          "model_module": "@jupyter-widgets/base",
          "model_module_version": "1.2.0",
          "model_name": "LayoutModel",
          "state": {
            "_model_module": "@jupyter-widgets/base",
            "_model_module_version": "1.2.0",
            "_model_name": "LayoutModel",
            "_view_count": null,
            "_view_module": "@jupyter-widgets/base",
            "_view_module_version": "1.2.0",
            "_view_name": "LayoutView",
            "align_content": null,
            "align_items": null,
            "align_self": null,
            "border": null,
            "bottom": null,
            "display": null,
            "flex": null,
            "flex_flow": null,
            "grid_area": null,
            "grid_auto_columns": null,
            "grid_auto_flow": null,
            "grid_auto_rows": null,
            "grid_column": null,
            "grid_gap": null,
            "grid_row": null,
            "grid_template_areas": null,
            "grid_template_columns": null,
            "grid_template_rows": null,
            "height": null,
            "justify_content": null,
            "justify_items": null,
            "left": null,
            "margin": null,
            "max_height": null,
            "max_width": null,
            "min_height": null,
            "min_width": null,
            "object_fit": null,
            "object_position": null,
            "order": null,
            "overflow": null,
            "overflow_x": null,
            "overflow_y": null,
            "padding": null,
            "right": null,
            "top": null,
            "visibility": null,
            "width": null
          }
        },
        "d7340542531a4511939652ed44cfc9db": {
          "model_module": "@jupyter-widgets/base",
          "model_module_version": "1.2.0",
          "model_name": "LayoutModel",
          "state": {
            "_model_module": "@jupyter-widgets/base",
            "_model_module_version": "1.2.0",
            "_model_name": "LayoutModel",
            "_view_count": null,
            "_view_module": "@jupyter-widgets/base",
            "_view_module_version": "1.2.0",
            "_view_name": "LayoutView",
            "align_content": null,
            "align_items": null,
            "align_self": null,
            "border": null,
            "bottom": null,
            "display": null,
            "flex": null,
            "flex_flow": null,
            "grid_area": null,
            "grid_auto_columns": null,
            "grid_auto_flow": null,
            "grid_auto_rows": null,
            "grid_column": null,
            "grid_gap": null,
            "grid_row": null,
            "grid_template_areas": null,
            "grid_template_columns": null,
            "grid_template_rows": null,
            "height": null,
            "justify_content": null,
            "justify_items": null,
            "left": null,
            "margin": null,
            "max_height": null,
            "max_width": null,
            "min_height": null,
            "min_width": null,
            "object_fit": null,
            "object_position": null,
            "order": null,
            "overflow": null,
            "overflow_x": null,
            "overflow_y": null,
            "padding": null,
            "right": null,
            "top": null,
            "visibility": null,
            "width": null
          }
        },
        "ddd73707fecb45abb0d13b4e6a9ec7fb": {
          "model_module": "@jupyter-widgets/base",
          "model_module_version": "1.2.0",
          "model_name": "LayoutModel",
          "state": {
            "_model_module": "@jupyter-widgets/base",
            "_model_module_version": "1.2.0",
            "_model_name": "LayoutModel",
            "_view_count": null,
            "_view_module": "@jupyter-widgets/base",
            "_view_module_version": "1.2.0",
            "_view_name": "LayoutView",
            "align_content": null,
            "align_items": null,
            "align_self": null,
            "border": null,
            "bottom": null,
            "display": null,
            "flex": null,
            "flex_flow": null,
            "grid_area": null,
            "grid_auto_columns": null,
            "grid_auto_flow": null,
            "grid_auto_rows": null,
            "grid_column": null,
            "grid_gap": null,
            "grid_row": null,
            "grid_template_areas": null,
            "grid_template_columns": null,
            "grid_template_rows": null,
            "height": null,
            "justify_content": null,
            "justify_items": null,
            "left": null,
            "margin": null,
            "max_height": null,
            "max_width": null,
            "min_height": null,
            "min_width": null,
            "object_fit": null,
            "object_position": null,
            "order": null,
            "overflow": null,
            "overflow_x": null,
            "overflow_y": null,
            "padding": null,
            "right": null,
            "top": null,
            "visibility": null,
            "width": null
          }
        },
        "ec589bfc457e486a9f05e91994e87480": {
          "model_module": "@jupyter-widgets/base",
          "model_module_version": "1.2.0",
          "model_name": "LayoutModel",
          "state": {
            "_model_module": "@jupyter-widgets/base",
            "_model_module_version": "1.2.0",
            "_model_name": "LayoutModel",
            "_view_count": null,
            "_view_module": "@jupyter-widgets/base",
            "_view_module_version": "1.2.0",
            "_view_name": "LayoutView",
            "align_content": null,
            "align_items": null,
            "align_self": null,
            "border": null,
            "bottom": null,
            "display": null,
            "flex": null,
            "flex_flow": null,
            "grid_area": null,
            "grid_auto_columns": null,
            "grid_auto_flow": null,
            "grid_auto_rows": null,
            "grid_column": null,
            "grid_gap": null,
            "grid_row": null,
            "grid_template_areas": null,
            "grid_template_columns": null,
            "grid_template_rows": null,
            "height": null,
            "justify_content": null,
            "justify_items": null,
            "left": null,
            "margin": null,
            "max_height": null,
            "max_width": null,
            "min_height": null,
            "min_width": null,
            "object_fit": null,
            "object_position": null,
            "order": null,
            "overflow": null,
            "overflow_x": null,
            "overflow_y": null,
            "padding": null,
            "right": null,
            "top": null,
            "visibility": null,
            "width": null
          }
        },
        "f23addb7ed2c43a0a76763bf5fd17386": {
          "model_module": "@jupyter-widgets/controls",
          "model_module_version": "1.5.0",
          "model_name": "FloatProgressModel",
          "state": {
            "_dom_classes": [],
            "_model_module": "@jupyter-widgets/controls",
            "_model_module_version": "1.5.0",
            "_model_name": "FloatProgressModel",
            "_view_count": null,
            "_view_module": "@jupyter-widgets/controls",
            "_view_module_version": "1.5.0",
            "_view_name": "ProgressView",
            "bar_style": "success",
            "description": "",
            "description_tooltip": null,
            "layout": "IPY_MODEL_cbcf77dcbba64f4d8daf6416ed6a6336",
            "max": 19,
            "min": 0,
            "orientation": "horizontal",
            "style": "IPY_MODEL_fb363bd9978549618e8936fdcaac1eaf",
            "value": 19
          }
        },
        "f94daf71a1164b1e8eacada0b459f259": {
          "model_module": "@jupyter-widgets/controls",
          "model_module_version": "1.5.0",
          "model_name": "HTMLModel",
          "state": {
            "_dom_classes": [],
            "_model_module": "@jupyter-widgets/controls",
            "_model_module_version": "1.5.0",
            "_model_name": "HTMLModel",
            "_view_count": null,
            "_view_module": "@jupyter-widgets/controls",
            "_view_module_version": "1.5.0",
            "_view_name": "HTMLView",
            "description": "",
            "description_tooltip": null,
            "layout": "IPY_MODEL_ddd73707fecb45abb0d13b4e6a9ec7fb",
            "placeholder": "​",
            "style": "IPY_MODEL_a6fa2b0319334f939f79cf6b19d9ea9e",
            "value": " 19/19 [06:44&lt;00:00, 19.69s/it]"
          }
        },
        "fb363bd9978549618e8936fdcaac1eaf": {
          "model_module": "@jupyter-widgets/controls",
          "model_module_version": "1.5.0",
          "model_name": "ProgressStyleModel",
          "state": {
            "_model_module": "@jupyter-widgets/controls",
            "_model_module_version": "1.5.0",
            "_model_name": "ProgressStyleModel",
            "_view_count": null,
            "_view_module": "@jupyter-widgets/base",
            "_view_module_version": "1.2.0",
            "_view_name": "StyleView",
            "bar_color": null,
            "description_width": ""
          }
        },
        "fe90396704a94c6ba9d1dab55cdc34fe": {
          "model_module": "@jupyter-widgets/controls",
          "model_module_version": "1.5.0",
          "model_name": "HBoxModel",
          "state": {
            "_dom_classes": [],
            "_model_module": "@jupyter-widgets/controls",
            "_model_module_version": "1.5.0",
            "_model_name": "HBoxModel",
            "_view_count": null,
            "_view_module": "@jupyter-widgets/controls",
            "_view_module_version": "1.5.0",
            "_view_name": "HBoxView",
            "box_style": "",
            "children": [
              "IPY_MODEL_00372a68d1844733927384a1a278e29a",
              "IPY_MODEL_f23addb7ed2c43a0a76763bf5fd17386",
              "IPY_MODEL_f94daf71a1164b1e8eacada0b459f259"
            ],
            "layout": "IPY_MODEL_04d06ca709604f5b893807c12de47770"
          }
        }
      }
    }
  },
  "nbformat": 4,
  "nbformat_minor": 0
}
