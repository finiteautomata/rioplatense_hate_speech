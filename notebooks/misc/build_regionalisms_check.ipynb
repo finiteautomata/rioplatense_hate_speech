{
 "cells": [
  {
   "cell_type": "markdown",
   "metadata": {},
   "source": [
    "## Análisis de regionalismos\n",
    "\n",
    "Acá vamos a crear un .csv para chequear regionalismos que detectamos previamente con un diccionario\n"
   ]
  },
  {
   "cell_type": "code",
   "execution_count": 10,
   "metadata": {},
   "outputs": [
    {
     "data": {
      "text/html": [
       "<div>\n",
       "<style scoped>\n",
       "    .dataframe tbody tr th:only-of-type {\n",
       "        vertical-align: middle;\n",
       "    }\n",
       "\n",
       "    .dataframe tbody tr th {\n",
       "        vertical-align: top;\n",
       "    }\n",
       "\n",
       "    .dataframe thead th {\n",
       "        text-align: right;\n",
       "    }\n",
       "</style>\n",
       "<table border=\"1\" class=\"dataframe\">\n",
       "  <thead>\n",
       "    <tr style=\"text-align: right;\">\n",
       "      <th></th>\n",
       "      <th>title</th>\n",
       "      <th>text</th>\n",
       "      <th>context_tweet</th>\n",
       "      <th>prompt</th>\n",
       "      <th>pred_cot</th>\n",
       "    </tr>\n",
       "    <tr>\n",
       "      <th>id</th>\n",
       "      <th></th>\n",
       "      <th></th>\n",
       "      <th></th>\n",
       "      <th></th>\n",
       "      <th></th>\n",
       "    </tr>\n",
       "  </thead>\n",
       "  <tbody>\n",
       "    <tr>\n",
       "      <th>349719</th>\n",
       "      <td>Graciana Peñafort: \"La marcha me dio mucha pena y tuvo un nivel de convocatoria menor al esperado\"</td>\n",
       "      <td>@usuario 🤣🤣🤣</td>\n",
       "      <td>Graciana Peñafort: “La marcha me dio mucha pena y tuvo un nivel de convocatoria menor al esperado” https://t.co/sPiBqGmFIg</td>\n",
       "      <td>Explicar si existe un término o expresión regional del español de Argentina en el texto a continuación. Un regionalismo es una expresión de carácter usualmente coloquial usada en alguna variedad dialectal del español. No consideramos nombres propios (personas, lugares, etc) como tales. La expresión regional puede estar en el contexto (titular de noticia) o en el comentario. Razonar paso a paso antes de dar la respuesta.\\n###\\ncontexto: ¿More Rial cuestionó las habilidades de su ex en la cama?Luego de su separación con Facundo Ambrosioni, la mediática hizo una fuerte referencia a su vida sexual\\nrespuesta: La expresión \"acumulando mas leche\" es de carácter regional, y se refiere a la acumulación de deseos sexuales. La respuesta final es sí.\\n###\\ncontexto: Enrique Pinti no descarta una nueva postulación de Macri: “En este país siempre hay una chance para cualquiera que nos vuelva a cagar”\\nrespuesta: La expresión \"trolo\" es un término regional en Argentina usado para referirse a una...</td>\n",
       "      <td>La expresión \"🤣🤣🤣\" es un emoji que no constituye un término regional del español de Argentina. La respuesta final es no.</td>\n",
       "    </tr>\n",
       "    <tr>\n",
       "      <th>336555</th>\n",
       "      <td>Detuvieron a otro delincuente recientemente liberado por la excusa del coronavirus: volvió a golpear a su familia</td>\n",
       "      <td>@usuario ¿Ya echaron al juez con juicio político?</td>\n",
       "      <td>Detuvieron a un delincuente recientemente liberado por la excusa del coronavirus: volvió a golpear a su familia https://t.co/kRHjqDIljH</td>\n",
       "      <td>Explicar si existe un término o expresión regional del español de Argentina en el texto a continuación. Un regionalismo es una expresión de carácter usualmente coloquial usada en alguna variedad dialectal del español. No consideramos nombres propios (personas, lugares, etc) como tales. La expresión regional puede estar en el contexto (titular de noticia) o en el comentario. Razonar paso a paso antes de dar la respuesta.\\n###\\ncontexto: ¿More Rial cuestionó las habilidades de su ex en la cama?Luego de su separación con Facundo Ambrosioni, la mediática hizo una fuerte referencia a su vida sexual\\nrespuesta: La expresión \"acumulando mas leche\" es de carácter regional, y se refiere a la acumulación de deseos sexuales. La respuesta final es sí.\\n###\\ncontexto: Enrique Pinti no descarta una nueva postulación de Macri: “En este país siempre hay una chance para cualquiera que nos vuelva a cagar”\\nrespuesta: La expresión \"trolo\" es un término regional en Argentina usado para referirse a una...</td>\n",
       "      <td>La expresión \"Ya echaron al juez con juicio político\" no contiene expresiones regionales. La respuesta final es no.</td>\n",
       "    </tr>\n",
       "    <tr>\n",
       "      <th>342464</th>\n",
       "      <td>Coronavirus: Ginés Gonzalez García se comparó con China y Europa y aseguró que \"hoy se habla del modelo argentino\"</td>\n",
       "      <td>@usuario @usuario por favor los compañeros taxistas se están muriendo de hambre.Te ruego AYUDA.Están la gran mayoría en categoría C, D y E. No trabajan no entra plata no hay para comprar comida ni para darle de comer a los hijos.Estamos todos desesperados. Y son los q mas aportan al País</td>\n",
       "      <td>Coronavirus: Ginés Gonzalez García se comparó con China y Europa y aseguró que \"hoy se habla del modelo argentino\" https://t.co/jQUyxLSN5X</td>\n",
       "      <td>Explicar si existe un término o expresión regional del español de Argentina en el texto a continuación. Un regionalismo es una expresión de carácter usualmente coloquial usada en alguna variedad dialectal del español. No consideramos nombres propios (personas, lugares, etc) como tales. La expresión regional puede estar en el contexto (titular de noticia) o en el comentario. Razonar paso a paso antes de dar la respuesta.\\n###\\ncontexto: ¿More Rial cuestionó las habilidades de su ex en la cama?Luego de su separación con Facundo Ambrosioni, la mediática hizo una fuerte referencia a su vida sexual\\nrespuesta: La expresión \"acumulando mas leche\" es de carácter regional, y se refiere a la acumulación de deseos sexuales. La respuesta final es sí.\\n###\\ncontexto: Enrique Pinti no descarta una nueva postulación de Macri: “En este país siempre hay una chance para cualquiera que nos vuelva a cagar”\\nrespuesta: La expresión \"trolo\" es un término regional en Argentina usado para referirse a una...</td>\n",
       "      <td>respuesta: La expresión \"los compañeros taxistas\" no es un regionalismo, ya que se refiere simplemente a los trabajadores del sector de taxis. La respuesta final es no.</td>\n",
       "    </tr>\n",
       "    <tr>\n",
       "      <th>399807</th>\n",
       "      <td>El sorprendente juramento de una egresada universitaria: tachó \"Patria\" y puso \"Matria\"</td>\n",
       "      <td>@usuario No es válido su juramento ! Vuelva el año que viene ! Así le contesto yo</td>\n",
       "      <td>La sorprendente jura de una egresada universitaria: tachó Patria y puso Matria https://t.co/NjgZVVQJ2y https://t.co/txZNslH8N1</td>\n",
       "      <td>Explicar si existe un término o expresión regional del español de Argentina en el texto a continuación. Un regionalismo es una expresión de carácter usualmente coloquial usada en alguna variedad dialectal del español. No consideramos nombres propios (personas, lugares, etc) como tales. La expresión regional puede estar en el contexto (titular de noticia) o en el comentario. Razonar paso a paso antes de dar la respuesta.\\n###\\ncontexto: ¿More Rial cuestionó las habilidades de su ex en la cama?Luego de su separación con Facundo Ambrosioni, la mediática hizo una fuerte referencia a su vida sexual\\nrespuesta: La expresión \"acumulando mas leche\" es de carácter regional, y se refiere a la acumulación de deseos sexuales. La respuesta final es sí.\\n###\\ncontexto: Enrique Pinti no descarta una nueva postulación de Macri: “En este país siempre hay una chance para cualquiera que nos vuelva a cagar”\\nrespuesta: La expresión \"trolo\" es un término regional en Argentina usado para referirse a una...</td>\n",
       "      <td>La expresión \"vuelva el año que viene\" no es un término regional del español de Argentina. La respuesta final es no.</td>\n",
       "    </tr>\n",
       "    <tr>\n",
       "      <th>343670</th>\n",
       "      <td>Coronavirus en la Argentina. Andrés Larroque criticó el banderazo por Vicentin: \"Se generó una bomba sanitaria\"</td>\n",
       "      <td>@usuario Esto es solo el comienzo👁</td>\n",
       "      <td>Coronavirus en la Argentina. Andrés Larroque criticó el banderazo por Vicentin: \"Se generó una bomba sanitaria\" https://t.co/msvsjyiM5j https://t.co/67gONlqvbY</td>\n",
       "      <td>Explicar si existe un término o expresión regional del español de Argentina en el texto a continuación. Un regionalismo es una expresión de carácter usualmente coloquial usada en alguna variedad dialectal del español. No consideramos nombres propios (personas, lugares, etc) como tales. La expresión regional puede estar en el contexto (titular de noticia) o en el comentario. Razonar paso a paso antes de dar la respuesta.\\n###\\ncontexto: ¿More Rial cuestionó las habilidades de su ex en la cama?Luego de su separación con Facundo Ambrosioni, la mediática hizo una fuerte referencia a su vida sexual\\nrespuesta: La expresión \"acumulando mas leche\" es de carácter regional, y se refiere a la acumulación de deseos sexuales. La respuesta final es sí.\\n###\\ncontexto: Enrique Pinti no descarta una nueva postulación de Macri: “En este país siempre hay una chance para cualquiera que nos vuelva a cagar”\\nrespuesta: La expresión \"trolo\" es un término regional en Argentina usado para referirse a una...</td>\n",
       "      <td>respuesta: El emoji 👁 no es una expresión regional del español de Argentina, sino un símbolo visual. La respuesta final es no.</td>\n",
       "    </tr>\n",
       "    <tr>\n",
       "      <th>389700</th>\n",
       "      <td>Pablo Moyano amenazó con un paro en la Ciudad de Buenos Aires si hay recortes en la recolección de basura</td>\n",
       "      <td>@usuario Grone de mi</td>\n",
       "      <td>Pablo Moyano amenazó con un paro en la Ciudad de Buenos Aires si hay recortes en la recolección de basura https://t.co/GnCtWaTCVn</td>\n",
       "      <td>Explicar si existe un término o expresión regional del español de Argentina en el texto a continuación. Un regionalismo es una expresión de carácter usualmente coloquial usada en alguna variedad dialectal del español. No consideramos nombres propios (personas, lugares, etc) como tales. La expresión regional puede estar en el contexto (titular de noticia) o en el comentario. Razonar paso a paso antes de dar la respuesta.\\n###\\ncontexto: ¿More Rial cuestionó las habilidades de su ex en la cama?Luego de su separación con Facundo Ambrosioni, la mediática hizo una fuerte referencia a su vida sexual\\nrespuesta: La expresión \"acumulando mas leche\" es de carácter regional, y se refiere a la acumulación de deseos sexuales. La respuesta final es sí.\\n###\\ncontexto: Enrique Pinti no descarta una nueva postulación de Macri: “En este país siempre hay una chance para cualquiera que nos vuelva a cagar”\\nrespuesta: La expresión \"trolo\" es un término regional en Argentina usado para referirse a una...</td>\n",
       "      <td>respuesta: No se identifica ninguna expresión regional en el comentario. La respuesta final es no.</td>\n",
       "    </tr>\n",
       "    <tr>\n",
       "      <th>354758</th>\n",
       "      <td>China alertó sobre brote de peste bubónica pero la OMS no lo considera de \"alto riesgo\"</td>\n",
       "      <td>@usuario Basuras del mundo</td>\n",
       "      <td>China alertó sobre brote de peste bubónica pero la OMS no lo considera de \"alto riesgo\"\\nhttps://t.co/T2bps0Cm1l</td>\n",
       "      <td>Explicar si existe un término o expresión regional del español de Argentina en el texto a continuación. Un regionalismo es una expresión de carácter usualmente coloquial usada en alguna variedad dialectal del español. No consideramos nombres propios (personas, lugares, etc) como tales. La expresión regional puede estar en el contexto (titular de noticia) o en el comentario. Razonar paso a paso antes de dar la respuesta.\\n###\\ncontexto: ¿More Rial cuestionó las habilidades de su ex en la cama?Luego de su separación con Facundo Ambrosioni, la mediática hizo una fuerte referencia a su vida sexual\\nrespuesta: La expresión \"acumulando mas leche\" es de carácter regional, y se refiere a la acumulación de deseos sexuales. La respuesta final es sí.\\n###\\ncontexto: Enrique Pinti no descarta una nueva postulación de Macri: “En este país siempre hay una chance para cualquiera que nos vuelva a cagar”\\nrespuesta: La expresión \"trolo\" es un término regional en Argentina usado para referirse a una...</td>\n",
       "      <td>La expresión \"Basuras del mundo\" no es un regionalismo del español de Argentina. La respuesta final es no.</td>\n",
       "    </tr>\n",
       "    <tr>\n",
       "      <th>347461</th>\n",
       "      <td>Macabro hallazgo en China: 4.000 perros, gatos y otros animales muertos dentro de cajas en un depósito</td>\n",
       "      <td>@usuario Y nosotros vamos a traer su criadero de cerdos!🤬</td>\n",
       "      <td>Macabro hallazgo en China: 4.000 perros, gatos y otros animales muertos dentro de cajas en un depósito https://t.co/rUeDlGGdhj</td>\n",
       "      <td>Explicar si existe un término o expresión regional del español de Argentina en el texto a continuación. Un regionalismo es una expresión de carácter usualmente coloquial usada en alguna variedad dialectal del español. No consideramos nombres propios (personas, lugares, etc) como tales. La expresión regional puede estar en el contexto (titular de noticia) o en el comentario. Razonar paso a paso antes de dar la respuesta.\\n###\\ncontexto: ¿More Rial cuestionó las habilidades de su ex en la cama?Luego de su separación con Facundo Ambrosioni, la mediática hizo una fuerte referencia a su vida sexual\\nrespuesta: La expresión \"acumulando mas leche\" es de carácter regional, y se refiere a la acumulación de deseos sexuales. La respuesta final es sí.\\n###\\ncontexto: Enrique Pinti no descarta una nueva postulación de Macri: “En este país siempre hay una chance para cualquiera que nos vuelva a cagar”\\nrespuesta: La expresión \"trolo\" es un término regional en Argentina usado para referirse a una...</td>\n",
       "      <td>La expresión \"criadero de cerdos\" no es un término regional del español de Argentina, sino más bien una expresión común en el lenguaje general. Por lo tanto, la respuesta final es no.</td>\n",
       "    </tr>\n",
       "    <tr>\n",
       "      <th>392004</th>\n",
       "      <td>Coronavirus: Ginés González García reveló cuál fue la palabra que detonó el acuerdo con Pfizer</td>\n",
       "      <td>@usuario \"tarasca\"?</td>\n",
       "      <td>Coronavirus: Ginés reveló cuál fue la palabra que detonó el acuerdo con Pfizer https://t.co/lIi4Z3eWlE https://t.co/zgd8MCCrui</td>\n",
       "      <td>Explicar si existe un término o expresión regional del español de Argentina en el texto a continuación. Un regionalismo es una expresión de carácter usualmente coloquial usada en alguna variedad dialectal del español. No consideramos nombres propios (personas, lugares, etc) como tales. La expresión regional puede estar en el contexto (titular de noticia) o en el comentario. Razonar paso a paso antes de dar la respuesta.\\n###\\ncontexto: ¿More Rial cuestionó las habilidades de su ex en la cama?Luego de su separación con Facundo Ambrosioni, la mediática hizo una fuerte referencia a su vida sexual\\nrespuesta: La expresión \"acumulando mas leche\" es de carácter regional, y se refiere a la acumulación de deseos sexuales. La respuesta final es sí.\\n###\\ncontexto: Enrique Pinti no descarta una nueva postulación de Macri: “En este país siempre hay una chance para cualquiera que nos vuelva a cagar”\\nrespuesta: La expresión \"trolo\" es un término regional en Argentina usado para referirse a una...</td>\n",
       "      <td>La expresión \"tarasca\" no es un término regional del español de Argentina. La respuesta final es no.</td>\n",
       "    </tr>\n",
       "    <tr>\n",
       "      <th>353781</th>\n",
       "      <td>Un hombre se incrustó con su auto en la puerta de la Embajada de China y aseguró que tenía explosivos</td>\n",
       "      <td>@usuario Están sacados los macristas</td>\n",
       "      <td>URGENTE: Un hombre se incrustó con su auto en la puerta de la Embajada de China y aseguró que tenía explosivos https://t.co/fJ0f30qwAq</td>\n",
       "      <td>Explicar si existe un término o expresión regional del español de Argentina en el texto a continuación. Un regionalismo es una expresión de carácter usualmente coloquial usada en alguna variedad dialectal del español. No consideramos nombres propios (personas, lugares, etc) como tales. La expresión regional puede estar en el contexto (titular de noticia) o en el comentario. Razonar paso a paso antes de dar la respuesta.\\n###\\ncontexto: ¿More Rial cuestionó las habilidades de su ex en la cama?Luego de su separación con Facundo Ambrosioni, la mediática hizo una fuerte referencia a su vida sexual\\nrespuesta: La expresión \"acumulando mas leche\" es de carácter regional, y se refiere a la acumulación de deseos sexuales. La respuesta final es sí.\\n###\\ncontexto: Enrique Pinti no descarta una nueva postulación de Macri: “En este país siempre hay una chance para cualquiera que nos vuelva a cagar”\\nrespuesta: La expresión \"trolo\" es un término regional en Argentina usado para referirse a una...</td>\n",
       "      <td>La expresión \"están sacados\" es un término regional en Argentina que se refiere a que los seguidores del expresidente Macri están enojados o alterados. La respuesta final es sí.</td>\n",
       "    </tr>\n",
       "  </tbody>\n",
       "</table>\n",
       "</div>"
      ],
      "text/plain": [
       "                                                                                                                     title  \\\n",
       "id                                                                                                                           \n",
       "349719                  Graciana Peñafort: \"La marcha me dio mucha pena y tuvo un nivel de convocatoria menor al esperado\"   \n",
       "336555   Detuvieron a otro delincuente recientemente liberado por la excusa del coronavirus: volvió a golpear a su familia   \n",
       "342464  Coronavirus: Ginés Gonzalez García se comparó con China y Europa y aseguró que \"hoy se habla del modelo argentino\"   \n",
       "399807                             El sorprendente juramento de una egresada universitaria: tachó \"Patria\" y puso \"Matria\"   \n",
       "343670     Coronavirus en la Argentina. Andrés Larroque criticó el banderazo por Vicentin: \"Se generó una bomba sanitaria\"   \n",
       "389700           Pablo Moyano amenazó con un paro en la Ciudad de Buenos Aires si hay recortes en la recolección de basura   \n",
       "354758                             China alertó sobre brote de peste bubónica pero la OMS no lo considera de \"alto riesgo\"   \n",
       "347461              Macabro hallazgo en China: 4.000 perros, gatos y otros animales muertos dentro de cajas en un depósito   \n",
       "392004                      Coronavirus: Ginés González García reveló cuál fue la palabra que detonó el acuerdo con Pfizer   \n",
       "353781               Un hombre se incrustó con su auto en la puerta de la Embajada de China y aseguró que tenía explosivos   \n",
       "\n",
       "                                                                                                                                                                                                                                                                                                    text  \\\n",
       "id                                                                                                                                                                                                                                                                                                         \n",
       "349719                                                                                                                                                                                                                                                                                      @usuario 🤣🤣🤣   \n",
       "336555                                                                                                                                                                                                                                                 @usuario ¿Ya echaron al juez con juicio político?   \n",
       "342464  @usuario @usuario por favor los compañeros taxistas se están muriendo de hambre.Te ruego AYUDA.Están la gran mayoría en categoría C, D y E. No trabajan no entra plata no hay para comprar comida ni para darle de comer a los hijos.Estamos todos desesperados. Y son los q mas aportan al País   \n",
       "399807                                                                                                                                                                                                                 @usuario No es válido su juramento ! Vuelva el año que viene ! Así le contesto yo   \n",
       "343670                                                                                                                                                                                                                                                                @usuario Esto es solo el comienzo👁   \n",
       "389700                                                                                                                                                                                                                                                                              @usuario Grone de mi   \n",
       "354758                                                                                                                                                                                                                                                                        @usuario Basuras del mundo   \n",
       "347461                                                                                                                                                                                                                                         @usuario Y nosotros vamos a traer su criadero de cerdos!🤬   \n",
       "392004                                                                                                                                                                                                                                                                               @usuario \"tarasca\"?   \n",
       "353781                                                                                                                                                                                                                                                              @usuario Están sacados los macristas   \n",
       "\n",
       "                                                                                                                                                          context_tweet  \\\n",
       "id                                                                                                                                                                        \n",
       "349719                                       Graciana Peñafort: “La marcha me dio mucha pena y tuvo un nivel de convocatoria menor al esperado” https://t.co/sPiBqGmFIg   \n",
       "336555                          Detuvieron a un delincuente recientemente liberado por la excusa del coronavirus: volvió a golpear a su familia https://t.co/kRHjqDIljH   \n",
       "342464                       Coronavirus: Ginés Gonzalez García se comparó con China y Europa y aseguró que \"hoy se habla del modelo argentino\" https://t.co/jQUyxLSN5X   \n",
       "399807                                   La sorprendente jura de una egresada universitaria: tachó Patria y puso Matria https://t.co/NjgZVVQJ2y https://t.co/txZNslH8N1   \n",
       "343670  Coronavirus en la Argentina. Andrés Larroque criticó el banderazo por Vicentin: \"Se generó una bomba sanitaria\" https://t.co/msvsjyiM5j https://t.co/67gONlqvbY   \n",
       "389700                                Pablo Moyano amenazó con un paro en la Ciudad de Buenos Aires si hay recortes en la recolección de basura https://t.co/GnCtWaTCVn   \n",
       "354758                                                 China alertó sobre brote de peste bubónica pero la OMS no lo considera de \"alto riesgo\"\\nhttps://t.co/T2bps0Cm1l   \n",
       "347461                                   Macabro hallazgo en China: 4.000 perros, gatos y otros animales muertos dentro de cajas en un depósito https://t.co/rUeDlGGdhj   \n",
       "392004                                   Coronavirus: Ginés reveló cuál fue la palabra que detonó el acuerdo con Pfizer https://t.co/lIi4Z3eWlE https://t.co/zgd8MCCrui   \n",
       "353781                           URGENTE: Un hombre se incrustó con su auto en la puerta de la Embajada de China y aseguró que tenía explosivos https://t.co/fJ0f30qwAq   \n",
       "\n",
       "                                                                                                                                                                                                                                                                                                                                                                                                                                                                                                                                                                                                                                                                                                                                                                                                                                                                                                                                                                                                                                         prompt  \\\n",
       "id                                                                                                                                                                                                                                                                                                                                                                                                                                                                                                                                                                                                                                                                                                                                                                                                                                                                                                                                                                                                                                                \n",
       "349719  Explicar si existe un término o expresión regional del español de Argentina en el texto a continuación. Un regionalismo es una expresión de carácter usualmente coloquial usada en alguna variedad dialectal del español. No consideramos nombres propios (personas, lugares, etc) como tales. La expresión regional puede estar en el contexto (titular de noticia) o en el comentario. Razonar paso a paso antes de dar la respuesta.\\n###\\ncontexto: ¿More Rial cuestionó las habilidades de su ex en la cama?Luego de su separación con Facundo Ambrosioni, la mediática hizo una fuerte referencia a su vida sexual\\nrespuesta: La expresión \"acumulando mas leche\" es de carácter regional, y se refiere a la acumulación de deseos sexuales. La respuesta final es sí.\\n###\\ncontexto: Enrique Pinti no descarta una nueva postulación de Macri: “En este país siempre hay una chance para cualquiera que nos vuelva a cagar”\\nrespuesta: La expresión \"trolo\" es un término regional en Argentina usado para referirse a una...   \n",
       "336555  Explicar si existe un término o expresión regional del español de Argentina en el texto a continuación. Un regionalismo es una expresión de carácter usualmente coloquial usada en alguna variedad dialectal del español. No consideramos nombres propios (personas, lugares, etc) como tales. La expresión regional puede estar en el contexto (titular de noticia) o en el comentario. Razonar paso a paso antes de dar la respuesta.\\n###\\ncontexto: ¿More Rial cuestionó las habilidades de su ex en la cama?Luego de su separación con Facundo Ambrosioni, la mediática hizo una fuerte referencia a su vida sexual\\nrespuesta: La expresión \"acumulando mas leche\" es de carácter regional, y se refiere a la acumulación de deseos sexuales. La respuesta final es sí.\\n###\\ncontexto: Enrique Pinti no descarta una nueva postulación de Macri: “En este país siempre hay una chance para cualquiera que nos vuelva a cagar”\\nrespuesta: La expresión \"trolo\" es un término regional en Argentina usado para referirse a una...   \n",
       "342464  Explicar si existe un término o expresión regional del español de Argentina en el texto a continuación. Un regionalismo es una expresión de carácter usualmente coloquial usada en alguna variedad dialectal del español. No consideramos nombres propios (personas, lugares, etc) como tales. La expresión regional puede estar en el contexto (titular de noticia) o en el comentario. Razonar paso a paso antes de dar la respuesta.\\n###\\ncontexto: ¿More Rial cuestionó las habilidades de su ex en la cama?Luego de su separación con Facundo Ambrosioni, la mediática hizo una fuerte referencia a su vida sexual\\nrespuesta: La expresión \"acumulando mas leche\" es de carácter regional, y se refiere a la acumulación de deseos sexuales. La respuesta final es sí.\\n###\\ncontexto: Enrique Pinti no descarta una nueva postulación de Macri: “En este país siempre hay una chance para cualquiera que nos vuelva a cagar”\\nrespuesta: La expresión \"trolo\" es un término regional en Argentina usado para referirse a una...   \n",
       "399807  Explicar si existe un término o expresión regional del español de Argentina en el texto a continuación. Un regionalismo es una expresión de carácter usualmente coloquial usada en alguna variedad dialectal del español. No consideramos nombres propios (personas, lugares, etc) como tales. La expresión regional puede estar en el contexto (titular de noticia) o en el comentario. Razonar paso a paso antes de dar la respuesta.\\n###\\ncontexto: ¿More Rial cuestionó las habilidades de su ex en la cama?Luego de su separación con Facundo Ambrosioni, la mediática hizo una fuerte referencia a su vida sexual\\nrespuesta: La expresión \"acumulando mas leche\" es de carácter regional, y se refiere a la acumulación de deseos sexuales. La respuesta final es sí.\\n###\\ncontexto: Enrique Pinti no descarta una nueva postulación de Macri: “En este país siempre hay una chance para cualquiera que nos vuelva a cagar”\\nrespuesta: La expresión \"trolo\" es un término regional en Argentina usado para referirse a una...   \n",
       "343670  Explicar si existe un término o expresión regional del español de Argentina en el texto a continuación. Un regionalismo es una expresión de carácter usualmente coloquial usada en alguna variedad dialectal del español. No consideramos nombres propios (personas, lugares, etc) como tales. La expresión regional puede estar en el contexto (titular de noticia) o en el comentario. Razonar paso a paso antes de dar la respuesta.\\n###\\ncontexto: ¿More Rial cuestionó las habilidades de su ex en la cama?Luego de su separación con Facundo Ambrosioni, la mediática hizo una fuerte referencia a su vida sexual\\nrespuesta: La expresión \"acumulando mas leche\" es de carácter regional, y se refiere a la acumulación de deseos sexuales. La respuesta final es sí.\\n###\\ncontexto: Enrique Pinti no descarta una nueva postulación de Macri: “En este país siempre hay una chance para cualquiera que nos vuelva a cagar”\\nrespuesta: La expresión \"trolo\" es un término regional en Argentina usado para referirse a una...   \n",
       "389700  Explicar si existe un término o expresión regional del español de Argentina en el texto a continuación. Un regionalismo es una expresión de carácter usualmente coloquial usada en alguna variedad dialectal del español. No consideramos nombres propios (personas, lugares, etc) como tales. La expresión regional puede estar en el contexto (titular de noticia) o en el comentario. Razonar paso a paso antes de dar la respuesta.\\n###\\ncontexto: ¿More Rial cuestionó las habilidades de su ex en la cama?Luego de su separación con Facundo Ambrosioni, la mediática hizo una fuerte referencia a su vida sexual\\nrespuesta: La expresión \"acumulando mas leche\" es de carácter regional, y se refiere a la acumulación de deseos sexuales. La respuesta final es sí.\\n###\\ncontexto: Enrique Pinti no descarta una nueva postulación de Macri: “En este país siempre hay una chance para cualquiera que nos vuelva a cagar”\\nrespuesta: La expresión \"trolo\" es un término regional en Argentina usado para referirse a una...   \n",
       "354758  Explicar si existe un término o expresión regional del español de Argentina en el texto a continuación. Un regionalismo es una expresión de carácter usualmente coloquial usada en alguna variedad dialectal del español. No consideramos nombres propios (personas, lugares, etc) como tales. La expresión regional puede estar en el contexto (titular de noticia) o en el comentario. Razonar paso a paso antes de dar la respuesta.\\n###\\ncontexto: ¿More Rial cuestionó las habilidades de su ex en la cama?Luego de su separación con Facundo Ambrosioni, la mediática hizo una fuerte referencia a su vida sexual\\nrespuesta: La expresión \"acumulando mas leche\" es de carácter regional, y se refiere a la acumulación de deseos sexuales. La respuesta final es sí.\\n###\\ncontexto: Enrique Pinti no descarta una nueva postulación de Macri: “En este país siempre hay una chance para cualquiera que nos vuelva a cagar”\\nrespuesta: La expresión \"trolo\" es un término regional en Argentina usado para referirse a una...   \n",
       "347461  Explicar si existe un término o expresión regional del español de Argentina en el texto a continuación. Un regionalismo es una expresión de carácter usualmente coloquial usada en alguna variedad dialectal del español. No consideramos nombres propios (personas, lugares, etc) como tales. La expresión regional puede estar en el contexto (titular de noticia) o en el comentario. Razonar paso a paso antes de dar la respuesta.\\n###\\ncontexto: ¿More Rial cuestionó las habilidades de su ex en la cama?Luego de su separación con Facundo Ambrosioni, la mediática hizo una fuerte referencia a su vida sexual\\nrespuesta: La expresión \"acumulando mas leche\" es de carácter regional, y se refiere a la acumulación de deseos sexuales. La respuesta final es sí.\\n###\\ncontexto: Enrique Pinti no descarta una nueva postulación de Macri: “En este país siempre hay una chance para cualquiera que nos vuelva a cagar”\\nrespuesta: La expresión \"trolo\" es un término regional en Argentina usado para referirse a una...   \n",
       "392004  Explicar si existe un término o expresión regional del español de Argentina en el texto a continuación. Un regionalismo es una expresión de carácter usualmente coloquial usada en alguna variedad dialectal del español. No consideramos nombres propios (personas, lugares, etc) como tales. La expresión regional puede estar en el contexto (titular de noticia) o en el comentario. Razonar paso a paso antes de dar la respuesta.\\n###\\ncontexto: ¿More Rial cuestionó las habilidades de su ex en la cama?Luego de su separación con Facundo Ambrosioni, la mediática hizo una fuerte referencia a su vida sexual\\nrespuesta: La expresión \"acumulando mas leche\" es de carácter regional, y se refiere a la acumulación de deseos sexuales. La respuesta final es sí.\\n###\\ncontexto: Enrique Pinti no descarta una nueva postulación de Macri: “En este país siempre hay una chance para cualquiera que nos vuelva a cagar”\\nrespuesta: La expresión \"trolo\" es un término regional en Argentina usado para referirse a una...   \n",
       "353781  Explicar si existe un término o expresión regional del español de Argentina en el texto a continuación. Un regionalismo es una expresión de carácter usualmente coloquial usada en alguna variedad dialectal del español. No consideramos nombres propios (personas, lugares, etc) como tales. La expresión regional puede estar en el contexto (titular de noticia) o en el comentario. Razonar paso a paso antes de dar la respuesta.\\n###\\ncontexto: ¿More Rial cuestionó las habilidades de su ex en la cama?Luego de su separación con Facundo Ambrosioni, la mediática hizo una fuerte referencia a su vida sexual\\nrespuesta: La expresión \"acumulando mas leche\" es de carácter regional, y se refiere a la acumulación de deseos sexuales. La respuesta final es sí.\\n###\\ncontexto: Enrique Pinti no descarta una nueva postulación de Macri: “En este país siempre hay una chance para cualquiera que nos vuelva a cagar”\\nrespuesta: La expresión \"trolo\" es un término regional en Argentina usado para referirse a una...   \n",
       "\n",
       "                                                                                                                                                                                       pred_cot  \n",
       "id                                                                                                                                                                                               \n",
       "349719                                                                 La expresión \"🤣🤣🤣\" es un emoji que no constituye un término regional del español de Argentina. La respuesta final es no.  \n",
       "336555                                                                      La expresión \"Ya echaron al juez con juicio político\" no contiene expresiones regionales. La respuesta final es no.  \n",
       "342464                 respuesta: La expresión \"los compañeros taxistas\" no es un regionalismo, ya que se refiere simplemente a los trabajadores del sector de taxis. La respuesta final es no.  \n",
       "399807                                                                     La expresión \"vuelva el año que viene\" no es un término regional del español de Argentina. La respuesta final es no.  \n",
       "343670                                                           respuesta: El emoji 👁 no es una expresión regional del español de Argentina, sino un símbolo visual. La respuesta final es no.  \n",
       "389700                                                                                       respuesta: No se identifica ninguna expresión regional en el comentario. La respuesta final es no.  \n",
       "354758                                                                               La expresión \"Basuras del mundo\" no es un regionalismo del español de Argentina. La respuesta final es no.  \n",
       "347461  La expresión \"criadero de cerdos\" no es un término regional del español de Argentina, sino más bien una expresión común en el lenguaje general. Por lo tanto, la respuesta final es no.  \n",
       "392004                                                                                     La expresión \"tarasca\" no es un término regional del español de Argentina. La respuesta final es no.  \n",
       "353781        La expresión \"están sacados\" es un término regional en Argentina que se refiere a que los seguidores del expresidente Macri están enojados o alterados. La respuesta final es sí.  "
      ]
     },
     "execution_count": 10,
     "metadata": {},
     "output_type": "execute_result"
    }
   ],
   "source": [
    "%load_ext autoreload\n",
    "%autoreload 2\n",
    "from glob import glob\n",
    "import pandas as pd\n",
    "\n",
    "regionalism_csv = []\n",
    "for csv_path in glob(\"../data/regionalisms/test_*.csv\"):\n",
    "    regionalism_csv.append(pd.read_csv(csv_path, index_col=0))\n",
    "\n",
    "df_regionalism = pd.concat(regionalism_csv)\n",
    "\n",
    "# Drop columns except title, text, context_tweet, prompt, pred_cot\n",
    "df_regionalism = df_regionalism[[\"title\", \"text\", \"context_tweet\", \"prompt\", \"pred_cot\"]].copy()\n",
    "\n",
    "df_regionalism.sample(10)"
   ]
  },
  {
   "cell_type": "code",
   "execution_count": 19,
   "metadata": {},
   "outputs": [
    {
     "name": "stderr",
     "output_type": "stream",
     "text": [
      "100%|██████████| 5670/5670 [15:16<00:00,  6.18it/s]\n"
     ]
    }
   ],
   "source": [
    "from rioplatense_hs.preprocessing import remove_accents\n",
    "from rioplatense_hs.regionalisms import find_slangs\n",
    "import re\n",
    "from tqdm import tqdm\n",
    "\n",
    "# Regex para buscar todas las palabras entre comillas\n",
    "\n",
    "def find_between_quotes(text):\n",
    "    return re.findall(r'\"([^\"]*)\"', text)\n",
    "\n",
    "\n",
    "def get_regionalisms(row):\n",
    "    text = remove_accents(row[\"pred_cot\"].lower())\n",
    "\n",
    "    # Si dice \"la respuesta final es si\", buscar todas las ocurrencias entre comillas\n",
    "    if \"respuesta final es si\" in text:\n",
    "        return find_between_quotes(text)\n",
    "    else:\n",
    "        return []\n",
    "\n",
    "tqdm.pandas()\n",
    "\n",
    "df_regionalism[\"gpt_regionalisms\"] = df_regionalism.apply(get_regionalisms, axis=1)\n",
    "df_regionalism[\"dict_regionalisms\"] = df_regionalism.progress_apply(lambda x: find_slangs(x[\"text\"]), axis=1)"
   ]
  },
  {
   "cell_type": "code",
   "execution_count": 23,
   "metadata": {},
   "outputs": [],
   "source": [
    "del df_regionalism[\"prompt\"]"
   ]
  },
  {
   "cell_type": "code",
   "execution_count": 24,
   "metadata": {},
   "outputs": [],
   "source": [
    "df_regionalism.to_csv(\"../data/regionalisms/df_regionalism.csv\")"
   ]
  },
  {
   "cell_type": "markdown",
   "metadata": {},
   "source": [
    "¿Cuántos marcó diccionario y cuantos gpt?"
   ]
  },
  {
   "cell_type": "code",
   "execution_count": 28,
   "metadata": {},
   "outputs": [
    {
     "data": {
      "text/plain": [
       "gpt_regionalisms\n",
       "False    3058\n",
       "True     2612\n",
       "Name: count, dtype: int64"
      ]
     },
     "execution_count": 28,
     "metadata": {},
     "output_type": "execute_result"
    }
   ],
   "source": [
    "(df_regionalism[\"gpt_regionalisms\"].apply(len) > 0).value_counts()"
   ]
  },
  {
   "cell_type": "code",
   "execution_count": 29,
   "metadata": {},
   "outputs": [
    {
     "data": {
      "text/plain": [
       "dict_regionalisms\n",
       "False    3375\n",
       "True     2295\n",
       "Name: count, dtype: int64"
      ]
     },
     "execution_count": 29,
     "metadata": {},
     "output_type": "execute_result"
    }
   ],
   "source": [
    "(df_regionalism[\"dict_regionalisms\"].apply(len) > 0).value_counts()"
   ]
  },
  {
   "cell_type": "code",
   "execution_count": 30,
   "metadata": {},
   "outputs": [
    {
     "data": {
      "text/plain": [
       "has_regionalisms\n",
       "True     3412\n",
       "False    2258\n",
       "Name: count, dtype: int64"
      ]
     },
     "execution_count": 30,
     "metadata": {},
     "output_type": "execute_result"
    }
   ],
   "source": [
    "df_regionalism[\"has_regionalisms\"] = (df_regionalism[\"gpt_regionalisms\"].apply(len) > 0) | (df_regionalism[\"dict_regionalisms\"].apply(len) > 0)\n",
    "\n",
    "df_regionalism[\"has_regionalisms\"].value_counts()\n"
   ]
  },
  {
   "cell_type": "code",
   "execution_count": 31,
   "metadata": {},
   "outputs": [],
   "source": [
    "df_regionalism[df_regionalism[\"has_regionalisms\"]].to_csv(\"../../data/regionalisms/check_regionalisms.csv\")"
   ]
  }
 ],
 "metadata": {
  "kernelspec": {
   "display_name": ".venv",
   "language": "python",
   "name": "python3"
  },
  "language_info": {
   "codemirror_mode": {
    "name": "ipython",
    "version": 3
   },
   "file_extension": ".py",
   "mimetype": "text/x-python",
   "name": "python",
   "nbconvert_exporter": "python",
   "pygments_lexer": "ipython3",
   "version": "3.10.7"
  }
 },
 "nbformat": 4,
 "nbformat_minor": 2
}
