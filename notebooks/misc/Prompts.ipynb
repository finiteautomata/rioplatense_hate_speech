{
 "cells": [
  {
   "cell_type": "code",
   "execution_count": 16,
   "metadata": {},
   "outputs": [
    {
     "name": "stdout",
     "output_type": "stream",
     "text": [
      "The autoreload extension is already loaded. To reload it, use:\n",
      "  %reload_ext autoreload\n"
     ]
    },
    {
     "data": {
      "text/plain": [
       "10"
      ]
     },
     "execution_count": 16,
     "metadata": {},
     "output_type": "execute_result"
    }
   ],
   "source": [
    "%load_ext autoreload\n",
    "%autoreload 2\n",
    "\n",
    "from rioplatense_hs.prompting import FewShotPromptTemplate\n",
    "from rioplatense_hs.tasks.hate_speech import examples, build_prompt\n",
    "\n",
    "\n",
    "len(examples)"
   ]
  },
  {
   "cell_type": "code",
   "execution_count": 17,
   "metadata": {},
   "outputs": [
    {
     "name": "stdout",
     "output_type": "stream",
     "text": [
      "Determinar si el siguiente mensaje contiene discurso de odio. Entendemos que hay discurso de odio en el tweet si tiene declaraciones de carácter intenso e irracional de rechazo, enemistad y aborrecimiento contra un individuo o contra un grupo, siendo objetivos de estas expresiones por poseer una característica protegida. Las características protegidas que contemplamos son:\n",
      "\n",
      "- mujer: mujeres o movimiento feminista\n",
      "- lgbti: contra gays, lesbianas, transexuales y otras identidades de género\n",
      "- racismo: inmigrantes, xenofobia, o contra pueblos aborígenes\n",
      "- clase: personas de bajos recursos o motivos de clase\n",
      "\n",
      "Responder una o varias de las características separadas por coma, o bien \"nada\" si no hay discurso de odio. Pensá paso a paso la respuesta antes de responder.\n",
      "###\n",
      "contexto: Wuhan celebra el fin de la cuarentena por el coronavirus con un mensaje para el resto del mundo: \"Aprendan de nuestros errores\"\n",
      "texto: Chinos culiados de mierda ojalá se mueran todos\n",
      "salida: Desea que se mueran los chinos por ser los supuestos culpables del COVID-19. La respuesta final es \"racismo\".\n",
      "###\n",
      "contexto: Al borde del llanto, Nati Jota pidió disculpas por sus repudiables tuits pero los justificó: 'Quería sumar seguidores'\n",
      "texto: Show o nada mi amorrr!! Sos una imbesil!\n",
      "salida: Es un insulto pero no menciona nada relacionado a las características protegidas. La respuesta final es \"nada\".\n",
      "###\n",
      "contexto: Violento motín en la cárcel de Devoto: tomaron e incendiaron pabellones\n",
      "texto: Hermanito lo que son esos grones. Ahí adentro le robaron la billetera al coronavirus\n",
      "salida: La palabra \"grones\" significa negros al revés, lo cual alude a su color de piel. La respuesta final es \"racismo\".\n",
      "###\n",
      "contexto: Mayra Mendoza criticó el banderazo contra el Gobierno: \"No tiene sentido y es antidemocrático\"\n",
      "texto: Que negrita villera....ni con la plata q roba puede arreglarse\n",
      "salida: El texto alude a su color de piel y a su condición social (villera). La respuesta final es \"racismo, clase\".\n",
      "###\n",
      "contexto: No da tregua: sin ropa y desafiante Flor Peña volvió a mostrar su lado más hot\n",
      "texto: K lado hot tiene más varices k mi abuela. Tiene mas puesta de espalda k karagian trola\n",
      "salida: El texto alude a su aspecto (las varices) y la desprecia por \"trola\", un insulto que significa \"prostituta\". La respuesta final es \"mujer\".\n",
      "###\n",
      "contexto: Otro ataque de furia contra un colectivero: una mujer trans le pateó la unidad y le tiró un ladrillazo\n",
      "texto: Un tipo operado. Con la fuerza de un hombre y no la de una mujer\n",
      "salida: El texto alude a que la mujer trans es un hombre. La respuesta final es \"lgbti\"\n",
      "###\n",
      "contexto: Elisa Carrió denunció que el Gobierno usa la pandemia para \"establecer un estado de sitio\"\n",
      "texto: Gorda psiquiátrica\n",
      "salida: El texto alude a su aspecto (gorda) y la acusa de tener problemas psiquiátricos. Sin embargo, no hace ninguna alusión a una característica protegida. La respuesta final es \"nada\".\n",
      "###\n",
      "contexto: Les darán DNI provisorio a personas en situación vulnerable, para que puedan empezar a cobrar planes sociales\n",
      "texto: Seguimos alimentando vagos\n",
      "salida: El comentario se refiere a quienes cobran planes sociales como vagos. La respuesta final es \"clase\".\n",
      "###\n",
      "contexto: 'País de maricas': ¿Por qué Jair Bolsonaro vuelve a atacar a los homosexuales en Brasil?\n",
      "texto: El discurso de bolsonaro donde dice \"maricas\" es brillante, sólo eso basta para meresca ser el presidente de Sudamérica. Clarín es una cueva de zurdos y progresistas que se pintan los labios punto. Clarín suavecito, te pasas de marica!\n",
      "salida: El texto alude a la homosexualidad como algo negativo, a la vez que acusa de ser \"zurdos y progresistas\" a quienes no están de acuerdo con el discurso de Bolsonaro. La respuesta final es \"lgbti\"\n",
      "###\n",
      "contexto: Los dos presos heridos de bala en el motín de Devoto tienen Covid-19 y uno quedó hemipléjico\n",
      "texto: justicia divina!\n",
      "salida: El texto alude a que los presos merecen ser baleados. Sin embargo, no hace ninguna alusión a una característica protegida. La respuesta final es 'nada'.\n",
      "###\n",
      "contexto: \n",
      "texto: \n",
      "salida:\n",
      "\n"
     ]
    }
   ],
   "source": [
    "print(build_prompt(contexto=\"\", texto=\"\"))"
   ]
  },
  {
   "cell_type": "code",
   "execution_count": 7,
   "metadata": {},
   "outputs": [],
   "source": [
    "from rioplatense_hs.preprocessing import text_to_label\n",
    "\n",
    "for ex in examples:\n",
    "    outs = {k for k, v in text_to_label(ex[\"salida\"]).items() if v==1}\n",
    "\n",
    "    assert set(ex[\"labels\"]) == outs, (ex, outs)"
   ]
  },
  {
   "cell_type": "code",
   "execution_count": 8,
   "metadata": {},
   "outputs": [
    {
     "data": {
      "text/plain": [
       "{'contexto': 'Los dos presos heridos de bala en el motín de Devoto tienen Covid-19 y uno quedó hemipléjico',\n",
       " 'texto': 'justicia divina!',\n",
       " 'salida': \"El texto alude a que los presos merecen ser baleados. Sin embargo, no hace ninguna alusión a una característica protegida. La respuesta final es 'nada'\",\n",
       " 'labels': []}"
      ]
     },
     "execution_count": 8,
     "metadata": {},
     "output_type": "execute_result"
    }
   ],
   "source": [
    "ex"
   ]
  }
 ],
 "metadata": {
  "kernelspec": {
   "display_name": ".venv",
   "language": "python",
   "name": "python3"
  },
  "language_info": {
   "codemirror_mode": {
    "name": "ipython",
    "version": 3
   },
   "file_extension": ".py",
   "mimetype": "text/x-python",
   "name": "python",
   "nbconvert_exporter": "python",
   "pygments_lexer": "ipython3",
   "version": "3.10.7"
  }
 },
 "nbformat": 4,
 "nbformat_minor": 2
}
