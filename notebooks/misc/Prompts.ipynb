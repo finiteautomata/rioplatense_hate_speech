{
 "cells": [
  {
   "cell_type": "code",
   "execution_count": 1,
   "metadata": {},
   "outputs": [
    {
     "data": {
      "text/plain": [
       "11"
      ]
     },
     "execution_count": 1,
     "metadata": {},
     "output_type": "execute_result"
    }
   ],
   "source": [
    "%load_ext autoreload\n",
    "%autoreload 2\n",
    "\n",
    "from rioplatense_hs.prompting import FewShotPromptTemplate\n",
    "from rioplatense_hs.tasks.hate_speech import examples, build_prompt\n",
    "\n",
    "\n",
    "len(examples)"
   ]
  },
  {
   "cell_type": "code",
   "execution_count": 2,
   "metadata": {},
   "outputs": [
    {
     "data": {
      "text/plain": [
       "Counter({'RACISM': 3, 'nada': 3, 'LGBTI': 2, 'CLASS': 2, 'WOMEN': 2})"
      ]
     },
     "execution_count": 2,
     "metadata": {},
     "output_type": "execute_result"
    }
   ],
   "source": [
    "from collections import Counter\n",
    "\n",
    "count = Counter()\n",
    "\n",
    "for ex in examples:\n",
    "    if ex[\"labels\"] == []:\n",
    "        count[\"nada\"] += 1\n",
    "\n",
    "    else:\n",
    "        for lab in ex[\"labels\"]:\n",
    "            count[lab] += 1\n",
    "\n",
    "count"
   ]
  },
  {
   "cell_type": "code",
   "execution_count": 3,
   "metadata": {},
   "outputs": [
    {
     "name": "stdout",
     "output_type": "stream",
     "text": [
      "Determinar si el siguiente texto, correspondiente a un tweet y presentado con un contexto, contiene discurso de odio. Entendemos que hay discurso de odio si tiene declaraciones de carácter intenso y/o irracional de rechazo, enemistad o aborrecimiento contra un individuo o contra un grupo, siendo estos objetivos de las expresiones por poseer una característica protegida. Las características protegidas que contemplamos son:\n",
      "\n",
      "- mujer: hace referencia a mujeres o al movimiento feminista.\n",
      "- lgbti: hace referencia a gays, lesbianas, transexuales y otras identidades de género.\n",
      "- racismo: hace referencia a inmigrantes, xenofobia, o a pueblos aborígenes.\n",
      "- clase: hace referencia a personas de bajos recursos o motivos de clase.\n",
      "\n",
      "Los tweets están escritos en español rioplatense, y dentro del contexto cultural de Argentina. Responder una o varias de las características separadas por coma, o bien \"nada\" si no hay discurso de odio. Pensar y justificar paso a paso la respuesta antes de responder.\n",
      "###\n",
      "contexto: Wuhan celebra el fin de la cuarentena por el coronavirus con un mensaje para el resto del mundo: \"Aprendan de nuestros errores\"\n",
      "texto: Chinos culiados de mierda ojalá se mueran todos\n",
      "salida: El texto insulta a los chinos (\"culiados) y desea que se mueran, implicando que son los culpables del COVID-19. La respuesta final es \"racismo\".\n",
      "###\n",
      "contexto: Al borde del llanto, Nati Jota pidió disculpas por sus repudiables tuits pero los justificó: 'Quería sumar seguidores'\n",
      "texto: Show o nada mi amorrr!! Sos una imbesil!\n",
      "salida: El texto contiene un insulto pero no menciona nada relacionado a las características protegidas, particularmente de la mencionada mujer. La respuesta final es \"nada\".\n",
      "###\n",
      "contexto: Funcionario público y drag queen: la \"doble vida\" del político que representa a Salta en tacos, peluca y barba con brillos\n",
      "texto: Que asco..!'\n",
      "salida: El texto expresa desagrado hacia la identidad de género de la persona. La respuesta final es \"lgbti\".\n",
      "###\n",
      "contexto: Violento motín en la cárcel de Devoto: tomaron e incendiaron pabellones\n",
      "texto: Hermanito lo que son esos grones. Ahí adentro le robaron la billetera al coronavirus\n",
      "salida: El texto utiliza la palabra \"grones\", que significa negros al revés, lo cual alude a su color de piel de manera despectiva. Además, da a entender que son ladrones. La respuesta final es \"racismo\".\n",
      "###\n",
      "contexto: Mayra Mendoza criticó el banderazo contra el Gobierno: \"No tiene sentido y es antidemocrático\"\n",
      "texto: Que negrita villera....ni con la plata q roba puede arreglarse\n",
      "salida: El texto alude al color de piel de Mayra Mendoza (\"negrita\") y a su condición social (villera) de manera discriminatoria. La respuesta final es \"racismo, clase\".\n",
      "###\n",
      "contexto: No da tregua: sin ropa y desafiante Flor Peña volvió a mostrar su lado más hot\n",
      "texto: K lado hot tiene más varices k mi abuela. Tiene mas puesta de espalda k karagian trola\n",
      "salida: El texto alude al aspecto de Flor Peña (sus várices) y la desprecia por \"trola\", un insulto que significa \"prostituta\". La respuesta final es \"mujer\".\n",
      "###\n",
      "contexto: Otro ataque de furia contra un colectivero: una mujer trans le pateó la unidad y le tiró un ladrillazo\n",
      "texto: Un tipo operado. Con la fuerza de un hombre y no la de una mujer\n",
      "salida: El texto asegura que la mujer trans es \"un tipo operado\", implicando que en los hechos es un hombre y negando su identidad de género. La respuesta final es \"lgbti\"\n",
      "###\n",
      "contexto: Elisa Carrió denunció que el Gobierno usa la pandemia para \"establecer un estado de sitio\"\n",
      "texto: Gorda psiquiátrica\n",
      "salida: El texto habla de su aspecto (gorda) y la acusa de tener problemas psiquiátricos. Sin embargo, no hace ninguna alusión a una característica protegida. La respuesta final es \"nada\".\n",
      "###\n",
      "contexto: Loly Antoniale mostró su impresionante casa en Miami: \"Soy la reina de mi castillo\"\n",
      "texto: No pudo enganchar al viejo famoso..se busco otro..y este le puso su castillo en Miami...\n",
      "salida: El texto alude a la vida amorosa de Loly Antoniale, sugiriendo que se busca hombres por interés económico. Esta apreciación es sexista y despectiva. La respuesta final es \"mujer\".\n",
      "###\n",
      "contexto: Les darán DNI provisorio a personas en situación vulnerable, para que puedan empezar a cobrar planes sociales\n",
      "texto: Seguimos alimentando vagos\n",
      "salida: El texto se refiere a quienes cobran planes sociales como vagos a quienes hay que alimentar, lo cual contiene un claro desprecio hacia las clases bajas que requieren de la asistencia estatal. La respuesta final es \"clase\".\n",
      "###\n",
      "contexto: Los dos presos heridos de bala en el motín de Devoto tienen Covid-19 y uno quedó hemipléjico\n",
      "texto: justicia divina!\n",
      "salida: El comentario contiene una celebración frente a un ataque a presos. A pesar de ser sumamente ofensivo, no hace ninguna alusión a una característica protegida. La respuesta final es 'nada'.\n",
      "###\n",
      "contexto: \n",
      "texto: \n",
      "salida:\n",
      "\n"
     ]
    }
   ],
   "source": [
    "from textwrap import wrap\n",
    "\n",
    "\n",
    "\n",
    "print(build_prompt(contexto=\"\", texto=\"\"))"
   ]
  },
  {
   "cell_type": "code",
   "execution_count": 4,
   "metadata": {},
   "outputs": [],
   "source": [
    "from rioplatense_hs.preprocessing import text_to_label\n",
    "\n",
    "for ex in examples:\n",
    "    outs = {k for k, v in text_to_label(ex[\"salida\"]).items() if v==1}\n",
    "\n",
    "    assert set(ex[\"labels\"]) == outs, (ex, outs)"
   ]
  },
  {
   "cell_type": "code",
   "execution_count": 5,
   "metadata": {},
   "outputs": [
    {
     "data": {
      "text/plain": [
       "{'contexto': 'Los dos presos heridos de bala en el motín de Devoto tienen Covid-19 y uno quedó hemipléjico',\n",
       " 'texto': 'justicia divina!',\n",
       " 'salida': \"El comentario contiene una celebración frente a un ataque a presos. A pesar de ser sumamente ofensivo, no hace ninguna alusión a una característica protegida. La respuesta final es 'nada'.\",\n",
       " 'labels': []}"
      ]
     },
     "execution_count": 5,
     "metadata": {},
     "output_type": "execute_result"
    }
   ],
   "source": [
    "ex"
   ]
  },
  {
   "cell_type": "code",
   "execution_count": 9,
   "metadata": {},
   "outputs": [
    {
     "name": "stdout",
     "output_type": "stream",
     "text": [
      "[INST] Determinar si el siguiente texto, correspondiente a un tweet y presentado con un contexto, contiene discurso de odio. Entendemos que hay discurso de odio si tiene declaraciones de carácter intenso y/o irracional de rechazo, enemistad o aborrecimiento contra un individuo o contra un grupo, siendo estos objetivos de las expresiones por poseer una característica protegida. Las características protegidas que contemplamos son:\n",
      "\n",
      "- mujer: hace referencia a mujeres o al movimiento feminista.\n",
      "- lgbti: hace referencia a gays, lesbianas, transexuales y otras identidades de género.\n",
      "- racismo: hace referencia a inmigrantes, xenofobia, o a pueblos aborígenes.\n",
      "- clase: hace referencia a personas de bajos recursos o motivos de clase.\n",
      "\n",
      "Los tweets están escritos en español rioplatense, y dentro del contexto cultural de Argentina. Responder una o varias de las características separadas por coma, o bien \"nada\" si no hay discurso de odio. Pensar y justificar paso a paso la respuesta antes de responder.\n",
      "contexto: Wuhan celebra el fin de la cuarentena por el coronavirus con un mensaje para el resto del mundo: \"Aprendan de nuestros errores\"\n",
      "texto: Chinos culiados de mierda ojalá se mueran todos\n",
      "[/INST]\n",
      "El texto insulta a los chinos (\"culiados) y desea que se mueran, implicando que son los culpables del COVID-19. La respuesta final es \"racismo\".\n",
      "</s>\n",
      "[INST] \n",
      "contexto: Al borde del llanto, Nati Jota pidió disculpas por sus repudiables tuits pero los justificó: 'Quería sumar seguidores'\n",
      "texto: Show o nada mi amorrr!! Sos una imbesil!\n",
      "[/INST]\n",
      "El texto contiene un insulto pero no menciona nada relacionado a las características protegidas, particularmente de la mencionada mujer. La respuesta final es \"nada\".\n",
      "</s>\n",
      "[INST] \n",
      "contexto: Funcionario público y drag queen: la \"doble vida\" del político que representa a Salta en tacos, peluca y barba con brillos\n",
      "texto: Que asco..!'\n",
      "[/INST]\n",
      "El texto expresa desagrado hacia la identidad de género de la persona. La respuesta final es \"lgbti\".\n",
      "</s>\n",
      "[INST] \n",
      "contexto: Violento motín en la cárcel de Devoto: tomaron e incendiaron pabellones\n",
      "texto: Hermanito lo que son esos grones. Ahí adentro le robaron la billetera al coronavirus\n",
      "[/INST]\n",
      "El texto utiliza la palabra \"grones\", que significa negros al revés, lo cual alude a su color de piel de manera despectiva. Además, da a entender que son ladrones. La respuesta final es \"racismo\".\n",
      "</s>\n",
      "[INST] \n",
      "contexto: Mayra Mendoza criticó el banderazo contra el Gobierno: \"No tiene sentido y es antidemocrático\"\n",
      "texto: Que negrita villera....ni con la plata q roba puede arreglarse\n",
      "[/INST]\n",
      "El texto alude al color de piel de Mayra Mendoza (\"negrita\") y a su condición social (villera) de manera discriminatoria. La respuesta final es \"racismo, clase\".\n",
      "</s>\n",
      "[INST] \n",
      "contexto: No da tregua: sin ropa y desafiante Flor Peña volvió a mostrar su lado más hot\n",
      "texto: K lado hot tiene más varices k mi abuela. Tiene mas puesta de espalda k karagian trola\n",
      "[/INST]\n",
      "El texto alude al aspecto de Flor Peña (sus várices) y la desprecia por \"trola\", un insulto que significa \"prostituta\". La respuesta final es \"mujer\".\n",
      "</s>\n",
      "[INST] \n",
      "contexto: Otro ataque de furia contra un colectivero: una mujer trans le pateó la unidad y le tiró un ladrillazo\n",
      "texto: Un tipo operado. Con la fuerza de un hombre y no la de una mujer\n",
      "[/INST]\n",
      "El texto asegura que la mujer trans es \"un tipo operado\", implicando que en los hechos es un hombre y negando su identidad de género. La respuesta final es \"lgbti\"\n",
      "</s>\n",
      "[INST] \n",
      "contexto: Elisa Carrió denunció que el Gobierno usa la pandemia para \"establecer un estado de sitio\"\n",
      "texto: Gorda psiquiátrica\n",
      "[/INST]\n",
      "El texto habla de su aspecto (gorda) y la acusa de tener problemas psiquiátricos. Sin embargo, no hace ninguna alusión a una característica protegida. La respuesta final es \"nada\".\n",
      "</s>\n",
      "[INST] \n",
      "contexto: Loly Antoniale mostró su impresionante casa en Miami: \"Soy la reina de mi castillo\"\n",
      "texto: No pudo enganchar al viejo famoso..se busco otro..y este le puso su castillo en Miami...\n",
      "[/INST]\n",
      "El texto alude a la vida amorosa de Loly Antoniale, sugiriendo que se busca hombres por interés económico. Esta apreciación es sexista y despectiva. La respuesta final es \"mujer\".\n",
      "</s>\n",
      "[INST] \n",
      "contexto: Les darán DNI provisorio a personas en situación vulnerable, para que puedan empezar a cobrar planes sociales\n",
      "texto: Seguimos alimentando vagos\n",
      "[/INST]\n",
      "El texto se refiere a quienes cobran planes sociales como vagos a quienes hay que alimentar, lo cual contiene un claro desprecio hacia las clases bajas que requieren de la asistencia estatal. La respuesta final es \"clase\".\n",
      "</s>\n",
      "[INST] \n",
      "contexto: Los dos presos heridos de bala en el motín de Devoto tienen Covid-19 y uno quedó hemipléjico\n",
      "texto: justicia divina!\n",
      "[/INST]\n",
      "El comentario contiene una celebración frente a un ataque a presos. A pesar de ser sumamente ofensivo, no hace ninguna alusión a una característica protegida. La respuesta final es 'nada'.\n",
      "</s>\n",
      "[INST] \n",
      "contexto: \n",
      "texto: \n",
      "[/INST]\n"
     ]
    }
   ],
   "source": [
    "from rioplatense_hs.mixtral import get_prompt\n",
    "\n",
    "print(get_prompt(\"\", \"\"))"
   ]
  }
 ],
 "metadata": {
  "kernelspec": {
   "display_name": ".venv",
   "language": "python",
   "name": "python3"
  },
  "language_info": {
   "codemirror_mode": {
    "name": "ipython",
    "version": 3
   },
   "file_extension": ".py",
   "mimetype": "text/x-python",
   "name": "python",
   "nbconvert_exporter": "python",
   "pygments_lexer": "ipython3",
   "version": "3.10.13"
  }
 },
 "nbformat": 4,
 "nbformat_minor": 2
}
