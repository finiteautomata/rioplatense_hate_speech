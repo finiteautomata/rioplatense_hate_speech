{
 "cells": [
  {
   "cell_type": "code",
   "execution_count": 1,
   "metadata": {},
   "outputs": [],
   "source": [
    "\n",
    "%load_ext autoreload\n",
    "%autoreload 2\n",
    "from rioplatense_hs.openai import get_completion\n",
    "from datasets import load_dataset\n"
   ]
  },
  {
   "cell_type": "code",
   "execution_count": 2,
   "metadata": {},
   "outputs": [],
   "source": [
    "import pandas as pd\n",
    "\n",
    "sample_df = pd.read_csv(\"../data/sample_dev_df_14_shot.csv\")"
   ]
  },
  {
   "cell_type": "code",
   "execution_count": 3,
   "metadata": {},
   "outputs": [
    {
     "data": {
      "text/plain": [
       "0.16857142857142857"
      ]
     },
     "execution_count": 3,
     "metadata": {},
     "output_type": "execute_result"
    }
   ],
   "source": [
    "(sample_df[\"num_hatred\"] > 0).mean()"
   ]
  },
  {
   "cell_type": "code",
   "execution_count": 39,
   "metadata": {},
   "outputs": [
    {
     "data": {
      "text/html": [
       "<div>\n",
       "<style scoped>\n",
       "    .dataframe tbody tr th:only-of-type {\n",
       "        vertical-align: middle;\n",
       "    }\n",
       "\n",
       "    .dataframe tbody tr th {\n",
       "        vertical-align: top;\n",
       "    }\n",
       "\n",
       "    .dataframe thead th {\n",
       "        text-align: right;\n",
       "    }\n",
       "</style>\n",
       "<table border=\"1\" class=\"dataframe\">\n",
       "  <thead>\n",
       "    <tr style=\"text-align: right;\">\n",
       "      <th></th>\n",
       "      <th>text</th>\n",
       "      <th>context_tweet</th>\n",
       "    </tr>\n",
       "  </thead>\n",
       "  <tbody>\n",
       "    <tr>\n",
       "      <th>132</th>\n",
       "      <td>@usuario Hambre mental...</td>\n",
       "      <td>“Acaban de declarar un virtual estado de sitio con la excusa de la cuarentena”: la crítica de una dirigente de izquierda que despertó polémica https://t.co/LFCsgdLvMe</td>\n",
       "    </tr>\n",
       "    <tr>\n",
       "      <th>664</th>\n",
       "      <td>@usuario Gracias Xi !</td>\n",
       "      <td>Xi Jinping les prohibió a los médicos de Wuhan hablar sobre el inicio del coronavirus: la ley que contempla penas de muerte https://t.co/kfIQrNVL5l</td>\n",
       "    </tr>\n",
       "    <tr>\n",
       "      <th>641</th>\n",
       "      <td>@usuario Más RIDICULA no se consigue. Como te hace trabajar la corpo ....ojalá hubieses salido así de rapido para defender al pueblo de los tarifazos y de la deuda sin fin.</td>\n",
       "      <td>Elisa Carrió prometió \"frenar\" la \"ofensiva de Cristina Kirchner sobre los medios de comunicación\" https://t.co/qz0BcdUjcK</td>\n",
       "    </tr>\n",
       "    <tr>\n",
       "      <th>69</th>\n",
       "      <td>@usuario Se le caen los clientes.</td>\n",
       "      <td>“Cristian, mirá lo que hago por vos”: quién es la modelo hot que se metió en el baúl de un auto para violar la cuarentena https://t.co/0Bi4o6szc3</td>\n",
       "    </tr>\n",
       "    <tr>\n",
       "      <th>232</th>\n",
       "      <td>@usuario Vayan ..sabiendo ..cómo será argentina en unos años...</td>\n",
       "      <td>Falsas cuarentenas, torturas y desapariciones: el brutal método de China para silenciar a quienes se animaron a denunciar las mentiras del régimen sobre el coronavirus https://t.co/MA8pk9kSmg</td>\n",
       "    </tr>\n",
       "    <tr>\n",
       "      <th>349</th>\n",
       "      <td>@usuario Bueno</td>\n",
       "      <td>Elisa Carrió: 'Jamás me pondría la vacuna porque no hay información clara, es un negocio de Cristina Kirchner y los rusos' https://t.co/nPPKSo9Yp0</td>\n",
       "    </tr>\n",
       "    <tr>\n",
       "      <th>243</th>\n",
       "      <td>@usuario Que piedras! Pobres!</td>\n",
       "      <td>Son venezolanos, vinieron a la Argentina en busca de una vida mejor y ahora se quieren ir: “Esto ya lo vimos” | Por Camila Hernández Otaño https://t.co/I80EolLrc1</td>\n",
       "    </tr>\n",
       "    <tr>\n",
       "      <th>415</th>\n",
       "      <td>@usuario Por suerte no veo el nueve</td>\n",
       "      <td>Flor de la V será una de las nuevas figuras de El Nueve en el 2021 | Por Adrián Pallares https://t.co/VNvbK1Bnet</td>\n",
       "    </tr>\n",
       "    <tr>\n",
       "      <th>680</th>\n",
       "      <td>@usuario q no se enoje liz solari</td>\n",
       "      <td>Denuncian que una mujer \"cambió\" a su hija de 14 años por un cajón de pollos en Santiago del Estero https://t.co/FrmrYuv4A4</td>\n",
       "    </tr>\n",
       "    <tr>\n",
       "      <th>409</th>\n",
       "      <td>@usuario Uno menos</td>\n",
       "      <td>Murió de coronavirus el jefe de gobierno chavista de Caracas, Darío Vivas https://t.co/YkXb3pUrHh</td>\n",
       "    </tr>\n",
       "  </tbody>\n",
       "</table>\n",
       "</div>"
      ],
      "text/plain": [
       "                                                                                                                                                                             text  \\\n",
       "132                                                                                                                                                     @usuario Hambre mental...   \n",
       "664                                                                                                                                                         @usuario Gracias Xi !   \n",
       "641  @usuario Más RIDICULA no se consigue. Como te hace trabajar la corpo ....ojalá hubieses salido así de rapido para defender al pueblo de los tarifazos y de la deuda sin fin.   \n",
       "69                                                                                                                                              @usuario Se le caen los clientes.   \n",
       "232                                                                                                               @usuario Vayan ..sabiendo ..cómo será argentina en unos años...   \n",
       "349                                                                                                                                                                @usuario Bueno   \n",
       "243                                                                                                                                                 @usuario Que piedras! Pobres!   \n",
       "415                                                                                                                                           @usuario Por suerte no veo el nueve   \n",
       "680                                                                                                                                             @usuario q no se enoje liz solari   \n",
       "409                                                                                                                                                            @usuario Uno menos   \n",
       "\n",
       "                                                                                                                                                                                       context_tweet  \n",
       "132                           “Acaban de declarar un virtual estado de sitio con la excusa de la cuarentena”: la crítica de una dirigente de izquierda que despertó polémica https://t.co/LFCsgdLvMe  \n",
       "664                                              Xi Jinping les prohibió a los médicos de Wuhan hablar sobre el inicio del coronavirus: la ley que contempla penas de muerte https://t.co/kfIQrNVL5l  \n",
       "641                                                                       Elisa Carrió prometió \"frenar\" la \"ofensiva de Cristina Kirchner sobre los medios de comunicación\" https://t.co/qz0BcdUjcK  \n",
       "69                                                 “Cristian, mirá lo que hago por vos”: quién es la modelo hot que se metió en el baúl de un auto para violar la cuarentena https://t.co/0Bi4o6szc3  \n",
       "232  Falsas cuarentenas, torturas y desapariciones: el brutal método de China para silenciar a quienes se animaron a denunciar las mentiras del régimen sobre el coronavirus https://t.co/MA8pk9kSmg  \n",
       "349                                               Elisa Carrió: 'Jamás me pondría la vacuna porque no hay información clara, es un negocio de Cristina Kirchner y los rusos' https://t.co/nPPKSo9Yp0  \n",
       "243                               Son venezolanos, vinieron a la Argentina en busca de una vida mejor y ahora se quieren ir: “Esto ya lo vimos” | Por Camila Hernández Otaño https://t.co/I80EolLrc1  \n",
       "415                                                                                 Flor de la V será una de las nuevas figuras de El Nueve en el 2021 | Por Adrián Pallares https://t.co/VNvbK1Bnet  \n",
       "680                                                                      Denuncian que una mujer \"cambió\" a su hija de 14 años por un cajón de pollos en Santiago del Estero https://t.co/FrmrYuv4A4  \n",
       "409                                                                                                Murió de coronavirus el jefe de gobierno chavista de Caracas, Darío Vivas https://t.co/YkXb3pUrHh  "
      ]
     },
     "execution_count": 39,
     "metadata": {},
     "output_type": "execute_result"
    }
   ],
   "source": [
    "pd.options.display.max_colwidth = 1000\n",
    "\n",
    "sample_df.sample(10)[[\"text\", \"context_tweet\"]]"
   ]
  },
  {
   "cell_type": "markdown",
   "metadata": {},
   "source": [
    "- @usuario No seas trol0 man\tEl llanto de Gustavo López tras recuperarse del coronavirus: “La incertidumbre de no saber si salís es muy fuerte” https://t.co/VijnJJ8F7R\n",
    "- @usuario Esto es tener pelotas pero si lo tuviéramos acá los K lo odiarían y gran parte de los globoludos no lo votaría por sus formas\tTrump volvió a culpar a China por la pandemia y aseguró que “van a pagar un alto precio por lo que le hicieron a EEUU y al mundo” https://t.co/ZvfPtpZNPe\n",
    "- @usuario Tiene una pinta de malcogida esa\t\"Todo sobre tu vulva”: la mujer que saca al clítoris del closet y desarma los mitos del goce sexual | Por Mariana Fernández Camacho https://t.co/GCiygt0jaO\n",
    "- @usuario Que bajo a caido, PINTI, ese viejo TROLO SIGUE CON EL CURRO DE HACER HUMOR POLITICO.\tEnrique Pinti no descarta una nueva postulación de Macri: “En este país siempre hay una chance para cualquiera que nos vuelva a cagar” | Por Tatiana Schapiro https://t.co/xvBLy5Nhhv\n",
    "- @usuario Seguramente su condición es que lo vacunen por la cola.\tCoronavirus: Novaresio contó cuál es su condición para aplicarse la vacuna rusa https://t.co/jTXp7hU4gZ https://t.co/fmu5TEE6cq\n",
    "- @usuario Esta acumulando mas leche que mastellone\t💥[OTRA INDIRECTA]💥 ¿More Rial cuestionó las habilidades de su ex en la cama? &gt;&gt;&gt; Luego de su separación con Facundo Ambrosioni, la mediática hizo una fuerte referencia a su vida sexual\n",
    "- @usuario Ustedes no entienden.....Dios Fernández los ha abandonado....y no son Argentinos!!! Es más no son Humanooosss!!! Cha raaaáaaannn!!!\t\"No nos abandonen, no somos unos chetos\", el ruego de los argentinos varados en Estados Unidos https://t.co/u1zIKQxTyQ https://t.co/fIdWBkOERX"
   ]
  },
  {
   "cell_type": "code",
   "execution_count": 60,
   "metadata": {},
   "outputs": [],
   "source": [
    "from rioplatense_hs.openai import get_completion\n",
    "\n",
    "# Let's build a prompt to ask ChatGPT if there is a regionally specific term or expression that is not clear to it\n",
    "\n",
    "\n",
    "\n",
    "prompt = \"\"\"Explicar si existe un término o expresión regional en el texto a continuación. La expresión regional puede estar en el contexto (titular de noticia) o en el comentario. Utilizar entre comillas la expresión regional o de jerga. Si no hay expresiones regionales o de jerga, no utilizar comillas.\n",
    "\n",
    "###\n",
    "contexto: [OTRA INDIRECTA] ¿More Rial cuestionó las habilidades de su ex en la cama?Luego de su separación con Facundo Ambrosioni, la mediática hizo una fuerte referencia a su vida sexual\n",
    "comentario: Esta acumulando mas leche que mastellone\n",
    "respuesta: La expresión \"acumulando mas leche que mastellone\" es de carácter regional, y se refiere a la acumulación de deseos sexuales o de excitación.\n",
    "###\n",
    "contexto: Enrique Pinti no descarta una nueva postulación de Macri: “En este país siempre hay una chance para cualquiera que nos vuelva a cagar”\n",
    "comentario: Que bajo a caido, PINTI, ese viejo TROLO SIGUE CON EL CURRO DE HACER HUMOR POLITICO.\n",
    "respuesta: La expresión \"trolo\" puede ser un término regional o de jerga, comunmente usado en Argentina para referirse a una persona homosexual.\n",
    "###\n",
    "contexto: Coronavirus: En medio de la pandemia, más de 20.000 chinos se agolparon en una turística montaña\n",
    "comentario: Cuando China despierte! La amenaza amarilla!! Decían los abuelos y pasó! Ojalá no se les vuelva a salir de las manos!!\n",
    "respuesta: El comentario no contiene expresiones regionales o de jerga.\n",
    "###\n",
    "contexto: Flor de la V será una de las nuevas figuras de El Nueve en el 2021\n",
    "comentario: Harto de ver trabas en la tele\n",
    "respuesta:\n",
    "\"\"\"\n",
    "\n",
    "response = get_completion(prompt)"
   ]
  },
  {
   "cell_type": "code",
   "execution_count": 61,
   "metadata": {},
   "outputs": [
    {
     "data": {
      "text/plain": [
       "'La expresión \"ver trabas en la tele\" puede ser un término regional o de jerga, utilizado en Argentina para referirse a la presencia excesiva de personas transgénero en la televisión.'"
      ]
     },
     "execution_count": 61,
     "metadata": {},
     "output_type": "execute_result"
    }
   ],
   "source": [
    "response.choices[0].message.content\n"
   ]
  }
 ],
 "metadata": {
  "kernelspec": {
   "display_name": ".venv",
   "language": "python",
   "name": "python3"
  },
  "language_info": {
   "codemirror_mode": {
    "name": "ipython",
    "version": 3
   },
   "file_extension": ".py",
   "mimetype": "text/x-python",
   "name": "python",
   "nbconvert_exporter": "python",
   "pygments_lexer": "ipython3",
   "version": "3.10.7"
  }
 },
 "nbformat": 4,
 "nbformat_minor": 2
}
